{
 "cells": [
  {
   "cell_type": "markdown",
   "metadata": {
    "deletable": false,
    "editable": false,
    "run_control": {
     "frozen": true
    }
   },
   "source": [
    "## Loops\n",
    "\n",
    "Sometimes, you need to execute the same type of task many times. For example, you may need to print the first and last name of every single customer in a list containing thousands of records. We want to accomplish this goal while writing a minimal amount of code, because we want to be good programmers and good programmers are lazy. **Loops** provide the means of accomplishing this task efficiently. "
   ]
  },
  {
   "cell_type": "markdown",
   "metadata": {
    "deletable": false,
    "editable": false,
    "run_control": {
     "frozen": true
    }
   },
   "source": [
    "A **for loop** can be used to repeat an operation on each individual element of a list: "
   ]
  },
  {
   "cell_type": "code",
   "execution_count": 1,
   "metadata": {
    "scrolled": true
   },
   "outputs": [
    {
     "name": "stdout",
     "output_type": "stream",
     "text": [
      "this item is called:  tugg speedman\n",
      "this item is called:  lincoln osiris\n",
      "this item is called:  jeff portnoy\n"
     ]
    }
   ],
   "source": [
    "my_list = [\"tugg speedman\", \"lincoln osiris\", \"jeff portnoy\"]\n",
    "for item in my_list:\n",
    "    print(\"this item is called: \", item)"
   ]
  },
  {
   "cell_type": "markdown",
   "metadata": {
    "deletable": false,
    "editable": false,
    "run_control": {
     "frozen": true
    }
   },
   "source": [
    "The above code snippet may be understood as performing the following individual operations *for each element in the list*:\n",
    "\n",
    "1. Assign the current element in `my_list` to the variable `item`.\n",
    "2. Call the `print(...)` function using the current value of `item`."
   ]
  },
  {
   "cell_type": "markdown",
   "metadata": {
    "deletable": false,
    "editable": false,
    "run_control": {
     "frozen": true
    }
   },
   "source": [
    "To be precise, let's break down the anatomy of this `for` loop statement. It contains the following mandatory elements. \n",
    "\n",
    "1. The `for` keyword - this is what tells Python that we want to write a `for` loop\n",
    "2. A *loop variable*: `item` in this example, but we could name it anything we want\n",
    "3. The keyword `in` - like the keyword `for` above, this is mandatory in order for Python to understand us\n",
    "4. A *list* over whose elements we wish to loop\n",
    "5. A colon `:` (mandatory)\n",
    "6. The *loop body* which is a series of indented lines (as many as we want) that will run multiple times (once per loop iteration) "
   ]
  },
  {
   "cell_type": "markdown",
   "metadata": {
    "deletable": false,
    "editable": false,
    "run_control": {
     "frozen": true
    }
   },
   "source": [
    "It is worth emphasizing this again: any code that we indent under our `for` loop will be run once per item in the list over which we are looping. We can have as many indented lines within the body of our loop as we wish. For example, the following code uses two lines in the loop body to print the length of each item in a list:"
   ]
  },
  {
   "cell_type": "code",
   "execution_count": 2,
   "metadata": {
    "scrolled": true
   },
   "outputs": [
    {
     "name": "stdout",
     "output_type": "stream",
     "text": [
      "5\n",
      "3\n",
      "3\n",
      "3\n"
     ]
    }
   ],
   "source": [
    "list_of_words = [\"hello\", \"how\", \"are\", \"you\"]\n",
    "for word in list_of_words:\n",
    "    word_len = len(word)\n",
    "    print(word_len)"
   ]
  },
  {
   "cell_type": "markdown",
   "metadata": {
    "deletable": false,
    "editable": false,
    "run_control": {
     "frozen": true
    }
   },
   "source": [
    "We will use the term *loop iteration* to refer to the process of executing the code inside the loop one time."
   ]
  },
  {
   "cell_type": "markdown",
   "metadata": {
    "deletable": false,
    "editable": false,
    "run_control": {
     "frozen": true
    }
   },
   "source": [
    "<span style=\"color:red;font-weight:bold\">Try It:</span> Define a variable `names` with the value `[\"jeff\", \"jim\", \"joe\", \"john\"]`, then use a `for` loop to print a welcome message of the form `\"hello [name] - how are you?\"` for each name. You can use the code cell above as a reference."
   ]
  },
  {
   "cell_type": "code",
   "execution_count": 3,
   "metadata": {
    "scrolled": true
   },
   "outputs": [
    {
     "name": "stdout",
     "output_type": "stream",
     "text": [
      "hello jeff - how are you?\n",
      "hello jim - how are you?\n",
      "hello joe - how are you?\n",
      "hello john - how are you?\n"
     ]
    }
   ],
   "source": [
    "names = [\"jeff\", \"jim\", \"joe\", \"john\"]\n",
    "for n in names:\n",
    "    print(f\"hello {n} - how are you?\")"
   ]
  },
  {
   "cell_type": "markdown",
   "metadata": {
    "deletable": false,
    "editable": false,
    "run_control": {
     "frozen": true
    }
   },
   "source": [
    "We can perform other kinds of repeatable operations within the body of loops besides just printing things. For example, we can calculate the average number of letters-per-word in a list of words:"
   ]
  },
  {
   "cell_type": "code",
   "execution_count": 4,
   "metadata": {
    "scrolled": false
   },
   "outputs": [
    {
     "name": "stdout",
     "output_type": "stream",
     "text": [
      "3.5\n"
     ]
    }
   ],
   "source": [
    "words = [\"python\", \"can\", \"be\", \"fun\"]\n",
    "letter_count = 0\n",
    "for word in words:\n",
    "    letter_count = letter_count + len(word)\n",
    "average_num_letters = letter_count/len(words)\n",
    "print(average_num_letters)"
   ]
  },
  {
   "cell_type": "markdown",
   "metadata": {
    "deletable": false,
    "editable": false,
    "run_control": {
     "frozen": true
    }
   },
   "source": [
    "The key thing to understand is that no matter what variable we use as our loop variable (in the first example it was called `item`, in this one it was called `word`), and no matter what lines of code we have in the body of our loop, the loop works the same way: every line in the body is executed in sequence and then the sequence is repeated for each new value of the loop variable until all values in the list have been used."
   ]
  },
  {
   "cell_type": "markdown",
   "metadata": {
    "deletable": false,
    "editable": false,
    "run_control": {
     "frozen": true
    }
   },
   "source": [
    "### Common Mistakes when Using Loops\n",
    "\n",
    "Here are some common mistakes that you should try to avoid when working with loops.\n",
    "\n",
    "#### 1. Do not accidentally `return` inside a loop\n",
    "\n",
    "Consider the following (incorrect) function, which is supposed to return the product of all numbers in a list (the *product* is all of the list entries multiplied together):"
   ]
  },
  {
   "cell_type": "code",
   "execution_count": 5,
   "metadata": {
    "scrolled": true
   },
   "outputs": [],
   "source": [
    "def product_of_list_elements(list_of_numbers):\n",
    "    product = 1\n",
    "    for number in list_of_numbers:\n",
    "        product = product * number\n",
    "        return product"
   ]
  },
  {
   "cell_type": "markdown",
   "metadata": {
    "deletable": false,
    "editable": false,
    "run_control": {
     "frozen": true
    }
   },
   "source": [
    "When we try to call this function, it gives us the wrong answer:"
   ]
  },
  {
   "cell_type": "code",
   "execution_count": 6,
   "metadata": {
    "scrolled": true
   },
   "outputs": [
    {
     "data": {
      "text/plain": [
       "2"
      ]
     },
     "execution_count": 6,
     "metadata": {},
     "output_type": "execute_result"
    }
   ],
   "source": [
    "# return value should be 24\n",
    "product_of_list_elements([2,3,4])"
   ]
  },
  {
   "cell_type": "markdown",
   "metadata": {
    "deletable": false,
    "editable": false,
    "run_control": {
     "frozen": true
    }
   },
   "source": [
    "How can we figure out what is wrong? Here is a debugging trick that you should use extensively in this course - add several `print` statements inside of our loop, so that we can check the value of each variable:"
   ]
  },
  {
   "cell_type": "code",
   "execution_count": 7,
   "metadata": {
    "scrolled": true
   },
   "outputs": [],
   "source": [
    "def product_of_list_elements(list_of_numbers):\n",
    "    product = 1\n",
    "    for number in list_of_numbers:\n",
    "        product = product * number\n",
    "        # this line just makes things easier to read\n",
    "        print(\"================\")\n",
    "        print(\"number:\", number)\n",
    "        print(\"product:\", product)\n",
    "        return product"
   ]
  },
  {
   "cell_type": "markdown",
   "metadata": {
    "deletable": false,
    "editable": false,
    "run_control": {
     "frozen": true
    }
   },
   "source": [
    "Now let's call our function again to see the output of these `print` calls:"
   ]
  },
  {
   "cell_type": "code",
   "execution_count": 8,
   "metadata": {
    "scrolled": true
   },
   "outputs": [
    {
     "name": "stdout",
     "output_type": "stream",
     "text": [
      "================\n",
      "number: 2\n",
      "product: 2\n"
     ]
    },
    {
     "data": {
      "text/plain": [
       "2"
      ]
     },
     "execution_count": 8,
     "metadata": {},
     "output_type": "execute_result"
    }
   ],
   "source": [
    "product_of_list_elements([2,3,4])"
   ]
  },
  {
   "cell_type": "markdown",
   "metadata": {
    "deletable": false,
    "editable": false,
    "run_control": {
     "frozen": true
    }
   },
   "source": [
    "Now we can see what is going wrong. Our function stops running the moment it hits a return statement, so the loop never moves past the first element. We need to change our function to move the return statement outside of the loop:"
   ]
  },
  {
   "cell_type": "code",
   "execution_count": 9,
   "metadata": {
    "scrolled": true
   },
   "outputs": [],
   "source": [
    "def product_of_list_elements(list_of_numbers):\n",
    "    product = 1\n",
    "    for number in list_of_numbers:\n",
    "        product = product * number\n",
    "        # we'll leave the print statement in to see what is happening\n",
    "        print(\"================\")\n",
    "        print(\"number:\", number)\n",
    "        print(\"product:\", product)\n",
    "    return product"
   ]
  },
  {
   "cell_type": "markdown",
   "metadata": {
    "deletable": false,
    "editable": false,
    "run_control": {
     "frozen": true
    }
   },
   "source": [
    "After running the cell above to redefine our function, we can see that we now get the correct answer, and our loop is correctly traversing the entire list:"
   ]
  },
  {
   "cell_type": "code",
   "execution_count": 10,
   "metadata": {
    "scrolled": true
   },
   "outputs": [
    {
     "name": "stdout",
     "output_type": "stream",
     "text": [
      "================\n",
      "number: 2\n",
      "product: 2\n",
      "================\n",
      "number: 3\n",
      "product: 6\n",
      "================\n",
      "number: 4\n",
      "product: 24\n"
     ]
    },
    {
     "data": {
      "text/plain": [
       "24"
      ]
     },
     "execution_count": 10,
     "metadata": {},
     "output_type": "execute_result"
    }
   ],
   "source": [
    "product_of_list_elements([2,3,4])"
   ]
  },
  {
   "cell_type": "markdown",
   "metadata": {
    "deletable": false,
    "editable": false,
    "run_control": {
     "frozen": true
    }
   },
   "source": [
    "#### 2. Do not accidentally define a variable inside of a loop\n",
    "\n",
    "In the example above, we counted letters using this code:"
   ]
  },
  {
   "cell_type": "code",
   "execution_count": 11,
   "metadata": {
    "scrolled": true
   },
   "outputs": [
    {
     "name": "stdout",
     "output_type": "stream",
     "text": [
      "14\n"
     ]
    }
   ],
   "source": [
    "letter_count = 0\n",
    "for word in words:\n",
    "    letter_count = letter_count + len(word)\n",
    "print(letter_count)"
   ]
  },
  {
   "cell_type": "markdown",
   "metadata": {
    "deletable": false,
    "editable": false,
    "run_control": {
     "frozen": true
    }
   },
   "source": [
    "What if we had accidentally defined `letter_count` inside our loop, like this?:"
   ]
  },
  {
   "cell_type": "code",
   "execution_count": 12,
   "metadata": {
    "scrolled": true
   },
   "outputs": [
    {
     "name": "stdout",
     "output_type": "stream",
     "text": [
      "3\n"
     ]
    }
   ],
   "source": [
    "for word in words:\n",
    "    letter_count = 0\n",
    "    letter_count = letter_count + len(word)\n",
    "print(letter_count)"
   ]
  },
  {
   "cell_type": "markdown",
   "metadata": {
    "deletable": false,
    "editable": false,
    "run_control": {
     "frozen": true
    }
   },
   "source": [
    "Notice that now `print` is showing us that we get the wrong answer, because our `letter_count` value is being reset at the beginning of every loop iteration."
   ]
  },
  {
   "cell_type": "markdown",
   "metadata": {
    "deletable": false,
    "editable": false,
    "run_control": {
     "frozen": true
    }
   },
   "source": [
    "<span style=\"color:blue;font-weight:bold\">Exercise</span>: Write a function called `length_of_longest_word` that accepts one list variable called `word_list` as an argument and returns the length of the longest word in that list. Hint: initialize a variable above your loop with a statement like this: `max_length = 0`. Then, in the body of your loop, use the `max` function to compare this `max_length` value with the length of the current word, like this: `max(max_length, length_of_current_word)`, and then update `max_length` appropriately with the new value. If you get lost, try adding some `print` statements inside of your loop!"
   ]
  },
  {
   "cell_type": "code",
   "execution_count": 14,
   "metadata": {
    "scrolled": true,
    "tags": [
     "exercise"
    ]
   },
   "outputs": [],
   "source": [
    "def length_of_longest_word(word_list):\n",
    "    return max(list(map(len, word_list)))"
   ]
  },
  {
   "cell_type": "code",
   "execution_count": 14,
   "metadata": {
    "deletable": false,
    "editable": false,
    "scrolled": true,
    "strategicml": {
     "execution_time": 1584758540586,
     "exercise_id": "d39eb919-9d33-4933-ad29-23a25a6bb24e",
     "points": 2
    },
    "tags": [
     "test"
    ]
   },
   "outputs": [
    {
     "data": {
      "text/html": [
       "<div style=\"background-color:#e8fcef\n",
       ";color:#333333;padding:10px;border-style:solid;border-width:2px;border-color:#038c33\">\n",
       "<div style=\"font-weight:bold\">Correct!</div>\n",
       "</div>"
      ],
      "text/plain": [
       "<IPython.core.display.HTML object>"
      ]
     },
     "metadata": {},
     "output_type": "display_data"
    }
   ],
   "source": [
    "check_function_definition(\"length_of_longest_word\")\n",
    "assert length_of_longest_word([\"these\", \"are\", \"diminuitive\", \"words\"]) == 11\n",
    "assert length_of_longest_word([\"short\", \"tiny\", \"haha\", \"antidisestablishmentarianism\"]) == 28\n",
    "success()"
   ]
  },
  {
   "cell_type": "markdown",
   "metadata": {
    "deletable": false,
    "editable": false,
    "run_control": {
     "frozen": true
    }
   },
   "source": [
    "### Looping over Ranges of Numbers "
   ]
  },
  {
   "cell_type": "markdown",
   "metadata": {
    "deletable": false,
    "editable": false,
    "run_control": {
     "frozen": true
    }
   },
   "source": [
    "Suppose that we wish to print out the numbers from one to five, one number per line. We can do this with the following code: "
   ]
  },
  {
   "cell_type": "code",
   "execution_count": 15,
   "metadata": {
    "scrolled": true
   },
   "outputs": [
    {
     "name": "stdout",
     "output_type": "stream",
     "text": [
      "1\n",
      "2\n",
      "3\n",
      "4\n",
      "5\n"
     ]
    }
   ],
   "source": [
    "one_to_five = [1,2,3,4,5]\n",
    "for num in one_to_five:\n",
    "    print(num)"
   ]
  },
  {
   "cell_type": "markdown",
   "metadata": {
    "deletable": false,
    "editable": false,
    "run_control": {
     "frozen": true
    }
   },
   "source": [
    "But what if we want to print the numbers from zero to fifty (inclusive)? It becomes very inconvenient to type out such a long list of numbers in the manner above - we should make Python do this work for us. Fortunately, we can do this by using the `range` function in our for loop:"
   ]
  },
  {
   "cell_type": "code",
   "execution_count": 16,
   "metadata": {
    "scrolled": true
   },
   "outputs": [
    {
     "name": "stdout",
     "output_type": "stream",
     "text": [
      "0\n",
      "1\n",
      "2\n",
      "3\n",
      "4\n",
      "5\n",
      "6\n",
      "7\n",
      "8\n",
      "9\n",
      "10\n",
      "11\n",
      "12\n",
      "13\n",
      "14\n",
      "15\n",
      "16\n",
      "17\n",
      "18\n",
      "19\n",
      "20\n",
      "21\n",
      "22\n",
      "23\n",
      "24\n",
      "25\n",
      "26\n",
      "27\n",
      "28\n",
      "29\n",
      "30\n",
      "31\n",
      "32\n",
      "33\n",
      "34\n",
      "35\n",
      "36\n",
      "37\n",
      "38\n",
      "39\n",
      "40\n",
      "41\n",
      "42\n",
      "43\n",
      "44\n",
      "45\n",
      "46\n",
      "47\n",
      "48\n",
      "49\n",
      "50\n"
     ]
    }
   ],
   "source": [
    "for num in range(0, 51):\n",
    "    print(num)"
   ]
  },
  {
   "cell_type": "markdown",
   "metadata": {
    "deletable": false,
    "editable": false,
    "run_control": {
     "frozen": true
    }
   },
   "source": [
    "The range function accepts two arguments: `start` and `stop`. You can think of it as returning a list with elements beginning from `start` and ending at `stop` (this is why we used `51` rather than `50` as our second argument.) For now, only use the `range` function in this way - as part of a `for` loop declaration. Unexpected things may happen if you try to use it other places - we will explain why later.  "
   ]
  },
  {
   "cell_type": "markdown",
   "metadata": {
    "deletable": false,
    "editable": false,
    "run_control": {
     "frozen": true
    }
   },
   "source": [
    "<span style=\"color:red;font-weight:bold\">Try It</span>: Write a `for` loop to print the numbers from `10` to `20` (inclusive)"
   ]
  },
  {
   "cell_type": "code",
   "execution_count": 17,
   "metadata": {
    "scrolled": true
   },
   "outputs": [
    {
     "name": "stdout",
     "output_type": "stream",
     "text": [
      "10\n",
      "11\n",
      "12\n",
      "13\n",
      "14\n",
      "15\n",
      "16\n",
      "17\n",
      "18\n",
      "19\n",
      "20\n"
     ]
    }
   ],
   "source": [
    "for i in range(10, 21):\n",
    "    print(i)"
   ]
  },
  {
   "cell_type": "markdown",
   "metadata": {
    "deletable": false,
    "editable": false,
    "run_control": {
     "frozen": true
    }
   },
   "source": [
    "<span style=\"color:blue;font-weight:bold\">Exercise</span>: Write a function called `sum_leq` that accepts as input a number variable called `num` and returns the sum of all positive integers less than or equal to `num`. For example, `sum_leq(4)` should return `1 + 2 + 3 + 4 = 10`. Hint: you will need to use a variable to keep track of the total as you add more numbers. To check your implementation, call your function with the argument `100` - you should get a result of `5050`."
   ]
  },
  {
   "cell_type": "code",
   "execution_count": 18,
   "metadata": {
    "scrolled": true,
    "tags": [
     "exercise"
    ]
   },
   "outputs": [],
   "source": [
    "def sum_leq(num):\n",
    "    return sum(range(0, num+1))"
   ]
  },
  {
   "cell_type": "code",
   "execution_count": 18,
   "metadata": {
    "deletable": false,
    "editable": false,
    "scrolled": true,
    "strategicml": {
     "execution_time": 1584758594535,
     "exercise_id": "871d3403-21b4-450a-87e1-e2284bdb6cdb",
     "points": 2
    },
    "tags": [
     "test"
    ]
   },
   "outputs": [
    {
     "data": {
      "text/html": [
       "<div style=\"background-color:#e8fcef\n",
       ";color:#333333;padding:10px;border-style:solid;border-width:2px;border-color:#038c33\">\n",
       "<div style=\"font-weight:bold\">Correct!</div>\n",
       "</div>"
      ],
      "text/plain": [
       "<IPython.core.display.HTML object>"
      ]
     },
     "metadata": {},
     "output_type": "display_data"
    }
   ],
   "source": [
    "check_function_definition(\"sum_leq\")\n",
    "assert sum_leq(100) == 5050, \"Your function did not return the correct value when called with the argument <code>100</code>.\"\n",
    "assert sum_leq(10) == 55, \"Your function did not return the correct value when called with the argument <code>50</code>.\"\n",
    "success()"
   ]
  },
  {
   "cell_type": "code",
   "execution_count": 19,
   "metadata": {},
   "outputs": [
    {
     "data": {
      "text/plain": [
       "5050"
      ]
     },
     "execution_count": 19,
     "metadata": {},
     "output_type": "execute_result"
    }
   ],
   "source": [
    "sum_leq(100)"
   ]
  },
  {
   "cell_type": "code",
   "execution_count": null,
   "metadata": {},
   "outputs": [],
   "source": []
  }
 ],
 "metadata": {
  "celltoolbar": null,
  "kernelspec": {
   "display_name": "Python 3",
   "language": "python",
   "name": "python3"
  },
  "language_info": {
   "codemirror_mode": {
    "name": "ipython",
    "version": 3
   },
   "file_extension": ".py",
   "mimetype": "text/x-python",
   "name": "python",
   "nbconvert_exporter": "python",
   "pygments_lexer": "ipython3",
   "version": "3.7.3"
  },
  "strategicml": {
   "lesson_id": "cd015f23-0bc2-45a7-affb-fcdb321f5ada",
   "release": true
  }
 },
 "nbformat": 4,
 "nbformat_minor": 2
}
