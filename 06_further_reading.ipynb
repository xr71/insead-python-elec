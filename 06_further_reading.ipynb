{
 "cells": [
  {
   "cell_type": "markdown",
   "metadata": {
    "deletable": false,
    "editable": false,
    "run_control": {
     "frozen": true
    }
   },
   "source": [
    "## Further Reading: Python Fundamentals\n",
    "\n",
    "You have now reached the end of this crash course on Python. In the interest of covering the maximal range of material possible within a short time, we have been forced to omit several useful foundational parts of Python. If you are curious and wish to continue your studies, we recommend familiarizing yourself with the following topics:\n",
    "\n",
    "1. [Dictionaries](https://docs.python.org/3/tutorial/datastructures.html#dictionaries)\n",
    "2. [Classes](https://docs.python.org/3/tutorial/classes.html)\n",
    "3. [Iterators](https://docs.python.org/3/tutorial/classes.html#iterators) "
   ]
  },
  {
   "cell_type": "markdown",
   "metadata": {
    "deletable": false,
    "editable": false,
    "run_control": {
     "frozen": true
    }
   },
   "source": [
    "### Further Reading: Neural Networks\n",
    "\n",
    "There are a wide variety of high-quality free educational resources that cover advanced and state-of-the-art theory and applications of neural networks. For those of you who wish to continue your studies in this area, we recommend the [fast.ai](https://www.fast.ai/) course [Deep Learning for Coders](https://course.fast.ai/). All of the various fast.ai courses are excellent, and are highly recommended now that you have learned the basics of Python. "
   ]
  }
 ],
 "metadata": {
  "celltoolbar": null,
  "kernelspec": {
   "display_name": "Python 3",
   "language": "python",
   "name": "python3"
  },
  "language_info": {
   "codemirror_mode": {
    "name": "ipython",
    "version": 3
   },
   "file_extension": ".py",
   "mimetype": "text/x-python",
   "name": "python",
   "nbconvert_exporter": "python",
   "pygments_lexer": "ipython3",
   "version": "3.7.3"
  },
  "strategicml": {
   "lesson_id": "e1611a11-344f-46ba-9314-aa38c91dbfce",
   "release": true
  }
 },
 "nbformat": 4,
 "nbformat_minor": 2
}
