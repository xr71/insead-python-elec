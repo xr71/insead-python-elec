{
 "cells": [
  {
   "cell_type": "markdown",
   "metadata": {
    "deletable": false,
    "editable": false,
    "run_control": {
     "frozen": true
    }
   },
   "source": [
    "## The Python Interpreter"
   ]
  },
  {
   "cell_type": "markdown",
   "metadata": {
    "deletable": false,
    "editable": false,
    "run_control": {
     "frozen": true
    }
   },
   "source": [
    "Python is an **interpreted language**. The programmer writes instructions (we will call these \"statements\") in the Python language and sends them to the **python interpreter**. The python interpreter executes these statements and returns the results to the programmer. This process is summarized in the following diagram:\n",
    "\n",
    "![](./img/python_interpreter_flow.svg)\n",
    "\n"
   ]
  },
  {
   "cell_type": "markdown",
   "metadata": {
    "deletable": false,
    "editable": false,
    "run_control": {
     "frozen": true
    }
   },
   "source": [
    "Within this web page, you can type statements in the Python language, send them to the Python interpreter, and see the results. The simplest statements that the python interpreter can understand are arithmetic expressions, such as those that you would type into a calculator. To learn how to send arithmetic expressions to the interpreter, perform the following actions: \n",
    "\n",
    "1. Click your mouse on the gray box  below (you should see a blinking cursor)\n",
    "2. Type the arithmetic expression `3 + 5`\n",
    "3. Press Shift-Enter "
   ]
  },
  {
   "cell_type": "code",
   "execution_count": null,
   "metadata": {},
   "outputs": [],
   "source": []
  },
  {
   "cell_type": "markdown",
   "metadata": {
    "deletable": false,
    "editable": false,
    "run_control": {
     "frozen": true
    }
   },
   "source": [
    "You should see the number '8' pop out above this line. This is the output that the python interpreter produced in response to your statement. Gray boxes like the one above are called *code cells* - you can type Python statements into them and use Shift-Enter to send the statements to the Python interpreter."
   ]
  },
  {
   "cell_type": "markdown",
   "metadata": {
    "deletable": false,
    "editable": false,
    "run_control": {
     "frozen": true
    }
   },
   "source": [
    "<span style=\"color:blue;font-weight:bold\">Exercise</span>: The code in the cells below demonstrates how to perform the other elementary arithmetic operations. Use Shift-Enter to execute each cell and see the results:"
   ]
  },
  {
   "cell_type": "code",
   "execution_count": 1,
   "metadata": {},
   "outputs": [
    {
     "data": {
      "text/plain": [
       "-2"
      ]
     },
     "execution_count": 1,
     "metadata": {},
     "output_type": "execute_result"
    }
   ],
   "source": [
    "3 - 5"
   ]
  },
  {
   "cell_type": "code",
   "execution_count": 2,
   "metadata": {},
   "outputs": [
    {
     "data": {
      "text/plain": [
       "20"
      ]
     },
     "execution_count": 2,
     "metadata": {},
     "output_type": "execute_result"
    }
   ],
   "source": [
    "4 * 5"
   ]
  },
  {
   "cell_type": "code",
   "execution_count": 3,
   "metadata": {},
   "outputs": [
    {
     "data": {
      "text/plain": [
       "2.0"
      ]
     },
     "execution_count": 3,
     "metadata": {},
     "output_type": "execute_result"
    }
   ],
   "source": [
    "6 / 3"
   ]
  },
  {
   "cell_type": "markdown",
   "metadata": {
    "deletable": false,
    "editable": false,
    "run_control": {
     "frozen": true
    }
   },
   "source": [
    "<span style=\"color:blue;font-weight:bold\">Exercise</span>: The python interpreter can handle more complex arithmetic expressions as well. After clicking the gray box below, try typing in the expression `(5 - 3) * 10 + 12/4`. Remember, you must press Shift-Enter to send your statement to the python interpreter and receive the result back. You should see a result of `23.0` printed out to the screen - if you see anything else, double-check your work, as you have made a mistake somewhere. Pay particular attention to the number of spaces - make sure that it exactly matches the spaces shown above!"
   ]
  },
  {
   "cell_type": "code",
   "execution_count": 7,
   "metadata": {
    "tags": [
     "exercise"
    ]
   },
   "outputs": [
    {
     "data": {
      "text/plain": [
       "23.0"
      ]
     },
     "execution_count": 7,
     "metadata": {},
     "output_type": "execute_result"
    }
   ],
   "source": [
    "(5 - 3) * 10 + 12/4"
   ]
  },
  {
   "cell_type": "code",
   "execution_count": 7,
   "metadata": {
    "deletable": false,
    "editable": false,
    "strategicml": {
     "execution_time": 1584756114925,
     "exercise_id": "a0738ef0-19ee-4cc4-b4de-a45e13ce8181",
     "points": 1
    },
    "tags": [
     "test"
    ]
   },
   "outputs": [
    {
     "data": {
      "text/html": [
       "<div style=\"background-color:#e8fcef\n",
       ";color:#333333;padding:10px;border-style:solid;border-width:2px;border-color:#038c33\">\n",
       "<div style=\"font-weight:bold\">Correct!</div>\n",
       "</div>"
      ],
      "text/plain": [
       "<IPython.core.display.HTML object>"
      ]
     },
     "metadata": {},
     "output_type": "display_data"
    }
   ],
   "source": [
    "assert get_sanitized_input() == '(5 - 3) * 10 + 12/4', \"Did you type in <code>(5 - 3) * 10 + 12/4</code> exactly as written?\"\n",
    "success()"
   ]
  },
  {
   "cell_type": "markdown",
   "metadata": {
    "deletable": false,
    "editable": false,
    "run_control": {
     "frozen": true
    }
   },
   "source": [
    "### Dealing with Errors:  `SyntaxError`"
   ]
  },
  {
   "cell_type": "markdown",
   "metadata": {
    "deletable": false,
    "editable": false,
    "run_control": {
     "frozen": true
    }
   },
   "source": [
    "Sometimes, you will make mistakes and type things wrong. For example, you might forget to type `5` when attempting to type `3 - 5`. What happens if you do that? Find out by typing the two characters `3 -` in the code cell below, then use Shift-Enter to send this malformed statement to the Python interpreter:"
   ]
  },
  {
   "cell_type": "code",
   "execution_count": 9,
   "metadata": {
    "tags": [
     "raises-exception"
    ]
   },
   "outputs": [
    {
     "data": {
      "text/plain": [
       "-2"
      ]
     },
     "execution_count": 9,
     "metadata": {},
     "output_type": "execute_result"
    }
   ],
   "source": [
    "3 - 5"
   ]
  },
  {
   "cell_type": "markdown",
   "metadata": {
    "deletable": false,
    "editable": false,
    "run_control": {
     "frozen": true
    }
   },
   "source": [
    "You should see a message of the form `SyntaxError: invalid syntax`. This means that you made a mistake - your statement uses *invalid syntax* (this is analogous to using \"incorrect grammar\" in human languages), and Python cannot understand your instructions. In this course, whenever you see errors like this, use the `^` symbol that appears in the error messages as a guide to find your mistake. In the example above, the `^` indicates that we are missing the second number in our arithmetic expression. "
   ]
  },
  {
   "cell_type": "markdown",
   "metadata": {
    "deletable": false,
    "editable": false,
    "run_control": {
     "frozen": true
    }
   },
   "source": [
    "<span style=\"color:blue;font-weight:bold\">Exercise</span>: \n",
    ": Use the `^` in the error message to fix the incorrect arithmetic expression below. You should get a result of `22.5` once the error is fixed:"
   ]
  },
  {
   "cell_type": "code",
   "execution_count": 11,
   "metadata": {
    "scrolled": true,
    "tags": [
     "raises-exception",
     "exercise"
    ]
   },
   "outputs": [
    {
     "data": {
      "text/plain": [
       "22.5"
      ]
     },
     "execution_count": 11,
     "metadata": {},
     "output_type": "execute_result"
    }
   ],
   "source": [
    "3 * (4 + (7 / 2))"
   ]
  },
  {
   "cell_type": "code",
   "execution_count": 11,
   "metadata": {
    "deletable": false,
    "editable": false,
    "strategicml": {
     "execution_time": 1584756163513,
     "exercise_id": "b92fa765-756e-4553-8b45-0e0ce8a32959",
     "points": 1
    },
    "tags": [
     "test"
    ]
   },
   "outputs": [
    {
     "data": {
      "text/html": [
       "<div style=\"background-color:#e8fcef\n",
       ";color:#333333;padding:10px;border-style:solid;border-width:2px;border-color:#038c33\">\n",
       "<div style=\"font-weight:bold\">Correct!</div>\n",
       "</div>"
      ],
      "text/plain": [
       "<IPython.core.display.HTML object>"
      ]
     },
     "metadata": {},
     "output_type": "display_data"
    }
   ],
   "source": [
    "assert _ == 22.5, \"Hint: Using the <code>^</code> symbol as a guide, you should remove the dangling parenthesis from the expression given above. But don't change anything else!\"\n",
    "success()"
   ]
  },
  {
   "cell_type": "markdown",
   "metadata": {
    "deletable": false,
    "editable": false,
    "run_control": {
     "frozen": true
    }
   },
   "source": [
    "Whenever you see a `SyntaxError` pop up, take a very careful look at your code. Somewhere, you have typed something wrong. It may be a very small mistake that is difficult to see at first, but if you look hard enough you will find it. "
   ]
  },
  {
   "cell_type": "markdown",
   "metadata": {
    "deletable": false,
    "editable": false,
    "run_control": {
     "frozen": true
    }
   },
   "source": [
    "### Building More Complex Programs using Variables\n",
    "\n",
    "We now know how to send a very simple class of instructions to the python interpreter: basic arithmetic operations. At this point, you may think that Python does not seem very different than a calculator. But what if we want to make the computer perform more complicated tasks? In order to build up sequences of simple instructions into complicated programs, we must introduce a new concept: **variables**. You can think of a variable as a box that holds information. In the future, our advanced Python programs will manage large amounts of information, so we will need many different boxes with appropriate labels to keep track of everything. This is why variables are essential. "
   ]
  },
  {
   "cell_type": "markdown",
   "metadata": {
    "deletable": false,
    "editable": false,
    "run_control": {
     "frozen": true
    }
   },
   "source": [
    "Let's see how variables are created. The following Python statement puts the information `6 * 12` inside a box named `result` (make sure you run the cell with Shift-Enter - unlike the previous statements we have run, it will not produce any visible output):"
   ]
  },
  {
   "cell_type": "code",
   "execution_count": 12,
   "metadata": {},
   "outputs": [],
   "source": [
    "result = 6 * 12"
   ]
  },
  {
   "cell_type": "markdown",
   "metadata": {
    "deletable": false,
    "editable": false,
    "run_control": {
     "frozen": true
    }
   },
   "source": [
    "Statements like the one above are called **assignment statements**. Now we have learned two types of Python statements - arithmetic expressions and assignment statments. Assignment statements do not produce visible output, but you can tell that Python has executed this statement successfully because each time we Shift-Enter to run the above cell, we see the number shown on the left (the number in between the brackets of <span style=\"color:#303F9F;font-weight:bold\">In [ &nbsp; ]</span>) increase by one."
   ]
  },
  {
   "cell_type": "markdown",
   "metadata": {
    "deletable": false,
    "editable": false,
    "run_control": {
     "frozen": true
    }
   },
   "source": [
    "Let's break down this assignment statement in order to fully understand each part:\n",
    "\n",
    "1. We declare a *variable name*: `result`. This is the label for our box, so that we can find it easily. \n",
    "2. We write the *assignment operator*: `=`\n",
    "3. We write the *variable value*: `6 * 12`"
   ]
  },
  {
   "cell_type": "markdown",
   "metadata": {
    "deletable": false,
    "editable": false,
    "run_control": {
     "frozen": true
    }
   },
   "source": [
    "We can peek at the value inside the box by typing the name of our variable:"
   ]
  },
  {
   "cell_type": "code",
   "execution_count": 13,
   "metadata": {},
   "outputs": [
    {
     "data": {
      "text/plain": [
       "72"
      ]
     },
     "execution_count": 13,
     "metadata": {},
     "output_type": "execute_result"
    }
   ],
   "source": [
    "result"
   ]
  },
  {
   "cell_type": "markdown",
   "metadata": {
    "deletable": false,
    "editable": false,
    "run_control": {
     "frozen": true
    }
   },
   "source": [
    "It is useful to store values inside of variables because it allows us to reuse those values at many different points in our program. For example, the following code uses variables to calculate the revenue of a product:"
   ]
  },
  {
   "cell_type": "code",
   "execution_count": 14,
   "metadata": {},
   "outputs": [
    {
     "data": {
      "text/plain": [
       "500"
      ]
     },
     "execution_count": 14,
     "metadata": {},
     "output_type": "execute_result"
    }
   ],
   "source": [
    "number_of_units_sold = 5\n",
    "price = 100\n",
    "revenue = number_of_units_sold * price\n",
    "revenue"
   ]
  },
  {
   "cell_type": "markdown",
   "metadata": {
    "deletable": false,
    "editable": false,
    "run_control": {
     "frozen": true
    }
   },
   "source": [
    "We have now made a very primitive but useful program! If we change either `number_of_units_sold` or `price`, we can re-run the cell above using Shift-Enter and get an updated revenue calcuation. Notice that the cell above contains multiple lines - we do not have to send only a single line to the python interpreter, we can send many lines at once. "
   ]
  },
  {
   "cell_type": "markdown",
   "metadata": {
    "deletable": false,
    "editable": false,
    "run_control": {
     "frozen": true
    }
   },
   "source": [
    "### Dealing with Errors:  `NameError`\n",
    "\n",
    "If we attempt to use a variable name before setting the value of that variable, we will cause a new type of error - a `NameError`. We can see how this works by purposely typing the name of a variable that we have not yet defined:"
   ]
  },
  {
   "cell_type": "code",
   "execution_count": 15,
   "metadata": {
    "tags": [
     "raises-exception"
    ]
   },
   "outputs": [
    {
     "data": {
      "text/html": [
       "<div style=\"background-color:#FEFAF3\n",
       ";color:#333333;padding:10px;border-style:solid;border-width:2px;border-color:#FFC47D\">\n",
       "  <div style=\"margin-bottom:10px;font-weight:bold\">Exception: <code>NameError</code></div>\n",
       "  <div>Running your code produced a <code>NameError</code> exception.\n",
       "This most likely indicates that you mistyped the name of a variable or function, so Python\n",
       "cannot recognize what you mean. Please carefully check the spelling in your code for typos.\n",
       "\n",
       "Python provides the full error message below to help you diagnose what is wrong with your code.\n",
       "Typing the below error message into a search engine may be helpful.</div>\n",
       "</div>"
      ],
      "text/plain": [
       "<IPython.core.display.HTML object>"
      ]
     },
     "metadata": {},
     "output_type": "display_data"
    },
    {
     "ename": "NameError",
     "evalue": "name 'total_number_of_units_sold' is not defined",
     "output_type": "error",
     "traceback": [
      "\u001b[0;31m---------------------------------------------------------------------------\u001b[0m",
      "\u001b[0;31mNameError\u001b[0m                                 Traceback (most recent call last)",
      "\u001b[0;32m<ipython-input-15-6465eefb3efa>\u001b[0m in \u001b[0;36m<module>\u001b[0;34m\u001b[0m\n\u001b[0;32m----> 1\u001b[0;31m \u001b[0mtotal_number_of_units_sold\u001b[0m\u001b[0;34m\u001b[0m\u001b[0;34m\u001b[0m\u001b[0m\n\u001b[0m",
      "\u001b[0;31mNameError\u001b[0m: name 'total_number_of_units_sold' is not defined"
     ]
    }
   ],
   "source": [
    "total_number_of_units_sold"
   ]
  },
  {
   "cell_type": "markdown",
   "metadata": {
    "deletable": false,
    "editable": false,
    "run_control": {
     "frozen": true
    }
   },
   "source": [
    "We receive this error because, as far as Python knows, there is no variable called `total_number_of_units_sold`. We have not yet told Python to create a variable with this name. We can fix this error by using an assignment statement to create a variable with this name and set its value:"
   ]
  },
  {
   "cell_type": "code",
   "execution_count": 16,
   "metadata": {},
   "outputs": [],
   "source": [
    "total_number_of_units_sold = 5"
   ]
  },
  {
   "cell_type": "markdown",
   "metadata": {
    "deletable": false,
    "editable": false,
    "run_control": {
     "frozen": true
    }
   },
   "source": [
    "Now, we can use this variable name in our programs without getting a `NameError`:"
   ]
  },
  {
   "cell_type": "code",
   "execution_count": 17,
   "metadata": {},
   "outputs": [
    {
     "data": {
      "text/plain": [
       "5"
      ]
     },
     "execution_count": 17,
     "metadata": {},
     "output_type": "execute_result"
    }
   ],
   "source": [
    "total_number_of_units_sold"
   ]
  },
  {
   "cell_type": "markdown",
   "metadata": {
    "deletable": false,
    "editable": false,
    "run_control": {
     "frozen": true
    }
   },
   "source": [
    "Notice that if we make tiny mistake when typing our variable name, we will also get a `NameError`. We can try this out by omitting the last letter of the variable name:"
   ]
  },
  {
   "cell_type": "code",
   "execution_count": 18,
   "metadata": {
    "tags": [
     "raises-exception"
    ]
   },
   "outputs": [
    {
     "data": {
      "text/html": [
       "<div style=\"background-color:#FEFAF3\n",
       ";color:#333333;padding:10px;border-style:solid;border-width:2px;border-color:#FFC47D\">\n",
       "  <div style=\"margin-bottom:10px;font-weight:bold\">Exception: <code>NameError</code></div>\n",
       "  <div>Running your code produced a <code>NameError</code> exception.\n",
       "This most likely indicates that you mistyped the name of a variable or function, so Python\n",
       "cannot recognize what you mean. Please carefully check the spelling in your code for typos.\n",
       "\n",
       "Python provides the full error message below to help you diagnose what is wrong with your code.\n",
       "Typing the below error message into a search engine may be helpful.</div>\n",
       "</div>"
      ],
      "text/plain": [
       "<IPython.core.display.HTML object>"
      ]
     },
     "metadata": {},
     "output_type": "display_data"
    },
    {
     "ename": "NameError",
     "evalue": "name 'total_number_of_units_sol' is not defined",
     "output_type": "error",
     "traceback": [
      "\u001b[0;31m---------------------------------------------------------------------------\u001b[0m",
      "\u001b[0;31mNameError\u001b[0m                                 Traceback (most recent call last)",
      "\u001b[0;32m<ipython-input-18-8ebf0502e844>\u001b[0m in \u001b[0;36m<module>\u001b[0;34m\u001b[0m\n\u001b[0;32m----> 1\u001b[0;31m \u001b[0mtotal_number_of_units_sol\u001b[0m\u001b[0;34m\u001b[0m\u001b[0;34m\u001b[0m\u001b[0m\n\u001b[0m",
      "\u001b[0;31mNameError\u001b[0m: name 'total_number_of_units_sol' is not defined"
     ]
    }
   ],
   "source": [
    "total_number_of_units_sol"
   ]
  },
  {
   "cell_type": "markdown",
   "metadata": {
    "deletable": false,
    "editable": false,
    "run_control": {
     "frozen": true
    }
   },
   "source": [
    "Therefore, whenever you see a `NameError` like this, make sure that you check your code for typos. "
   ]
  },
  {
   "cell_type": "markdown",
   "metadata": {
    "deletable": false,
    "editable": false,
    "run_control": {
     "frozen": true
    }
   },
   "source": [
    "<span style=\"color:blue;font-weight:bold\">Exercise</span>: Now it's time to use your knowledge of variables and assignment statements to write a more complex program. Using the code cell below, write a program that converts currency from Euros to US Dollars by performing the following steps:\n",
    "\n",
    "1. Assign an `amount_eur` variable the value of `160`\n",
    "2. Assign an `exchange_rate` variable the value of `1.15` \n",
    "3. Assign an `amount_usd` variable the value of `amount_eur` multiplied by `exchange_rate`\n",
    "4. On the last line of the cell, type the name of the variable `amount_usd` in order to print its value once the cell is run using Shift-Enter\n",
    "\n",
    "To check your work, click in the cell below and use Shift-Enter to run it. If you have performed the previous exercise correctly, you will see a green `Correct!` message. Otherwise, you will see an error message, which you will need to examine to understand what you did wrong. Remember, only hit Shift-Enter once you have typed all of the above lines!"
   ]
  },
  {
   "cell_type": "code",
   "execution_count": 19,
   "metadata": {
    "tags": [
     "exercise"
    ]
   },
   "outputs": [
    {
     "data": {
      "text/plain": [
       "184.0"
      ]
     },
     "execution_count": 19,
     "metadata": {},
     "output_type": "execute_result"
    }
   ],
   "source": [
    "amount_eur = 160\n",
    "exchange_rate = 1.15\n",
    "amount_usd = amount_eur * exchange_rate\n",
    "amount_usd"
   ]
  },
  {
   "cell_type": "code",
   "execution_count": 19,
   "metadata": {
    "deletable": false,
    "editable": false,
    "strategicml": {
     "execution_time": 1584756211251,
     "exercise_id": "ca03c066-1960-455a-9dfb-8cea9aeedb1c",
     "points": 1
    },
    "tags": [
     "test"
    ]
   },
   "outputs": [
    {
     "data": {
      "text/html": [
       "<div style=\"background-color:#e8fcef\n",
       ";color:#333333;padding:10px;border-style:solid;border-width:2px;border-color:#038c33\">\n",
       "<div style=\"font-weight:bold\">Correct!</div>\n",
       "</div>"
      ],
      "text/plain": [
       "<IPython.core.display.HTML object>"
      ]
     },
     "metadata": {},
     "output_type": "display_data"
    }
   ],
   "source": [
    "check_variable_definition(\"amount_eur\")\n",
    "assert amount_eur == 160, \"<code>amount_eur</code> does not have the correct value of 160; did you set it correctly?\"\n",
    "assert exchange_rate == 1.15, \"<code>exchange_rate</code> does not have the correct value of 1.15; did you set it correctly?\"\n",
    "assert amount_usd == 184, \"<code>amount_usd</code> does not have the correct value; did you set it correctly?\"\n",
    "success()"
   ]
  },
  {
   "cell_type": "markdown",
   "metadata": {
    "deletable": false,
    "editable": false,
    "run_control": {
     "frozen": true
    }
   },
   "source": [
    "Note that lines beginning with a `#` are **comments**. The Python interpreter ignores these lines - they are simply helpful hints for you to understand the code as you read it. For example, we can add two comment lines to describe what the code below is doing:"
   ]
  },
  {
   "cell_type": "code",
   "execution_count": 20,
   "metadata": {},
   "outputs": [],
   "source": [
    "# we are setting variable_one\n",
    "variable_one = 7\n",
    "# we are setting variable_two\n",
    "variable_two = 8"
   ]
  },
  {
   "cell_type": "markdown",
   "metadata": {
    "deletable": false,
    "editable": false,
    "run_control": {
     "frozen": true
    }
   },
   "source": [
    "<span style=\"color:blue;font-weight:bold\">Exercise</span>: Suppose that you own a store that sells computers. You know the following facts about your business: \n",
    "\n",
    "1. You can purchase computers from your supplier for `1000` dollars each.\n",
    "2. You can sell each of these computers for a retail price of `1500` dollars each.\n",
    "\n",
    "Write a Python program to calculate how much profit you earn upon selling `5` computers. Make sure that you perform each of the following steps:\n",
    "\n",
    "1. Set the variable `computer_wholesale_price` to the value `1000`\n",
    "2. Set the variable `computer_retail_price` to the value `1500`\n",
    "3. Set the variable `n_sold` to the value `5`\n",
    "4. Set the variable `profit` to the correct value that you compute using the above three variables. "
   ]
  },
  {
   "cell_type": "code",
   "execution_count": 21,
   "metadata": {
    "tags": [
     "exercise"
    ]
   },
   "outputs": [
    {
     "data": {
      "text/plain": [
       "2500"
      ]
     },
     "execution_count": 21,
     "metadata": {},
     "output_type": "execute_result"
    }
   ],
   "source": [
    "computer_wholesale_price, computer_retail_price, n_sold = 1000, 1500, 5\n",
    "profit = n_sold * (computer_retail_price - computer_wholesale_price)\n",
    "profit"
   ]
  },
  {
   "cell_type": "code",
   "execution_count": 21,
   "metadata": {
    "deletable": false,
    "editable": false,
    "strategicml": {
     "execution_time": 1584756273029,
     "exercise_id": "fd02eed9-ecae-41a4-b3d2-b81df103a786",
     "points": 1
    },
    "tags": [
     "test"
    ]
   },
   "outputs": [
    {
     "data": {
      "text/html": [
       "<div style=\"background-color:#e8fcef\n",
       ";color:#333333;padding:10px;border-style:solid;border-width:2px;border-color:#038c33\">\n",
       "<div style=\"font-weight:bold\">Correct!</div>\n",
       "</div>"
      ],
      "text/plain": [
       "<IPython.core.display.HTML object>"
      ]
     },
     "metadata": {},
     "output_type": "display_data"
    }
   ],
   "source": [
    "check_variable_definition(\"computer_wholesale_price\", \"computer_retail_price\", \"n_sold\", \"profit\")\n",
    "assert computer_wholesale_price == 1000, \"Did you set <code>computer_wholesale_price</code> to the correct value of <code>1000</code>?\"\n",
    "assert computer_retail_price == 1500, \"Did you set <code>computer_retail_price</code> to the correct value of <code>1500</code>?\"\n",
    "assert n_sold == 5, \"Did you set <code>n_sold</code> to the correct value of <code>5</code>?\"\n",
    "assert profit == 2500, \"Did you compute <code>profit</code> correctly using the formula <code>n_sold * (computer_retail_price - computer_wholesale_price)</code>\"\n",
    "success()"
   ]
  },
  {
   "cell_type": "markdown",
   "metadata": {
    "deletable": false,
    "editable": false,
    "run_control": {
     "frozen": true
    }
   },
   "source": [
    "### Choosing Names for Variables\n",
    "\n",
    "Python gives you great freedom in choosing what names to use for your variables. However, there are certain rules and best practices. You will notice that in the previous exercise we used the following rules for choosing the names of our variables:\n",
    "\n",
    "1. The name should **clearly indicate** precisely what value is stored in the variable. For example, `computer_retail_price` is a good name - a shorter, less-descriptive name such as `price` would be a worse name. \n",
    "2. The variable name should consist **only of lower-case letters and underscores** - this results in readable names and fewer accidental typing errors. <span style=\"color:red;font-weight:bold\">Do not attempt to use spaces in your variable names</span> - instead, use underscores (`_`) to separate words."
   ]
  },
  {
   "cell_type": "markdown",
   "metadata": {
    "deletable": false,
    "editable": false,
    "run_control": {
     "frozen": true
    }
   },
   "source": [
    "There is one more very important rule that you must be aware of when choosing names for your variables.  Python has certain **keywords** (we will learn most of them later) that cannot be used as variable names. The full list of keywords can be viewed [here](https://docs.python.org/3.3/reference/lexical_analysis.html#keywords) - do not worry, you do not need to memorize them. Instead, just notice that when you type one of these words, it will be highlighted in green - for example, the keyword `False`:"
   ]
  },
  {
   "cell_type": "code",
   "execution_count": 22,
   "metadata": {},
   "outputs": [
    {
     "data": {
      "text/plain": [
       "False"
      ]
     },
     "execution_count": 22,
     "metadata": {},
     "output_type": "execute_result"
    }
   ],
   "source": [
    "False"
   ]
  },
  {
   "cell_type": "markdown",
   "metadata": {
    "deletable": false,
    "editable": false,
    "run_control": {
     "frozen": true
    }
   },
   "source": [
    "This green highlight is a warning to us. If we attempt to use this keyword as a variable name, we will receive the error `\n",
    "SyntaxError: can't assign to keyword`:"
   ]
  },
  {
   "cell_type": "code",
   "execution_count": 23,
   "metadata": {
    "tags": [
     "raises-exception"
    ]
   },
   "outputs": [
    {
     "data": {
      "text/html": [
       "<div style=\"background-color:#FEFAF3\n",
       ";color:#333333;padding:10px;border-style:solid;border-width:2px;border-color:#FFC47D\">\n",
       "  <div style=\"margin-bottom:10px;font-weight:bold\">Exception: <code>SyntaxError</code></div>\n",
       "  <div>Running your code produced a <code>SyntaxError</code> exception.\n",
       "This means that something you typed broke one of Python's rules.<br/>\n",
       "<br/>\n",
       "Please check for the following common mistakes that cause <code>SyntaxError</code> exceptions:</br>\n",
       "<ol>\n",
       "    <li>Are there any opening parentheses <code>(</code> without a matching closing parenthesis <code>)</code> or vice versa?</li>\n",
       "    <li>Are there any dangling umatched quotation marks? (<code>\"</code> or <code>'</code>)\n",
       "</ol>\n",
       "\n",
       "Python provides the full error message below to help you diagnose what is wrong with your code.\n",
       "Typing the below error message into a search engine may be helpful.</div>\n",
       "</div>"
      ],
      "text/plain": [
       "<IPython.core.display.HTML object>"
      ]
     },
     "metadata": {},
     "output_type": "display_data"
    },
    {
     "ename": "SyntaxError",
     "evalue": "can't assign to keyword (<ipython-input-23-c8194e2da7e6>, line 1)",
     "output_type": "error",
     "traceback": [
      "\u001b[0;36m  File \u001b[0;32m\"<ipython-input-23-c8194e2da7e6>\"\u001b[0;36m, line \u001b[0;32m1\u001b[0m\n\u001b[0;31m    False=12345\u001b[0m\n\u001b[0m               ^\u001b[0m\n\u001b[0;31mSyntaxError\u001b[0m\u001b[0;31m:\u001b[0m can't assign to keyword\n"
     ]
    }
   ],
   "source": [
    "False=12345"
   ]
  },
  {
   "cell_type": "markdown",
   "metadata": {
    "deletable": false,
    "editable": false,
    "run_control": {
     "frozen": true
    }
   },
   "source": [
    "Therefore, <span style=\"color:red;font-weight:bold\">do not use keywords as variable names</span>, and always follow the variable-naming guidelines above."
   ]
  },
  {
   "cell_type": "markdown",
   "metadata": {
    "deletable": false,
    "editable": false,
    "run_control": {
     "frozen": true
    }
   },
   "source": [
    "### Dealing with Errors: Other Types of Errors\n",
    "\n",
    "We have now seen two types of errors that the Python interpreter can send to us in order to tell us that we are doing something wrong: the `SyntaxError` and the `NameError`. Python can send us many other types of errors, depending on what specifically we have done wrong. Rather than make a giant list of them here, we offer the following advice: when you receive an error that you do not understand, copy-and-paste the error message into your search engine of choice. The first few search results will usually contain advice on how to resolve the error - in particular, look at sites like [stackoverflow](https://stackoverflow.com/) for useful hints. "
   ]
  },
  {
   "cell_type": "markdown",
   "metadata": {
    "deletable": false,
    "editable": false,
    "run_control": {
     "frozen": true
    }
   },
   "source": [
    "<span style=\"color:blue;font-weight:bold\">Exercise</span>: Can you use a search engine to figure out how to fix the following broken code? Once you fix it, submit it with `Shift-Enter`:"
   ]
  },
  {
   "cell_type": "code",
   "execution_count": 25,
   "metadata": {
    "tags": [
     "raises-exception",
     "exercise"
    ]
   },
   "outputs": [],
   "source": [
    "product_a_sales = 5\n",
    "product_b_sales = 5\n",
    "total_sales = product_b_sales + product_a_sales\n",
    "product_a_percentage_sales = (product_a_sales/total_sales)*100"
   ]
  },
  {
   "cell_type": "code",
   "execution_count": 25,
   "metadata": {
    "deletable": false,
    "editable": false,
    "strategicml": {
     "execution_time": 1584756362704,
     "exercise_id": "ed3b47cd-8d14-4935-874f-a6fcad18cfbc",
     "points": 1
    },
    "tags": [
     "test"
    ]
   },
   "outputs": [
    {
     "data": {
      "text/html": [
       "<div style=\"background-color:#e8fcef\n",
       ";color:#333333;padding:10px;border-style:solid;border-width:2px;border-color:#038c33\">\n",
       "<div style=\"font-weight:bold\">Correct!</div>\n",
       "</div>"
      ],
      "text/plain": [
       "<IPython.core.display.HTML object>"
      ]
     },
     "metadata": {},
     "output_type": "display_data"
    }
   ],
   "source": [
    "check_variable_definition(\"product_a_percentage_sales\")\n",
    "assert product_a_percentage_sales == 50, \"The value of <code>product_a_percentage_sales</code> is incorrect - did you fix the error in the calculation of `total_sales`?\"\n",
    "success()"
   ]
  },
  {
   "cell_type": "markdown",
   "metadata": {
    "deletable": false,
    "editable": false,
    "run_control": {
     "frozen": true
    }
   },
   "source": [
    "However, we must emphasize again: when you see an error message, before scrolling through search engine results, <span style=\"color:red;font-weight:bold\">look carefully at your code</span> and see if you can spot any obvious mistakes."
   ]
  },
  {
   "cell_type": "markdown",
   "metadata": {
    "deletable": false,
    "editable": false,
    "run_control": {
     "frozen": true
    }
   },
   "source": [
    "### When All Else Fails: Restart the Kernel\n",
    "\n",
    "Suppose that you have some difficult code that you cannot get to work correctly. You consult all of the above advice, but the error message keeps stubbornly popping up. Or, imagine that you are trying to run your code and Python seems to be frozen - no matter how long you wait, it never prints out any results. In these desperate moments, you can **restart the kernel** to try to get back to a working state. To do this, use the `Kernel` menu above and select the `Restart` option. This will reset Python back to a completely clean state - it will not remember any instructions you have previously given to it. In particular, all variables will be forgotten. To see how this works, first run the code below:"
   ]
  },
  {
   "cell_type": "code",
   "execution_count": 26,
   "metadata": {},
   "outputs": [],
   "source": [
    "this_variable_will_be_forgotten = 5"
   ]
  },
  {
   "cell_type": "markdown",
   "metadata": {
    "deletable": false,
    "editable": false,
    "run_control": {
     "frozen": true
    }
   },
   "source": [
    "We can see that the variable is successfully defined:"
   ]
  },
  {
   "cell_type": "code",
   "execution_count": 27,
   "metadata": {},
   "outputs": [
    {
     "data": {
      "text/plain": [
       "5"
      ]
     },
     "execution_count": 27,
     "metadata": {},
     "output_type": "execute_result"
    }
   ],
   "source": [
    "this_variable_will_be_forgotten"
   ]
  },
  {
   "cell_type": "markdown",
   "metadata": {
    "deletable": false,
    "editable": false,
    "run_control": {
     "frozen": true
    }
   },
   "source": [
    "Now go to the menu at the top of the window and select the `Kernel` item, then select the `Restart` sub-item. You will see a popup like this:"
   ]
  },
  {
   "cell_type": "markdown",
   "metadata": {
    "deletable": false,
    "editable": false,
    "run_control": {
     "frozen": true
    }
   },
   "source": [
    "![](./img/restart_kernel.png)"
   ]
  },
  {
   "cell_type": "markdown",
   "metadata": {
    "deletable": false,
    "editable": false,
    "run_control": {
     "frozen": true
    },
    "tags": [
     "raises-exception"
    ]
   },
   "source": [
    "Since we are almost at the end of the lesson, go ahead and click `Restart`. Now try running the code below:"
   ]
  },
  {
   "cell_type": "code",
   "execution_count": null,
   "metadata": {
    "scrolled": true
   },
   "outputs": [],
   "source": [
    "this_variable_will_be_forgotten"
   ]
  },
  {
   "cell_type": "markdown",
   "metadata": {
    "deletable": false,
    "editable": false,
    "run_control": {
     "frozen": true
    }
   },
   "source": [
    "Python has forgotten that we ever defined this variable, so now we get a `NameError`. This means that after restarting the kernel, we will need to rerun all previous cells in order to get back to our previous spot. You can shortcut this process by selecting the `Cell` menu and then selecting the `Run All` item. This will rerun all cells in the notebook in sequence. "
   ]
  },
  {
   "cell_type": "markdown",
   "metadata": {
    "deletable": false,
    "editable": false,
    "run_control": {
     "frozen": true
    }
   },
   "source": [
    "**Art Credits**\n",
    "<div>Icons made by <a href=\"https://www.flaticon.com/authors/roundicons\" title=\"Roundicons\">Roundicons</a> from <a href=\"https://www.flaticon.com/\" title=\"Flaticon\">www.flaticon.com</a> is licensed by <a href=\"http://creativecommons.org/licenses/by/3.0/\" title=\"Creative Commons BY 3.0\" target=\"_blank\">CC 3.0 BY</a></div>\n",
    "<div>Icons made by <a href=\"https://www.flaticon.com/authors/becris\" title=\"Becris\">Becris</a> from <a href=\"https://www.flaticon.com/\" title=\"Flaticon\">www.flaticon.com</a> is licensed by <a href=\"http://creativecommons.org/licenses/by/3.0/\" title=\"Creative Commons BY 3.0\" target=\"_blank\">CC 3.0 BY</a></div>\n",
    "<div>Icons made by <a href=\"https://www.flaticon.com/authors/smashicons\" title=\"Smashicons\">Smashicons</a> from <a href=\"https://www.flaticon.com/\" title=\"Flaticon\">www.flaticon.com</a> is licensed by <a href=\"http://creativecommons.org/licenses/by/3.0/\" title=\"Creative Commons BY 3.0\" target=\"_blank\">CC 3.0 BY</a></div>"
   ]
  }
 ],
 "metadata": {
  "celltoolbar": null,
  "kernelspec": {
   "display_name": "Python 3",
   "language": "python",
   "name": "python3"
  },
  "language_info": {
   "codemirror_mode": {
    "name": "ipython",
    "version": 3
   },
   "file_extension": ".py",
   "mimetype": "text/x-python",
   "name": "python",
   "nbconvert_exporter": "python",
   "pygments_lexer": "ipython3",
   "version": "3.7.3"
  },
  "strategicml": {
   "lesson_id": "37c2166f-8081-43d5-b8d2-ab186eba84ec",
   "release": true
  }
 },
 "nbformat": 4,
 "nbformat_minor": 2
}
