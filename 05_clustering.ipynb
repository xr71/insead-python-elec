{
 "cells": [
  {
   "cell_type": "markdown",
   "metadata": {
    "deletable": false,
    "editable": false,
    "run_control": {
     "frozen": true
    }
   },
   "source": [
    "## Cluster Analysis\n",
    "\n",
    "We now continue with our theme of using unsupervised machine learning to discover patterns in our data. Suppose that we wish to create targeted promotions to increase our sales. How should we target our customers with the appropriate promotions? In order to maximize our sales, we probably do not wish to use the same promotion across our entire customer population - different customer populations will respond to promotions in different ways. Therefore, we must divide up our customer population into *segments* and choose the appropriate promotion for each one. **Cluster Analysis** can help us identify the patterns in our customer populations and help us to select these segments."
   ]
  },
  {
   "cell_type": "markdown",
   "metadata": {
    "deletable": false,
    "editable": false,
    "run_control": {
     "frozen": true
    }
   },
   "source": [
    "### Clustering Customers to Identify Segments\n",
    "\n",
    "In order to learn how to perform cluster analysis, we are going to start by working on some computer-generated customer data, as real customer data is generally very messy and would be a confusing starting point. \n",
    "\n",
    "Suppose that we run an airline company and have a record of the number of tickets purchased by each customer and the average price that the customer paid for each ticket. "
   ]
  },
  {
   "cell_type": "code",
   "execution_count": 1,
   "metadata": {
    "scrolled": true
   },
   "outputs": [
    {
     "data": {
      "text/html": [
       "<div>\n",
       "<style scoped>\n",
       "    .dataframe tbody tr th:only-of-type {\n",
       "        vertical-align: middle;\n",
       "    }\n",
       "\n",
       "    .dataframe tbody tr th {\n",
       "        vertical-align: top;\n",
       "    }\n",
       "\n",
       "    .dataframe thead th {\n",
       "        text-align: right;\n",
       "    }\n",
       "</style>\n",
       "<table border=\"1\" class=\"dataframe\">\n",
       "  <thead>\n",
       "    <tr style=\"text-align: right;\">\n",
       "      <th></th>\n",
       "      <th>Avg Ticket Price ($)</th>\n",
       "      <th># of Tickets Purchased (last 12 months)</th>\n",
       "    </tr>\n",
       "  </thead>\n",
       "  <tbody>\n",
       "    <tr>\n",
       "      <td>0</td>\n",
       "      <td>673.10</td>\n",
       "      <td>5</td>\n",
       "    </tr>\n",
       "    <tr>\n",
       "      <td>1</td>\n",
       "      <td>830.73</td>\n",
       "      <td>8</td>\n",
       "    </tr>\n",
       "    <tr>\n",
       "      <td>2</td>\n",
       "      <td>414.14</td>\n",
       "      <td>6</td>\n",
       "    </tr>\n",
       "    <tr>\n",
       "      <td>3</td>\n",
       "      <td>685.68</td>\n",
       "      <td>3</td>\n",
       "    </tr>\n",
       "    <tr>\n",
       "      <td>4</td>\n",
       "      <td>386.67</td>\n",
       "      <td>6</td>\n",
       "    </tr>\n",
       "  </tbody>\n",
       "</table>\n",
       "</div>"
      ],
      "text/plain": [
       "   Avg Ticket Price ($)  # of Tickets Purchased (last 12 months)\n",
       "0                673.10                                        5\n",
       "1                830.73                                        8\n",
       "2                414.14                                        6\n",
       "3                685.68                                        3\n",
       "4                386.67                                        6"
      ]
     },
     "execution_count": 1,
     "metadata": {},
     "output_type": "execute_result"
    }
   ],
   "source": [
    "import pandas as pd\n",
    "airline_df = pd.read_csv(\"data/airline-data.csv\")\n",
    "airline_df.head()"
   ]
  },
  {
   "cell_type": "markdown",
   "metadata": {
    "deletable": false,
    "editable": false,
    "run_control": {
     "frozen": true
    }
   },
   "source": [
    "We could plot this data as shown below, using the pandas DataFrame's convenient wrapper method around matplotlib:"
   ]
  },
  {
   "cell_type": "code",
   "execution_count": 2,
   "metadata": {},
   "outputs": [
    {
     "data": {
      "image/png": "[encoded data removed]",
      "text/plain": [
       "<Figure size 432x288 with 1 Axes>"
      ]
     },
     "metadata": {
      "needs_background": "light"
     },
     "output_type": "display_data"
    }
   ],
   "source": [
    "%matplotlib inline\n",
    "import matplotlib.pyplot as plt\n",
    "\n",
    "airline_df.plot.scatter(\n",
    "    \"Avg Ticket Price ($)\",\n",
    "    \"# of Tickets Purchased (last 12 months)\"\n",
    ")\n",
    "plt.show()"
   ]
  },
  {
   "cell_type": "markdown",
   "metadata": {
    "deletable": false,
    "editable": false,
    "run_control": {
     "frozen": true
    }
   },
   "source": [
    "What are we to make of the graph above? Some clusters of customers look well-defined; others are fuzzy. We would like to save ourselves the effort of interpreting this graph manually and instead just use machine learning to group our customers into clusters. We can do this using the $k$-means algorithm, which we can instruct to partition our data into $k$ clusters. Since it looks like there are at least two clusters in the data above, let's try running $k$-means with $k=2$:"
   ]
  },
  {
   "cell_type": "code",
   "execution_count": 3,
   "metadata": {},
   "outputs": [],
   "source": [
    "from sklearn.preprocessing import StandardScaler\n",
    "from sklearn.cluster import KMeans\n",
    "\n",
    "k = 2\n",
    "# we standardize our data, as we did in the lesson on PCA\n",
    "scaler = StandardScaler()\n",
    "points_scaled = scaler.fit_transform(airline_df)\n",
    "kmeans = KMeans(n_clusters=k, random_state=0)\n",
    "labels = kmeans.fit_predict(points_scaled)"
   ]
  },
  {
   "cell_type": "markdown",
   "metadata": {
    "deletable": false,
    "editable": false,
    "run_control": {
     "frozen": true
    }
   },
   "source": [
    "Let's examine the cluster labels that were assigned to each of our customer data points: "
   ]
  },
  {
   "cell_type": "code",
   "execution_count": 4,
   "metadata": {
    "scrolled": true
   },
   "outputs": [
    {
     "data": {
      "text/plain": [
       "array([1, 0, 1, 1, 1, 1, 0, 1, 1, 1, 0, 0, 1, 1, 0, 1, 0, 1, 1, 0, 1, 1,\n",
       "       0, 0, 0, 0, 1, 1, 1, 0, 0, 1, 0, 1, 0, 1, 1, 1, 1, 1, 0, 0, 1, 1,\n",
       "       0, 1, 0, 1, 1, 0, 0, 1, 0, 1, 1, 0, 1, 0, 0, 0, 1, 1, 1, 0, 1, 1,\n",
       "       0, 1, 1, 0, 0, 1, 1, 1, 1, 1, 1, 1, 1, 1, 1, 0, 1, 0, 1, 1, 0, 1,\n",
       "       1, 0, 1, 0, 1, 0, 1, 0, 1, 0, 1, 0], dtype=int32)"
      ]
     },
     "execution_count": 4,
     "metadata": {},
     "output_type": "execute_result"
    }
   ],
   "source": [
    "labels"
   ]
  },
  {
   "cell_type": "markdown",
   "metadata": {
    "deletable": false,
    "editable": false,
    "run_control": {
     "frozen": true
    }
   },
   "source": [
    "We see that each of our customers has been classified either into cluster `0` or cluster `1`. We can now use the code below to plot these results in an elegant form:\n"
   ]
  },
  {
   "cell_type": "code",
   "execution_count": 5,
   "metadata": {
    "scrolled": true
   },
   "outputs": [
    {
     "data": {
      "image/png": "[encoded data removed]",
      "text/plain": [
       "<Figure size 432x288 with 1 Axes>"
      ]
     },
     "metadata": {
      "needs_background": "light"
     },
     "output_type": "display_data"
    }
   ],
   "source": [
    "# Arguments: \n",
    "#   points_scaled (our StandardScaled datapoints)\n",
    "#   labels (cluster labels (from kmeans object))\n",
    "#   cluster_centers (center points of the clusters (from kmeans object))\n",
    "def plot_clusters(points_scaled, labels, cluster_centers):\n",
    "    colors = [\"r\", \"b\", \"g\", \"y\", \"m\",\"k\"]\n",
    "    \n",
    "    n_clusters = len(cluster_centers)\n",
    "    legends = []\n",
    "    for i in range(0,n_clusters):\n",
    "        label_filter = (labels == i)\n",
    "        plt.scatter(points_scaled[label_filter, 0], points_scaled[label_filter, 1], color=colors[i])\n",
    "        legends.append(f\"Cluster {i}\")\n",
    "    plt.scatter(cluster_centers[:,0], cluster_centers[:,1], marker=\"*\", c=\"w\", edgecolors=\"k\",s=150)\n",
    "    legends.append(\"Centers\")\n",
    "    plt.xlabel(\"Avg Ticket Price (StandardScaled)\")\n",
    "    plt.ylabel(\"# of Tickets Purchased (StandardScaled)\")\n",
    "    plt.legend(legends)\n",
    "    plt.show()\n",
    "plot_clusters(points_scaled, labels, kmeans.cluster_centers_)"
   ]
  },
  {
   "cell_type": "markdown",
   "metadata": {
    "deletable": false,
    "editable": false,
    "run_control": {
     "frozen": true
    }
   },
   "source": [
    "In the graph above, the center of each cluster that the $k$-means algorithm calculated for us is indicated by a star, while the points for each cluster are highlighted with the corresponding color. "
   ]
  },
  {
   "cell_type": "markdown",
   "metadata": {
    "deletable": false,
    "editable": false,
    "run_control": {
     "frozen": true
    }
   },
   "source": [
    "These clusters do not look quite right - in particular, the blue cluster looks like it is actually two different clusters. We can improve our picture by increasing the cluster count *k*: "
   ]
  },
  {
   "cell_type": "code",
   "execution_count": 6,
   "metadata": {},
   "outputs": [
    {
     "data": {
      "image/png": "[encoded data removed]",
      "text/plain": [
       "<Figure size 432x288 with 1 Axes>"
      ]
     },
     "metadata": {
      "needs_background": "light"
     },
     "output_type": "display_data"
    }
   ],
   "source": [
    "k = 3\n",
    "kmeans = KMeans(n_clusters=k, random_state=0)\n",
    "labels = kmeans.fit_predict(points_scaled)\n",
    "plot_clusters(points_scaled, labels, kmeans.cluster_centers_)"
   ]
  },
  {
   "cell_type": "markdown",
   "metadata": {
    "deletable": false,
    "editable": false,
    "run_control": {
     "frozen": true
    }
   },
   "source": [
    "This result certainly looks better - but \"looks better\" is not a sufficiently rigorous measure of performance. How should we quantitatively assess the right choice for the cluster count *k*? The standard way to tell if our clusters are \"good\" is to calculate the \"within-cluster sum of squares\" (WCSS) to gauge how \"spread out\" our clusters are. This means that for every cluster, we loop over every point in that cluster and compute the square of the distance from that point to the center of the cluster. We then add up all of these squared distances to get the final WCSS value for that cluster. "
   ]
  },
  {
   "cell_type": "code",
   "execution_count": 7,
   "metadata": {},
   "outputs": [],
   "source": [
    "from numpy.linalg import norm\n",
    "\n",
    "def wcss(points, center):\n",
    "    total = 0 \n",
    "    for point in points:\n",
    "        d = norm(point - center)\n",
    "        total += d*d\n",
    "    return total"
   ]
  },
  {
   "cell_type": "markdown",
   "metadata": {
    "deletable": false,
    "editable": false,
    "run_control": {
     "frozen": true
    }
   },
   "source": [
    "Let's evaluate the spread of our first cluster:"
   ]
  },
  {
   "cell_type": "code",
   "execution_count": 8,
   "metadata": {},
   "outputs": [
    {
     "data": {
      "text/plain": [
       "4.627474187680641"
      ]
     },
     "execution_count": 8,
     "metadata": {},
     "output_type": "execute_result"
    }
   ],
   "source": [
    "wcss(points_scaled[labels == 0, :], kmeans.cluster_centers_[0])"
   ]
  },
  {
   "cell_type": "markdown",
   "metadata": {
    "deletable": false,
    "editable": false,
    "run_control": {
     "frozen": true
    }
   },
   "source": [
    "We can compare this value to the WCSS for our third cluster:"
   ]
  },
  {
   "cell_type": "code",
   "execution_count": 9,
   "metadata": {},
   "outputs": [
    {
     "data": {
      "text/plain": [
       "21.273957320823776"
      ]
     },
     "execution_count": 9,
     "metadata": {},
     "output_type": "execute_result"
    }
   ],
   "source": [
    "wcss(points_scaled[labels == 2, :], kmeans.cluster_centers_[2])"
   ]
  },
  {
   "cell_type": "markdown",
   "metadata": {
    "deletable": false,
    "editable": false,
    "run_control": {
     "frozen": true
    }
   },
   "source": [
    "So our third cluster is much less \"spread out\" than our first cluster. This makes sense; we can see from our graph that the first (red) cluster is the most spread out, and could probably be broken down into a number of smaller clusters. The `kmeans` object that we created earlier contains the sum of all WCSS values for every cluster in the `inertia_` attribute:"
   ]
  },
  {
   "cell_type": "code",
   "execution_count": 10,
   "metadata": {},
   "outputs": [
    {
     "data": {
      "text/plain": [
       "43.792214303613854"
      ]
     },
     "execution_count": 10,
     "metadata": {},
     "output_type": "execute_result"
    }
   ],
   "source": [
    "kmeans.inertia_"
   ]
  },
  {
   "cell_type": "markdown",
   "metadata": {
    "deletable": false,
    "editable": false,
    "run_control": {
     "frozen": true
    }
   },
   "source": [
    "The `inertia_` number above is the total \"spread\" of all of our clusters combined. Choosing a larger value of $k$ will create a larger number of smaller clusters, and so this `inertia_` value will decline. If we chose a number of clusters equal to the number of points in our dataset, the `inertia_` value would be zero. However, we would then have no clusters at all, only points, and we thus would derive no value from this analysis. The trick to doing cluster analysis well is to find a value for $k$ that is not too large (keeping the cluster count small), but that results in a small spread for each cluster. How do we find this optimal $k$ value? We simply start with $k = 1$, and then increase $k$ until the `inertia_` value levels out."
   ]
  },
  {
   "cell_type": "markdown",
   "metadata": {
    "deletable": false,
    "editable": false,
    "run_control": {
     "frozen": true
    }
   },
   "source": [
    "<span style=\"color:blue;font-weight:bold\">Exercise</span>: Create an *elbow plot* to measure how the `inertia_` value decreases with increasing cluster count. You should construct this plot using the following steps:\n",
    "\n",
    "1. Vary the value of $k$ from `1` to `6`, perform $k$-means clustering for each value of $k$, and record the `inertia_` value for that set of clusters. Store the resulting list in the variable `inertia_values`. Note - you must pass the `random_state=0` argument to the `KMeans` function in order for your solution to validate.\n",
    "\n",
    "2. Use matplotlib to make a line plot of `inertia_` vs $k$, and choose the best value for $k$ based on this plot. Store this $k$ value in the variable `optimal_k` \n",
    "\n",
    "Remember to use `points_scaled`, rather than `points`, when performing your analysis!"
   ]
  },
  {
   "cell_type": "code",
   "execution_count": 14,
   "metadata": {
    "scrolled": false,
    "tags": [
     "exercise"
    ]
   },
   "outputs": [
    {
     "data": {
      "image/png": "[encoded data removed]",
      "text/plain": [
       "<Figure size 432x288 with 1 Axes>"
      ]
     },
     "metadata": {
      "needs_background": "light"
     },
     "output_type": "display_data"
    }
   ],
   "source": [
    "random_state = 0\n",
    "\n",
    "inertia_values = []\n",
    "for k in range(1, 7):\n",
    "    km = KMeans(n_clusters=k, random_state=random_state)\n",
    "    km.fit(points_scaled)\n",
    "    inertia_values.append(km.inertia_)\n",
    "    \n",
    "plt.plot(inertia_values)\n",
    "\n",
    "optimal_k=4"
   ]
  },
  {
   "cell_type": "code",
   "execution_count": 14,
   "metadata": {
    "deletable": false,
    "editable": false,
    "strategicml": {
     "execution_time": 1584775989639,
     "exercise_id": "e1ccfdc2-ef30-467a-862b-c16fc997c35e",
     "points": 3
    },
    "tags": [
     "test"
    ]
   },
   "outputs": [
    {
     "data": {
      "text/html": [
       "<div style=\"background-color:#e8fcef\n",
       ";color:#333333;padding:10px;border-style:solid;border-width:2px;border-color:#038c33\">\n",
       "<div style=\"font-weight:bold\">Correct!</div>\n",
       "</div>"
      ],
      "text/plain": [
       "<IPython.core.display.HTML object>"
      ]
     },
     "metadata": {},
     "output_type": "display_data"
    }
   ],
   "source": [
    "import math\n",
    "check_variable_definition(\"optimal_k\")\n",
    "assert isinstance(inertia_values, list), \"<code>inertia_values</code> should be a list</code>\"\n",
    "assert len(inertia_values) == 6, \"Your <code>inertia_values</code> list has the wrong length - did you test all values of k from 1 to 6?\"\n",
    "assert optimal_k == 4, \"Your <code>optimal_k</code> value is incorrect - take another look at your elbow plot.\"\n",
    "success()"
   ]
  },
  {
   "cell_type": "markdown",
   "metadata": {
    "deletable": false,
    "editable": false,
    "run_control": {
     "frozen": true
    }
   },
   "source": [
    "<span style=\"color:blue;font-weight:bold\">Exercise</span>:  Using the optimal value of $k$ that you determined from the graph above, compute a new set of clusters and plot these clusters using the `plot_clusters` function as shown above. You must use the variable `optimal_clusters` to store your model object and pass `random_state=0` to the `KMeans` function in order for your solution to successfully validate."
   ]
  },
  {
   "cell_type": "code",
   "execution_count": 16,
   "metadata": {
    "scrolled": false,
    "tags": [
     "exercise"
    ]
   },
   "outputs": [
    {
     "data": {
      "text/plain": [
       "KMeans(algorithm='auto', copy_x=True, init='k-means++', max_iter=300,\n",
       "       n_clusters=4, n_init=10, n_jobs=None, precompute_distances='auto',\n",
       "       random_state=0, tol=0.0001, verbose=0)"
      ]
     },
     "execution_count": 16,
     "metadata": {},
     "output_type": "execute_result"
    }
   ],
   "source": [
    "optimal_clusters = KMeans(n_clusters=optimal_k, random_state=0)\n",
    "optimal_clusters.fit(points_scaled)"
   ]
  },
  {
   "cell_type": "code",
   "execution_count": 16,
   "metadata": {
    "deletable": false,
    "editable": false,
    "strategicml": {
     "execution_time": 1584776030768,
     "exercise_id": "47986fcf-e2f2-403c-840e-3ada5c7b24ce",
     "points": 3
    },
    "tags": [
     "test"
    ]
   },
   "outputs": [
    {
     "data": {
      "text/html": [
       "<div style=\"background-color:#e8fcef\n",
       ";color:#333333;padding:10px;border-style:solid;border-width:2px;border-color:#038c33\">\n",
       "<div style=\"font-weight:bold\">Correct!</div>\n",
       "</div>"
      ],
      "text/plain": [
       "<IPython.core.display.HTML object>"
      ]
     },
     "metadata": {},
     "output_type": "display_data"
    }
   ],
   "source": [
    "import sklearn\n",
    "check_variable_definition(\"optimal_clusters\")\n",
    "wrong_value_hint =  \"The value that you stored in <code>optimal_clusters</code> is not correct - double-check your call to <code>KMeans</code>\"\n",
    "assert isinstance(optimal_clusters, sklearn.cluster.KMeans),wrong_value_hint\n",
    "assert optimal_clusters.cluster_centers_.shape == (4,2), \"You appear to have the wrong number of clusters in your <code>kmeans</code> object - did you choose <code>optimal_k</code> correctly in the previous exercise?\"\n",
    "success()"
   ]
  },
  {
   "cell_type": "markdown",
   "metadata": {
    "deletable": false,
    "editable": false,
    "run_control": {
     "frozen": true
    }
   },
   "source": [
    "Now that you have performed a high-quality cluster analysis, it is time to consider the real-world meaning of your results. What market segment do you think each cluster corresponds to? Is one of your clusters business travellers? Economy tourism travellers? If you were running an airline, how would you tune your marketing for each group?"
   ]
  },
  {
   "cell_type": "code",
   "execution_count": 19,
   "metadata": {},
   "outputs": [
    {
     "data": {
      "image/png": "[encoded data removed]",
      "text/plain": [
       "<Figure size 432x288 with 1 Axes>"
      ]
     },
     "metadata": {
      "needs_background": "light"
     },
     "output_type": "display_data"
    }
   ],
   "source": [
    "plot_clusters(points_scaled=points_scaled, \n",
    "              labels=optimal_clusters.labels_, \n",
    "              cluster_centers=optimal_clusters.cluster_centers_)"
   ]
  },
  {
   "cell_type": "code",
   "execution_count": null,
   "metadata": {},
   "outputs": [],
   "source": []
  }
 ],
 "metadata": {
  "celltoolbar": null,
  "kernelspec": {
   "display_name": "Python 3",
   "language": "python",
   "name": "python3"
  },
  "language_info": {
   "codemirror_mode": {
    "name": "ipython",
    "version": 3
   },
   "file_extension": ".py",
   "mimetype": "text/x-python",
   "name": "python",
   "nbconvert_exporter": "python",
   "pygments_lexer": "ipython3",
   "version": "3.7.3"
  },
  "strategicml": {
   "lesson_id": "244e801b-97ab-4fb7-bd47-1b5392b0e7c1",
   "release": true
  }
 },
 "nbformat": 4,
 "nbformat_minor": 2
}
