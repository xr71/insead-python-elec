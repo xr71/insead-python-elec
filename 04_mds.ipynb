{
 "cells": [
  {
   "cell_type": "markdown",
   "metadata": {
    "deletable": false,
    "editable": false,
    "run_control": {
     "frozen": true
    }
   },
   "source": [
    "## Multi-Dimensional Scaling (MDS)\n",
    "\n",
    "In an earlier lesson, we learned how Principal Component Analysis (PCA) can detect patterns in our data. Remember, PCA is an *unsupervised* machine learning algorithm because it finds a natural structure present in our data, rather than trying to use our data to predict a given \"right answer.\" We will now learn a new unsupervised machine learning method for discovering hidden relationships in our data. The multi-dimensional scaling (MDS) method can be used to map consumer perceptions of companies and brands, turning raw survey data into interpretable clusters that reveal market structure."
   ]
  },
  {
   "cell_type": "markdown",
   "metadata": {
    "deletable": false,
    "editable": false,
    "run_control": {
     "frozen": true
    }
   },
   "source": [
    "To understand how MDS works, we need to consider the challenges inherent in understanding consumer preferences. Suppose that we are a car company, like Ford or Toyota, and we need to understand why our competitors are selling more cars than we are. What questions should we ask? We could come up with a 100 question survey that compares all car brands across many different attributes, but there are two problems with this approach:\n",
    "\n",
    "1. Consumers hate filling out long surveys\n",
    "2. Even if we put 100 questions, we may still miss the real factors driving purchases.\n",
    "\n",
    "The MDS method allows us to understand the factors that drive consumer behavior in our industry without needing to ask too many survey questions and *without having to know which factors are important in advance.* MDS works using the following beautifully simple process. Suppose we have the following list of car models, and we want to understand consumer opinion of these models:"
   ]
  },
  {
   "cell_type": "code",
   "execution_count": 1,
   "metadata": {},
   "outputs": [],
   "source": [
    "car_models = [\n",
    "    'cadillac cts',\n",
    "    'dodge challenger',\n",
    "    'ford mustang',\n",
    "    'toyota camry',\n",
    "    'hyundai elantra',\n",
    "    'mercedes e class',\n",
    "    'bmw 7 series',\n",
    "    'lamborghini huracan'\n",
    "]"
   ]
  },
  {
   "cell_type": "markdown",
   "metadata": {
    "deletable": false,
    "editable": false,
    "run_control": {
     "frozen": true
    }
   },
   "source": [
    "Let's start with the car model 'cadillac cts'. Proceeding through the list of other car models, we assign a value from `0` (perfectly similar) to `10` (totally dissimilar) to every other car model. All of these values are stored in a list - for example, we might come up with the following list:"
   ]
  },
  {
   "cell_type": "code",
   "execution_count": 2,
   "metadata": {},
   "outputs": [],
   "source": [
    "cadillac_cts_dissimilarity = [0,8,8,6,5,3,3,9]"
   ]
  },
  {
   "cell_type": "markdown",
   "metadata": {
    "deletable": false,
    "editable": false,
    "run_control": {
     "frozen": true
    }
   },
   "source": [
    "We can see that the list above considers the cadillac cts to be perfectly similar to itself (required), very dissimilar to the dodge challenger, ford mustang, and lamborghini huracan, and relatively similar to the other entries. \n",
    "\n",
    "Consumers can then be asked to repeat this process for every model in the list. We will therefore end up with one row of numbers per model, and these rows can be arranged into a *dissimilarity matrix* like the one below:"
   ]
  },
  {
   "cell_type": "code",
   "execution_count": 3,
   "metadata": {},
   "outputs": [],
   "source": [
    "import numpy as np\n",
    "car_dissimilarity_matrix = np.array([\n",
    "    [0,8,8,6,5,3,3,9],\n",
    "    [8,0,1,5,5,8,8,9],\n",
    "    [8,1,0,4,4,8,8,9],\n",
    "    [6,5,4,0,2,5,5,10],\n",
    "    [5,5,4,2,0,4,4,10],\n",
    "    [3,8,8,5,4,0,1,8],\n",
    "    [3,8,8,5,4,1,0,8],\n",
    "    [9,9,9,10,10,8,8,0]\n",
    "])"
   ]
  },
  {
   "cell_type": "markdown",
   "metadata": {
    "deletable": false,
    "editable": false,
    "run_control": {
     "frozen": true
    }
   },
   "source": [
    "Let's visualize this dissimilarity matrix in order to make sense of these numbers:"
   ]
  },
  {
   "cell_type": "code",
   "execution_count": 4,
   "metadata": {
    "scrolled": true
   },
   "outputs": [
    {
     "data": {
      "text/html": [
       "<div>\n",
       "<style scoped>\n",
       "    .dataframe tbody tr th:only-of-type {\n",
       "        vertical-align: middle;\n",
       "    }\n",
       "\n",
       "    .dataframe tbody tr th {\n",
       "        vertical-align: top;\n",
       "    }\n",
       "\n",
       "    .dataframe thead th {\n",
       "        text-align: right;\n",
       "    }\n",
       "</style>\n",
       "<table border=\"1\" class=\"dataframe\">\n",
       "  <thead>\n",
       "    <tr style=\"text-align: right;\">\n",
       "      <th></th>\n",
       "      <th>cadillac cts</th>\n",
       "      <th>dodge challenger</th>\n",
       "      <th>ford mustang</th>\n",
       "      <th>toyota camry</th>\n",
       "      <th>hyundai elantra</th>\n",
       "      <th>mercedes e class</th>\n",
       "      <th>bmw 7 series</th>\n",
       "      <th>lamborghini huracan</th>\n",
       "    </tr>\n",
       "  </thead>\n",
       "  <tbody>\n",
       "    <tr>\n",
       "      <td>cadillac cts</td>\n",
       "      <td>0</td>\n",
       "      <td>8</td>\n",
       "      <td>8</td>\n",
       "      <td>6</td>\n",
       "      <td>5</td>\n",
       "      <td>3</td>\n",
       "      <td>3</td>\n",
       "      <td>9</td>\n",
       "    </tr>\n",
       "    <tr>\n",
       "      <td>dodge challenger</td>\n",
       "      <td>8</td>\n",
       "      <td>0</td>\n",
       "      <td>1</td>\n",
       "      <td>5</td>\n",
       "      <td>5</td>\n",
       "      <td>8</td>\n",
       "      <td>8</td>\n",
       "      <td>9</td>\n",
       "    </tr>\n",
       "    <tr>\n",
       "      <td>ford mustang</td>\n",
       "      <td>8</td>\n",
       "      <td>1</td>\n",
       "      <td>0</td>\n",
       "      <td>4</td>\n",
       "      <td>4</td>\n",
       "      <td>8</td>\n",
       "      <td>8</td>\n",
       "      <td>9</td>\n",
       "    </tr>\n",
       "    <tr>\n",
       "      <td>toyota camry</td>\n",
       "      <td>6</td>\n",
       "      <td>5</td>\n",
       "      <td>4</td>\n",
       "      <td>0</td>\n",
       "      <td>2</td>\n",
       "      <td>5</td>\n",
       "      <td>5</td>\n",
       "      <td>10</td>\n",
       "    </tr>\n",
       "    <tr>\n",
       "      <td>hyundai elantra</td>\n",
       "      <td>5</td>\n",
       "      <td>5</td>\n",
       "      <td>4</td>\n",
       "      <td>2</td>\n",
       "      <td>0</td>\n",
       "      <td>4</td>\n",
       "      <td>4</td>\n",
       "      <td>10</td>\n",
       "    </tr>\n",
       "    <tr>\n",
       "      <td>mercedes e class</td>\n",
       "      <td>3</td>\n",
       "      <td>8</td>\n",
       "      <td>8</td>\n",
       "      <td>5</td>\n",
       "      <td>4</td>\n",
       "      <td>0</td>\n",
       "      <td>1</td>\n",
       "      <td>8</td>\n",
       "    </tr>\n",
       "    <tr>\n",
       "      <td>bmw 7 series</td>\n",
       "      <td>3</td>\n",
       "      <td>8</td>\n",
       "      <td>8</td>\n",
       "      <td>5</td>\n",
       "      <td>4</td>\n",
       "      <td>1</td>\n",
       "      <td>0</td>\n",
       "      <td>8</td>\n",
       "    </tr>\n",
       "    <tr>\n",
       "      <td>lamborghini huracan</td>\n",
       "      <td>9</td>\n",
       "      <td>9</td>\n",
       "      <td>9</td>\n",
       "      <td>10</td>\n",
       "      <td>10</td>\n",
       "      <td>8</td>\n",
       "      <td>8</td>\n",
       "      <td>0</td>\n",
       "    </tr>\n",
       "  </tbody>\n",
       "</table>\n",
       "</div>"
      ],
      "text/plain": [
       "                     cadillac cts  dodge challenger  ford mustang  \\\n",
       "cadillac cts                    0                 8             8   \n",
       "dodge challenger                8                 0             1   \n",
       "ford mustang                    8                 1             0   \n",
       "toyota camry                    6                 5             4   \n",
       "hyundai elantra                 5                 5             4   \n",
       "mercedes e class                3                 8             8   \n",
       "bmw 7 series                    3                 8             8   \n",
       "lamborghini huracan             9                 9             9   \n",
       "\n",
       "                     toyota camry  hyundai elantra  mercedes e class  \\\n",
       "cadillac cts                    6                5                 3   \n",
       "dodge challenger                5                5                 8   \n",
       "ford mustang                    4                4                 8   \n",
       "toyota camry                    0                2                 5   \n",
       "hyundai elantra                 2                0                 4   \n",
       "mercedes e class                5                4                 0   \n",
       "bmw 7 series                    5                4                 1   \n",
       "lamborghini huracan            10               10                 8   \n",
       "\n",
       "                     bmw 7 series  lamborghini huracan  \n",
       "cadillac cts                    3                    9  \n",
       "dodge challenger                8                    9  \n",
       "ford mustang                    8                    9  \n",
       "toyota camry                    5                   10  \n",
       "hyundai elantra                 4                   10  \n",
       "mercedes e class                1                    8  \n",
       "bmw 7 series                    0                    8  \n",
       "lamborghini huracan             8                    0  "
      ]
     },
     "execution_count": 4,
     "metadata": {},
     "output_type": "execute_result"
    }
   ],
   "source": [
    "import pandas as pd\n",
    "pd.DataFrame(car_dissimilarity_matrix, index=car_models, columns=car_models)"
   ]
  },
  {
   "cell_type": "markdown",
   "metadata": {
    "deletable": false,
    "editable": false,
    "run_control": {
     "frozen": true
    }
   },
   "source": [
    "We can see that the numbers on the diagonal are always zero, meaning that every car is perfectly similar to itself. When you examine our different dissimilarity assignments, you may disagree with some of them. That is fine - these assignments measure the *subjective* perception of similarity/dissimilarity for each consumer that fills out the survey. In this case, they measure the subjective (and not very well informed) perception of the author of this lesson. It is your responsibility to ensure that your target consumer demographics are well represented in your survey population, in order for the perception data that you collect to have maximal business value."
   ]
  },
  {
   "cell_type": "markdown",
   "metadata": {
    "deletable": false,
    "editable": false,
    "run_control": {
     "frozen": true
    }
   },
   "source": [
    "Now that we have collected the data in our dissimilarity matrix, we can apply the MDS method to map out the structure of the market according to our consumer perceptions:"
   ]
  },
  {
   "cell_type": "code",
   "execution_count": 5,
   "metadata": {},
   "outputs": [],
   "source": [
    "from sklearn.manifold import MDS\n",
    "\n",
    "mds = MDS(dissimilarity=\"precomputed\",random_state=63)\n",
    "perceptual_map = mds.fit_transform(car_dissimilarity_matrix)"
   ]
  },
  {
   "cell_type": "markdown",
   "metadata": {
    "deletable": false,
    "editable": false,
    "run_control": {
     "frozen": true
    }
   },
   "source": [
    "Notice that we are again using the `sklearn` package, specifically the sub-module `manifold`. Let's break down these two lines:\n",
    "\n",
    "1. We create a model object `mds`, using the keyword argument `dissimilarity=\"precomputed\"` because we are going to pass in our dissimilarity matrix\n",
    "2. We use the keyword argument `random_state=63` to ensure consistent results - sometimes the results can vary slightly due to the use of random numbers in various parts of the mathematical engine we use. \n",
    "3. Our `mds` model is then used to convert our dissimilarity matrix above into a `perceptual_map`, which can then be used to map consumer preferences."
   ]
  },
  {
   "cell_type": "markdown",
   "metadata": {
    "deletable": false,
    "editable": false,
    "run_control": {
     "frozen": true
    }
   },
   "source": [
    "Let's take a look at the `perceptual_map` that we generated in the above step:"
   ]
  },
  {
   "cell_type": "code",
   "execution_count": 6,
   "metadata": {},
   "outputs": [
    {
     "data": {
      "text/plain": [
       "array([[ 0.83318563, -4.39990581],\n",
       "       [-2.70086054,  3.8431003 ],\n",
       "       [-3.15584783,  3.11368249],\n",
       "       [-3.14692758, -0.71926201],\n",
       "       [-1.90872518, -0.99941147],\n",
       "       [ 1.82700045, -2.5804344 ],\n",
       "       [ 2.15917615, -2.25192672],\n",
       "       [ 6.09299892,  3.99415762]])"
      ]
     },
     "execution_count": 6,
     "metadata": {},
     "output_type": "execute_result"
    }
   ],
   "source": [
    "perceptual_map"
   ]
  },
  {
   "cell_type": "markdown",
   "metadata": {
    "deletable": false,
    "editable": false,
    "run_control": {
     "frozen": true
    }
   },
   "source": [
    "What do these numbers mean? Each row corresponds to one car model, and the two columns represent $x$ and $y$ coordinates. We can therefore make a 2D scatter plot (using matplotlib's `annotate` function to draw each point with a label) to map the structure of the market:"
   ]
  },
  {
   "cell_type": "code",
   "execution_count": 7,
   "metadata": {
    "scrolled": true
   },
   "outputs": [
    {
     "data": {
      "image/png": "[encoded data removed]",
      "text/plain": [
       "<Figure size 432x288 with 1 Axes>"
      ]
     },
     "metadata": {
      "needs_background": "light"
     },
     "output_type": "display_data"
    }
   ],
   "source": [
    "%matplotlib inline\n",
    "import matplotlib.pyplot as plt\n",
    "\n",
    "x = perceptual_map[:,0]\n",
    "y = perceptual_map[:,1]\n",
    "plt.scatter(x, y)\n",
    "for i in range(0, len(car_models)):\n",
    "    txt = car_models[i]\n",
    "    plt.annotate(txt, [x[i], y[i]])\n",
    "plt.show()"
   ]
  },
  {
   "cell_type": "markdown",
   "metadata": {
    "deletable": false,
    "editable": false,
    "run_control": {
     "frozen": true
    }
   },
   "source": [
    "The MDS procedure has taken the information that we provided about our perceived *distances* between brands/models and constructed a graph that attempts to visualize those distances in two dimensions. In the process, it has revealed a pattern in our data - we can now see that the consumer has grouped certain models close together, while other models are far apart. \n",
    "\n",
    "What are the meanings of these groups of points? On what basis do consumers consider the \"dodge challenger\" and the \"ford mustang\" to be very similar to each other, but very different than the \"lamborghini huracan?\" MDS has identified two dimensions ($x$ and $y$) that the consumer is using subconsciously to map the structure of the car market, but we must use our human intuition to understand what these dimensions *mean*. A plausible theory is that the $x$ dimension corresponds to *luxury*, while the $y$ dimension corresponds to *performance.* Thus, muscle cars are high luxury/low performance, while luxury sedans are high luxury/lower performance, and the lamborghini supercar is high on both measures."
   ]
  },
  {
   "cell_type": "markdown",
   "metadata": {
    "deletable": false,
    "editable": false,
    "run_control": {
     "frozen": true
    }
   },
   "source": [
    "### The Power of MDS\n",
    "\n",
    "Note the following key takeaway - we did not need to ask consumers any actual questions about the luxury or performance of cars! Had we decided to do so, we might have come up with a highly tedious list of questions asking about items like: \n",
    "\n",
    "1. Leather seats\n",
    "2. Sound system\n",
    "3. Acceleration \n",
    "4. Top Speed\n",
    "\n",
    "and a very long list of other possibilities. Instead, the MDS method has surfaced both the *existence* of the luxury and performance axes *and how different brands score on those metrics*. This illustrates the power of this technique."
   ]
  },
  {
   "cell_type": "markdown",
   "metadata": {
    "deletable": false,
    "editable": false,
    "run_control": {
     "frozen": true
    }
   },
   "source": [
    "<span style=\"color:blue;font-weight:bold\">Exercise</span>: Build Your Own MDS Dataset:\n",
    "\n",
    "1. Prepare your own 8x8 disimmilarity matrix comparing eight different products or companies from an industry of your choice. Your dissimilarity matrix must satisfy the following conditions:\n",
    "\n",
    "    * It must be stored in a variable called `my_dissimilarity_matrix` of type `np.array`\n",
    "    * All diagonal elements must be zero\n",
    "    * All off-diagonal elements must be non-zero\n",
    "    * It cannot exactly match the dissimilarity matrix given above - don't cheat! \n",
    "\n",
    "\n",
    "2. Run MDS to produce a 2-dimensional perceptual map - store this result in the variable `my_perceptual_map`. \n",
    "\n",
    "3. As we did above, produce a graph of the perceptual map and label the points. "
   ]
  },
  {
   "cell_type": "code",
   "execution_count": 16,
   "metadata": {
    "tags": [
     "exercise"
    ]
   },
   "outputs": [],
   "source": [
    "# delete this entire line and replace it with your code\n",
    "my_dissimilarity_matrix = np.array([\n",
    "    [0, 1,  3,  4,  5,  7,  8, 10],\n",
    "    [1, 0,  1,  2,  2,  10, 5, 5],\n",
    "    [3, 1,  0,  4,  5,  7,  8, 10],\n",
    "    [4, 2,  4,  0,  5,  7,  8, 10],\n",
    "    [5, 2,  5,  5,  0,  7,  8, 10],\n",
    "    [7, 10, 7,  7,  7,  0,  8, 10],\n",
    "    [8, 5,  8,  8,  8,  8,  0, 10],\n",
    "    [10, 5, 10, 10, 10, 10,  10, 0]\n",
    "    \n",
    "])\n",
    "\n",
    "mds = MDS(dissimilarity=\"precomputed\",random_state=63)\n",
    "my_perceptual_map = mds.fit_transform(my_dissimilarity_matrix)"
   ]
  },
  {
   "cell_type": "code",
   "execution_count": 16,
   "metadata": {
    "deletable": false,
    "editable": false,
    "strategicml": {
     "execution_time": 1584775192410,
     "exercise_id": "2b11f2f3-c14d-4f2c-a182-d752130d7a8e",
     "points": 3
    },
    "tags": [
     "test"
    ]
   },
   "outputs": [
    {
     "data": {
      "text/html": [
       "<div style=\"background-color:#e8fcef\n",
       ";color:#333333;padding:10px;border-style:solid;border-width:2px;border-color:#038c33\">\n",
       "<div style=\"font-weight:bold\">Correct!</div>\n",
       "</div>"
      ],
      "text/plain": [
       "<IPython.core.display.HTML object>"
      ]
     },
     "metadata": {},
     "output_type": "display_data"
    }
   ],
   "source": [
    "assert not np.array_equal(my_dissimilarity_matrix, [\n",
    "    [0,8,8,6,5,3,3,9],\n",
    "    [8,0,1,5,5,8,8,9],\n",
    "    [8,1,0,4,4,8,8,9],\n",
    "    [6,5,4,0,2,5,5,10],\n",
    "    [5,5,4,2,0,4,4,10],\n",
    "    [3,8,8,5,4,0,1,8],\n",
    "    [3,8,8,5,4,1,0,8],\n",
    "    [9,9,9,10,10,8,8,0]\n",
    "]), \"No re-using our dissimilarity matrix!\"\n",
    "assert my_dissimilarity_matrix.shape == (8,8), \"Your dissimilarity matrix has the wrong shape - should be <code>(8,8)</code>\"\n",
    "for i in range(len(my_dissimilarity_matrix)):\n",
    "    for j in range(len(my_dissimilarity_matrix)):\n",
    "        if i == j:\n",
    "            assert my_dissimilarity_matrix[i,j] == 0, \"At least one of the diagonal elements in your dissimilarity matrix is non-zero - this is incorrect.\"\n",
    "        else:\n",
    "            assert my_dissimilarity_matrix[i,j] != 0, \"All off-diagonal elements of your dissimilarity matrix should be non-zero\"\n",
    "assert my_perceptual_map.shape == (8,2)\n",
    "success()"
   ]
  },
  {
   "cell_type": "code",
   "execution_count": 20,
   "metadata": {},
   "outputs": [
    {
     "data": {
      "text/plain": [
       "array([[ 1.96848717,  1.41593532],\n",
       "       [ 1.73509224, -0.27252772],\n",
       "       [ 3.18519703,  1.2421097 ],\n",
       "       [ 1.20891893,  3.60204022],\n",
       "       [-0.98437256,  0.77891855],\n",
       "       [-5.2013366 ,  3.59683902],\n",
       "       [-4.55880708, -3.29064701],\n",
       "       [ 2.64682088, -7.07266809]])"
      ]
     },
     "execution_count": 20,
     "metadata": {},
     "output_type": "execute_result"
    }
   ],
   "source": [
    "my_perceptual_map"
   ]
  },
  {
   "cell_type": "code",
   "execution_count": 24,
   "metadata": {},
   "outputs": [
    {
     "data": {
      "image/png": "[encoded data removed]",
      "text/plain": [
       "<Figure size 432x288 with 1 Axes>"
      ]
     },
     "metadata": {
      "needs_background": "light"
     },
     "output_type": "display_data"
    }
   ],
   "source": [
    "plt.scatter(my_perceptual_map[:,0], my_perceptual_map[:,1])\n",
    "for i in range(8):\n",
    "    txt = str(i+1)\n",
    "    plt.annotate(txt, [my_perceptual_map[:,0][i] + 0.2, my_perceptual_map[:,1][i]])\n",
    "plt.show()"
   ]
  },
  {
   "cell_type": "code",
   "execution_count": null,
   "metadata": {},
   "outputs": [],
   "source": []
  }
 ],
 "metadata": {
  "celltoolbar": null,
  "kernelspec": {
   "display_name": "Python 3",
   "language": "python",
   "name": "python3"
  },
  "language_info": {
   "codemirror_mode": {
    "name": "ipython",
    "version": 3
   },
   "file_extension": ".py",
   "mimetype": "text/x-python",
   "name": "python",
   "nbconvert_exporter": "python",
   "pygments_lexer": "ipython3",
   "version": "3.7.3"
  },
  "strategicml": {
   "lesson_id": "bdc5a19a-b990-4705-9b85-7f1a88a1c650",
   "release": true
  }
 },
 "nbformat": 4,
 "nbformat_minor": 2
}
