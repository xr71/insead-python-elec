{
 "cells": [
  {
   "cell_type": "markdown",
   "metadata": {
    "deletable": false,
    "editable": false,
    "run_control": {
     "frozen": true
    }
   },
   "source": [
    "## Applying Neural Networks to Business Problems\n",
    "\n",
    "Now that you've seen how to train simple neural networks and avoid the problem of overfitting, let's try training a more complex neural network to predict business-relevant events. "
   ]
  },
  {
   "cell_type": "markdown",
   "metadata": {
    "deletable": false,
    "editable": false,
    "run_control": {
     "frozen": true
    }
   },
   "source": [
    "First, let's set up some imports that we'll need later:"
   ]
  },
  {
   "cell_type": "code",
   "execution_count": 1,
   "metadata": {
    "scrolled": true
   },
   "outputs": [],
   "source": [
    "import pandas as pd\n",
    "import matplotlib.pyplot as plt"
   ]
  },
  {
   "cell_type": "markdown",
   "metadata": {
    "deletable": false,
    "editable": false,
    "run_control": {
     "frozen": true
    }
   },
   "source": [
    "## Preparing our Input Data\n",
    "\n",
    "Let's import our training and test data:"
   ]
  },
  {
   "cell_type": "code",
   "execution_count": 2,
   "metadata": {
    "scrolled": true
   },
   "outputs": [],
   "source": [
    "train_df = pd.read_csv(\"data/sales-train.csv\")\n",
    "test_df = pd.read_csv(\"data/sales-test.csv\")"
   ]
  },
  {
   "cell_type": "markdown",
   "metadata": {
    "deletable": false,
    "editable": false,
    "run_control": {
     "frozen": true
    }
   },
   "source": [
    "We can examine each of these dataframes in turn:"
   ]
  },
  {
   "cell_type": "code",
   "execution_count": 3,
   "metadata": {
    "scrolled": true
   },
   "outputs": [
    {
     "data": {
      "text/html": [
       "<div>\n",
       "<style scoped>\n",
       "    .dataframe tbody tr th:only-of-type {\n",
       "        vertical-align: middle;\n",
       "    }\n",
       "\n",
       "    .dataframe tbody tr th {\n",
       "        vertical-align: top;\n",
       "    }\n",
       "\n",
       "    .dataframe thead th {\n",
       "        text-align: right;\n",
       "    }\n",
       "</style>\n",
       "<table border=\"1\" class=\"dataframe\">\n",
       "  <thead>\n",
       "    <tr style=\"text-align: right;\">\n",
       "      <th></th>\n",
       "      <th>Age</th>\n",
       "      <th>Income</th>\n",
       "      <th>Female</th>\n",
       "      <th>Purchased</th>\n",
       "    </tr>\n",
       "  </thead>\n",
       "  <tbody>\n",
       "    <tr>\n",
       "      <td>0</td>\n",
       "      <td>43</td>\n",
       "      <td>50</td>\n",
       "      <td>0</td>\n",
       "      <td>0</td>\n",
       "    </tr>\n",
       "    <tr>\n",
       "      <td>1</td>\n",
       "      <td>24</td>\n",
       "      <td>59</td>\n",
       "      <td>1</td>\n",
       "      <td>1</td>\n",
       "    </tr>\n",
       "    <tr>\n",
       "      <td>2</td>\n",
       "      <td>41</td>\n",
       "      <td>55</td>\n",
       "      <td>1</td>\n",
       "      <td>0</td>\n",
       "    </tr>\n",
       "    <tr>\n",
       "      <td>3</td>\n",
       "      <td>32</td>\n",
       "      <td>302</td>\n",
       "      <td>1</td>\n",
       "      <td>1</td>\n",
       "    </tr>\n",
       "    <tr>\n",
       "      <td>4</td>\n",
       "      <td>39</td>\n",
       "      <td>66</td>\n",
       "      <td>0</td>\n",
       "      <td>1</td>\n",
       "    </tr>\n",
       "  </tbody>\n",
       "</table>\n",
       "</div>"
      ],
      "text/plain": [
       "   Age  Income  Female  Purchased\n",
       "0   43      50       0          0\n",
       "1   24      59       1          1\n",
       "2   41      55       1          0\n",
       "3   32     302       1          1\n",
       "4   39      66       0          1"
      ]
     },
     "execution_count": 3,
     "metadata": {},
     "output_type": "execute_result"
    }
   ],
   "source": [
    "train_df.head()"
   ]
  },
  {
   "cell_type": "code",
   "execution_count": 4,
   "metadata": {
    "scrolled": true
   },
   "outputs": [
    {
     "data": {
      "text/html": [
       "<div>\n",
       "<style scoped>\n",
       "    .dataframe tbody tr th:only-of-type {\n",
       "        vertical-align: middle;\n",
       "    }\n",
       "\n",
       "    .dataframe tbody tr th {\n",
       "        vertical-align: top;\n",
       "    }\n",
       "\n",
       "    .dataframe thead th {\n",
       "        text-align: right;\n",
       "    }\n",
       "</style>\n",
       "<table border=\"1\" class=\"dataframe\">\n",
       "  <thead>\n",
       "    <tr style=\"text-align: right;\">\n",
       "      <th></th>\n",
       "      <th>Age</th>\n",
       "      <th>Income</th>\n",
       "      <th>Female</th>\n",
       "      <th>Purchased</th>\n",
       "    </tr>\n",
       "  </thead>\n",
       "  <tbody>\n",
       "    <tr>\n",
       "      <td>174</td>\n",
       "      <td>24</td>\n",
       "      <td>121</td>\n",
       "      <td>0</td>\n",
       "      <td>1</td>\n",
       "    </tr>\n",
       "    <tr>\n",
       "      <td>175</td>\n",
       "      <td>35</td>\n",
       "      <td>69</td>\n",
       "      <td>1</td>\n",
       "      <td>1</td>\n",
       "    </tr>\n",
       "    <tr>\n",
       "      <td>176</td>\n",
       "      <td>54</td>\n",
       "      <td>53</td>\n",
       "      <td>0</td>\n",
       "      <td>0</td>\n",
       "    </tr>\n",
       "    <tr>\n",
       "      <td>177</td>\n",
       "      <td>34</td>\n",
       "      <td>49</td>\n",
       "      <td>0</td>\n",
       "      <td>0</td>\n",
       "    </tr>\n",
       "    <tr>\n",
       "      <td>178</td>\n",
       "      <td>44</td>\n",
       "      <td>50</td>\n",
       "      <td>0</td>\n",
       "      <td>0</td>\n",
       "    </tr>\n",
       "  </tbody>\n",
       "</table>\n",
       "</div>"
      ],
      "text/plain": [
       "     Age  Income  Female  Purchased\n",
       "174   24     121       0          1\n",
       "175   35      69       1          1\n",
       "176   54      53       0          0\n",
       "177   34      49       0          0\n",
       "178   44      50       0          0"
      ]
     },
     "execution_count": 4,
     "metadata": {},
     "output_type": "execute_result"
    }
   ],
   "source": [
    "test_df.tail()"
   ]
  },
  {
   "cell_type": "markdown",
   "metadata": {
    "deletable": false,
    "editable": false,
    "run_control": {
     "frozen": true
    }
   },
   "source": [
    "As you can see, these datasets concern whether a given consumer has purchased from our business in the past. Each row represents a different consumer. We seek to predict values of the `Purchased` column (`1` for a consumer that did purchase and `0` for a consumer that declined) using the profile data in the other columns. "
   ]
  },
  {
   "cell_type": "markdown",
   "metadata": {
    "deletable": false,
    "editable": false,
    "run_control": {
     "frozen": true
    }
   },
   "source": [
    "Let's pull out the `X` and `y` variables in our data:"
   ]
  },
  {
   "cell_type": "code",
   "execution_count": 5,
   "metadata": {},
   "outputs": [],
   "source": [
    "X_train, y_train = (\n",
    "    train_df.drop('Purchased', axis=1).to_numpy(),\n",
    "    train_df.Purchased.to_numpy()\n",
    ")\n",
    "X_test, y_test = (\n",
    "    test_df.drop('Purchased', axis=1).to_numpy(),\n",
    "    test_df.Purchased.to_numpy()\n",
    ")"
   ]
  },
  {
   "cell_type": "markdown",
   "metadata": {
    "deletable": false,
    "editable": false,
    "run_control": {
     "frozen": true
    }
   },
   "source": [
    "In order to train our network effectively, we'll need to *scale* our input data to be within an appropriate well-defined range. Let's choose the range `(0,1)`:"
   ]
  },
  {
   "cell_type": "code",
   "execution_count": 6,
   "metadata": {},
   "outputs": [],
   "source": [
    "from sklearn.preprocessing import MinMaxScaler\n",
    "scaler = MinMaxScaler(feature_range=(0,1), copy=True)\n",
    "X_train_scaled = scaler.fit_transform(X_train)"
   ]
  },
  {
   "cell_type": "markdown",
   "metadata": {
    "deletable": false,
    "editable": false,
    "run_control": {
     "frozen": true
    }
   },
   "source": [
    "Note that we have only used the training dataset to construct our `scaler` object - do not use the test dataset for this part, that would be cheating! No aspect of constructing our model is allowed to rely on our test dataset - if we break this rule, we will not be able to accurately estimate how well our model can generalize to unseen data."
   ]
  },
  {
   "cell_type": "markdown",
   "metadata": {
    "deletable": false,
    "editable": false,
    "run_control": {
     "frozen": true
    }
   },
   "source": [
    "## Building a Neural Network to Predict Purchases"
   ]
  },
  {
   "cell_type": "markdown",
   "metadata": {
    "deletable": false,
    "editable": false,
    "run_control": {
     "frozen": true
    }
   },
   "source": [
    "The network we will use will consist of one hidden layer compused of ReLU neurons, followed by an output layer that uses the softmax activation function to produce probability estimates for whether or not the consumer made a purchase. "
   ]
  },
  {
   "cell_type": "markdown",
   "metadata": {
    "deletable": false,
    "editable": false,
    "run_control": {
     "frozen": true
    }
   },
   "source": [
    "Before we do anything, we'll need to run the following code to ensure that the randomness used in tensorflow is appropriately controlled so that your result can match ours:"
   ]
  },
  {
   "cell_type": "code",
   "execution_count": 7,
   "metadata": {},
   "outputs": [],
   "source": [
    "from consistency import remove_randomness\n",
    "remove_randomness()"
   ]
  },
  {
   "cell_type": "markdown",
   "metadata": {
    "deletable": false,
    "editable": false,
    "run_control": {
     "frozen": true
    }
   },
   "source": [
    "Let's initialize this network:"
   ]
  },
  {
   "cell_type": "code",
   "execution_count": 8,
   "metadata": {},
   "outputs": [],
   "source": [
    "import tensorflow as tf\n",
    "from tensorflow import keras\n",
    "\n",
    "model_nn = keras.Sequential([\n",
    "    keras.layers.Dense(\n",
    "        units=50,\n",
    "        input_shape=(X_train.shape[1],),\n",
    "        activation=\"relu\",\n",
    "        name=\"hidden\"\n",
    "    ),\n",
    "    keras.layers.Dense(\n",
    "        units=2,\n",
    "        activation=\"softmax\",\n",
    "        name=\"output\"\n",
    "    )\n",
    "])"
   ]
  },
  {
   "cell_type": "markdown",
   "metadata": {
    "deletable": false,
    "editable": false,
    "run_control": {
     "frozen": true
    }
   },
   "source": [
    "We will now configure the model for training - since we're performing *classification* (labeling a customer as either a `1` or a `0`) rather than *regression* (predicting a number like \"revenue\" that can take on a wide range of values), we need to use a different loss function to guide our training process, `categorical_crossentropy`:"
   ]
  },
  {
   "cell_type": "code",
   "execution_count": 9,
   "metadata": {},
   "outputs": [],
   "source": [
    "model_nn.compile(\n",
    "    loss=\"categorical_crossentropy\",\n",
    "    optimizer=\"sgd\",\n",
    "    metrics=[\"accuracy\"]\n",
    ")"
   ]
  },
  {
   "cell_type": "markdown",
   "metadata": {
    "deletable": false,
    "editable": false,
    "run_control": {
     "frozen": true
    }
   },
   "source": [
    "Finally, we train the model - note that we need to call `to_categorical` to convert our `y_train` data into the appropriate format expected by TensorFlow for classification problems:"
   ]
  },
  {
   "cell_type": "code",
   "execution_count": 10,
   "metadata": {},
   "outputs": [
    {
     "name": "stdout",
     "output_type": "stream",
     "text": [
      "Train on 535 samples\n",
      "Epoch 1/5\n",
      "535/535 [==============================] - 1s 948us/sample - loss: 0.6579 - accuracy: 0.7682\n",
      "Epoch 2/5\n",
      "535/535 [==============================] - 0s 42us/sample - loss: 0.6434 - accuracy: 0.7832\n",
      "Epoch 3/5\n",
      "535/535 [==============================] - 0s 147us/sample - loss: 0.6308 - accuracy: 0.7869\n",
      "Epoch 4/5\n",
      "535/535 [==============================] - 0s 155us/sample - loss: 0.6201 - accuracy: 0.7869\n",
      "Epoch 5/5\n",
      "535/535 [==============================] - 0s 38us/sample - loss: 0.6107 - accuracy: 0.7869\n"
     ]
    },
    {
     "data": {
      "text/plain": [
       "<tensorflow.python.keras.callbacks.History at 0x7f31203ae5f8>"
      ]
     },
     "execution_count": 10,
     "metadata": {},
     "output_type": "execute_result"
    }
   ],
   "source": [
    "model_nn.fit(\n",
    "    X_train_scaled,\n",
    "    keras.utils.to_categorical(y_train),\n",
    "    epochs=5\n",
    ")"
   ]
  },
  {
   "cell_type": "markdown",
   "metadata": {
    "deletable": false,
    "editable": false,
    "run_control": {
     "frozen": true
    }
   },
   "source": [
    "Let's see how it performs on the test dataset:"
   ]
  },
  {
   "cell_type": "code",
   "execution_count": 11,
   "metadata": {
    "scrolled": true
   },
   "outputs": [
    {
     "name": "stdout",
     "output_type": "stream",
     "text": [
      "179/179 [==============================] - 0s 964us/sample - loss: 0.6211 - accuracy: 0.7542\n"
     ]
    },
    {
     "data": {
      "text/plain": [
       "[0.6211078403382327, 0.75418997]"
      ]
     },
     "execution_count": 11,
     "metadata": {},
     "output_type": "execute_result"
    }
   ],
   "source": [
    "X_test_scaled = scaler.transform(X_test)\n",
    "model_nn.evaluate(\n",
    "    X_test_scaled, \n",
    "    keras.utils.to_categorical(y_test)\n",
    ")"
   ]
  },
  {
   "cell_type": "markdown",
   "metadata": {
    "deletable": false,
    "editable": false,
    "run_control": {
     "frozen": true
    }
   },
   "source": [
    "The first number above is the loss function value, which we can ignore for now. The accuracy on the test set is the second number in the list above. We can see that the accuracy is slightly lower on the test set, but not by much."
   ]
  },
  {
   "cell_type": "markdown",
   "metadata": {
    "deletable": false,
    "editable": false,
    "run_control": {
     "frozen": true
    }
   },
   "source": [
    "## Assessing the Precision of Our Neural Network"
   ]
  },
  {
   "cell_type": "markdown",
   "metadata": {
    "deletable": false,
    "editable": false,
    "run_control": {
     "frozen": true
    }
   },
   "source": [
    "Suppose that you are asked to justify the time spent developing this model. How much will it increase the efficiency of your sales team to have leads pre-vetted using the model's predicitons? To answer this question, we need to consider the current state of our business - how many leads currently convert? We can see that our training set contains `218` purchasers and `317` who declined to purchase:"
   ]
  },
  {
   "cell_type": "code",
   "execution_count": 12,
   "metadata": {},
   "outputs": [
    {
     "data": {
      "text/plain": [
       "0    317\n",
       "1    218\n",
       "Name: Purchased, dtype: int64"
      ]
     },
     "execution_count": 12,
     "metadata": {},
     "output_type": "execute_result"
    }
   ],
   "source": [
    "train_df['Purchased'].value_counts()"
   ]
  },
  {
   "cell_type": "markdown",
   "metadata": {
    "deletable": false,
    "editable": false,
    "run_control": {
     "frozen": true
    }
   },
   "source": [
    "So with the current \"call everyone on the list\" approach, our sales team will have a hit rate of `218/(218 + 317) ~= 40%`. What if they use our model instead and only call the people who are predicted to be buyers? "
   ]
  },
  {
   "cell_type": "markdown",
   "metadata": {
    "deletable": false,
    "editable": false,
    "run_control": {
     "frozen": true
    }
   },
   "source": [
    "The number that we want to know is called the *precision* of our model: what fraction of its \"positive\" predictions will actually turn out to be positive? This will be the hit rate observed by our sales team. Let's take a look at the output of our model in order to understand how to calculate the precision:"
   ]
  },
  {
   "cell_type": "code",
   "execution_count": 13,
   "metadata": {},
   "outputs": [],
   "source": [
    "y_probs_test = model_nn.predict(X_test_scaled)"
   ]
  },
  {
   "cell_type": "markdown",
   "metadata": {
    "deletable": false,
    "editable": false,
    "run_control": {
     "frozen": true
    }
   },
   "source": [
    "Notice that the model has output *pairs of probabilities* - the probability (estimated by the model) that the customer under examination is a `1` or a `0`:"
   ]
  },
  {
   "cell_type": "code",
   "execution_count": 14,
   "metadata": {},
   "outputs": [
    {
     "data": {
      "text/plain": [
       "array([[0.6112734 , 0.38872662],\n",
       "       [0.5469387 , 0.4530613 ],\n",
       "       [0.4272427 , 0.5727573 ],\n",
       "       [0.4272792 , 0.5727208 ],\n",
       "       [0.6133764 , 0.38662362],\n",
       "       [0.5595109 , 0.44048908],\n",
       "       [0.43077347, 0.5692265 ],\n",
       "       [0.45188707, 0.54811287],\n",
       "       [0.42572072, 0.57427925],\n",
       "       [0.42131472, 0.5786853 ],\n",
       "       [0.42155805, 0.578442  ],\n",
       "       [0.43061522, 0.56938475],\n",
       "       [0.5971134 , 0.40288663],\n",
       "       [0.60667175, 0.39332825],\n",
       "       [0.5113386 , 0.4886614 ],\n",
       "       [0.5856206 , 0.41437948],\n",
       "       [0.58538824, 0.41461176],\n",
       "       [0.42045087, 0.5795492 ],\n",
       "       [0.5906378 , 0.40936226],\n",
       "       [0.45298192, 0.5470181 ],\n",
       "       [0.41914898, 0.580851  ],\n",
       "       [0.4473601 , 0.5526399 ],\n",
       "       [0.4122974 , 0.5877026 ],\n",
       "       [0.6129073 , 0.38709274],\n",
       "       [0.5830572 , 0.4169428 ],\n",
       "       [0.5755006 , 0.4244994 ],\n",
       "       [0.5730792 , 0.42692074],\n",
       "       [0.588386  , 0.411614  ],\n",
       "       [0.4142656 , 0.58573437],\n",
       "       [0.6067475 , 0.39325252],\n",
       "       [0.4189887 , 0.5810113 ],\n",
       "       [0.4149101 , 0.58508986],\n",
       "       [0.60458523, 0.39541477],\n",
       "       [0.6021221 , 0.3978779 ],\n",
       "       [0.6044012 , 0.39559883],\n",
       "       [0.43417054, 0.5658295 ],\n",
       "       [0.600424  , 0.39957604],\n",
       "       [0.6288724 , 0.3711276 ],\n",
       "       [0.63500184, 0.36499816],\n",
       "       [0.62374693, 0.37625304],\n",
       "       [0.56179774, 0.4382023 ],\n",
       "       [0.5804121 , 0.41958794],\n",
       "       [0.43965966, 0.56034034],\n",
       "       [0.6276061 , 0.37239388],\n",
       "       [0.6233865 , 0.3766135 ],\n",
       "       [0.4259575 , 0.5740425 ],\n",
       "       [0.4321197 , 0.5678803 ],\n",
       "       [0.42122355, 0.5787764 ],\n",
       "       [0.6083591 , 0.3916408 ],\n",
       "       [0.44649884, 0.5535012 ],\n",
       "       [0.6032922 , 0.39670777],\n",
       "       [0.42188743, 0.57811254],\n",
       "       [0.5909419 , 0.40905815],\n",
       "       [0.59338236, 0.4066176 ],\n",
       "       [0.5878699 , 0.41213012],\n",
       "       [0.45420286, 0.54579717],\n",
       "       [0.5930374 , 0.40696257],\n",
       "       [0.5472456 , 0.45275435],\n",
       "       [0.5878699 , 0.41213012],\n",
       "       [0.6378365 , 0.36216345],\n",
       "       [0.4552309 , 0.54476917],\n",
       "       [0.5878699 , 0.41213012],\n",
       "       [0.44265002, 0.55735   ],\n",
       "       [0.5755006 , 0.4244994 ],\n",
       "       [0.57811594, 0.42188406],\n",
       "       [0.6190527 , 0.3809473 ],\n",
       "       [0.5544488 , 0.44555122],\n",
       "       [0.42471525, 0.5752848 ],\n",
       "       [0.5974837 , 0.40251634],\n",
       "       [0.59965503, 0.40034494],\n",
       "       [0.5755006 , 0.4244994 ],\n",
       "       [0.4620128 , 0.53798723],\n",
       "       [0.5732246 , 0.42677546],\n",
       "       [0.5801695 , 0.41983053],\n",
       "       [0.61555433, 0.3844457 ],\n",
       "       [0.5804121 , 0.41958794],\n",
       "       [0.57811594, 0.42188406],\n",
       "       [0.5754195 , 0.42458048],\n",
       "       [0.4271927 , 0.5728074 ],\n",
       "       [0.56293374, 0.43706623],\n",
       "       [0.41489506, 0.5851049 ],\n",
       "       [0.5971372 , 0.4028628 ],\n",
       "       [0.43686616, 0.56313384],\n",
       "       [0.57811594, 0.42188406],\n",
       "       [0.5878699 , 0.41213012],\n",
       "       [0.41889644, 0.58110356],\n",
       "       [0.41449726, 0.58550274],\n",
       "       [0.6111964 , 0.38880363],\n",
       "       [0.5779178 , 0.42208222],\n",
       "       [0.5816598 , 0.41834024],\n",
       "       [0.61491317, 0.38508683],\n",
       "       [0.45662442, 0.54337555],\n",
       "       [0.4463353 , 0.5536647 ],\n",
       "       [0.5927328 , 0.40726718],\n",
       "       [0.4314069 , 0.5685931 ],\n",
       "       [0.4227808 , 0.5772191 ],\n",
       "       [0.42840955, 0.5715905 ],\n",
       "       [0.59353185, 0.40646818],\n",
       "       [0.59550065, 0.40449938],\n",
       "       [0.43810716, 0.56189287],\n",
       "       [0.42619434, 0.57380563],\n",
       "       [0.41919604, 0.580804  ],\n",
       "       [0.5951105 , 0.40488955],\n",
       "       [0.4115334 , 0.5884666 ],\n",
       "       [0.41441828, 0.5855817 ],\n",
       "       [0.6004134 , 0.39958665],\n",
       "       [0.5804121 , 0.41958794],\n",
       "       [0.6031736 , 0.3968264 ],\n",
       "       [0.6155576 , 0.3844424 ],\n",
       "       [0.43872648, 0.56127346],\n",
       "       [0.59299433, 0.40700564],\n",
       "       [0.5804121 , 0.41958794],\n",
       "       [0.56261647, 0.43738347],\n",
       "       [0.62499315, 0.37500685],\n",
       "       [0.5754195 , 0.42458048],\n",
       "       [0.4275877 , 0.5724124 ],\n",
       "       [0.59791946, 0.40208054],\n",
       "       [0.4139119 , 0.5860881 ],\n",
       "       [0.59283197, 0.40716803],\n",
       "       [0.6135031 , 0.38649693],\n",
       "       [0.42612398, 0.57387596],\n",
       "       [0.5661205 , 0.43387946],\n",
       "       [0.58829254, 0.41170746],\n",
       "       [0.5804121 , 0.41958794],\n",
       "       [0.43531722, 0.5646828 ],\n",
       "       [0.5878699 , 0.41213012],\n",
       "       [0.5804929 , 0.41950703],\n",
       "       [0.4166524 , 0.5833476 ],\n",
       "       [0.5927328 , 0.40726718],\n",
       "       [0.44271398, 0.5572861 ],\n",
       "       [0.5878699 , 0.41213012],\n",
       "       [0.5927328 , 0.40726718],\n",
       "       [0.5883237 , 0.41167632],\n",
       "       [0.4303778 , 0.5696222 ],\n",
       "       [0.54258233, 0.45741773],\n",
       "       [0.58290225, 0.41709772],\n",
       "       [0.59998626, 0.40001372],\n",
       "       [0.60447395, 0.3955261 ],\n",
       "       [0.5623439 , 0.43765613],\n",
       "       [0.5438511 , 0.4561489 ],\n",
       "       [0.6021221 , 0.3978779 ],\n",
       "       [0.41908097, 0.58091897],\n",
       "       [0.41919604, 0.580804  ],\n",
       "       [0.42969403, 0.570306  ],\n",
       "       [0.5881991 , 0.41180095],\n",
       "       [0.5956506 , 0.40434948],\n",
       "       [0.5998387 , 0.40016136],\n",
       "       [0.5881679 , 0.41183206],\n",
       "       [0.6086912 , 0.39130878],\n",
       "       [0.58290225, 0.41709772],\n",
       "       [0.61075693, 0.38924304],\n",
       "       [0.4287449 , 0.571255  ],\n",
       "       [0.57533836, 0.4246616 ],\n",
       "       [0.42002398, 0.5799761 ],\n",
       "       [0.5730792 , 0.42692074],\n",
       "       [0.5927328 , 0.40726718],\n",
       "       [0.41622016, 0.5837798 ],\n",
       "       [0.5934816 , 0.40651846],\n",
       "       [0.41397706, 0.586023  ],\n",
       "       [0.61996484, 0.3800351 ],\n",
       "       [0.58538824, 0.41461176],\n",
       "       [0.5927328 , 0.40726718],\n",
       "       [0.58578724, 0.41421273],\n",
       "       [0.44262424, 0.5573758 ],\n",
       "       [0.60012865, 0.39987135],\n",
       "       [0.41673887, 0.5832612 ],\n",
       "       [0.4401094 , 0.5598906 ],\n",
       "       [0.5974837 , 0.40251634],\n",
       "       [0.42558816, 0.5744118 ],\n",
       "       [0.5830572 , 0.4169428 ],\n",
       "       [0.63111305, 0.368887  ],\n",
       "       [0.41919604, 0.580804  ],\n",
       "       [0.4171712 , 0.58282876],\n",
       "       [0.4219829 , 0.57801706],\n",
       "       [0.55287796, 0.44712204],\n",
       "       [0.42205682, 0.57794327],\n",
       "       [0.6256113 , 0.37438866],\n",
       "       [0.5805688 , 0.41943127],\n",
       "       [0.60457027, 0.3954297 ]], dtype=float32)"
      ]
     },
     "execution_count": 14,
     "metadata": {},
     "output_type": "execute_result"
    }
   ],
   "source": [
    "y_probs_test"
   ]
  },
  {
   "cell_type": "markdown",
   "metadata": {
    "deletable": false,
    "editable": false,
    "run_control": {
     "frozen": true
    }
   },
   "source": [
    "The *precision* of our model will depend on the cutoff value we choose for these probabilities. If we choose a very high cutoff value (say, `0.9`) and label all leads below the cutoff as \"not-likely buyers\" and all customers above the cutoff as \"likely buyers,\" the precision of our model will be very high - almost everyone who it labels a \"likely buyer\" will actually buy. However, the *recall* of the model will be low - it will only identify a small number of the customers who actually would have made a purchase. Our sales team will be efficient, but their overall productivity will be low because they will only have a few leads to call. "
   ]
  },
  {
   "cell_type": "markdown",
   "metadata": {
    "deletable": false,
    "editable": false,
    "run_control": {
     "frozen": true
    }
   },
   "source": [
    "This problem, then, is similar to the tradeoffs we discussed in our earlier section on the merits of ROC curves. We need to analyze a range of cutoff (threshold) values and assess the tradeoffs in terms of precision and recall that each one entails. We will therefore construct a 'precision-recall curve' using the code below:"
   ]
  },
  {
   "cell_type": "code",
   "execution_count": 15,
   "metadata": {},
   "outputs": [
    {
     "data": {
      "image/png": "[encoded data removed]",
      "text/plain": [
       "<Figure size 432x288 with 1 Axes>"
      ]
     },
     "metadata": {
      "needs_background": "light"
     },
     "output_type": "display_data"
    }
   ],
   "source": [
    "from sklearn.metrics import precision_recall_curve\n",
    "\n",
    "precision, recall, thresh = precision_recall_curve(y_test, y_probs_test[:,1])\n",
    "plt.scatter(recall, precision)\n",
    "plt.xlabel('recall')\n",
    "plt.ylabel('precision')\n",
    "plt.title('purchase prediction')\n",
    "plt.show()"
   ]
  },
  {
   "cell_type": "markdown",
   "metadata": {
    "deletable": false,
    "editable": false,
    "run_control": {
     "frozen": true
    }
   },
   "source": [
    "Notice the following about this graph:\n",
    "\n",
    "* The `precision` value eventually converges to the fraction of `1` values in our dataset - if we classify everyone as a `1` and call every customer, this is the fraction that will end up buying. \n",
    "* The `recall` value converges to `1.0` - if we call everyone, we'll get all the potential buyers, but we'll spend more time on the phone. \n",
    "* There are a few scattered points with very high precision and very low recall. These correspond to high cutoff values, so only a few buyers are identified but our confidence in these buyers is very high. "
   ]
  },
  {
   "cell_type": "markdown",
   "metadata": {
    "deletable": false,
    "editable": false,
    "run_control": {
     "frozen": true
    }
   },
   "source": [
    "Suppose we choose the following point:"
   ]
  },
  {
   "cell_type": "code",
   "execution_count": 16,
   "metadata": {},
   "outputs": [
    {
     "name": "stdout",
     "output_type": "stream",
     "text": [
      "thresh: 0.4382023\n",
      "precision: 0.72\n",
      "recall: 0.75\n"
     ]
    }
   ],
   "source": [
    "point_idx = 80 \n",
    "print(\"thresh:\", thresh[point_idx])\n",
    "print(\"precision:\", precision[point_idx])\n",
    "print(\"recall:\", recall[point_idx])"
   ]
  },
  {
   "cell_type": "markdown",
   "metadata": {
    "deletable": false,
    "editable": false,
    "run_control": {
     "frozen": true
    }
   },
   "source": [
    "If we apply this thresh cutoff value to our model's predictions, we can expect roughly three-quarters of our model's predicted purchasers to actually convert. This will be a much higher hit rate than simply calling everyone on this list - while calling everyone on the list is a better approach if our sales personnel costs are low, prioritizing effectively will increase our returns in many cases. "
   ]
  },
  {
   "cell_type": "markdown",
   "metadata": {
    "deletable": false,
    "editable": false,
    "run_control": {
     "frozen": true
    }
   },
   "source": [
    "<span style=\"color:blue;font-weight:bold\">Exercise</span>: Let's see if there's any more accuracy we can squeeze out of our model. Perform the following tasks:\n",
    "\n",
    "* Construct a model `model_larger` that is identical to the `model_nn` we created above, with the exception of the number of units in the hidden layer, which should be set to `100` rather than `50`. \n",
    "* Your call to `model_larger.compile` to configure your model for training should use the same parameters as we used previously\n",
    "* Train this model on `(X_train_scaled, y_train)`, but run your training for `7` epochs this time \n",
    "* Evaluate your model on `(X_test_scaled, y_test)` - store your result in the variable `evaluation_result` \n",
    "\n",
    "Be careful not to delete the call to `remove_randomness()` that we have included below."
   ]
  },
  {
   "cell_type": "code",
   "execution_count": 23,
   "metadata": {
    "tags": [
     "exercise"
    ]
   },
   "outputs": [
    {
     "name": "stdout",
     "output_type": "stream",
     "text": [
      "Train on 535 samples\n",
      "Epoch 1/7\n",
      "535/535 [==============================] - 0s 776us/sample - loss: 0.7044 - accuracy: 0.5701\n",
      "Epoch 2/7\n",
      "535/535 [==============================] - 0s 156us/sample - loss: 0.6868 - accuracy: 0.5944\n",
      "Epoch 3/7\n",
      "535/535 [==============================] - 0s 42us/sample - loss: 0.6715 - accuracy: 0.6075\n",
      "Epoch 4/7\n",
      "535/535 [==============================] - 0s 149us/sample - loss: 0.6581 - accuracy: 0.6187\n",
      "Epoch 5/7\n",
      "535/535 [==============================] - 0s 151us/sample - loss: 0.6459 - accuracy: 0.6879\n",
      "Epoch 6/7\n",
      "535/535 [==============================] - 0s 42us/sample - loss: 0.6347 - accuracy: 0.7626\n",
      "Epoch 7/7\n",
      "535/535 [==============================] - 0s 154us/sample - loss: 0.6245 - accuracy: 0.7832\n",
      "179/179 [==============================] - 0s 2ms/sample - loss: 0.6278 - accuracy: 0.7654\n"
     ]
    }
   ],
   "source": [
    "remove_randomness()\n",
    "\n",
    "model_larger = tf.keras.Sequential([\n",
    "    keras.layers.Dense(\n",
    "        units=100,\n",
    "        input_shape=(X_train.shape[1],),\n",
    "        activation=\"relu\",\n",
    "        name=\"hidden\"\n",
    "    ),\n",
    "    keras.layers.Dense(\n",
    "        units=2,\n",
    "        activation=\"softmax\",\n",
    "        name=\"output\"\n",
    "    )\n",
    "])\n",
    "\n",
    "model_larger.compile(\n",
    "    loss=\"categorical_crossentropy\",\n",
    "    optimizer=\"sgd\",\n",
    "    metrics=[\"accuracy\"]\n",
    ")\n",
    "\n",
    "history = model_larger.fit(X_train_scaled, keras.utils.to_categorical(y_train), epochs=7)\n",
    "\n",
    "evaluation_result = model_larger.evaluate(X_test_scaled, keras.utils.to_categorical(y_test))"
   ]
  },
  {
   "cell_type": "code",
   "execution_count": 23,
   "metadata": {
    "deletable": false,
    "editable": false,
    "scrolled": true,
    "strategicml": {
     "execution_time": 1584780375461,
     "exercise_id": "eaa22347-032c-4800-8379-c9d42513b542",
     "points": 4
    },
    "tags": [
     "test"
    ]
   },
   "outputs": [
    {
     "data": {
      "text/html": [
       "<div style=\"background-color:#e8fcef\n",
       ";color:#333333;padding:10px;border-style:solid;border-width:2px;border-color:#038c33\">\n",
       "<div style=\"font-weight:bold\">Correct!</div>\n",
       "</div>"
      ],
      "text/plain": [
       "<IPython.core.display.HTML object>"
      ]
     },
     "metadata": {},
     "output_type": "display_data"
    }
   ],
   "source": [
    "check_variable_definition(\"model_larger\")\n",
    "assert str(type(model_larger)) ==  \"<class 'tensorflow.python.keras.engine.sequential.Sequential'>\", \"Your variable <code>my_model</code> does not contain an object of the right type - did you create it using <code>keras.Seqential()</code>?\"\n",
    "assert len(model_larger.layers) == 2, \"Your model does not contain the correct number of layers.\"\n",
    "assert model_larger.layers[0].name == 'hidden', \"Your hidden layer does not have the correct name value.\"\n",
    "assert model_larger.layers[1].name == 'output', \"Your output layer does not have the correct name value.\"\n",
    "assert model_larger.layers[0].units == 100, \"Your hidden layer does not contain the correct number of neurons.\"\n",
    "assert model_larger.layers[1].units == 2, \"Your output layer does not contain the correct number of neurons.\"\n",
    "assert abs(evaluation_result[1]  - 0.76) < 0.01, \"Your accuracy does not match the expected value - check your training process and your call to <code>evaluate</code>\"\n",
    "success()"
   ]
  },
  {
   "cell_type": "markdown",
   "metadata": {
    "deletable": false,
    "editable": false,
    "run_control": {
     "frozen": true
    }
   },
   "source": [
    "Note that the larger model eventually gives a similar accuracy score to the smaller one, but takes slightly longer to train to a similar level of accuracy. More is not always better. "
   ]
  },
  {
   "cell_type": "code",
   "execution_count": 24,
   "metadata": {},
   "outputs": [
    {
     "data": {
      "text/plain": [
       "[0.6277970065617694, 0.76536316]"
      ]
     },
     "execution_count": 24,
     "metadata": {},
     "output_type": "execute_result"
    }
   ],
   "source": [
    "evaluation_result"
   ]
  },
  {
   "cell_type": "code",
   "execution_count": 28,
   "metadata": {},
   "outputs": [
    {
     "data": {
      "image/png": "[encoded data removed]",
      "text/plain": [
       "<Figure size 432x288 with 1 Axes>"
      ]
     },
     "metadata": {
      "needs_background": "light"
     },
     "output_type": "display_data"
    }
   ],
   "source": [
    "y_probs_test = model_larger.predict(X_test_scaled)\n",
    "\n",
    "precision, recall, thresh = precision_recall_curve(y_test, y_probs_test[:,1])\n",
    "plt.scatter(recall, precision)\n",
    "plt.xlim(0,1.1)\n",
    "plt.ylim(0,1.1)\n",
    "plt.xlabel('recall')\n",
    "plt.ylabel('precision')\n",
    "plt.title('purchase prediction')\n",
    "plt.show()"
   ]
  },
  {
   "cell_type": "code",
   "execution_count": null,
   "metadata": {},
   "outputs": [],
   "source": []
  }
 ],
 "metadata": {
  "celltoolbar": null,
  "kernelspec": {
   "display_name": "Python 3",
   "language": "python",
   "name": "python3"
  },
  "language_info": {
   "codemirror_mode": {
    "name": "ipython",
    "version": 3
   },
   "file_extension": ".py",
   "mimetype": "text/x-python",
   "name": "python",
   "nbconvert_exporter": "python",
   "pygments_lexer": "ipython3",
   "version": "3.7.3"
  },
  "strategicml": {
   "lesson_id": "812d7ddc-8afe-444a-b751-8892e323f047",
   "release": true
  }
 },
 "nbformat": 4,
 "nbformat_minor": 2
}
