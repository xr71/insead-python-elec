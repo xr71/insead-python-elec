{
 "cells": [
  {
   "cell_type": "code",
   "execution_count": 2,
   "metadata": {},
   "outputs": [],
   "source": [
    "import sympy as sp\n",
    "import numpy as np"
   ]
  },
  {
   "cell_type": "code",
   "execution_count": 4,
   "metadata": {},
   "outputs": [],
   "source": [
    "A,B,C = sp.symbols(\"A,B,C\")"
   ]
  },
  {
   "cell_type": "code",
   "execution_count": 7,
   "metadata": {},
   "outputs": [
    {
     "output_type": "execute_result",
     "data": {
      "text/plain": "A",
      "text/latex": "$\\displaystyle A$"
     },
     "metadata": {},
     "execution_count": 7
    }
   ],
   "source": [
    "A"
   ]
  },
  {
   "cell_type": "code",
   "execution_count": 8,
   "metadata": {},
   "outputs": [
    {
     "output_type": "execute_result",
     "data": {
      "text/plain": "B",
      "text/latex": "$\\displaystyle B$"
     },
     "metadata": {},
     "execution_count": 8
    }
   ],
   "source": [
    "B"
   ]
  },
  {
   "cell_type": "code",
   "execution_count": 9,
   "metadata": {},
   "outputs": [
    {
     "output_type": "execute_result",
     "data": {
      "text/plain": "C",
      "text/latex": "$\\displaystyle C$"
     },
     "metadata": {},
     "execution_count": 9
    }
   ],
   "source": [
    "C"
   ]
  },
  {
   "cell_type": "code",
   "execution_count": 10,
   "metadata": {},
   "outputs": [
    {
     "output_type": "execute_result",
     "data": {
      "text/plain": "Implies(A, ~B)",
      "text/latex": "$\\displaystyle A \\Rightarrow \\neg B$"
     },
     "metadata": {},
     "execution_count": 10
    }
   ],
   "source": [
    "A >> ~B"
   ]
  },
  {
   "cell_type": "code",
   "execution_count": 11,
   "metadata": {},
   "outputs": [
    {
     "output_type": "execute_result",
     "data": {
      "text/plain": "(Implies(A, C)) & (Implies(C, A))",
      "text/latex": "$\\displaystyle \\left(A \\Rightarrow C\\right) \\wedge \\left(C \\Rightarrow A\\right)$"
     },
     "metadata": {},
     "execution_count": 11
    }
   ],
   "source": [
    "A >> C & C >> A"
   ]
  },
  {
   "cell_type": "code",
   "execution_count": 14,
   "metadata": {},
   "outputs": [],
   "source": [
    "from sympy.logic.inference import satisfiable"
   ]
  },
  {
   "cell_type": "code",
   "execution_count": 15,
   "metadata": {},
   "outputs": [
    {
     "output_type": "execute_result",
     "data": {
      "text/plain": "{A: True, C: True, B: False}"
     },
     "metadata": {},
     "execution_count": 15
    }
   ],
   "source": [
    "satisfiable((A>>~B) & (A >> C) & (C >> A) & (C))"
   ]
  },
  {
   "cell_type": "code",
   "execution_count": 21,
   "metadata": {},
   "outputs": [
    {
     "output_type": "stream",
     "name": "stdout",
     "text": "{A: False, C: False, B: False}\n{A: True, C: True, B: False}\n"
    }
   ],
   "source": [
    "for outcome in satisfiable((A>>~B) & (A >> C) & (C >> A) & ~B, all_models=True): print(outcome)"
   ]
  },
  {
   "cell_type": "code",
   "execution_count": 22,
   "metadata": {},
   "outputs": [
    {
     "output_type": "stream",
     "name": "stdout",
     "text": "{A: False, C: False, B: True}\n"
    }
   ],
   "source": [
    "for outcome in satisfiable((A>>~B) & (A >> C) & (C >> A) & B, all_models=True): print(outcome)"
   ]
  },
  {
   "cell_type": "code",
   "execution_count": 24,
   "metadata": {},
   "outputs": [
    {
     "output_type": "stream",
     "name": "stdout",
     "text": "{A: False, C: False, B: True}\n{A: True, C: True, B: False}\n"
    }
   ],
   "source": [
    "for outcome in satisfiable((A>>~B) & (A >> C) & (C >> A) & (A | B | C), all_models=True): print(outcome)"
   ]
  },
  {
   "cell_type": "code",
   "execution_count": 26,
   "metadata": {},
   "outputs": [
    {
     "output_type": "execute_result",
     "data": {
      "text/plain": "(Implies(A, C)) & (Implies(C, A)) & (Implies(A, ~B)) & (A | B | C)",
      "text/latex": "$\\displaystyle \\left(A \\Rightarrow C\\right) \\wedge \\left(A \\Rightarrow \\neg B\\right) \\wedge \\left(C \\Rightarrow A\\right) \\wedge \\left(A \\vee B \\vee C\\right)$"
     },
     "metadata": {},
     "execution_count": 26
    }
   ],
   "source": [
    "(A>>~B) & (A >> C) & (C >> A) & (A | B | C)"
   ]
  },
  {
   "cell_type": "code",
   "execution_count": null,
   "metadata": {},
   "outputs": [],
   "source": []
  }
 ],
 "metadata": {
  "language_info": {
   "codemirror_mode": {
    "name": "ipython",
    "version": 3
   },
   "file_extension": ".py",
   "mimetype": "text/x-python",
   "name": "python",
   "nbconvert_exporter": "python",
   "pygments_lexer": "ipython3",
   "version": "3.7.4-final"
  },
  "orig_nbformat": 2,
  "kernelspec": {
   "name": "python3",
   "display_name": "Python 3"
  }
 },
 "nbformat": 4,
 "nbformat_minor": 2
}