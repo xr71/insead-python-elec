{
 "cells": [
  {
   "cell_type": "markdown",
   "metadata": {
    "deletable": false,
    "editable": false,
    "run_control": {
     "frozen": true
    }
   },
   "source": [
    "## Strings\n",
    "\n",
    "While our previous lessons have focused on numbers and arithmetic, the python interpreter can also understand and manipulate **strings** of characters, such as `\"australia\"` or `\"foo12345\"`. What, precisely, is a string? Any text that we type inside of quotation marks - either single quotes (`'`) or double quotes (`\"`) - is considered by Python to be string. For example, `\"dogs are cute\"` is a string:"
   ]
  },
  {
   "cell_type": "code",
   "execution_count": 1,
   "metadata": {},
   "outputs": [
    {
     "data": {
      "text/plain": [
       "'dogs are cute'"
      ]
     },
     "execution_count": 1,
     "metadata": {},
     "output_type": "execute_result"
    }
   ],
   "source": [
    "\"dogs are cute\""
   ]
  },
  {
   "cell_type": "markdown",
   "metadata": {
    "deletable": false,
    "editable": false,
    "run_control": {
     "frozen": true
    }
   },
   "source": [
    "Remember that variables are boxes into which we store values. Variables can hold any type of value - we have previously only used them to store numbers, but they can just as easily store strings. For example, to assign the string `\"foo\"` to the variable `my_string`, use the following code:"
   ]
  },
  {
   "cell_type": "code",
   "execution_count": 2,
   "metadata": {},
   "outputs": [],
   "source": [
    "my_string = \"foo\""
   ]
  },
  {
   "cell_type": "markdown",
   "metadata": {
    "deletable": false,
    "editable": false,
    "run_control": {
     "frozen": true
    }
   },
   "source": [
    "We can see that the assignment stored the string value inside the variable by running the cell below:"
   ]
  },
  {
   "cell_type": "code",
   "execution_count": 3,
   "metadata": {},
   "outputs": [
    {
     "data": {
      "text/plain": [
       "'foo'"
      ]
     },
     "execution_count": 3,
     "metadata": {},
     "output_type": "execute_result"
    }
   ],
   "source": [
    "my_string"
   ]
  },
  {
   "cell_type": "markdown",
   "metadata": {
    "deletable": false,
    "editable": false,
    "run_control": {
     "frozen": true
    }
   },
   "source": [
    "Note that if we forget to enclose our string in quotes, or accidentally forget one of the `\"` characters (the example below has only one `\"`), we will get an error - watch out for this!"
   ]
  },
  {
   "cell_type": "code",
   "execution_count": 4,
   "metadata": {
    "tags": [
     "raises-exception"
    ]
   },
   "outputs": [
    {
     "data": {
      "text/html": [
       "<div style=\"background-color:#FEFAF3\n",
       ";color:#333333;padding:10px;border-style:solid;border-width:2px;border-color:#FFC47D\">\n",
       "  <div style=\"margin-bottom:10px;font-weight:bold\">Exception: <code>SyntaxError</code></div>\n",
       "  <div>Running your code produced a <code>SyntaxError</code> exception.\n",
       "This means that something you typed broke one of Python's rules.<br/>\n",
       "<br/>\n",
       "Please check for the following common mistakes that cause <code>SyntaxError</code> exceptions:</br>\n",
       "<ol>\n",
       "    <li>Are there any opening parentheses <code>(</code> without a matching closing parenthesis <code>)</code> or vice versa?</li>\n",
       "    <li>Are there any dangling umatched quotation marks? (<code>\"</code> or <code>'</code>)\n",
       "</ol>\n",
       "\n",
       "Python provides the full error message below to help you diagnose what is wrong with your code.\n",
       "Typing the below error message into a search engine may be helpful.</div>\n",
       "</div>"
      ],
      "text/plain": [
       "<IPython.core.display.HTML object>"
      ]
     },
     "metadata": {},
     "output_type": "display_data"
    },
    {
     "ename": "SyntaxError",
     "evalue": "EOL while scanning string literal (<ipython-input-4-8227d4ff6e3a>, line 1)",
     "output_type": "error",
     "traceback": [
      "\u001b[0;36m  File \u001b[0;32m\"<ipython-input-4-8227d4ff6e3a>\"\u001b[0;36m, line \u001b[0;32m1\u001b[0m\n\u001b[0;31m    incorrect_string = \"missing a quote at the end\u001b[0m\n\u001b[0m                                                  ^\u001b[0m\n\u001b[0;31mSyntaxError\u001b[0m\u001b[0;31m:\u001b[0m EOL while scanning string literal\n"
     ]
    }
   ],
   "source": [
    "incorrect_string = \"missing a quote at the end"
   ]
  },
  {
   "cell_type": "markdown",
   "metadata": {
    "deletable": false,
    "editable": false,
    "run_control": {
     "frozen": true
    }
   },
   "source": [
    "## Manipulating Strings"
   ]
  },
  {
   "cell_type": "markdown",
   "metadata": {
    "deletable": false,
    "editable": false,
    "run_control": {
     "frozen": true
    }
   },
   "source": [
    "In the previous lessons, we learned many different ways that Python can handle numbers - we can add them together, store them in variables, pass them as arguments to functions, etc. We can also do all of these things - and more! - with strings. For example, we can combine two strings with the `+` operator:"
   ]
  },
  {
   "cell_type": "code",
   "execution_count": 5,
   "metadata": {},
   "outputs": [
    {
     "data": {
      "text/plain": [
       "'foobar'"
      ]
     },
     "execution_count": 5,
     "metadata": {},
     "output_type": "execute_result"
    }
   ],
   "source": [
    "\"foo\" + \"bar\""
   ]
  },
  {
   "cell_type": "markdown",
   "metadata": {
    "deletable": false,
    "editable": false,
    "run_control": {
     "frozen": true
    }
   },
   "source": [
    "Just as we did with arithmetic expressions in the previous lessons, we can store the results of our string expressions into variables:"
   ]
  },
  {
   "cell_type": "code",
   "execution_count": 6,
   "metadata": {},
   "outputs": [
    {
     "data": {
      "text/plain": [
       "'foobar'"
      ]
     },
     "execution_count": 6,
     "metadata": {},
     "output_type": "execute_result"
    }
   ],
   "source": [
    "combined_string = \"foo\" + \"bar\"\n",
    "combined_string"
   ]
  },
  {
   "cell_type": "markdown",
   "metadata": {
    "deletable": false,
    "editable": false,
    "run_control": {
     "frozen": true
    }
   },
   "source": [
    "We can then use these variables in new string expressions, just as we did with our variables that contained numbers:"
   ]
  },
  {
   "cell_type": "code",
   "execution_count": 7,
   "metadata": {
    "scrolled": true
   },
   "outputs": [
    {
     "data": {
      "text/plain": [
       "'foobarbaz'"
      ]
     },
     "execution_count": 7,
     "metadata": {},
     "output_type": "execute_result"
    }
   ],
   "source": [
    "even_longer_string = combined_string + \"baz\"\n",
    "even_longer_string"
   ]
  },
  {
   "cell_type": "markdown",
   "metadata": {
    "deletable": false,
    "editable": false,
    "run_control": {
     "frozen": true
    }
   },
   "source": [
    "We can combine as many strings at once as we wish - for example, in the cell below we combine three strings:"
   ]
  },
  {
   "cell_type": "code",
   "execution_count": 8,
   "metadata": {},
   "outputs": [
    {
     "data": {
      "text/plain": [
       "'redgreenblue'"
      ]
     },
     "execution_count": 8,
     "metadata": {},
     "output_type": "execute_result"
    }
   ],
   "source": [
    "string_one = \"red\"\n",
    "string_two = \"green\"\n",
    "string_three = \"blue\"\n",
    "result = string_one + string_two + string_three\n",
    "result"
   ]
  },
  {
   "cell_type": "markdown",
   "metadata": {
    "deletable": false,
    "editable": false,
    "run_control": {
     "frozen": true
    }
   },
   "source": [
    "The above result is rather ugly - we can clean it up by adding in some spaces (`\" \"`) to our combination:"
   ]
  },
  {
   "cell_type": "code",
   "execution_count": 9,
   "metadata": {},
   "outputs": [
    {
     "data": {
      "text/plain": [
       "'red green blue'"
      ]
     },
     "execution_count": 9,
     "metadata": {},
     "output_type": "execute_result"
    }
   ],
   "source": [
    "result_with_spaces = string_one + \" \" + string_two + \" \" + string_three\n",
    "result_with_spaces"
   ]
  },
  {
   "cell_type": "markdown",
   "metadata": {
    "deletable": false,
    "editable": false,
    "run_control": {
     "frozen": true
    }
   },
   "source": [
    "<span style=\"color:blue;font-weight:bold\">Exercise</span>: Define a variable named `first` and assign it the value `\"one\"`, then define a variable named `second` and assign it the value `\"two\"`. Finally, define a variable named `all_together` that is the combination of `first` followed by `second`, but with a space in between - use the `+` operator:"
   ]
  },
  {
   "cell_type": "code",
   "execution_count": 10,
   "metadata": {
    "tags": [
     "exercise"
    ]
   },
   "outputs": [],
   "source": [
    "first = \"one\"\n",
    "second = \"two\"\n",
    "all_together = first+\" \"+second"
   ]
  },
  {
   "cell_type": "code",
   "execution_count": 10,
   "metadata": {
    "deletable": false,
    "editable": false,
    "strategicml": {
     "execution_time": 1584757060789,
     "exercise_id": "5a80590a-7c76-43c4-9503-c81d2ebee2d7",
     "points": 1
    },
    "tags": [
     "test"
    ]
   },
   "outputs": [
    {
     "data": {
      "text/html": [
       "<div style=\"background-color:#e8fcef\n",
       ";color:#333333;padding:10px;border-style:solid;border-width:2px;border-color:#038c33\">\n",
       "<div style=\"font-weight:bold\">Correct!</div>\n",
       "</div>"
      ],
      "text/plain": [
       "<IPython.core.display.HTML object>"
      ]
     },
     "metadata": {},
     "output_type": "display_data"
    }
   ],
   "source": [
    "check_variable_definition(\"first\", \"second\", \"all_together\")\n",
    "assert first == \"one\", \"Did you set the value of the variable <code>first</code> to <code>\\\"one\\\"</code> as directed?\"\n",
    "assert second == \"two\", \"Did you set the value of the variable <code>second</code> to <code>\\\"two\\\"</code> as directed?\"\n",
    "assert \" \" in all_together, \"Did you place a space (represented by the string <code>\\\" \\\"</code>) in between <code>first</code> and <code>second</code> when you defined the variable <code>all_together</code>?\"    \n",
    "assert all_together == \"one two\", \"Did you define <code>all_together</code> as directed above using the <code>+</code> operator?\"\n",
    "success()"
   ]
  },
  {
   "cell_type": "markdown",
   "metadata": {
    "deletable": false,
    "editable": false,
    "run_control": {
     "frozen": true
    }
   },
   "source": [
    "### Using Strings with Functions\n",
    "\n",
    "In our lesson about functions, we learned that the Python interpreter knows many built-in tricks for manipulating numbers, such as rounding them with the `round` function. We will now see that Python also contains many other functions that can manipulate strings. For example, Python can tell us the number of letters in a string (which we will call the *length* of a string) using the built-in `len` function:"
   ]
  },
  {
   "cell_type": "code",
   "execution_count": 11,
   "metadata": {},
   "outputs": [
    {
     "data": {
      "text/plain": [
       "3"
      ]
     },
     "execution_count": 11,
     "metadata": {},
     "output_type": "execute_result"
    }
   ],
   "source": [
    "len(\"foo\")"
   ]
  },
  {
   "cell_type": "markdown",
   "metadata": {
    "deletable": false,
    "editable": false,
    "run_control": {
     "frozen": true
    }
   },
   "source": [
    "Similarly, we can apply the `len` function to get the length of a string that is stored in a variable:"
   ]
  },
  {
   "cell_type": "code",
   "execution_count": 12,
   "metadata": {},
   "outputs": [
    {
     "data": {
      "text/plain": [
       "12"
      ]
     },
     "execution_count": 12,
     "metadata": {},
     "output_type": "execute_result"
    }
   ],
   "source": [
    "another_string = \"hello, world\"\n",
    "len(another_string)"
   ]
  },
  {
   "cell_type": "markdown",
   "metadata": {
    "deletable": false,
    "editable": false,
    "run_control": {
     "frozen": true
    }
   },
   "source": [
    "The most important string-related function is the `print` function, which allows us to display arbitrary messages on screen. Until now, when we wanted to show a value on the screen, we have relied on the fact that the Jupyter notebook always displays the value of the last statement that we type in. However, this does not allow us to print multiple messages - notice how the code below fails, only showing one message in the output when we would like to see two:"
   ]
  },
  {
   "cell_type": "code",
   "execution_count": 13,
   "metadata": {},
   "outputs": [
    {
     "data": {
      "text/plain": [
       "'this will show up'"
      ]
     },
     "execution_count": 13,
     "metadata": {},
     "output_type": "execute_result"
    }
   ],
   "source": [
    "\"this will not show up\"\n",
    "\"this will show up\""
   ]
  },
  {
   "cell_type": "markdown",
   "metadata": {
    "deletable": false,
    "editable": false,
    "run_control": {
     "frozen": true
    }
   },
   "source": [
    "We can circumvent this problem by using the `print(...)` function, which will print as many lines of text\n",
    "as we wish as long as we call it multiple times:"
   ]
  },
  {
   "cell_type": "code",
   "execution_count": 14,
   "metadata": {},
   "outputs": [
    {
     "name": "stdout",
     "output_type": "stream",
     "text": [
      "this string will be printed\n",
      "and so will this one\n"
     ]
    }
   ],
   "source": [
    "print(\"this string will be printed\")\n",
    "print(\"and so will this one\")"
   ]
  },
  {
   "cell_type": "markdown",
   "metadata": {
    "deletable": false,
    "editable": false,
    "run_control": {
     "frozen": true
    }
   },
   "source": [
    "We can pass any number of arguments to the `print` function:"
   ]
  },
  {
   "cell_type": "code",
   "execution_count": 15,
   "metadata": {},
   "outputs": [
    {
     "name": "stdout",
     "output_type": "stream",
     "text": [
      "this string will be printed and so will this one\n"
     ]
    }
   ],
   "source": [
    "print(\"this string will be printed\", \"and so will this one\")"
   ]
  },
  {
   "cell_type": "markdown",
   "metadata": {
    "deletable": false,
    "editable": false,
    "run_control": {
     "frozen": true
    }
   },
   "source": [
    "Note that the print function automatically adds a space between its arguments."
   ]
  },
  {
   "cell_type": "markdown",
   "metadata": {
    "deletable": false,
    "editable": false,
    "run_control": {
     "frozen": true
    }
   },
   "source": [
    "We can also pass variables to the print function:"
   ]
  },
  {
   "cell_type": "code",
   "execution_count": 16,
   "metadata": {},
   "outputs": [
    {
     "name": "stdout",
     "output_type": "stream",
     "text": [
      "Your account balance is: 50\n"
     ]
    }
   ],
   "source": [
    "account_balance = 50\n",
    "print(\"Your account balance is:\", account_balance)"
   ]
  },
  {
   "cell_type": "markdown",
   "metadata": {
    "deletable": false,
    "editable": false,
    "run_control": {
     "frozen": true
    }
   },
   "source": [
    "<span style=\"color:blue;font-weight:bold\">Exercise</span>:\n",
    " Use the `len` function to find the length of the string `\"isaac newton\"`. Store this result in a variable named `length_of_string`, then use the `print` function to display the message `the length of the string is: `, followed by the value of `length_of_string`. Hint: the final output of your code should be `the length of the string is: 12`"
   ]
  },
  {
   "cell_type": "code",
   "execution_count": 26,
   "metadata": {
    "tags": [
     "exercise"
    ]
   },
   "outputs": [
    {
     "name": "stdout",
     "output_type": "stream",
     "text": [
      "the length of the string is: 12\n"
     ]
    }
   ],
   "source": [
    "length_of_string = len(\"issac newton\")\n",
    "\n",
    "print(\"the length of the string is:\", length_of_string)"
   ]
  },
  {
   "cell_type": "code",
   "execution_count": 26,
   "metadata": {
    "deletable": false,
    "editable": false,
    "strategicml": {
     "execution_time": 1584757167151,
     "exercise_id": "9379307a-b460-416e-a7f7-9ab80e2c6147",
     "points": 1
    },
    "tags": [
     "test"
    ]
   },
   "outputs": [
    {
     "data": {
      "text/html": [
       "<div style=\"background-color:#e8fcef\n",
       ";color:#333333;padding:10px;border-style:solid;border-width:2px;border-color:#038c33\">\n",
       "<div style=\"font-weight:bold\">Correct!</div>\n",
       "</div>"
      ],
      "text/plain": [
       "<IPython.core.display.HTML object>"
      ]
     },
     "metadata": {},
     "output_type": "display_data"
    }
   ],
   "source": [
    "check_variable_definition(\"length_of_string\")\n",
    "assert length_of_string == 12, \"Did you set the variable <code>length_of_string</code> to the correct value using the <code>len</code> function?\"\n",
    "last_line = get_sanitized_input().splitlines()[-1].strip()\n",
    "@mock.patch('builtins.print')\n",
    "def check_print_args(print_mocked):\n",
    "    exec(In[-1])\n",
    "    try:\\\n",
    "        print_mocked.assert_called_with(\"the length of the string is:\", 12)\n",
    "    except AssertionError:\n",
    "        raise ExerciseError(\"Did you call <code>print</code> with the correct set of two arguments?\")\n",
    "check_print_args()\n",
    "success()"
   ]
  },
  {
   "cell_type": "markdown",
   "metadata": {
    "deletable": false,
    "editable": false,
    "run_control": {
     "frozen": true
    }
   },
   "source": [
    "### Type Conversion: Numbers to Strings and Strings to Numbers\n",
    "\n",
    "In some circumstances, we may wish to use the `+` operator to combine a string with a number, rather than a string with another string. For example, suppose we have a variable `score` in which we have been storing a player's score in a video game, and we wish to use the `+` operator to construct a message containing this score. As you can see if you run the code below, this results in an error: "
   ]
  },
  {
   "cell_type": "code",
   "execution_count": 27,
   "metadata": {
    "tags": [
     "raises-exception"
    ]
   },
   "outputs": [
    {
     "data": {
      "text/html": [
       "<div style=\"background-color:#FEFAF3\n",
       ";color:#333333;padding:10px;border-style:solid;border-width:2px;border-color:#FFC47D\">\n",
       "  <div style=\"margin-bottom:10px;font-weight:bold\">Exception</div>\n",
       "  <div>Running your code produced the exception shown below.\n",
       "Python provides the full error message below to help you diagnose what is wrong with your code.\n",
       "Typing the below error message into a search engine may be helpful.</div>\n",
       "</div>"
      ],
      "text/plain": [
       "<IPython.core.display.HTML object>"
      ]
     },
     "metadata": {},
     "output_type": "display_data"
    },
    {
     "ename": "TypeError",
     "evalue": "can only concatenate str (not \"int\") to str",
     "output_type": "error",
     "traceback": [
      "\u001b[0;31m---------------------------------------------------------------------------\u001b[0m",
      "\u001b[0;31mTypeError\u001b[0m                                 Traceback (most recent call last)",
      "\u001b[0;32m<ipython-input-27-5401904458d6>\u001b[0m in \u001b[0;36m<module>\u001b[0;34m\u001b[0m\n\u001b[1;32m      1\u001b[0m \u001b[0mscore\u001b[0m \u001b[0;34m=\u001b[0m \u001b[0;36m3\u001b[0m\u001b[0;34m\u001b[0m\u001b[0;34m\u001b[0m\u001b[0m\n\u001b[0;32m----> 2\u001b[0;31m \u001b[0mmessage\u001b[0m \u001b[0;34m=\u001b[0m \u001b[0;34m\"your score is: \"\u001b[0m \u001b[0;34m+\u001b[0m \u001b[0mscore\u001b[0m\u001b[0;34m\u001b[0m\u001b[0;34m\u001b[0m\u001b[0m\n\u001b[0m",
      "\u001b[0;31mTypeError\u001b[0m: can only concatenate str (not \"int\") to str"
     ]
    }
   ],
   "source": [
    "score = 3\n",
    "message = \"your score is: \" + score"
   ]
  },
  {
   "cell_type": "markdown",
   "metadata": {
    "deletable": false,
    "editable": false,
    "run_control": {
     "frozen": true
    }
   },
   "source": [
    "As you can see from the error above, we can use `+` to add two numbers, or to combine two strings, but we cannot mix these two things because they are values with different **types**. Every value in Python has a **type**, which can be viewed using the `type` function:"
   ]
  },
  {
   "cell_type": "code",
   "execution_count": 28,
   "metadata": {},
   "outputs": [
    {
     "name": "stdout",
     "output_type": "stream",
     "text": [
      "<class 'int'>\n",
      "<class 'str'>\n"
     ]
    }
   ],
   "source": [
    "type_one = type(3)\n",
    "type_two = type(\"foo\")\n",
    "print(type_one)\n",
    "print(type_two)"
   ]
  },
  {
   "cell_type": "markdown",
   "metadata": {
    "deletable": false,
    "editable": false,
    "run_control": {
     "frozen": true
    }
   },
   "source": [
    "Do not worry about the specific meaning of the output printed above - just note that the types printed are different. Whenever we try to use incompatible types together, we will get a `TypeError`. Therefore, when you see a `TypeError`, look for this type of mistake in your code. "
   ]
  },
  {
   "cell_type": "markdown",
   "metadata": {
    "deletable": false,
    "editable": false,
    "run_control": {
     "frozen": true
    }
   },
   "source": [
    "In order to incorporate our numerical score value into our message, we must use the `str` function to convert our number to the equivalent string: "
   ]
  },
  {
   "cell_type": "code",
   "execution_count": 29,
   "metadata": {},
   "outputs": [
    {
     "data": {
      "text/plain": [
       "'3'"
      ]
     },
     "execution_count": 29,
     "metadata": {},
     "output_type": "execute_result"
    }
   ],
   "source": [
    "str(score)"
   ]
  },
  {
   "cell_type": "markdown",
   "metadata": {
    "deletable": false,
    "editable": false,
    "run_control": {
     "frozen": true
    }
   },
   "source": [
    "The function call above enclosed our number in quotes and turned it into a string; we can now combine it with another string to produce a message:"
   ]
  },
  {
   "cell_type": "code",
   "execution_count": 30,
   "metadata": {},
   "outputs": [
    {
     "data": {
      "text/plain": [
       "'your score is: 3'"
      ]
     },
     "execution_count": 30,
     "metadata": {},
     "output_type": "execute_result"
    }
   ],
   "source": [
    "message = \"your score is: \" + str(score)\n",
    "message"
   ]
  },
  {
   "cell_type": "markdown",
   "metadata": {
    "deletable": false,
    "editable": false,
    "run_control": {
     "frozen": true
    }
   },
   "source": [
    "Let's now consider the reverse process - suppose we have a numerical string like `\"8\"` and we want to see the result of adding `3` to this numerical value. We are not allowed to use string values in arithmetic expressions with numbers (again, incompatible types), so the following code will fail:"
   ]
  },
  {
   "cell_type": "code",
   "execution_count": 31,
   "metadata": {
    "tags": [
     "raises-exception"
    ]
   },
   "outputs": [
    {
     "data": {
      "text/html": [
       "<div style=\"background-color:#FEFAF3\n",
       ";color:#333333;padding:10px;border-style:solid;border-width:2px;border-color:#FFC47D\">\n",
       "  <div style=\"margin-bottom:10px;font-weight:bold\">Exception</div>\n",
       "  <div>Running your code produced the exception shown below.\n",
       "Python provides the full error message below to help you diagnose what is wrong with your code.\n",
       "Typing the below error message into a search engine may be helpful.</div>\n",
       "</div>"
      ],
      "text/plain": [
       "<IPython.core.display.HTML object>"
      ]
     },
     "metadata": {},
     "output_type": "display_data"
    },
    {
     "ename": "TypeError",
     "evalue": "unsupported operand type(s) for +: 'int' and 'str'",
     "output_type": "error",
     "traceback": [
      "\u001b[0;31m---------------------------------------------------------------------------\u001b[0m",
      "\u001b[0;31mTypeError\u001b[0m                                 Traceback (most recent call last)",
      "\u001b[0;32m<ipython-input-31-d67c217366e5>\u001b[0m in \u001b[0;36m<module>\u001b[0;34m\u001b[0m\n\u001b[1;32m      1\u001b[0m \u001b[0mnumerical_string_value\u001b[0m \u001b[0;34m=\u001b[0m \u001b[0;34m\"8\"\u001b[0m\u001b[0;34m\u001b[0m\u001b[0;34m\u001b[0m\u001b[0m\n\u001b[0;32m----> 2\u001b[0;31m \u001b[0;36m3\u001b[0m \u001b[0;34m+\u001b[0m \u001b[0mnumerical_string_value\u001b[0m\u001b[0;34m\u001b[0m\u001b[0;34m\u001b[0m\u001b[0m\n\u001b[0m",
      "\u001b[0;31mTypeError\u001b[0m: unsupported operand type(s) for +: 'int' and 'str'"
     ]
    }
   ],
   "source": [
    "numerical_string_value = \"8\"\n",
    "3 + numerical_string_value"
   ]
  },
  {
   "cell_type": "markdown",
   "metadata": {
    "deletable": false,
    "editable": false,
    "run_control": {
     "frozen": true
    }
   },
   "source": [
    "We can fix this by using the `int` function to convert our string into an integer number:"
   ]
  },
  {
   "cell_type": "code",
   "execution_count": 32,
   "metadata": {
    "scrolled": true
   },
   "outputs": [
    {
     "data": {
      "text/plain": [
       "11"
      ]
     },
     "execution_count": 32,
     "metadata": {},
     "output_type": "execute_result"
    }
   ],
   "source": [
    "3 + int(numerical_string_value)"
   ]
  },
  {
   "cell_type": "markdown",
   "metadata": {
    "deletable": false,
    "editable": false,
    "run_control": {
     "frozen": true
    }
   },
   "source": [
    "<span style=\"color:blue;font-weight:bold\">Exercise</span>: Define a variable named `var_as_string` and assign it the string value of `\"12\"` - note the quotation marks! Convert it into an integer using the `int` function, then multiply it `3` and assign the result to a variable named `my_int`. Finally, convert the value of `my_int` back into a string and assign the resulting value to the variable `final_result`. "
   ]
  },
  {
   "cell_type": "code",
   "execution_count": 33,
   "metadata": {
    "tags": [
     "exercise"
    ]
   },
   "outputs": [],
   "source": [
    "var_as_string = \"12\"\n",
    "my_int = 3 * int(var_as_string)\n",
    "\n",
    "final_result = str(my_int)"
   ]
  },
  {
   "cell_type": "code",
   "execution_count": 33,
   "metadata": {
    "deletable": false,
    "editable": false,
    "scrolled": true,
    "strategicml": {
     "execution_time": 1584757214752,
     "exercise_id": "a6b43608-64c6-46ff-86bc-58e67f065aa5",
     "points": 1
    },
    "tags": [
     "test"
    ]
   },
   "outputs": [
    {
     "data": {
      "text/html": [
       "<div style=\"background-color:#e8fcef\n",
       ";color:#333333;padding:10px;border-style:solid;border-width:2px;border-color:#038c33\">\n",
       "<div style=\"font-weight:bold\">Correct!</div>\n",
       "</div>"
      ],
      "text/plain": [
       "<IPython.core.display.HTML object>"
      ]
     },
     "metadata": {},
     "output_type": "display_data"
    }
   ],
   "source": [
    "check_variable_definition(\"var_as_string\", \"my_int\", \"final_result\")\n",
    "assert var_as_string == \"12\", \"Did you set <code>var_as_string</code> to the correct value of <code>12</code>?\"\n",
    "assert my_int == 36, \"Did you compute <code>my_int</code> correctly by applying the <code>int</code> function to <code>var_as_string</code> and then multiplying by <code>3</code>?\"\n",
    "assert final_result == \"36\", \"Did you compute <code>final_result</code> correctly by applying the <code>str</code> function to <code>my_int</code>?\"\n",
    "success()"
   ]
  },
  {
   "cell_type": "markdown",
   "metadata": {
    "deletable": false,
    "editable": false,
    "run_control": {
     "frozen": true
    }
   },
   "source": [
    "### Handling Quotation Marks\n",
    "\n",
    "Since quotation marks (`\"` or `'`) are what define our strings, we need to be extra careful when we wish to include quotation marks *inside* of our strings. For example, if we wish to render the phrase `My friend said \"meet me at the mall\"` as a string, then we need to *escape* the quotation marks inside the string by preceding them with a backslash (`\\`) character, as shown below:"
   ]
  },
  {
   "cell_type": "code",
   "execution_count": 34,
   "metadata": {},
   "outputs": [
    {
     "data": {
      "text/plain": [
       "'my friend said \"meet me at the mall\"'"
      ]
     },
     "execution_count": 34,
     "metadata": {},
     "output_type": "execute_result"
    }
   ],
   "source": [
    "escaped_quotes = \"my friend said \\\"meet me at the mall\\\"\"\n",
    "escaped_quotes"
   ]
  },
  {
   "cell_type": "markdown",
   "metadata": {
    "deletable": false,
    "editable": false,
    "run_control": {
     "frozen": true
    }
   },
   "source": [
    "This use of the `\\` character as an *escape character* is only necessary if the inner and outer quotation marks are of the same type - both single quotes, or both double quotes. For example, the following string does not require the use of `\\`:"
   ]
  },
  {
   "cell_type": "code",
   "execution_count": 35,
   "metadata": {},
   "outputs": [
    {
     "data": {
      "text/plain": [
       "'my friend said \"meet me at the mall\"'"
      ]
     },
     "execution_count": 35,
     "metadata": {},
     "output_type": "execute_result"
    }
   ],
   "source": [
    "mixed_quotes = 'my friend said \"meet me at the mall\"'\n",
    "mixed_quotes"
   ]
  },
  {
   "cell_type": "markdown",
   "metadata": {
    "deletable": false,
    "editable": false,
    "run_control": {
     "frozen": true
    }
   },
   "source": [
    "Python allows you to use either single or double quotes to define your strings - in this course, we will stick to double quotes."
   ]
  },
  {
   "cell_type": "markdown",
   "metadata": {
    "deletable": false,
    "editable": false,
    "run_control": {
     "frozen": true
    }
   },
   "source": [
    "<span style=\"color:blue;font-weight:bold\">Exercise</span>: Use the `print` function to print the text `this has quotes: \"these words are inside quotes\"` to the screen. If you get a `SyntaxError`, check that you have used the techniques discussed above to appropriately escape your quotes. "
   ]
  },
  {
   "cell_type": "code",
   "execution_count": 36,
   "metadata": {
    "tags": [
     "exercise"
    ]
   },
   "outputs": [
    {
     "name": "stdout",
     "output_type": "stream",
     "text": [
      "this has quotes \"these words are inside quotes\"\n"
     ]
    }
   ],
   "source": [
    "print(\"this has quotes \\\"these words are inside quotes\\\"\")"
   ]
  },
  {
   "cell_type": "code",
   "execution_count": 36,
   "metadata": {
    "deletable": false,
    "editable": false,
    "strategicml": {
     "execution_time": 1584757240692,
     "exercise_id": "42472569-16d0-4eee-aae0-2b24dba54603",
     "points": 1
    },
    "tags": [
     "test"
    ]
   },
   "outputs": [
    {
     "data": {
      "text/html": [
       "<div style=\"background-color:#e8fcef\n",
       ";color:#333333;padding:10px;border-style:solid;border-width:2px;border-color:#038c33\">\n",
       "<div style=\"font-weight:bold\">Correct!</div>\n",
       "</div>"
      ],
      "text/plain": [
       "<IPython.core.display.HTML object>"
      ]
     },
     "metadata": {},
     "output_type": "display_data"
    }
   ],
   "source": [
    "success()"
   ]
  },
  {
   "cell_type": "markdown",
   "metadata": {
    "deletable": false,
    "editable": false,
    "run_control": {
     "frozen": true
    }
   },
   "source": [
    "### Format Strings\n",
    "\n",
    "The methods that we have used so far to build complicated strings have been relatively inconvenient; we needed lots of `+` operators and separators like the empty space `\" \"` to make things come out right. Fortunately, Python offers a better way: **string formatting**. Let's see this technique in action, and then we'll explain how it works:"
   ]
  },
  {
   "cell_type": "code",
   "execution_count": 37,
   "metadata": {},
   "outputs": [
    {
     "data": {
      "text/plain": [
       "'Our sales during Q4 2018 were $1000'"
      ]
     },
     "execution_count": 37,
     "metadata": {},
     "output_type": "execute_result"
    }
   ],
   "source": [
    "sales_usd = 1000\n",
    "time_period = \"Q4 2018\"\n",
    "sales_message = f\"Our sales during {time_period} were ${sales_usd}\"\n",
    "sales_message"
   ]
  },
  {
   "cell_type": "markdown",
   "metadata": {
    "deletable": false,
    "editable": false,
    "run_control": {
     "frozen": true
    }
   },
   "source": [
    "Let's break this down. The value `f\"Our sales during {time_period} were ${sales_usd}\"` is called an f-string, or \"formatted string literal.\" A normal string is transformed into an f-string by placing the letter `f` before the opening quote of the string. Note that without the `{}` characters inside of it, our f-string behaves the same as a regular string:"
   ]
  },
  {
   "cell_type": "code",
   "execution_count": 38,
   "metadata": {
    "scrolled": true
   },
   "outputs": [
    {
     "data": {
      "text/plain": [
       "'nothing special'"
      ]
     },
     "execution_count": 38,
     "metadata": {},
     "output_type": "execute_result"
    }
   ],
   "source": [
    "regular_string = f\"nothing special\"\n",
    "regular_string"
   ]
  },
  {
   "cell_type": "markdown",
   "metadata": {
    "deletable": false,
    "editable": false,
    "run_control": {
     "frozen": true
    }
   },
   "source": [
    "However, placing `{}` characters inside of our f-string activates its magic powers. Any variable name appearing between the `{}` will be replaced by the corresponding variable value, as you can see from the example above. All number-to-string conversions are handled \"behind the scenes.\" The string formatting capabilities of f-strings allow us to assemble complex messages like this:"
   ]
  },
  {
   "cell_type": "code",
   "execution_count": 39,
   "metadata": {},
   "outputs": [
    {
     "name": "stdout",
     "output_type": "stream",
     "text": [
      "hello, John Smith. Your balance of $50 is less than the minimum $1000\n"
     ]
    }
   ],
   "source": [
    "first_name = \"John\"\n",
    "last_name = \"Smith\"\n",
    "balance = 50\n",
    "low_balance_threshold = 1000\n",
    "print(f\"hello, {first_name} {last_name}. Your balance of ${balance} is less than the minimum ${low_balance_threshold}\")"
   ]
  },
  {
   "cell_type": "markdown",
   "metadata": {
    "deletable": false,
    "editable": false,
    "run_control": {
     "frozen": true
    }
   },
   "source": [
    "<span style=\"color:blue;font-weight:bold\">Exercise</span>: Define a variable called `name` with the value `\"Jessica\"`. Define a second variable called `age` with the value `27`. Now, using an f-string, produce the value `\"Happy birthday, Jessica! You are 27 years old.\"` and assign it to the variable `birthday_message`"
   ]
  },
  {
   "cell_type": "code",
   "execution_count": 41,
   "metadata": {
    "tags": [
     "exercise"
    ]
   },
   "outputs": [],
   "source": [
    "name = \"Jessica\"\n",
    "age = 27\n",
    "birthday_message = f\"Happy birthday, {name}! You are {age} years old.\""
   ]
  },
  {
   "cell_type": "code",
   "execution_count": 41,
   "metadata": {
    "deletable": false,
    "editable": false,
    "strategicml": {
     "execution_time": 1584757285516,
     "exercise_id": "2d7516a3-6db8-43a5-8278-46301b503b92",
     "points": 1
    },
    "tags": [
     "test"
    ]
   },
   "outputs": [
    {
     "data": {
      "text/html": [
       "<div style=\"background-color:#e8fcef\n",
       ";color:#333333;padding:10px;border-style:solid;border-width:2px;border-color:#038c33\">\n",
       "<div style=\"font-weight:bold\">Correct!</div>\n",
       "</div>"
      ],
      "text/plain": [
       "<IPython.core.display.HTML object>"
      ]
     },
     "metadata": {},
     "output_type": "display_data"
    }
   ],
   "source": [
    "check_variable_definition(\"name\", \"age\", \"birthday_message\")\n",
    "assert name == \"Jessica\", \"Did you set the value of <code>name</code> to <code>Jessica</code>?\"\n",
    "assert age == 27, \"Did you set the value of <code>age</code> to <code>27</code>?\"\n",
    "assert birthday_message == \"Happy birthday, Jessica! You are 27 years old.\"\n",
    "success()"
   ]
  },
  {
   "cell_type": "code",
   "execution_count": 42,
   "metadata": {},
   "outputs": [
    {
     "data": {
      "text/plain": [
       "'Happy birthday, Jessica! You are 27 years old.'"
      ]
     },
     "execution_count": 42,
     "metadata": {},
     "output_type": "execute_result"
    }
   ],
   "source": [
    "birthday_message"
   ]
  },
  {
   "cell_type": "markdown",
   "metadata": {
    "deletable": false,
    "editable": false,
    "run_control": {
     "frozen": true
    }
   },
   "source": [
    "Note: these types of format strings were added in Python version 3.6 - if you want to use an earlier version, you must use a different, older syntax. You can read more about that [here](https://realpython.com/python-f-strings/) if needed. "
   ]
  }
 ],
 "metadata": {
  "celltoolbar": null,
  "kernelspec": {
   "display_name": "Python 3",
   "language": "python",
   "name": "python3"
  },
  "language_info": {
   "codemirror_mode": {
    "name": "ipython",
    "version": 3
   },
   "file_extension": ".py",
   "mimetype": "text/x-python",
   "name": "python",
   "nbconvert_exporter": "python",
   "pygments_lexer": "ipython3",
   "version": "3.7.3"
  },
  "strategicml": {
   "lesson_id": "e23baf59-7ba1-4108-8202-e0333c7dcef7",
   "release": true
  }
 },
 "nbformat": 4,
 "nbformat_minor": 2
}
