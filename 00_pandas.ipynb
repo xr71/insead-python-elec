{
 "cells": [
  {
   "cell_type": "markdown",
   "metadata": {
    "deletable": false,
    "editable": false,
    "run_control": {
     "frozen": true
    }
   },
   "source": [
    "## Loading Data into Python\n",
    "\n",
    "We have seen that Python knows many tricks (functions) which we can order it to perform through the use of *function call* statements. \n",
    "But what if Python doesn't know the particular trick that we need? \n",
    "For example, what if we have an excel spreadsheet that contains business data like the following:\n",
    "\n",
    "\n",
    "| Product Name | Sales Q1 2019 (USD) | Sales Q2 2019 (USD) |\n",
    "| ------------ | ------------------- | ------------------- |\n",
    "| Apples       | 1000000             | 1500000             |\n",
    "| Oranges      | 2000000             | 3000000             |\n",
    "| Bananas\t   | 3000000             | 4500000             |\n",
    "| Pineapples   | 1500000             | 2250000             |\n",
    "| Peaches      | 2000000             | 1000000             |"
   ]
  },
  {
   "cell_type": "markdown",
   "metadata": {
    "deletable": false,
    "editable": false,
    "run_control": {
     "frozen": true
    }
   },
   "source": [
    "We want Python to load this data and do something useful with it. However, Python doesn't know how to work with Excel spreadsheet files. \n",
    "How can we teach Python this skill?"
   ]
  },
  {
   "cell_type": "markdown",
   "metadata": {
    "deletable": false,
    "editable": false,
    "run_control": {
     "frozen": true
    }
   },
   "source": [
    "### Using Modules to Teach Python New Skills\n",
    "\n",
    "Python can learn new skills by *importing modules*. Think of a *module* as a textbook, and *importing* the module causes Python to read the textbook and learn all of the facts and skills held inside. Importing a module only requires a single line of Python code - for example, the following line instructs Python to import the module named `pandas`:"
   ]
  },
  {
   "cell_type": "code",
   "execution_count": 1,
   "metadata": {},
   "outputs": [],
   "source": [
    "import pandas"
   ]
  },
  {
   "cell_type": "code",
   "execution_count": 4,
   "metadata": {},
   "outputs": [
    {
     "data": {
      "text/plain": [
       "'3.7.3 (default, Mar 27 2019, 22:11:17) \\n[GCC 7.3.0]'"
      ]
     },
     "execution_count": 4,
     "metadata": {},
     "output_type": "execute_result"
    }
   ],
   "source": [
    "import sys\n",
    "sys.version"
   ]
  },
  {
   "cell_type": "code",
   "execution_count": 5,
   "metadata": {},
   "outputs": [
    {
     "data": {
      "text/plain": [
       "'0.25.1'"
      ]
     },
     "execution_count": 5,
     "metadata": {},
     "output_type": "execute_result"
    }
   ],
   "source": [
    "pandas.__version__"
   ]
  },
  {
   "cell_type": "code",
   "execution_count": 8,
   "metadata": {},
   "outputs": [
    {
     "name": "stdout",
     "output_type": "stream",
     "text": [
      "conda 4.7.12\r\n"
     ]
    }
   ],
   "source": [
    "!conda --version"
   ]
  },
  {
   "cell_type": "markdown",
   "metadata": {
    "deletable": false,
    "editable": false,
    "run_control": {
     "frozen": true
    }
   },
   "source": [
    "Executing the line `import pandas` is analogous to giving Python the command: \"Go read this book called `pandas` and learn all of the skills that it contains.\"\n",
    "After that line finishes running, Python will have learned many new skills. One of these tricks is a function called `read_excel`, which will accomplish our goal of loading Excel data into Python for analysis."
   ]
  },
  {
   "cell_type": "markdown",
   "metadata": {
    "deletable": false,
    "editable": false,
    "run_control": {
     "frozen": true
    }
   },
   "source": [
    "### Loading Excel Data into Python\n",
    "\n",
    "We are now going to use the `read_excel` function from the `pandas` module to load our Excel data into Python, as we demonstrate below:"
   ]
  },
  {
   "cell_type": "code",
   "execution_count": 14,
   "metadata": {},
   "outputs": [
    {
     "name": "stdout",
     "output_type": "stream",
     "text": [
      "airline-data.csv\t  employee-churn.csv   raw_default_data.csv\r\n",
      "credit_card_exercise.csv  ice-cream-sales.csv  stock_data.csv\r\n",
      "demo.xlsx\t\t  pca_survey.csv\r\n"
     ]
    }
   ],
   "source": [
    "!ls data/"
   ]
  },
  {
   "cell_type": "code",
   "execution_count": 15,
   "metadata": {},
   "outputs": [],
   "source": [
    "df = pandas.read_excel(\"data/demo.xlsx\")"
   ]
  },
  {
   "cell_type": "markdown",
   "metadata": {
    "deletable": false,
    "editable": false,
    "run_control": {
     "frozen": true
    }
   },
   "source": [
    "Let's break down everything that is happening in the line above:\n",
    "\n",
    "1. We are calling the function `read_excel`. What's different about using a function like `read_excel` that Python learned about from a module, versus a builtin function like `min` that we could use without importing a module? Python simply requires that we write the module name followed by a dot (so in this case, `pandas.`) before the function name, so that it knows where to find the function that we are calling.\n",
    "2. This function, `read_excel`, accepts a string argument which specifies the name of the excel file that we wish to load into Python. In this case, we are loading the file `demo.xlsx` from the folder `data`.\n",
    "3. Like the builtin functions that we learned about before, the function `read_excel` returns a value, which we have stored in the variable `df`, which is short for \"Data Frame.\" This variable contains the excel data that we wish to analyze. "
   ]
  },
  {
   "cell_type": "markdown",
   "metadata": {
    "deletable": false,
    "editable": false,
    "run_control": {
     "frozen": true
    }
   },
   "source": [
    "Just like all of the variables that we learned about before, we can take a look at the value stored inside `df` by simply typing its name into a code cell and executing the cell with `Shift-Enter`:"
   ]
  },
  {
   "cell_type": "code",
   "execution_count": 16,
   "metadata": {
    "scrolled": true
   },
   "outputs": [
    {
     "data": {
      "text/html": [
       "<div>\n",
       "<style scoped>\n",
       "    .dataframe tbody tr th:only-of-type {\n",
       "        vertical-align: middle;\n",
       "    }\n",
       "\n",
       "    .dataframe tbody tr th {\n",
       "        vertical-align: top;\n",
       "    }\n",
       "\n",
       "    .dataframe thead th {\n",
       "        text-align: right;\n",
       "    }\n",
       "</style>\n",
       "<table border=\"1\" class=\"dataframe\">\n",
       "  <thead>\n",
       "    <tr style=\"text-align: right;\">\n",
       "      <th></th>\n",
       "      <th>Product Name</th>\n",
       "      <th>Sales Q1 2019 (USD)</th>\n",
       "      <th>Sales Q2 2019 (USD)</th>\n",
       "    </tr>\n",
       "  </thead>\n",
       "  <tbody>\n",
       "    <tr>\n",
       "      <td>0</td>\n",
       "      <td>Apples</td>\n",
       "      <td>1000000</td>\n",
       "      <td>1500000</td>\n",
       "    </tr>\n",
       "    <tr>\n",
       "      <td>1</td>\n",
       "      <td>Oranges</td>\n",
       "      <td>2000000</td>\n",
       "      <td>3000000</td>\n",
       "    </tr>\n",
       "    <tr>\n",
       "      <td>2</td>\n",
       "      <td>Bananas</td>\n",
       "      <td>3000000</td>\n",
       "      <td>4500000</td>\n",
       "    </tr>\n",
       "    <tr>\n",
       "      <td>3</td>\n",
       "      <td>Pineapples</td>\n",
       "      <td>1500000</td>\n",
       "      <td>2250000</td>\n",
       "    </tr>\n",
       "    <tr>\n",
       "      <td>4</td>\n",
       "      <td>Peaches</td>\n",
       "      <td>2000000</td>\n",
       "      <td>1000000</td>\n",
       "    </tr>\n",
       "    <tr>\n",
       "      <td>5</td>\n",
       "      <td>Corn</td>\n",
       "      <td>2000000</td>\n",
       "      <td>4000000</td>\n",
       "    </tr>\n",
       "    <tr>\n",
       "      <td>6</td>\n",
       "      <td>Zucchini</td>\n",
       "      <td>3000000</td>\n",
       "      <td>4500000</td>\n",
       "    </tr>\n",
       "    <tr>\n",
       "      <td>7</td>\n",
       "      <td>Artichokes</td>\n",
       "      <td>2000000</td>\n",
       "      <td>3000000</td>\n",
       "    </tr>\n",
       "    <tr>\n",
       "      <td>8</td>\n",
       "      <td>Green Beans</td>\n",
       "      <td>3000000</td>\n",
       "      <td>4500000</td>\n",
       "    </tr>\n",
       "    <tr>\n",
       "      <td>9</td>\n",
       "      <td>Squash</td>\n",
       "      <td>1500000</td>\n",
       "      <td>2250000</td>\n",
       "    </tr>\n",
       "  </tbody>\n",
       "</table>\n",
       "</div>"
      ],
      "text/plain": [
       "  Product Name  Sales Q1 2019 (USD)  Sales Q2 2019 (USD)\n",
       "0       Apples              1000000              1500000\n",
       "1      Oranges              2000000              3000000\n",
       "2      Bananas              3000000              4500000\n",
       "3   Pineapples              1500000              2250000\n",
       "4      Peaches              2000000              1000000\n",
       "5         Corn              2000000              4000000\n",
       "6     Zucchini              3000000              4500000\n",
       "7   Artichokes              2000000              3000000\n",
       "8  Green Beans              3000000              4500000\n",
       "9       Squash              1500000              2250000"
      ]
     },
     "execution_count": 16,
     "metadata": {},
     "output_type": "execute_result"
    }
   ],
   "source": [
    "df"
   ]
  },
  {
   "cell_type": "markdown",
   "metadata": {
    "deletable": false,
    "editable": false,
    "run_control": {
     "frozen": true
    }
   },
   "source": [
    "We can see that this Excel file contains ten rows, showing the sales (in US dollars) of ten different fruits and vegetables across two different time periods, `Q1 2019` and `Q2 2019`. "
   ]
  },
  {
   "cell_type": "markdown",
   "metadata": {
    "deletable": false,
    "editable": false,
    "run_control": {
     "frozen": true
    }
   },
   "source": [
    "### Objects\n",
    "\n",
    "What, exactly, is the nature of the value held in `df`? In previous lessons, we have only worked with variables containing simple types of values, such as integers and strings - for example, the variables `var_one` and `var_two` below:"
   ]
  },
  {
   "cell_type": "code",
   "execution_count": 17,
   "metadata": {
    "scrolled": true
   },
   "outputs": [
    {
     "name": "stdout",
     "output_type": "stream",
     "text": [
      "the type of var_one is: <class 'int'>\n",
      "the type of var_two is: <class 'str'>\n"
     ]
    }
   ],
   "source": [
    "var_one = 1\n",
    "var_two = \"hello\"\n",
    "print(\"the type of var_one is:\", type(var_one))\n",
    "print(\"the type of var_two is:\", type(var_two))"
   ]
  },
  {
   "cell_type": "markdown",
   "metadata": {
    "deletable": false,
    "editable": false,
    "run_control": {
     "frozen": true
    }
   },
   "source": [
    "However, the value stored in the variable `df` is a more complicated data type:"
   ]
  },
  {
   "cell_type": "code",
   "execution_count": 18,
   "metadata": {
    "scrolled": true
   },
   "outputs": [
    {
     "name": "stdout",
     "output_type": "stream",
     "text": [
      "the type of df is: <class 'pandas.core.frame.DataFrame'>\n"
     ]
    }
   ],
   "source": [
    "print(\"the type of df is:\", type(df))"
   ]
  },
  {
   "cell_type": "markdown",
   "metadata": {
    "deletable": false,
    "editable": false,
    "run_control": {
     "frozen": true
    }
   },
   "source": [
    "We will refer to this and other complicated values simply as *objects*. You can think of an *object* as a bundle of data. The bundle of data stored in `df` contains several different parts, which we will call *attributes*. For example, the `shape` attribute tells us the number of rows and columns that our Excel data contains (10 rows, 3 columns):"
   ]
  },
  {
   "cell_type": "code",
   "execution_count": 19,
   "metadata": {
    "scrolled": true
   },
   "outputs": [
    {
     "data": {
      "text/plain": [
       "(10, 3)"
      ]
     },
     "execution_count": 19,
     "metadata": {},
     "output_type": "execute_result"
    }
   ],
   "source": [
    "df.shape"
   ]
  },
  {
   "cell_type": "markdown",
   "metadata": {
    "deletable": false,
    "editable": false,
    "run_control": {
     "frozen": true
    }
   },
   "source": [
    "Notice how we told Python to access the shape *attribute* of the df *object* above - we wrote the name of the object (`df`), a dot (`.`), and the name of the attribute (`shape`); we can perform exactly this process to access any other attributes we need. For example, we can use the `size` attribute to get a count of the total number of cells in the DataFrame:"
   ]
  },
  {
   "cell_type": "code",
   "execution_count": 20,
   "metadata": {
    "scrolled": false
   },
   "outputs": [
    {
     "data": {
      "text/plain": [
       "30"
      ]
     },
     "execution_count": 20,
     "metadata": {},
     "output_type": "execute_result"
    }
   ],
   "source": [
    "df.size"
   ]
  },
  {
   "cell_type": "markdown",
   "metadata": {
    "deletable": false,
    "editable": false,
    "run_control": {
     "frozen": true
    }
   },
   "source": [
    "As a final example of how to access attributes of our DataFrame object `df`, let's access the `columns` attribute, which will list the names of the columns in our DataFrame:"
   ]
  },
  {
   "cell_type": "code",
   "execution_count": 21,
   "metadata": {
    "scrolled": false
   },
   "outputs": [
    {
     "data": {
      "text/plain": [
       "Index(['Product Name', 'Sales Q1 2019 (USD)', 'Sales Q2 2019 (USD)'], dtype='object')"
      ]
     },
     "execution_count": 21,
     "metadata": {},
     "output_type": "execute_result"
    }
   ],
   "source": [
    "df.columns"
   ]
  },
  {
   "cell_type": "markdown",
   "metadata": {
    "deletable": false,
    "editable": false,
    "run_control": {
     "frozen": true
    }
   },
   "source": [
    "What other attributes are part of the object (\"bundle of data\") held in the variable `df`? We can get a list by typing the variable name (`df`) followed by a `.` character, and then pressing `Tab` - Jupyter will then display a list of attributes of our object. Try this below - click to the right of the `.` character to place your cursor in that position, then press the `Tab` key - when you are done looking at the list that pops up, press the `Esc` key to hide it (note: it may take some time for the list to pop up):"
   ]
  },
  {
   "cell_type": "code",
   "execution_count": null,
   "metadata": {
    "tags": [
     "raises-exception"
    ]
   },
   "outputs": [],
   "source": [
    "df."
   ]
  },
  {
   "cell_type": "markdown",
   "metadata": {
    "deletable": false,
    "editable": false,
    "run_control": {
     "frozen": true
    }
   },
   "source": [
    "<span style=\"color:blue;font-weight:bold\">Exercise</span>: Store the value of the `ndim` attribute of the DataFrame `df` in a variable named `number_of_dimensions`. On the following line, display this value by typing `number_of_dimensions`:"
   ]
  },
  {
   "cell_type": "code",
   "execution_count": 22,
   "metadata": {
    "tags": [
     "exercise"
    ]
   },
   "outputs": [
    {
     "data": {
      "text/plain": [
       "2"
      ]
     },
     "execution_count": 22,
     "metadata": {},
     "output_type": "execute_result"
    }
   ],
   "source": [
    "number_of_dimensions = df.ndim\n",
    "number_of_dimensions"
   ]
  },
  {
   "cell_type": "code",
   "execution_count": 22,
   "metadata": {
    "deletable": false,
    "editable": false,
    "strategicml": {
     "execution_time": 1584759220650,
     "exercise_id": "d8a4584b-56ec-41a0-bfba-3fcfe5cd700a",
     "points": 2
    },
    "tags": [
     "test"
    ]
   },
   "outputs": [
    {
     "data": {
      "text/html": [
       "<div style=\"background-color:#e8fcef\n",
       ";color:#333333;padding:10px;border-style:solid;border-width:2px;border-color:#038c33\">\n",
       "<div style=\"font-weight:bold\">Correct!</div>\n",
       "</div>"
      ],
      "text/plain": [
       "<IPython.core.display.HTML object>"
      ]
     },
     "metadata": {},
     "output_type": "display_data"
    }
   ],
   "source": [
    "check_variable_definition(\"number_of_dimensions\")\n",
    "assert number_of_dimensions == 2, \"Did you set <code>number_of_dimensions</code> correctly?\"\n",
    "success()"
   ]
  },
  {
   "cell_type": "markdown",
   "metadata": {
    "deletable": false,
    "editable": false,
    "run_control": {
     "frozen": true
    }
   },
   "source": [
    "For `df`, the list of attributes is very long, because a DataFrame is a complicated type of object with many, many attributes. For now, to save time, we suggest that you only use the attributes that we discuss in these lessons, and wait to explore other ones until your later studies. "
   ]
  },
  {
   "cell_type": "markdown",
   "metadata": {
    "deletable": false,
    "editable": false,
    "run_control": {
     "frozen": true
    }
   },
   "source": [
    "### Methods: Functions Attached to Objects\n",
    "\n",
    "We have now seen that we can use the `read_excel` function provided by the module `pandas` to load Excel data into our Python environment, and store this Excel data as a *DataFrame object*. We have also seen that this object (which we stored in a variable called `df`) is a collection of various *attributes* - related pieces of information that we can examine individually. But what else can we do with the object `df`?"
   ]
  },
  {
   "cell_type": "markdown",
   "metadata": {
    "deletable": false,
    "editable": false,
    "run_control": {
     "frozen": true
    }
   },
   "source": [
    "It turns out that our DataFrame `df` (and all other Python objects as well) can be commanded to *do* useful things. Just like the Python interpreter itself, each object has a set of \"tricks\" that it is programmed to perform on command. In our previous lesson, we called the tricks associated with the Python interpreter *functions* - when we are talking about the tricks associated with an *object*, we call them *methods*. \n"
   ]
  },
  {
   "cell_type": "markdown",
   "metadata": {
    "deletable": false,
    "editable": false,
    "run_control": {
     "frozen": true
    }
   },
   "source": [
    "Just as we can tell the Python interpreter to perform a specific trick by using a *function call* statement, we can tell an object to perform a specific trick by using a *method call* statement. A method call looks just like a function call, except that the function name is preceded by the name of the object and an additional dot. For example, \n",
    "to perform a method call that instructs the object `df` to perform a trick named `head`, we write the following:"
   ]
  },
  {
   "cell_type": "code",
   "execution_count": 23,
   "metadata": {},
   "outputs": [
    {
     "data": {
      "text/html": [
       "<div>\n",
       "<style scoped>\n",
       "    .dataframe tbody tr th:only-of-type {\n",
       "        vertical-align: middle;\n",
       "    }\n",
       "\n",
       "    .dataframe tbody tr th {\n",
       "        vertical-align: top;\n",
       "    }\n",
       "\n",
       "    .dataframe thead th {\n",
       "        text-align: right;\n",
       "    }\n",
       "</style>\n",
       "<table border=\"1\" class=\"dataframe\">\n",
       "  <thead>\n",
       "    <tr style=\"text-align: right;\">\n",
       "      <th></th>\n",
       "      <th>Product Name</th>\n",
       "      <th>Sales Q1 2019 (USD)</th>\n",
       "      <th>Sales Q2 2019 (USD)</th>\n",
       "    </tr>\n",
       "  </thead>\n",
       "  <tbody>\n",
       "    <tr>\n",
       "      <td>0</td>\n",
       "      <td>Apples</td>\n",
       "      <td>1000000</td>\n",
       "      <td>1500000</td>\n",
       "    </tr>\n",
       "    <tr>\n",
       "      <td>1</td>\n",
       "      <td>Oranges</td>\n",
       "      <td>2000000</td>\n",
       "      <td>3000000</td>\n",
       "    </tr>\n",
       "    <tr>\n",
       "      <td>2</td>\n",
       "      <td>Bananas</td>\n",
       "      <td>3000000</td>\n",
       "      <td>4500000</td>\n",
       "    </tr>\n",
       "    <tr>\n",
       "      <td>3</td>\n",
       "      <td>Pineapples</td>\n",
       "      <td>1500000</td>\n",
       "      <td>2250000</td>\n",
       "    </tr>\n",
       "    <tr>\n",
       "      <td>4</td>\n",
       "      <td>Peaches</td>\n",
       "      <td>2000000</td>\n",
       "      <td>1000000</td>\n",
       "    </tr>\n",
       "  </tbody>\n",
       "</table>\n",
       "</div>"
      ],
      "text/plain": [
       "  Product Name  Sales Q1 2019 (USD)  Sales Q2 2019 (USD)\n",
       "0       Apples              1000000              1500000\n",
       "1      Oranges              2000000              3000000\n",
       "2      Bananas              3000000              4500000\n",
       "3   Pineapples              1500000              2250000\n",
       "4      Peaches              2000000              1000000"
      ]
     },
     "execution_count": 23,
     "metadata": {},
     "output_type": "execute_result"
    }
   ],
   "source": [
    "df.head()"
   ]
  },
  {
   "cell_type": "markdown",
   "metadata": {
    "deletable": false,
    "editable": false,
    "run_control": {
     "frozen": true
    }
   },
   "source": [
    "This method call causes the DataFrame object `df` to display its first 5 rows. The `head()` method will be very important for us to use when we work with larger datasets, as displaying the entire DataFrame all at once becomes very inconvenient. "
   ]
  },
  {
   "cell_type": "markdown",
   "metadata": {
    "deletable": false,
    "editable": false,
    "run_control": {
     "frozen": true
    }
   },
   "source": [
    "Similarly, we can call the `describe()` method to tell our DataFrame object to produce a summary of each column, showing the count, mean, standard deviation, and other summary statistics for each column of data:"
   ]
  },
  {
   "cell_type": "code",
   "execution_count": 24,
   "metadata": {
    "scrolled": true
   },
   "outputs": [
    {
     "data": {
      "text/html": [
       "<div>\n",
       "<style scoped>\n",
       "    .dataframe tbody tr th:only-of-type {\n",
       "        vertical-align: middle;\n",
       "    }\n",
       "\n",
       "    .dataframe tbody tr th {\n",
       "        vertical-align: top;\n",
       "    }\n",
       "\n",
       "    .dataframe thead th {\n",
       "        text-align: right;\n",
       "    }\n",
       "</style>\n",
       "<table border=\"1\" class=\"dataframe\">\n",
       "  <thead>\n",
       "    <tr style=\"text-align: right;\">\n",
       "      <th></th>\n",
       "      <th>Sales Q1 2019 (USD)</th>\n",
       "      <th>Sales Q2 2019 (USD)</th>\n",
       "    </tr>\n",
       "  </thead>\n",
       "  <tbody>\n",
       "    <tr>\n",
       "      <td>count</td>\n",
       "      <td>1.000000e+01</td>\n",
       "      <td>1.000000e+01</td>\n",
       "    </tr>\n",
       "    <tr>\n",
       "      <td>mean</td>\n",
       "      <td>2.100000e+06</td>\n",
       "      <td>3.050000e+06</td>\n",
       "    </tr>\n",
       "    <tr>\n",
       "      <td>std</td>\n",
       "      <td>6.992059e+05</td>\n",
       "      <td>1.295291e+06</td>\n",
       "    </tr>\n",
       "    <tr>\n",
       "      <td>min</td>\n",
       "      <td>1.000000e+06</td>\n",
       "      <td>1.000000e+06</td>\n",
       "    </tr>\n",
       "    <tr>\n",
       "      <td>25%</td>\n",
       "      <td>1.625000e+06</td>\n",
       "      <td>2.250000e+06</td>\n",
       "    </tr>\n",
       "    <tr>\n",
       "      <td>50%</td>\n",
       "      <td>2.000000e+06</td>\n",
       "      <td>3.000000e+06</td>\n",
       "    </tr>\n",
       "    <tr>\n",
       "      <td>75%</td>\n",
       "      <td>2.750000e+06</td>\n",
       "      <td>4.375000e+06</td>\n",
       "    </tr>\n",
       "    <tr>\n",
       "      <td>max</td>\n",
       "      <td>3.000000e+06</td>\n",
       "      <td>4.500000e+06</td>\n",
       "    </tr>\n",
       "  </tbody>\n",
       "</table>\n",
       "</div>"
      ],
      "text/plain": [
       "       Sales Q1 2019 (USD)  Sales Q2 2019 (USD)\n",
       "count         1.000000e+01         1.000000e+01\n",
       "mean          2.100000e+06         3.050000e+06\n",
       "std           6.992059e+05         1.295291e+06\n",
       "min           1.000000e+06         1.000000e+06\n",
       "25%           1.625000e+06         2.250000e+06\n",
       "50%           2.000000e+06         3.000000e+06\n",
       "75%           2.750000e+06         4.375000e+06\n",
       "max           3.000000e+06         4.500000e+06"
      ]
     },
     "execution_count": 24,
     "metadata": {},
     "output_type": "execute_result"
    }
   ],
   "source": [
    "df.describe()"
   ]
  },
  {
   "cell_type": "markdown",
   "metadata": {
    "deletable": false,
    "editable": false,
    "run_control": {
     "frozen": true
    }
   },
   "source": [
    "The `describe()` method discussed above provides a good way to get a quick look at our data and draw some simple conclusions - for example, we can see that average sales increased from `Q1` to `Q2`."
   ]
  },
  {
   "cell_type": "markdown",
   "metadata": {
    "deletable": false,
    "editable": false,
    "run_control": {
     "frozen": true
    }
   },
   "source": [
    "Like the functions we learned about before, some methods can also accept arguments - for example, we can use the `get` method to extract a particular column of data from our DataFrame:"
   ]
  },
  {
   "cell_type": "code",
   "execution_count": 25,
   "metadata": {
    "scrolled": true
   },
   "outputs": [
    {
     "data": {
      "text/plain": [
       "0    1000000\n",
       "1    2000000\n",
       "2    3000000\n",
       "3    1500000\n",
       "4    2000000\n",
       "5    2000000\n",
       "6    3000000\n",
       "7    2000000\n",
       "8    3000000\n",
       "9    1500000\n",
       "Name: Sales Q1 2019 (USD), dtype: int64"
      ]
     },
     "execution_count": 25,
     "metadata": {},
     "output_type": "execute_result"
    }
   ],
   "source": [
    "df.get('Sales Q1 2019 (USD)')"
   ]
  },
  {
   "cell_type": "markdown",
   "metadata": {
    "deletable": false,
    "editable": false,
    "run_control": {
     "frozen": true
    }
   },
   "source": [
    "<span style=\"color:blue;font-weight:bold\">Exercise</span>: Use the `get` method to retrieve the column of data `'Sales Q2 2019 (USD)'` from the DataFrame `df` and store it in a variable named `sales_q2`: "
   ]
  },
  {
   "cell_type": "code",
   "execution_count": 27,
   "metadata": {
    "tags": [
     "exercise"
    ]
   },
   "outputs": [],
   "source": [
    "sales_q2 = df.get('Sales Q2 2019 (USD)')"
   ]
  },
  {
   "cell_type": "code",
   "execution_count": 27,
   "metadata": {
    "deletable": false,
    "editable": false,
    "strategicml": {
     "execution_time": 1584759248143,
     "exercise_id": "9df07329-38e4-4a35-b137-b9db69af9122",
     "points": 2
    },
    "tags": [
     "test"
    ]
   },
   "outputs": [
    {
     "data": {
      "text/html": [
       "<div style=\"background-color:#e8fcef\n",
       ";color:#333333;padding:10px;border-style:solid;border-width:2px;border-color:#038c33\">\n",
       "<div style=\"font-weight:bold\">Correct!</div>\n",
       "</div>"
      ],
      "text/plain": [
       "<IPython.core.display.HTML object>"
      ]
     },
     "metadata": {},
     "output_type": "display_data"
    }
   ],
   "source": [
    "check_variable_definition(\"sales_q2\")\n",
    "error_msg  = \"<code>sales_q2</code> does not appear to contain the correct data. Did you call the <code>get</code> method correctly?\"\n",
    "try:\n",
    "   assert sales_q2.equals(df.get(\"Sales Q2 2019 (USD)\")), error_msg\n",
    "except AssertionError:\n",
    "    raise\n",
    "except:\n",
    "    raise ExerciseError(error_msg)\n",
    "success()"
   ]
  },
  {
   "cell_type": "markdown",
   "metadata": {
    "deletable": false,
    "editable": false,
    "run_control": {
     "frozen": true
    }
   },
   "source": [
    "### Documentation\n",
    "\n",
    "Recall that when you learned how to call functions, you learned how to view the documentation for a function using thing `?` character. Methods work the same way, as you can see by running the code below:"
   ]
  },
  {
   "cell_type": "code",
   "execution_count": 28,
   "metadata": {},
   "outputs": [],
   "source": [
    "df.head?"
   ]
  },
  {
   "cell_type": "markdown",
   "metadata": {
    "deletable": false,
    "editable": false,
    "run_control": {
     "frozen": true
    }
   },
   "source": [
    "The method documentation provided by using `?` can be difficult to read for beginners - we suggest also using a search engine to query information about how particular methods from a given Python object should be used. "
   ]
  },
  {
   "cell_type": "markdown",
   "metadata": {
    "deletable": false,
    "editable": false,
    "run_control": {
     "frozen": true
    }
   },
   "source": [
    "### Simplifying Code using `import as` and `from`\n",
    "\n",
    "You will notice that calling functions from the `pandas` module as shown above required us to type a lot of addtional text; specifically, we needed to prefix every function name with the string `pandas.` This is fine for a single function call, but this prefix can in many cases make our code more difficult to read. Therefore, it is often desirable to use a shorter prefix to access imported functions. Python allows us to use `import as` for this purpose, as shown below:"
   ]
  },
  {
   "cell_type": "code",
   "execution_count": 29,
   "metadata": {},
   "outputs": [],
   "source": [
    "import pandas as pd"
   ]
  },
  {
   "cell_type": "markdown",
   "metadata": {
    "deletable": false,
    "editable": false,
    "run_control": {
     "frozen": true
    }
   },
   "source": [
    "This functions exactly like the regular `import` statement that we learned above, with one exception. Now, instead of typing `pandas.` to indicate that we wish to use a function from the `pandas` module, we can simply type the shorter prefix `pd.` As you can see from the code sample below, the new code is shorter and works just as well:"
   ]
  },
  {
   "cell_type": "code",
   "execution_count": 30,
   "metadata": {},
   "outputs": [
    {
     "data": {
      "text/html": [
       "<div>\n",
       "<style scoped>\n",
       "    .dataframe tbody tr th:only-of-type {\n",
       "        vertical-align: middle;\n",
       "    }\n",
       "\n",
       "    .dataframe tbody tr th {\n",
       "        vertical-align: top;\n",
       "    }\n",
       "\n",
       "    .dataframe thead th {\n",
       "        text-align: right;\n",
       "    }\n",
       "</style>\n",
       "<table border=\"1\" class=\"dataframe\">\n",
       "  <thead>\n",
       "    <tr style=\"text-align: right;\">\n",
       "      <th></th>\n",
       "      <th>Product Name</th>\n",
       "      <th>Sales Q1 2019 (USD)</th>\n",
       "      <th>Sales Q2 2019 (USD)</th>\n",
       "    </tr>\n",
       "  </thead>\n",
       "  <tbody>\n",
       "    <tr>\n",
       "      <td>0</td>\n",
       "      <td>Apples</td>\n",
       "      <td>1000000</td>\n",
       "      <td>1500000</td>\n",
       "    </tr>\n",
       "    <tr>\n",
       "      <td>1</td>\n",
       "      <td>Oranges</td>\n",
       "      <td>2000000</td>\n",
       "      <td>3000000</td>\n",
       "    </tr>\n",
       "    <tr>\n",
       "      <td>2</td>\n",
       "      <td>Bananas</td>\n",
       "      <td>3000000</td>\n",
       "      <td>4500000</td>\n",
       "    </tr>\n",
       "    <tr>\n",
       "      <td>3</td>\n",
       "      <td>Pineapples</td>\n",
       "      <td>1500000</td>\n",
       "      <td>2250000</td>\n",
       "    </tr>\n",
       "    <tr>\n",
       "      <td>4</td>\n",
       "      <td>Peaches</td>\n",
       "      <td>2000000</td>\n",
       "      <td>1000000</td>\n",
       "    </tr>\n",
       "  </tbody>\n",
       "</table>\n",
       "</div>"
      ],
      "text/plain": [
       "  Product Name  Sales Q1 2019 (USD)  Sales Q2 2019 (USD)\n",
       "0       Apples              1000000              1500000\n",
       "1      Oranges              2000000              3000000\n",
       "2      Bananas              3000000              4500000\n",
       "3   Pineapples              1500000              2250000\n",
       "4      Peaches              2000000              1000000"
      ]
     },
     "execution_count": 30,
     "metadata": {},
     "output_type": "execute_result"
    }
   ],
   "source": [
    "df2 = pd.read_excel(\"data/demo.xlsx\")\n",
    "df2.head()"
   ]
  },
  {
   "cell_type": "markdown",
   "metadata": {
    "deletable": false,
    "editable": false,
    "run_control": {
     "frozen": true
    }
   },
   "source": [
    "Can we make the above code even shorter? In certain cases, yes. Suppose that the only skill that we need Python to learn from the `pandas` module is the function `read_excel`, and we do not intend on using any other functions from this module. In that case, we can simply write the following:"
   ]
  },
  {
   "cell_type": "code",
   "execution_count": 31,
   "metadata": {},
   "outputs": [],
   "source": [
    "from pandas import read_excel"
   ]
  },
  {
   "cell_type": "markdown",
   "metadata": {
    "deletable": false,
    "editable": false,
    "run_control": {
     "frozen": true
    }
   },
   "source": [
    "Having done this, we can now use the function `read_excel` without any prefix:"
   ]
  },
  {
   "cell_type": "code",
   "execution_count": 32,
   "metadata": {},
   "outputs": [
    {
     "data": {
      "text/html": [
       "<div>\n",
       "<style scoped>\n",
       "    .dataframe tbody tr th:only-of-type {\n",
       "        vertical-align: middle;\n",
       "    }\n",
       "\n",
       "    .dataframe tbody tr th {\n",
       "        vertical-align: top;\n",
       "    }\n",
       "\n",
       "    .dataframe thead th {\n",
       "        text-align: right;\n",
       "    }\n",
       "</style>\n",
       "<table border=\"1\" class=\"dataframe\">\n",
       "  <thead>\n",
       "    <tr style=\"text-align: right;\">\n",
       "      <th></th>\n",
       "      <th>Product Name</th>\n",
       "      <th>Sales Q1 2019 (USD)</th>\n",
       "      <th>Sales Q2 2019 (USD)</th>\n",
       "    </tr>\n",
       "  </thead>\n",
       "  <tbody>\n",
       "    <tr>\n",
       "      <td>0</td>\n",
       "      <td>Apples</td>\n",
       "      <td>1000000</td>\n",
       "      <td>1500000</td>\n",
       "    </tr>\n",
       "    <tr>\n",
       "      <td>1</td>\n",
       "      <td>Oranges</td>\n",
       "      <td>2000000</td>\n",
       "      <td>3000000</td>\n",
       "    </tr>\n",
       "    <tr>\n",
       "      <td>2</td>\n",
       "      <td>Bananas</td>\n",
       "      <td>3000000</td>\n",
       "      <td>4500000</td>\n",
       "    </tr>\n",
       "    <tr>\n",
       "      <td>3</td>\n",
       "      <td>Pineapples</td>\n",
       "      <td>1500000</td>\n",
       "      <td>2250000</td>\n",
       "    </tr>\n",
       "    <tr>\n",
       "      <td>4</td>\n",
       "      <td>Peaches</td>\n",
       "      <td>2000000</td>\n",
       "      <td>1000000</td>\n",
       "    </tr>\n",
       "  </tbody>\n",
       "</table>\n",
       "</div>"
      ],
      "text/plain": [
       "  Product Name  Sales Q1 2019 (USD)  Sales Q2 2019 (USD)\n",
       "0       Apples              1000000              1500000\n",
       "1      Oranges              2000000              3000000\n",
       "2      Bananas              3000000              4500000\n",
       "3   Pineapples              1500000              2250000\n",
       "4      Peaches              2000000              1000000"
      ]
     },
     "execution_count": 32,
     "metadata": {},
     "output_type": "execute_result"
    }
   ],
   "source": [
    "df3 = read_excel(\"data/demo.xlsx\")\n",
    "df3.head()"
   ]
  },
  {
   "cell_type": "markdown",
   "metadata": {
    "deletable": false,
    "editable": false,
    "run_control": {
     "frozen": true
    }
   },
   "source": [
    "Familiarize yourself with both the `import as` and `from` ways of importing code, as you will see both in the subsequent lessons of this course. "
   ]
  },
  {
   "cell_type": "markdown",
   "metadata": {
    "deletable": false,
    "editable": false,
    "run_control": {
     "frozen": true
    }
   },
   "source": [
    "### Accessing Pandas Data using the `[]` Operator\n",
    "\n",
    "In an earlier section, you learned to access individual columns of data from a pandas dataframe using the `get(...)` method, as shown below:"
   ]
  },
  {
   "cell_type": "code",
   "execution_count": 33,
   "metadata": {
    "scrolled": true
   },
   "outputs": [
    {
     "data": {
      "text/plain": [
       "0         Apples\n",
       "1        Oranges\n",
       "2        Bananas\n",
       "3     Pineapples\n",
       "4        Peaches\n",
       "5           Corn\n",
       "6       Zucchini\n",
       "7     Artichokes\n",
       "8    Green Beans\n",
       "9         Squash\n",
       "Name: Product Name, dtype: object"
      ]
     },
     "execution_count": 33,
     "metadata": {},
     "output_type": "execute_result"
    }
   ],
   "source": [
    "df.get('Product Name')"
   ]
  },
  {
   "cell_type": "markdown",
   "metadata": {
    "deletable": false,
    "editable": false,
    "run_control": {
     "frozen": true
    }
   },
   "source": [
    "Pandas provides a convenient shorthand for this behavior - instead of typing `.get(...)`, we can simply place the desired column name between brackets in order to retrieve that column:"
   ]
  },
  {
   "cell_type": "code",
   "execution_count": 34,
   "metadata": {
    "scrolled": true
   },
   "outputs": [
    {
     "data": {
      "text/plain": [
       "0         Apples\n",
       "1        Oranges\n",
       "2        Bananas\n",
       "3     Pineapples\n",
       "4        Peaches\n",
       "5           Corn\n",
       "6       Zucchini\n",
       "7     Artichokes\n",
       "8    Green Beans\n",
       "9         Squash\n",
       "Name: Product Name, dtype: object"
      ]
     },
     "execution_count": 34,
     "metadata": {},
     "output_type": "execute_result"
    }
   ],
   "source": [
    "df['Product Name']"
   ]
  },
  {
   "cell_type": "markdown",
   "metadata": {
    "deletable": false,
    "editable": false,
    "run_control": {
     "frozen": true
    }
   },
   "source": [
    "We can perform many useful operations on columns that we have retrieved this way. For example, we can add two columns together:"
   ]
  },
  {
   "cell_type": "code",
   "execution_count": 35,
   "metadata": {},
   "outputs": [
    {
     "data": {
      "text/plain": [
       "0    2500000\n",
       "1    5000000\n",
       "2    7500000\n",
       "3    3750000\n",
       "4    3000000\n",
       "5    6000000\n",
       "6    7500000\n",
       "7    5000000\n",
       "8    7500000\n",
       "9    3750000\n",
       "dtype: int64"
      ]
     },
     "execution_count": 35,
     "metadata": {},
     "output_type": "execute_result"
    }
   ],
   "source": [
    "df[\"Sales Q1 2019 (USD)\"] + df[\"Sales Q2 2019 (USD)\"]"
   ]
  },
  {
   "cell_type": "markdown",
   "metadata": {
    "deletable": false,
    "editable": false,
    "run_control": {
     "frozen": true
    }
   },
   "source": [
    "We can also use the `[]` operator to create new columns - for example, we can create a `total_sales` column that contains the sum we saw above:"
   ]
  },
  {
   "cell_type": "code",
   "execution_count": 36,
   "metadata": {},
   "outputs": [],
   "source": [
    "df['total_sales'] = df[\"Sales Q1 2019 (USD)\"] + df[\"Sales Q2 2019 (USD)\"]"
   ]
  },
  {
   "cell_type": "markdown",
   "metadata": {
    "deletable": false,
    "editable": false,
    "run_control": {
     "frozen": true
    }
   },
   "source": [
    "We can see that now our DataFrame contains the new column:"
   ]
  },
  {
   "cell_type": "code",
   "execution_count": 37,
   "metadata": {
    "scrolled": true
   },
   "outputs": [
    {
     "data": {
      "text/html": [
       "<div>\n",
       "<style scoped>\n",
       "    .dataframe tbody tr th:only-of-type {\n",
       "        vertical-align: middle;\n",
       "    }\n",
       "\n",
       "    .dataframe tbody tr th {\n",
       "        vertical-align: top;\n",
       "    }\n",
       "\n",
       "    .dataframe thead th {\n",
       "        text-align: right;\n",
       "    }\n",
       "</style>\n",
       "<table border=\"1\" class=\"dataframe\">\n",
       "  <thead>\n",
       "    <tr style=\"text-align: right;\">\n",
       "      <th></th>\n",
       "      <th>Product Name</th>\n",
       "      <th>Sales Q1 2019 (USD)</th>\n",
       "      <th>Sales Q2 2019 (USD)</th>\n",
       "      <th>total_sales</th>\n",
       "    </tr>\n",
       "  </thead>\n",
       "  <tbody>\n",
       "    <tr>\n",
       "      <td>0</td>\n",
       "      <td>Apples</td>\n",
       "      <td>1000000</td>\n",
       "      <td>1500000</td>\n",
       "      <td>2500000</td>\n",
       "    </tr>\n",
       "    <tr>\n",
       "      <td>1</td>\n",
       "      <td>Oranges</td>\n",
       "      <td>2000000</td>\n",
       "      <td>3000000</td>\n",
       "      <td>5000000</td>\n",
       "    </tr>\n",
       "    <tr>\n",
       "      <td>2</td>\n",
       "      <td>Bananas</td>\n",
       "      <td>3000000</td>\n",
       "      <td>4500000</td>\n",
       "      <td>7500000</td>\n",
       "    </tr>\n",
       "    <tr>\n",
       "      <td>3</td>\n",
       "      <td>Pineapples</td>\n",
       "      <td>1500000</td>\n",
       "      <td>2250000</td>\n",
       "      <td>3750000</td>\n",
       "    </tr>\n",
       "    <tr>\n",
       "      <td>4</td>\n",
       "      <td>Peaches</td>\n",
       "      <td>2000000</td>\n",
       "      <td>1000000</td>\n",
       "      <td>3000000</td>\n",
       "    </tr>\n",
       "  </tbody>\n",
       "</table>\n",
       "</div>"
      ],
      "text/plain": [
       "  Product Name  Sales Q1 2019 (USD)  Sales Q2 2019 (USD)  total_sales\n",
       "0       Apples              1000000              1500000      2500000\n",
       "1      Oranges              2000000              3000000      5000000\n",
       "2      Bananas              3000000              4500000      7500000\n",
       "3   Pineapples              1500000              2250000      3750000\n",
       "4      Peaches              2000000              1000000      3000000"
      ]
     },
     "execution_count": 37,
     "metadata": {},
     "output_type": "execute_result"
    }
   ],
   "source": [
    "df.head()"
   ]
  },
  {
   "cell_type": "markdown",
   "metadata": {
    "deletable": false,
    "editable": false,
    "run_control": {
     "frozen": true
    }
   },
   "source": [
    "<span style=\"color:blue;font-weight:bold\">Exercise</span>: Using the example given above as a guide, create a new column in your DataFrame `df` with the column name `sales_q1_in_thousands`. Make the values in this column equal to the values in the column `Sales Q1 2019 (USD)` divided by `1000`: "
   ]
  },
  {
   "cell_type": "code",
   "execution_count": 38,
   "metadata": {
    "tags": [
     "exercise"
    ]
   },
   "outputs": [],
   "source": [
    "df[\"sales_q1_in_thousands\"] = df[\"Sales Q1 2019 (USD)\"]/1000.0"
   ]
  },
  {
   "cell_type": "code",
   "execution_count": 38,
   "metadata": {
    "deletable": false,
    "editable": false,
    "strategicml": {
     "execution_time": 1584759289468,
     "exercise_id": "7197bed9-6e7f-4cd9-b603-f3904e29391c",
     "points": 3
    },
    "tags": [
     "test"
    ]
   },
   "outputs": [
    {
     "data": {
      "text/html": [
       "<div style=\"background-color:#e8fcef\n",
       ";color:#333333;padding:10px;border-style:solid;border-width:2px;border-color:#038c33\">\n",
       "<div style=\"font-weight:bold\">Correct!</div>\n",
       "</div>"
      ],
      "text/plain": [
       "<IPython.core.display.HTML object>"
      ]
     },
     "metadata": {},
     "output_type": "display_data"
    }
   ],
   "source": [
    "error_msg  = \"<code>df['sales_q1_in_thousands']</code> does not appear to contain the correct data. Did you set it correctly?\"\n",
    "try:\n",
    "   assert df['sales_q1_in_thousands'].equals(df['Sales Q1 2019 (USD)']/1000), error_msg\n",
    "except AssertionError:\n",
    "    raise\n",
    "except:\n",
    "    raise ExerciseError(error_msg)\n",
    "success()"
   ]
  },
  {
   "cell_type": "code",
   "execution_count": 39,
   "metadata": {},
   "outputs": [
    {
     "data": {
      "text/html": [
       "<div>\n",
       "<style scoped>\n",
       "    .dataframe tbody tr th:only-of-type {\n",
       "        vertical-align: middle;\n",
       "    }\n",
       "\n",
       "    .dataframe tbody tr th {\n",
       "        vertical-align: top;\n",
       "    }\n",
       "\n",
       "    .dataframe thead th {\n",
       "        text-align: right;\n",
       "    }\n",
       "</style>\n",
       "<table border=\"1\" class=\"dataframe\">\n",
       "  <thead>\n",
       "    <tr style=\"text-align: right;\">\n",
       "      <th></th>\n",
       "      <th>Product Name</th>\n",
       "      <th>Sales Q1 2019 (USD)</th>\n",
       "      <th>Sales Q2 2019 (USD)</th>\n",
       "      <th>total_sales</th>\n",
       "      <th>sales_q1_in_thousands</th>\n",
       "    </tr>\n",
       "  </thead>\n",
       "  <tbody>\n",
       "    <tr>\n",
       "      <td>0</td>\n",
       "      <td>Apples</td>\n",
       "      <td>1000000</td>\n",
       "      <td>1500000</td>\n",
       "      <td>2500000</td>\n",
       "      <td>1000.0</td>\n",
       "    </tr>\n",
       "    <tr>\n",
       "      <td>1</td>\n",
       "      <td>Oranges</td>\n",
       "      <td>2000000</td>\n",
       "      <td>3000000</td>\n",
       "      <td>5000000</td>\n",
       "      <td>2000.0</td>\n",
       "    </tr>\n",
       "    <tr>\n",
       "      <td>2</td>\n",
       "      <td>Bananas</td>\n",
       "      <td>3000000</td>\n",
       "      <td>4500000</td>\n",
       "      <td>7500000</td>\n",
       "      <td>3000.0</td>\n",
       "    </tr>\n",
       "    <tr>\n",
       "      <td>3</td>\n",
       "      <td>Pineapples</td>\n",
       "      <td>1500000</td>\n",
       "      <td>2250000</td>\n",
       "      <td>3750000</td>\n",
       "      <td>1500.0</td>\n",
       "    </tr>\n",
       "    <tr>\n",
       "      <td>4</td>\n",
       "      <td>Peaches</td>\n",
       "      <td>2000000</td>\n",
       "      <td>1000000</td>\n",
       "      <td>3000000</td>\n",
       "      <td>2000.0</td>\n",
       "    </tr>\n",
       "  </tbody>\n",
       "</table>\n",
       "</div>"
      ],
      "text/plain": [
       "  Product Name  Sales Q1 2019 (USD)  Sales Q2 2019 (USD)  total_sales  \\\n",
       "0       Apples              1000000              1500000      2500000   \n",
       "1      Oranges              2000000              3000000      5000000   \n",
       "2      Bananas              3000000              4500000      7500000   \n",
       "3   Pineapples              1500000              2250000      3750000   \n",
       "4      Peaches              2000000              1000000      3000000   \n",
       "\n",
       "   sales_q1_in_thousands  \n",
       "0                 1000.0  \n",
       "1                 2000.0  \n",
       "2                 3000.0  \n",
       "3                 1500.0  \n",
       "4                 2000.0  "
      ]
     },
     "execution_count": 39,
     "metadata": {},
     "output_type": "execute_result"
    }
   ],
   "source": [
    "df.head()"
   ]
  },
  {
   "cell_type": "markdown",
   "metadata": {
    "deletable": false,
    "editable": false,
    "run_control": {
     "frozen": true
    }
   },
   "source": [
    "### Downloading Modules \n",
    "\n",
    "Where do we get these modules (\"books\") for Python to learn from? Modules are stored in the Python Package Index (PyPI) which you can view online [here](https://pypi.org). We have pre-installed all of the modules required for this course, so you will not need to worry about installing any modules as long as you access the course materials through this website. The process for installing modules on your own computer is beyond the scope of this course, but you can consult the reference [here](https://packaging.python.org/tutorials/installing-packages/) for guidance if you should need to do so at a later time."
   ]
  },
  {
   "cell_type": "markdown",
   "metadata": {
    "deletable": false,
    "editable": false,
    "run_control": {
     "frozen": true
    }
   },
   "source": [
    "### Conclusion\n",
    "\n",
    "Congratulations, you are now working with real data! In the next lesson, we will learn how we can use this data to answer interesting and useful questions. "
   ]
  }
 ],
 "metadata": {
  "celltoolbar": null,
  "kernelspec": {
   "display_name": "Python 3",
   "language": "python",
   "name": "python3"
  },
  "language_info": {
   "codemirror_mode": {
    "name": "ipython",
    "version": 3
   },
   "file_extension": ".py",
   "mimetype": "text/x-python",
   "name": "python",
   "nbconvert_exporter": "python",
   "pygments_lexer": "ipython3",
   "version": "3.7.3"
  },
  "strategicml": {
   "lesson_id": "4df2adfd-2184-4b73-b0db-b669fe4eacc0",
   "release": true
  }
 },
 "nbformat": 4,
 "nbformat_minor": 2
}
