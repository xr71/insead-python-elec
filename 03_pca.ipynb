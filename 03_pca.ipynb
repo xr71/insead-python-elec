{
 "cells": [
  {
   "cell_type": "markdown",
   "metadata": {
    "deletable": false,
    "editable": false,
    "run_control": {
     "frozen": true
    }
   },
   "source": [
    "## Principal Component Analysis\n",
    "\n",
    "Now that we have learned the basics of the Python language and studied the functionality of several higher-level modules, we are ready to experiment with some industry-standard tools for machine learning. We are going to start with the family of methods that are collectively referred to as *unsupervised* machine learning. \n",
    "\n",
    "Unsupervised machine learning methods are all about revealing patterns hidden in our data. For example, there may be hidden patterns in our customer survey data that can tell us what our customers really care about. In this lesson, we will learn how to use the tool **Principal Component Analysis (PCA)** to reveal these patterns."
   ]
  },
  {
   "cell_type": "markdown",
   "metadata": {
    "deletable": false,
    "editable": false,
    "run_control": {
     "frozen": true
    }
   },
   "source": [
    "### An Example Dataset\n",
    "\n",
    "Before we learn how to use PCA, we need some data to work with. Our dataset of choice will be a csv file containing customers' answers to a real-life customer satisfaction survey performed by the San Francisco International Airport ([source](https://www.flysfo.com/media/customer-survey-data)). The survey answers are on a scale of 1 (very bad) to 5 (very good.) While we are using an airport-specific survey in this lesson, you could apply PCA similarly to any survey dataset relevant in your industry. Let's load this data and take a look at it:"
   ]
  },
  {
   "cell_type": "code",
   "execution_count": 1,
   "metadata": {},
   "outputs": [
    {
     "data": {
      "text/html": [
       "<div>\n",
       "<style scoped>\n",
       "    .dataframe tbody tr th:only-of-type {\n",
       "        vertical-align: middle;\n",
       "    }\n",
       "\n",
       "    .dataframe tbody tr th {\n",
       "        vertical-align: top;\n",
       "    }\n",
       "\n",
       "    .dataframe thead th {\n",
       "        text-align: right;\n",
       "    }\n",
       "</style>\n",
       "<table border=\"1\" class=\"dataframe\">\n",
       "  <thead>\n",
       "    <tr style=\"text-align: right;\">\n",
       "      <th></th>\n",
       "      <th>Artwork and exhibitions</th>\n",
       "      <th>Restaurants</th>\n",
       "      <th>Retail shops and concessions</th>\n",
       "      <th>Signs and directions inside SFO</th>\n",
       "      <th>Escalators/Elevators/Moving walkways</th>\n",
       "      <th>Information on screens/monitors</th>\n",
       "      <th>Information booths (lower level - near baggage claim)</th>\n",
       "      <th>Information booths (upper level - departure area)</th>\n",
       "      <th>Accessing and using free WiFi at SFO</th>\n",
       "      <th>Signs and directions on SFO airport roadways</th>\n",
       "      <th>Airport parking facilities</th>\n",
       "      <th>AirTrain</th>\n",
       "      <th>Long term parking lot shuttle (bus ride)</th>\n",
       "      <th>Airport Rental Car Center</th>\n",
       "      <th>SFO Airport as a whole</th>\n",
       "    </tr>\n",
       "  </thead>\n",
       "  <tbody>\n",
       "    <tr>\n",
       "      <td>0</td>\n",
       "      <td>3.0</td>\n",
       "      <td>3.0</td>\n",
       "      <td>3.0</td>\n",
       "      <td>3.0</td>\n",
       "      <td>3.0</td>\n",
       "      <td>3.0</td>\n",
       "      <td>3.0</td>\n",
       "      <td>3.0</td>\n",
       "      <td>3.0</td>\n",
       "      <td>3.0</td>\n",
       "      <td>3.0</td>\n",
       "      <td>3.0</td>\n",
       "      <td>3.0</td>\n",
       "      <td>3.0</td>\n",
       "      <td>3.0</td>\n",
       "    </tr>\n",
       "    <tr>\n",
       "      <td>1</td>\n",
       "      <td>5.0</td>\n",
       "      <td>5.0</td>\n",
       "      <td>5.0</td>\n",
       "      <td>5.0</td>\n",
       "      <td>5.0</td>\n",
       "      <td>5.0</td>\n",
       "      <td>3.0</td>\n",
       "      <td>3.0</td>\n",
       "      <td>3.0</td>\n",
       "      <td>4.0</td>\n",
       "      <td>4.0</td>\n",
       "      <td>4.0</td>\n",
       "      <td>4.0</td>\n",
       "      <td>4.0</td>\n",
       "      <td>4.0</td>\n",
       "    </tr>\n",
       "    <tr>\n",
       "      <td>2</td>\n",
       "      <td>3.0</td>\n",
       "      <td>3.0</td>\n",
       "      <td>3.0</td>\n",
       "      <td>3.0</td>\n",
       "      <td>3.0</td>\n",
       "      <td>1.0</td>\n",
       "      <td>3.0</td>\n",
       "      <td>3.0</td>\n",
       "      <td>4.0</td>\n",
       "      <td>3.0</td>\n",
       "      <td>3.0</td>\n",
       "      <td>3.0</td>\n",
       "      <td>3.0</td>\n",
       "      <td>3.0</td>\n",
       "      <td>3.0</td>\n",
       "    </tr>\n",
       "    <tr>\n",
       "      <td>3</td>\n",
       "      <td>4.0</td>\n",
       "      <td>4.0</td>\n",
       "      <td>4.0</td>\n",
       "      <td>4.0</td>\n",
       "      <td>4.0</td>\n",
       "      <td>3.0</td>\n",
       "      <td>4.0</td>\n",
       "      <td>4.0</td>\n",
       "      <td>4.0</td>\n",
       "      <td>4.0</td>\n",
       "      <td>4.0</td>\n",
       "      <td>4.0</td>\n",
       "      <td>4.0</td>\n",
       "      <td>4.0</td>\n",
       "      <td>4.0</td>\n",
       "    </tr>\n",
       "    <tr>\n",
       "      <td>4</td>\n",
       "      <td>2.0</td>\n",
       "      <td>3.0</td>\n",
       "      <td>2.0</td>\n",
       "      <td>3.0</td>\n",
       "      <td>3.0</td>\n",
       "      <td>3.0</td>\n",
       "      <td>3.0</td>\n",
       "      <td>3.0</td>\n",
       "      <td>3.0</td>\n",
       "      <td>3.0</td>\n",
       "      <td>3.0</td>\n",
       "      <td>3.0</td>\n",
       "      <td>3.0</td>\n",
       "      <td>3.0</td>\n",
       "      <td>3.0</td>\n",
       "    </tr>\n",
       "  </tbody>\n",
       "</table>\n",
       "</div>"
      ],
      "text/plain": [
       "   Artwork and exhibitions  Restaurants  Retail shops and concessions  \\\n",
       "0                      3.0          3.0                           3.0   \n",
       "1                      5.0          5.0                           5.0   \n",
       "2                      3.0          3.0                           3.0   \n",
       "3                      4.0          4.0                           4.0   \n",
       "4                      2.0          3.0                           2.0   \n",
       "\n",
       "   Signs and directions inside SFO  Escalators/Elevators/Moving walkways  \\\n",
       "0                              3.0                                   3.0   \n",
       "1                              5.0                                   5.0   \n",
       "2                              3.0                                   3.0   \n",
       "3                              4.0                                   4.0   \n",
       "4                              3.0                                   3.0   \n",
       "\n",
       "   Information on screens/monitors  \\\n",
       "0                              3.0   \n",
       "1                              5.0   \n",
       "2                              1.0   \n",
       "3                              3.0   \n",
       "4                              3.0   \n",
       "\n",
       "   Information booths (lower level - near baggage claim)  \\\n",
       "0                                                3.0       \n",
       "1                                                3.0       \n",
       "2                                                3.0       \n",
       "3                                                4.0       \n",
       "4                                                3.0       \n",
       "\n",
       "   Information booths (upper level - departure area)  \\\n",
       "0                                                3.0   \n",
       "1                                                3.0   \n",
       "2                                                3.0   \n",
       "3                                                4.0   \n",
       "4                                                3.0   \n",
       "\n",
       "   Accessing and using free WiFi at SFO  \\\n",
       "0                                   3.0   \n",
       "1                                   3.0   \n",
       "2                                   4.0   \n",
       "3                                   4.0   \n",
       "4                                   3.0   \n",
       "\n",
       "   Signs and directions on SFO airport roadways  Airport parking facilities  \\\n",
       "0                                           3.0                         3.0   \n",
       "1                                           4.0                         4.0   \n",
       "2                                           3.0                         3.0   \n",
       "3                                           4.0                         4.0   \n",
       "4                                           3.0                         3.0   \n",
       "\n",
       "   AirTrain  Long term parking lot shuttle (bus ride)  \\\n",
       "0       3.0                                       3.0   \n",
       "1       4.0                                       4.0   \n",
       "2       3.0                                       3.0   \n",
       "3       4.0                                       4.0   \n",
       "4       3.0                                       3.0   \n",
       "\n",
       "   Airport Rental Car Center  SFO Airport as a whole  \n",
       "0                        3.0                     3.0  \n",
       "1                        4.0                     4.0  \n",
       "2                        3.0                     3.0  \n",
       "3                        4.0                     4.0  \n",
       "4                        3.0                     3.0  "
      ]
     },
     "execution_count": 1,
     "metadata": {},
     "output_type": "execute_result"
    }
   ],
   "source": [
    "import pandas as pd\n",
    "survey_df = pd.read_csv('data/pca_survey.csv')\n",
    "survey_df.head()"
   ]
  },
  {
   "cell_type": "markdown",
   "metadata": {
    "deletable": false,
    "editable": false,
    "run_control": {
     "frozen": true
    }
   },
   "source": [
    "You can see that each row of the table above corresponds to a single customer, and each column contains that customer's answer to a particular survey question."
   ]
  },
  {
   "cell_type": "markdown",
   "metadata": {
    "deletable": false,
    "editable": false,
    "run_control": {
     "frozen": true
    }
   },
   "source": [
    "There are fifteen questions in the survey above. This is a large number, and many customers are likely unwilling to fill out the entire survey. The central question that the PCA method will answer for us is this: how many survey questions do we *actually* need to ask in order to learn everything that we need to know about our customers? Notice that some of the questions in the list appear to be redundant. For example, \"Information booths (lower level - near baggage claim)\" and  \"Information booths (upper level - departure area)\" could probably be replaced with just a single \"Information booths\" question, since most of the time customers give the same answer to both questions on this topic. PCA will identify patterns in our data that allow us to see which questions can be combined together, and thus it will tell us the total number of meaningful questions that we should ask. "
   ]
  },
  {
   "cell_type": "markdown",
   "metadata": {
    "deletable": false,
    "editable": false,
    "run_control": {
     "frozen": true
    }
   },
   "source": [
    "### Data Normalization\n",
    "\n",
    "Before we use the PCA method, we need to preprocess our data. In order to get the best results, it is standard practice to shift our data so each variable (survey question) has zero mean and unit variance. If those statistics terms are unfamiliar to you, do not worry, just think of this step as \"cleaning up our data.\" Curious readers can learn about the need for this preprocessing step [here](https://scikit-learn.org/stable/auto_examples/preprocessing/plot_scaling_importance.html). The code that performs this process is shown below:"
   ]
  },
  {
   "cell_type": "code",
   "execution_count": 2,
   "metadata": {
    "scrolled": true
   },
   "outputs": [],
   "source": [
    "from sklearn.preprocessing import StandardScaler\n",
    "\n",
    "scaler = StandardScaler()\n",
    "preprocessed_data = scaler.fit_transform(survey_df)"
   ]
  },
  {
   "cell_type": "markdown",
   "metadata": {
    "deletable": false,
    "editable": false,
    "run_control": {
     "frozen": true
    }
   },
   "source": [
    "Notice that we are importing functionality from the `sklearn` module - this new module contains many useful machine learning methods and we will use it extensively in this course. \n",
    "The variable `preprocessed_data` now contains a \"cleaned up\" version of our original survey question data from the table above."
   ]
  },
  {
   "cell_type": "markdown",
   "metadata": {
    "deletable": false,
    "editable": false,
    "run_control": {
     "frozen": true
    }
   },
   "source": [
    "### Running PCA\n",
    "\n",
    "Now that we have pre-processed our data, we can run PCA using the code below:"
   ]
  },
  {
   "cell_type": "code",
   "execution_count": 3,
   "metadata": {
    "scrolled": true
   },
   "outputs": [
    {
     "data": {
      "text/plain": [
       "PCA(copy=True, iterated_power='auto', n_components=None, random_state=None,\n",
       "    svd_solver='auto', tol=0.0, whiten=False)"
      ]
     },
     "execution_count": 3,
     "metadata": {},
     "output_type": "execute_result"
    }
   ],
   "source": [
    "from sklearn.decomposition import PCA\n",
    "\n",
    "pca_model = PCA()\n",
    "pca_model.fit(preprocessed_data)"
   ]
  },
  {
   "cell_type": "markdown",
   "metadata": {
    "deletable": false,
    "editable": false,
    "run_control": {
     "frozen": true
    }
   },
   "source": [
    "Believe it our not, that's actually all the code that we need. Our `pca_model` object now contains all of the results produced by the PCA algorithm. We can take a look at the data inside this object by listing its attributes in the same way that we learned in previous lessons. Click to the right of the `.` on the line below and hit `Tab` to see the attributes of this object:"
   ]
  },
  {
   "cell_type": "code",
   "execution_count": 5,
   "metadata": {
    "tags": [
     "raises-exception"
    ]
   },
   "outputs": [
    {
     "data": {
      "text/plain": [
       "<bound method _BasePCA.transform of PCA(copy=True, iterated_power='auto', n_components=None, random_state=None,\n",
       "    svd_solver='auto', tol=0.0, whiten=False)>"
      ]
     },
     "execution_count": 5,
     "metadata": {},
     "output_type": "execute_result"
    }
   ],
   "source": [
    "pca_model.transform"
   ]
  },
  {
   "cell_type": "markdown",
   "metadata": {
    "deletable": false,
    "editable": false,
    "run_control": {
     "frozen": true
    }
   },
   "source": [
    "### Analyzing the Results: How Many Questions to Ask?\n",
    "\n",
    "We can now answer the central question that we posed above: how many survey questions do we actually need to ask? The answer is contained within our `pca_model` object, in the attribute `explained_variance_ratio_`:"
   ]
  },
  {
   "cell_type": "code",
   "execution_count": 6,
   "metadata": {},
   "outputs": [
    {
     "data": {
      "text/plain": [
       "array([0.66494144, 0.0887632 , 0.0568264 , 0.04113386, 0.02568522,\n",
       "       0.0219077 , 0.01849753, 0.0164896 , 0.01568296, 0.01171462,\n",
       "       0.01104971, 0.0095403 , 0.00813736, 0.00736492, 0.00226517])"
      ]
     },
     "execution_count": 6,
     "metadata": {},
     "output_type": "execute_result"
    }
   ],
   "source": [
    "pca_model.explained_variance_ratio_"
   ]
  },
  {
   "cell_type": "code",
   "execution_count": 10,
   "metadata": {},
   "outputs": [
    {
     "data": {
      "text/plain": [
       "[<matplotlib.lines.Line2D at 0x7f1776f7b400>]"
      ]
     },
     "execution_count": 10,
     "metadata": {},
     "output_type": "execute_result"
    },
    {
     "data": {
      "image/png": "[encoded data removed]",
      "text/plain": [
       "<Figure size 432x288 with 1 Axes>"
      ]
     },
     "metadata": {
      "needs_background": "light"
     },
     "output_type": "display_data"
    }
   ],
   "source": [
    "import matplotlib.pyplot as plt\n",
    "plt.plot(range(1, len(pca_model.explained_variance_ratio_)+1), pca_model.explained_variance_ratio_)"
   ]
  },
  {
   "cell_type": "markdown",
   "metadata": {
    "deletable": false,
    "editable": false,
    "run_control": {
     "frozen": true
    }
   },
   "source": [
    "This array tells us that by asking one survey question, we recover ~66% of the information contained in our original survey dataset. By asking one additional question, we recover ~9% more information. We can see that each additional question that we ask gives us slightly less \"return on investment\" - eventually, each additional question that we add gives us less than 1% additional information about our customers. "
   ]
  },
  {
   "cell_type": "markdown",
   "metadata": {
    "deletable": false,
    "editable": false,
    "run_control": {
     "frozen": true
    }
   },
   "source": [
    "So, knowing this information, how many questions should we ask? There is no hard-and-fast rule for making this determination; in this case, we will aim to ask enough questions to recover 95% of the information in the original survey. If we add up the amount of information recovered by each question, we can see that a survey with only **nine** questions will fulfill this requirement:"
   ]
  },
  {
   "cell_type": "code",
   "execution_count": 11,
   "metadata": {},
   "outputs": [
    {
     "data": {
      "text/plain": [
       "0.9499279161131959"
      ]
     },
     "execution_count": 11,
     "metadata": {},
     "output_type": "execute_result"
    }
   ],
   "source": [
    "sum(pca_model.explained_variance_ratio_[0:9])"
   ]
  },
  {
   "cell_type": "markdown",
   "metadata": {
    "deletable": false,
    "editable": false,
    "run_control": {
     "frozen": true
    }
   },
   "source": [
    "### Additional Analysis: How to Write New Questions?\n",
    "\n",
    "We now know how many survey questions we need to ask in order to get the most information from our customers, without inconveniencing them by filling out a survey that is unnecessarily long. But while we know the *number* of questions that we need, we do not know specifically *what* these questions should be. That information is contained in the `components_` attribute of our `pca_model`. Let's take a look at the data stored inside that attribute:"
   ]
  },
  {
   "cell_type": "code",
   "execution_count": 12,
   "metadata": {
    "scrolled": true
   },
   "outputs": [
    {
     "data": {
      "text/plain": [
       "array([[-2.11634134e-01, -2.19265604e-01, -2.45889379e-01,\n",
       "        -2.54916954e-01, -2.68599445e-01, -2.68534939e-01,\n",
       "        -2.72034144e-01, -2.72098927e-01, -2.39227608e-01,\n",
       "        -2.61343483e-01, -2.68218856e-01, -2.73119224e-01,\n",
       "        -2.67885418e-01, -2.65908487e-01, -2.73599381e-01],\n",
       "       [-4.92998761e-01, -5.19172562e-01, -4.24297229e-01,\n",
       "        -1.12700896e-01, -7.79796130e-04,  4.93233590e-02,\n",
       "         6.25381337e-02,  4.38571975e-02,  1.16770697e-01,\n",
       "         2.45635039e-01,  2.36686732e-01,  2.06896564e-01,\n",
       "         2.11893419e-01,  2.45730704e-01, -9.12874703e-02],\n",
       "       [ 1.14842456e-01,  1.99408233e-01,  1.22004210e-01,\n",
       "        -2.19429991e-01, -2.59850276e-01, -2.77608701e-01,\n",
       "        -3.47596847e-01, -3.63269680e-01, -3.18626232e-01,\n",
       "         6.61883505e-02,  2.82866041e-01,  2.40467274e-01,\n",
       "         3.58710831e-01,  3.15728077e-01,  1.20568955e-01],\n",
       "       [ 6.85187063e-03, -1.95222337e-01, -6.45814323e-02,\n",
       "         4.86845946e-01,  4.03642485e-01,  3.74304083e-01,\n",
       "        -3.35718063e-01, -3.42759690e-01, -4.18842676e-01,\n",
       "         5.88903458e-02,  3.39584594e-02, -4.40046518e-02,\n",
       "        -5.73505467e-02, -3.00906040e-03,  4.63135378e-02],\n",
       "       [-3.69081945e-02,  3.81578075e-02, -3.84512382e-02,\n",
       "         4.40133779e-04, -3.21102306e-02, -5.46166743e-02,\n",
       "        -3.56161817e-01, -3.02291168e-01,  5.84259820e-01,\n",
       "         3.65050425e-01,  1.58378503e-01, -2.17134599e-01,\n",
       "        -1.03499093e-01, -2.93325565e-01,  3.60351709e-01],\n",
       "       [ 7.51012370e-01, -3.37686078e-01, -4.53096097e-01,\n",
       "        -1.17912686e-01, -8.04608131e-02, -4.61522267e-02,\n",
       "         8.17651291e-02,  1.05906701e-01, -1.14901336e-01,\n",
       "         1.16345092e-01,  5.22693922e-02, -1.86073300e-02,\n",
       "        -6.12773384e-02, -4.22850234e-02,  2.02196853e-01],\n",
       "       [ 2.27133867e-01, -9.48249366e-02, -1.39213360e-01,\n",
       "         1.77115875e-01,  6.94248722e-02,  7.72028159e-03,\n",
       "        -2.15312814e-01, -2.08140329e-01,  5.25937021e-01,\n",
       "        -5.45031042e-01, -1.93972873e-01,  2.23594444e-01,\n",
       "         1.98930495e-01,  2.37401243e-01, -1.92055707e-01],\n",
       "       [ 1.68729611e-01, -8.81036570e-02,  1.44002576e-01,\n",
       "         4.62188608e-01, -2.61049493e-01, -2.82795236e-01,\n",
       "         9.95225158e-03, -2.88725060e-02,  6.56176144e-02,\n",
       "         5.07832446e-01, -1.46182568e-01,  2.69524664e-02,\n",
       "         7.46752497e-03,  4.29148759e-02, -5.42372259e-01],\n",
       "       [ 1.90398662e-01,  1.07922286e-01,  6.81580386e-02,\n",
       "        -5.43060259e-01,  3.58158924e-01,  2.88748348e-01,\n",
       "        -1.15038505e-01, -1.18521357e-01,  7.35544416e-02,\n",
       "         2.27858583e-01,  6.59572087e-02,  2.21830690e-01,\n",
       "        -9.02487257e-02, -1.56081524e-01, -5.19818528e-01],\n",
       "       [-6.79095792e-03,  1.18318004e-01, -8.64317209e-02,\n",
       "        -1.78321118e-01, -2.43029876e-01,  4.61993439e-01,\n",
       "        -1.53110861e-02, -8.79467274e-02,  4.50715343e-03,\n",
       "         2.60053253e-01, -6.16046599e-01, -2.41793671e-01,\n",
       "         2.27437912e-01,  3.11046454e-01,  1.10053867e-01],\n",
       "       [-1.12240489e-01,  2.11067912e-01, -2.18142594e-01,\n",
       "         5.56653015e-02,  2.36464543e-03, -1.17134473e-01,\n",
       "        -2.92091928e-02, -3.90776690e-02, -3.26249341e-02,\n",
       "         1.40137006e-01, -3.36189546e-01,  6.60860358e-01,\n",
       "        -4.98008841e-01,  6.55558721e-02,  2.30842600e-01],\n",
       "       [ 2.35176693e-02, -7.78625850e-02,  1.17513112e-01,\n",
       "         9.50790130e-02, -6.50725288e-01,  5.52741755e-01,\n",
       "         2.67541296e-02, -6.37042366e-02,  2.45162844e-02,\n",
       "        -1.47706269e-01,  2.91466005e-01,  2.38497537e-01,\n",
       "        -1.84031470e-01, -1.87799046e-01, -5.83640673e-02],\n",
       "       [ 4.60897100e-02, -6.27265027e-01,  6.46880563e-01,\n",
       "        -1.91252713e-01,  5.29701866e-02, -6.28367830e-02,\n",
       "        -1.35932323e-02, -5.53520627e-02,  3.15890554e-02,\n",
       "         1.32039136e-02, -2.24981575e-01,  1.34041821e-01,\n",
       "        -1.15314878e-01,  8.05587575e-02,  2.23239708e-01],\n",
       "       [ 4.25298776e-02,  4.70620975e-02,  2.55370837e-02,\n",
       "        -5.31380150e-02,  1.43653234e-03,  2.00577251e-02,\n",
       "        -1.18625468e-02, -3.79998357e-02,  9.03914447e-02,\n",
       "        -2.17871774e-02,  2.66800913e-01, -3.24019957e-01,\n",
       "        -5.84957017e-01,  6.74240956e-01, -9.44402550e-02],\n",
       "       [ 1.02166234e-02,  1.81725761e-02, -3.07363736e-02,\n",
       "        -1.63160513e-03,  5.77444103e-02, -5.22689714e-02,\n",
       "         7.02280603e-01, -7.04245970e-01,  2.10031240e-02,\n",
       "        -1.05661512e-02,  2.05416239e-02, -1.94303675e-02,\n",
       "         7.38231610e-03, -3.76683589e-02,  2.37785908e-02]])"
      ]
     },
     "execution_count": 12,
     "metadata": {},
     "output_type": "execute_result"
    }
   ],
   "source": [
    "pca_model.components_"
   ]
  },
  {
   "cell_type": "markdown",
   "metadata": {
    "deletable": false,
    "editable": false,
    "run_control": {
     "frozen": true
    }
   },
   "source": [
    "Looks like `pca_model.components_` is a numpy array, just like the ones that we have worked with before. What do the numbers in this array mean? Let's visualize them in a pandas DataFrame to make it more clear:"
   ]
  },
  {
   "cell_type": "code",
   "execution_count": 13,
   "metadata": {},
   "outputs": [
    {
     "data": {
      "text/html": [
       "<div>\n",
       "<style scoped>\n",
       "    .dataframe tbody tr th:only-of-type {\n",
       "        vertical-align: middle;\n",
       "    }\n",
       "\n",
       "    .dataframe tbody tr th {\n",
       "        vertical-align: top;\n",
       "    }\n",
       "\n",
       "    .dataframe thead th {\n",
       "        text-align: right;\n",
       "    }\n",
       "</style>\n",
       "<table border=\"1\" class=\"dataframe\">\n",
       "  <thead>\n",
       "    <tr style=\"text-align: right;\">\n",
       "      <th></th>\n",
       "      <th>Artwork and exhibitions</th>\n",
       "      <th>Restaurants</th>\n",
       "      <th>Retail shops and concessions</th>\n",
       "      <th>Signs and directions inside SFO</th>\n",
       "      <th>Escalators/Elevators/Moving walkways</th>\n",
       "      <th>Information on screens/monitors</th>\n",
       "      <th>Information booths (lower level - near baggage claim)</th>\n",
       "      <th>Information booths (upper level - departure area)</th>\n",
       "      <th>Accessing and using free WiFi at SFO</th>\n",
       "      <th>Signs and directions on SFO airport roadways</th>\n",
       "      <th>Airport parking facilities</th>\n",
       "      <th>AirTrain</th>\n",
       "      <th>Long term parking lot shuttle (bus ride)</th>\n",
       "      <th>Airport Rental Car Center</th>\n",
       "      <th>SFO Airport as a whole</th>\n",
       "    </tr>\n",
       "  </thead>\n",
       "  <tbody>\n",
       "    <tr>\n",
       "      <td>0</td>\n",
       "      <td>-0.211634</td>\n",
       "      <td>-0.219266</td>\n",
       "      <td>-0.245889</td>\n",
       "      <td>-0.254917</td>\n",
       "      <td>-0.268599</td>\n",
       "      <td>-0.268535</td>\n",
       "      <td>-0.272034</td>\n",
       "      <td>-0.272099</td>\n",
       "      <td>-0.239228</td>\n",
       "      <td>-0.261343</td>\n",
       "      <td>-0.268219</td>\n",
       "      <td>-0.273119</td>\n",
       "      <td>-0.267885</td>\n",
       "      <td>-0.265908</td>\n",
       "      <td>-0.273599</td>\n",
       "    </tr>\n",
       "    <tr>\n",
       "      <td>1</td>\n",
       "      <td>-0.492999</td>\n",
       "      <td>-0.519173</td>\n",
       "      <td>-0.424297</td>\n",
       "      <td>-0.112701</td>\n",
       "      <td>-0.000780</td>\n",
       "      <td>0.049323</td>\n",
       "      <td>0.062538</td>\n",
       "      <td>0.043857</td>\n",
       "      <td>0.116771</td>\n",
       "      <td>0.245635</td>\n",
       "      <td>0.236687</td>\n",
       "      <td>0.206897</td>\n",
       "      <td>0.211893</td>\n",
       "      <td>0.245731</td>\n",
       "      <td>-0.091287</td>\n",
       "    </tr>\n",
       "    <tr>\n",
       "      <td>2</td>\n",
       "      <td>0.114842</td>\n",
       "      <td>0.199408</td>\n",
       "      <td>0.122004</td>\n",
       "      <td>-0.219430</td>\n",
       "      <td>-0.259850</td>\n",
       "      <td>-0.277609</td>\n",
       "      <td>-0.347597</td>\n",
       "      <td>-0.363270</td>\n",
       "      <td>-0.318626</td>\n",
       "      <td>0.066188</td>\n",
       "      <td>0.282866</td>\n",
       "      <td>0.240467</td>\n",
       "      <td>0.358711</td>\n",
       "      <td>0.315728</td>\n",
       "      <td>0.120569</td>\n",
       "    </tr>\n",
       "    <tr>\n",
       "      <td>3</td>\n",
       "      <td>0.006852</td>\n",
       "      <td>-0.195222</td>\n",
       "      <td>-0.064581</td>\n",
       "      <td>0.486846</td>\n",
       "      <td>0.403642</td>\n",
       "      <td>0.374304</td>\n",
       "      <td>-0.335718</td>\n",
       "      <td>-0.342760</td>\n",
       "      <td>-0.418843</td>\n",
       "      <td>0.058890</td>\n",
       "      <td>0.033958</td>\n",
       "      <td>-0.044005</td>\n",
       "      <td>-0.057351</td>\n",
       "      <td>-0.003009</td>\n",
       "      <td>0.046314</td>\n",
       "    </tr>\n",
       "    <tr>\n",
       "      <td>4</td>\n",
       "      <td>-0.036908</td>\n",
       "      <td>0.038158</td>\n",
       "      <td>-0.038451</td>\n",
       "      <td>0.000440</td>\n",
       "      <td>-0.032110</td>\n",
       "      <td>-0.054617</td>\n",
       "      <td>-0.356162</td>\n",
       "      <td>-0.302291</td>\n",
       "      <td>0.584260</td>\n",
       "      <td>0.365050</td>\n",
       "      <td>0.158379</td>\n",
       "      <td>-0.217135</td>\n",
       "      <td>-0.103499</td>\n",
       "      <td>-0.293326</td>\n",
       "      <td>0.360352</td>\n",
       "    </tr>\n",
       "    <tr>\n",
       "      <td>5</td>\n",
       "      <td>0.751012</td>\n",
       "      <td>-0.337686</td>\n",
       "      <td>-0.453096</td>\n",
       "      <td>-0.117913</td>\n",
       "      <td>-0.080461</td>\n",
       "      <td>-0.046152</td>\n",
       "      <td>0.081765</td>\n",
       "      <td>0.105907</td>\n",
       "      <td>-0.114901</td>\n",
       "      <td>0.116345</td>\n",
       "      <td>0.052269</td>\n",
       "      <td>-0.018607</td>\n",
       "      <td>-0.061277</td>\n",
       "      <td>-0.042285</td>\n",
       "      <td>0.202197</td>\n",
       "    </tr>\n",
       "    <tr>\n",
       "      <td>6</td>\n",
       "      <td>0.227134</td>\n",
       "      <td>-0.094825</td>\n",
       "      <td>-0.139213</td>\n",
       "      <td>0.177116</td>\n",
       "      <td>0.069425</td>\n",
       "      <td>0.007720</td>\n",
       "      <td>-0.215313</td>\n",
       "      <td>-0.208140</td>\n",
       "      <td>0.525937</td>\n",
       "      <td>-0.545031</td>\n",
       "      <td>-0.193973</td>\n",
       "      <td>0.223594</td>\n",
       "      <td>0.198930</td>\n",
       "      <td>0.237401</td>\n",
       "      <td>-0.192056</td>\n",
       "    </tr>\n",
       "    <tr>\n",
       "      <td>7</td>\n",
       "      <td>0.168730</td>\n",
       "      <td>-0.088104</td>\n",
       "      <td>0.144003</td>\n",
       "      <td>0.462189</td>\n",
       "      <td>-0.261049</td>\n",
       "      <td>-0.282795</td>\n",
       "      <td>0.009952</td>\n",
       "      <td>-0.028873</td>\n",
       "      <td>0.065618</td>\n",
       "      <td>0.507832</td>\n",
       "      <td>-0.146183</td>\n",
       "      <td>0.026952</td>\n",
       "      <td>0.007468</td>\n",
       "      <td>0.042915</td>\n",
       "      <td>-0.542372</td>\n",
       "    </tr>\n",
       "    <tr>\n",
       "      <td>8</td>\n",
       "      <td>0.190399</td>\n",
       "      <td>0.107922</td>\n",
       "      <td>0.068158</td>\n",
       "      <td>-0.543060</td>\n",
       "      <td>0.358159</td>\n",
       "      <td>0.288748</td>\n",
       "      <td>-0.115039</td>\n",
       "      <td>-0.118521</td>\n",
       "      <td>0.073554</td>\n",
       "      <td>0.227859</td>\n",
       "      <td>0.065957</td>\n",
       "      <td>0.221831</td>\n",
       "      <td>-0.090249</td>\n",
       "      <td>-0.156082</td>\n",
       "      <td>-0.519819</td>\n",
       "    </tr>\n",
       "    <tr>\n",
       "      <td>9</td>\n",
       "      <td>-0.006791</td>\n",
       "      <td>0.118318</td>\n",
       "      <td>-0.086432</td>\n",
       "      <td>-0.178321</td>\n",
       "      <td>-0.243030</td>\n",
       "      <td>0.461993</td>\n",
       "      <td>-0.015311</td>\n",
       "      <td>-0.087947</td>\n",
       "      <td>0.004507</td>\n",
       "      <td>0.260053</td>\n",
       "      <td>-0.616047</td>\n",
       "      <td>-0.241794</td>\n",
       "      <td>0.227438</td>\n",
       "      <td>0.311046</td>\n",
       "      <td>0.110054</td>\n",
       "    </tr>\n",
       "    <tr>\n",
       "      <td>10</td>\n",
       "      <td>-0.112240</td>\n",
       "      <td>0.211068</td>\n",
       "      <td>-0.218143</td>\n",
       "      <td>0.055665</td>\n",
       "      <td>0.002365</td>\n",
       "      <td>-0.117134</td>\n",
       "      <td>-0.029209</td>\n",
       "      <td>-0.039078</td>\n",
       "      <td>-0.032625</td>\n",
       "      <td>0.140137</td>\n",
       "      <td>-0.336190</td>\n",
       "      <td>0.660860</td>\n",
       "      <td>-0.498009</td>\n",
       "      <td>0.065556</td>\n",
       "      <td>0.230843</td>\n",
       "    </tr>\n",
       "    <tr>\n",
       "      <td>11</td>\n",
       "      <td>0.023518</td>\n",
       "      <td>-0.077863</td>\n",
       "      <td>0.117513</td>\n",
       "      <td>0.095079</td>\n",
       "      <td>-0.650725</td>\n",
       "      <td>0.552742</td>\n",
       "      <td>0.026754</td>\n",
       "      <td>-0.063704</td>\n",
       "      <td>0.024516</td>\n",
       "      <td>-0.147706</td>\n",
       "      <td>0.291466</td>\n",
       "      <td>0.238498</td>\n",
       "      <td>-0.184031</td>\n",
       "      <td>-0.187799</td>\n",
       "      <td>-0.058364</td>\n",
       "    </tr>\n",
       "    <tr>\n",
       "      <td>12</td>\n",
       "      <td>0.046090</td>\n",
       "      <td>-0.627265</td>\n",
       "      <td>0.646881</td>\n",
       "      <td>-0.191253</td>\n",
       "      <td>0.052970</td>\n",
       "      <td>-0.062837</td>\n",
       "      <td>-0.013593</td>\n",
       "      <td>-0.055352</td>\n",
       "      <td>0.031589</td>\n",
       "      <td>0.013204</td>\n",
       "      <td>-0.224982</td>\n",
       "      <td>0.134042</td>\n",
       "      <td>-0.115315</td>\n",
       "      <td>0.080559</td>\n",
       "      <td>0.223240</td>\n",
       "    </tr>\n",
       "    <tr>\n",
       "      <td>13</td>\n",
       "      <td>0.042530</td>\n",
       "      <td>0.047062</td>\n",
       "      <td>0.025537</td>\n",
       "      <td>-0.053138</td>\n",
       "      <td>0.001437</td>\n",
       "      <td>0.020058</td>\n",
       "      <td>-0.011863</td>\n",
       "      <td>-0.038000</td>\n",
       "      <td>0.090391</td>\n",
       "      <td>-0.021787</td>\n",
       "      <td>0.266801</td>\n",
       "      <td>-0.324020</td>\n",
       "      <td>-0.584957</td>\n",
       "      <td>0.674241</td>\n",
       "      <td>-0.094440</td>\n",
       "    </tr>\n",
       "    <tr>\n",
       "      <td>14</td>\n",
       "      <td>0.010217</td>\n",
       "      <td>0.018173</td>\n",
       "      <td>-0.030736</td>\n",
       "      <td>-0.001632</td>\n",
       "      <td>0.057744</td>\n",
       "      <td>-0.052269</td>\n",
       "      <td>0.702281</td>\n",
       "      <td>-0.704246</td>\n",
       "      <td>0.021003</td>\n",
       "      <td>-0.010566</td>\n",
       "      <td>0.020542</td>\n",
       "      <td>-0.019430</td>\n",
       "      <td>0.007382</td>\n",
       "      <td>-0.037668</td>\n",
       "      <td>0.023779</td>\n",
       "    </tr>\n",
       "  </tbody>\n",
       "</table>\n",
       "</div>"
      ],
      "text/plain": [
       "    Artwork and exhibitions  Restaurants  Retail shops and concessions  \\\n",
       "0                 -0.211634    -0.219266                     -0.245889   \n",
       "1                 -0.492999    -0.519173                     -0.424297   \n",
       "2                  0.114842     0.199408                      0.122004   \n",
       "3                  0.006852    -0.195222                     -0.064581   \n",
       "4                 -0.036908     0.038158                     -0.038451   \n",
       "5                  0.751012    -0.337686                     -0.453096   \n",
       "6                  0.227134    -0.094825                     -0.139213   \n",
       "7                  0.168730    -0.088104                      0.144003   \n",
       "8                  0.190399     0.107922                      0.068158   \n",
       "9                 -0.006791     0.118318                     -0.086432   \n",
       "10                -0.112240     0.211068                     -0.218143   \n",
       "11                 0.023518    -0.077863                      0.117513   \n",
       "12                 0.046090    -0.627265                      0.646881   \n",
       "13                 0.042530     0.047062                      0.025537   \n",
       "14                 0.010217     0.018173                     -0.030736   \n",
       "\n",
       "    Signs and directions inside SFO  Escalators/Elevators/Moving walkways  \\\n",
       "0                         -0.254917                             -0.268599   \n",
       "1                         -0.112701                             -0.000780   \n",
       "2                         -0.219430                             -0.259850   \n",
       "3                          0.486846                              0.403642   \n",
       "4                          0.000440                             -0.032110   \n",
       "5                         -0.117913                             -0.080461   \n",
       "6                          0.177116                              0.069425   \n",
       "7                          0.462189                             -0.261049   \n",
       "8                         -0.543060                              0.358159   \n",
       "9                         -0.178321                             -0.243030   \n",
       "10                         0.055665                              0.002365   \n",
       "11                         0.095079                             -0.650725   \n",
       "12                        -0.191253                              0.052970   \n",
       "13                        -0.053138                              0.001437   \n",
       "14                        -0.001632                              0.057744   \n",
       "\n",
       "    Information on screens/monitors  \\\n",
       "0                         -0.268535   \n",
       "1                          0.049323   \n",
       "2                         -0.277609   \n",
       "3                          0.374304   \n",
       "4                         -0.054617   \n",
       "5                         -0.046152   \n",
       "6                          0.007720   \n",
       "7                         -0.282795   \n",
       "8                          0.288748   \n",
       "9                          0.461993   \n",
       "10                        -0.117134   \n",
       "11                         0.552742   \n",
       "12                        -0.062837   \n",
       "13                         0.020058   \n",
       "14                        -0.052269   \n",
       "\n",
       "    Information booths (lower level - near baggage claim)  \\\n",
       "0                                           -0.272034       \n",
       "1                                            0.062538       \n",
       "2                                           -0.347597       \n",
       "3                                           -0.335718       \n",
       "4                                           -0.356162       \n",
       "5                                            0.081765       \n",
       "6                                           -0.215313       \n",
       "7                                            0.009952       \n",
       "8                                           -0.115039       \n",
       "9                                           -0.015311       \n",
       "10                                          -0.029209       \n",
       "11                                           0.026754       \n",
       "12                                          -0.013593       \n",
       "13                                          -0.011863       \n",
       "14                                           0.702281       \n",
       "\n",
       "    Information booths (upper level - departure area)  \\\n",
       "0                                           -0.272099   \n",
       "1                                            0.043857   \n",
       "2                                           -0.363270   \n",
       "3                                           -0.342760   \n",
       "4                                           -0.302291   \n",
       "5                                            0.105907   \n",
       "6                                           -0.208140   \n",
       "7                                           -0.028873   \n",
       "8                                           -0.118521   \n",
       "9                                           -0.087947   \n",
       "10                                          -0.039078   \n",
       "11                                          -0.063704   \n",
       "12                                          -0.055352   \n",
       "13                                          -0.038000   \n",
       "14                                          -0.704246   \n",
       "\n",
       "    Accessing and using free WiFi at SFO  \\\n",
       "0                              -0.239228   \n",
       "1                               0.116771   \n",
       "2                              -0.318626   \n",
       "3                              -0.418843   \n",
       "4                               0.584260   \n",
       "5                              -0.114901   \n",
       "6                               0.525937   \n",
       "7                               0.065618   \n",
       "8                               0.073554   \n",
       "9                               0.004507   \n",
       "10                             -0.032625   \n",
       "11                              0.024516   \n",
       "12                              0.031589   \n",
       "13                              0.090391   \n",
       "14                              0.021003   \n",
       "\n",
       "    Signs and directions on SFO airport roadways  Airport parking facilities  \\\n",
       "0                                      -0.261343                   -0.268219   \n",
       "1                                       0.245635                    0.236687   \n",
       "2                                       0.066188                    0.282866   \n",
       "3                                       0.058890                    0.033958   \n",
       "4                                       0.365050                    0.158379   \n",
       "5                                       0.116345                    0.052269   \n",
       "6                                      -0.545031                   -0.193973   \n",
       "7                                       0.507832                   -0.146183   \n",
       "8                                       0.227859                    0.065957   \n",
       "9                                       0.260053                   -0.616047   \n",
       "10                                      0.140137                   -0.336190   \n",
       "11                                     -0.147706                    0.291466   \n",
       "12                                      0.013204                   -0.224982   \n",
       "13                                     -0.021787                    0.266801   \n",
       "14                                     -0.010566                    0.020542   \n",
       "\n",
       "    AirTrain  Long term parking lot shuttle (bus ride)  \\\n",
       "0  -0.273119                                 -0.267885   \n",
       "1   0.206897                                  0.211893   \n",
       "2   0.240467                                  0.358711   \n",
       "3  -0.044005                                 -0.057351   \n",
       "4  -0.217135                                 -0.103499   \n",
       "5  -0.018607                                 -0.061277   \n",
       "6   0.223594                                  0.198930   \n",
       "7   0.026952                                  0.007468   \n",
       "8   0.221831                                 -0.090249   \n",
       "9  -0.241794                                  0.227438   \n",
       "10  0.660860                                 -0.498009   \n",
       "11  0.238498                                 -0.184031   \n",
       "12  0.134042                                 -0.115315   \n",
       "13 -0.324020                                 -0.584957   \n",
       "14 -0.019430                                  0.007382   \n",
       "\n",
       "    Airport Rental Car Center  SFO Airport as a whole  \n",
       "0                   -0.265908               -0.273599  \n",
       "1                    0.245731               -0.091287  \n",
       "2                    0.315728                0.120569  \n",
       "3                   -0.003009                0.046314  \n",
       "4                   -0.293326                0.360352  \n",
       "5                   -0.042285                0.202197  \n",
       "6                    0.237401               -0.192056  \n",
       "7                    0.042915               -0.542372  \n",
       "8                   -0.156082               -0.519819  \n",
       "9                    0.311046                0.110054  \n",
       "10                   0.065556                0.230843  \n",
       "11                  -0.187799               -0.058364  \n",
       "12                   0.080559                0.223240  \n",
       "13                   0.674241               -0.094440  \n",
       "14                  -0.037668                0.023779  "
      ]
     },
     "execution_count": 13,
     "metadata": {},
     "output_type": "execute_result"
    }
   ],
   "source": [
    "pd.DataFrame(\n",
    "    pca_model.components_,\n",
    "    columns=survey_df.columns\n",
    ")"
   ]
  },
  {
   "cell_type": "markdown",
   "metadata": {
    "deletable": false,
    "editable": false,
    "run_control": {
     "frozen": true
    }
   },
   "source": [
    "Let's now take some time to understand the table above in great detail. Each row is a *component* that the PCA method has calculated for us. These components are each a *combination* of our initial set of questions. The nature of each combination tells us how we should create the new questions for our improved shorter survey."
   ]
  },
  {
   "cell_type": "markdown",
   "metadata": {
    "deletable": false,
    "editable": false,
    "run_control": {
     "frozen": true
    }
   },
   "source": [
    "Recall that, according to our analysis above, we only need one question to recover over half of the information in our original survey. How should this question be phrased? Take a look at the first row of the components dataframe above and ignore any negative signs for the moment. We can see that this component is a (roughly) even combination of every single question in our original survey, because all of the numbers in this row are approximately equal. How could we construct a single survey question that yields such an \"even combination?\" We might simply ask \"rate your overall experience on a scale of one to five.\" PCA is telling us that the answer to this single question should allow us to *predict* how a given customer would respond to most of the other questions. A quick glance at our data supports this hypothesis - most customers give either uniformly good or uniformly bad ratings across all categories. "
   ]
  },
  {
   "cell_type": "markdown",
   "metadata": {
    "deletable": false,
    "editable": false,
    "run_control": {
     "frozen": true
    }
   },
   "source": [
    "But what about the other components? We decided above that we want our new survey to contain nine questions, so we need to look at the first nine rows of the table above. Many of these rows are very difficult to interpret because they contain a wide range of unequal small numbers. How would we phrase a question corresponding to such a combination? The answer is very unclear - we will therefore need to transform our data further in order to find the answer. "
   ]
  },
  {
   "cell_type": "markdown",
   "metadata": {
    "deletable": false,
    "editable": false,
    "run_control": {
     "frozen": true
    }
   },
   "source": [
    "### Post-Processing: Varimax Rotation\n",
    "\n",
    "Ideally, each row in our components table above would have a small number of columns with values larger than `0.5`, and the remaining columns in that row would all have much smaller values. This would indicate that the question corresponding to that component should be related specifically to the set of original questions with values in that row larger than `0.5`. Instead, we see that we have many values of approximately the same magnitude in each row, and none of the combinations of columns make much sense. However, our analysis is not complete. We need to use a method called **varimax rotation** to transform this initial set of components into a new set that will be easier for us to interpret."
   ]
  },
  {
   "cell_type": "markdown",
   "metadata": {
    "deletable": false,
    "editable": false,
    "run_control": {
     "frozen": true
    }
   },
   "source": [
    "Unfortunately, the varimax rotation method is not available in the standard math-related Python modules as of this writing, so we have provided an implementation below. The `varimax_rotation` function below contains some very complicated code, using libraries and mathematical techniques that we have not covered in this course. However, this is the beauty of using functions - you do not need to understand the implementation of a function in order to use it, you simply need to understand *how to call it.* In this case, this function can be called with a single argument: our array of components. "
   ]
  },
  {
   "cell_type": "code",
   "execution_count": 14,
   "metadata": {},
   "outputs": [],
   "source": [
    "# Arguments:\n",
    "# c_trans: pca result array containing the components - dimension (n_components, n_variables)\n",
    "# Returns:\n",
    "# New components that have been rotated\n",
    "def varimax_rotation(c_trans):\n",
    "    c = c_trans.transpose()\n",
    "    from numpy import diag, eye, dot, asarray\n",
    "    from scipy.linalg import svd\n",
    "    n_iter = 20\n",
    "    gamma = 1.0\n",
    "    tol = 1e-6\n",
    "    p,k = c.shape\n",
    "    R = eye(k)\n",
    "    d=0\n",
    "    for i in range(n_iter):\n",
    "        d_old = d\n",
    "        Lambda = dot(c, R)\n",
    "        u,s,vh = svd(dot(c.T,asarray(Lambda)**3 - (gamma/p) * dot(Lambda, diag(diag(dot(Lambda.T,Lambda))))))\n",
    "        R = dot(u,vh)\n",
    "        d = sum(s)\n",
    "        if d_old!=0 and d/d_old < 1 + tol: break\n",
    "    return dot(c, R).transpose()"
   ]
  },
  {
   "cell_type": "markdown",
   "metadata": {
    "deletable": false,
    "editable": false,
    "run_control": {
     "frozen": true
    }
   },
   "source": [
    "Remember, we only care about the first nine components for the reasons described above, so we'll apply varimax rotation to only those components:"
   ]
  },
  {
   "cell_type": "code",
   "execution_count": 15,
   "metadata": {},
   "outputs": [],
   "source": [
    "important_components = pca_model.components_[0:9, :]\n",
    "rotated_components = varimax_rotation(important_components)"
   ]
  },
  {
   "cell_type": "markdown",
   "metadata": {
    "deletable": false,
    "editable": false,
    "run_control": {
     "frozen": true
    }
   },
   "source": [
    "Before we visualize the new components, we'll change a few pandas settings to make the final results easier to read - it is not necessary for you to understand this code, simply run it:"
   ]
  },
  {
   "cell_type": "code",
   "execution_count": 16,
   "metadata": {},
   "outputs": [],
   "source": [
    "def format_two_dec(num):\n",
    "    return \"{:.2f}\".format(num)\n",
    "pd.set_option(\"display.precision\", 2)\n",
    "pd.set_option(\"display.float_format\", format_two_dec)"
   ]
  },
  {
   "cell_type": "markdown",
   "metadata": {
    "deletable": false,
    "editable": false,
    "run_control": {
     "frozen": true
    }
   },
   "source": [
    "Let's take a look at our newly-rotated components with the significant values highlighted in red (don't worry about understanding the code that accomplishes the red highlighting, the important thing is the results):"
   ]
  },
  {
   "cell_type": "code",
   "execution_count": 17,
   "metadata": {},
   "outputs": [
    {
     "data": {
      "text/html": [
       "<style  type=\"text/css\" >\n",
       "    #T_c15cb3ea_6b3c_11ea_84ec_fa363532c43drow0_col0 {\n",
       "            color:  black;\n",
       "        }    #T_c15cb3ea_6b3c_11ea_84ec_fa363532c43drow0_col1 {\n",
       "            color:  black;\n",
       "        }    #T_c15cb3ea_6b3c_11ea_84ec_fa363532c43drow0_col2 {\n",
       "            color:  black;\n",
       "        }    #T_c15cb3ea_6b3c_11ea_84ec_fa363532c43drow0_col3 {\n",
       "            color:  black;\n",
       "        }    #T_c15cb3ea_6b3c_11ea_84ec_fa363532c43drow0_col4 {\n",
       "            color:  black;\n",
       "        }    #T_c15cb3ea_6b3c_11ea_84ec_fa363532c43drow0_col5 {\n",
       "            color:  black;\n",
       "        }    #T_c15cb3ea_6b3c_11ea_84ec_fa363532c43drow0_col6 {\n",
       "            color:  black;\n",
       "        }    #T_c15cb3ea_6b3c_11ea_84ec_fa363532c43drow0_col7 {\n",
       "            color:  black;\n",
       "        }    #T_c15cb3ea_6b3c_11ea_84ec_fa363532c43drow0_col8 {\n",
       "            color:  black;\n",
       "        }    #T_c15cb3ea_6b3c_11ea_84ec_fa363532c43drow0_col9 {\n",
       "            color:  black;\n",
       "        }    #T_c15cb3ea_6b3c_11ea_84ec_fa363532c43drow0_col10 {\n",
       "            color:  black;\n",
       "        }    #T_c15cb3ea_6b3c_11ea_84ec_fa363532c43drow0_col11 {\n",
       "            color:  red;\n",
       "        }    #T_c15cb3ea_6b3c_11ea_84ec_fa363532c43drow0_col12 {\n",
       "            color:  red;\n",
       "        }    #T_c15cb3ea_6b3c_11ea_84ec_fa363532c43drow0_col13 {\n",
       "            color:  red;\n",
       "        }    #T_c15cb3ea_6b3c_11ea_84ec_fa363532c43drow0_col14 {\n",
       "            color:  black;\n",
       "        }    #T_c15cb3ea_6b3c_11ea_84ec_fa363532c43drow1_col0 {\n",
       "            color:  black;\n",
       "        }    #T_c15cb3ea_6b3c_11ea_84ec_fa363532c43drow1_col1 {\n",
       "            color:  red;\n",
       "        }    #T_c15cb3ea_6b3c_11ea_84ec_fa363532c43drow1_col2 {\n",
       "            color:  red;\n",
       "        }    #T_c15cb3ea_6b3c_11ea_84ec_fa363532c43drow1_col3 {\n",
       "            color:  black;\n",
       "        }    #T_c15cb3ea_6b3c_11ea_84ec_fa363532c43drow1_col4 {\n",
       "            color:  black;\n",
       "        }    #T_c15cb3ea_6b3c_11ea_84ec_fa363532c43drow1_col5 {\n",
       "            color:  black;\n",
       "        }    #T_c15cb3ea_6b3c_11ea_84ec_fa363532c43drow1_col6 {\n",
       "            color:  black;\n",
       "        }    #T_c15cb3ea_6b3c_11ea_84ec_fa363532c43drow1_col7 {\n",
       "            color:  black;\n",
       "        }    #T_c15cb3ea_6b3c_11ea_84ec_fa363532c43drow1_col8 {\n",
       "            color:  black;\n",
       "        }    #T_c15cb3ea_6b3c_11ea_84ec_fa363532c43drow1_col9 {\n",
       "            color:  black;\n",
       "        }    #T_c15cb3ea_6b3c_11ea_84ec_fa363532c43drow1_col10 {\n",
       "            color:  black;\n",
       "        }    #T_c15cb3ea_6b3c_11ea_84ec_fa363532c43drow1_col11 {\n",
       "            color:  black;\n",
       "        }    #T_c15cb3ea_6b3c_11ea_84ec_fa363532c43drow1_col12 {\n",
       "            color:  black;\n",
       "        }    #T_c15cb3ea_6b3c_11ea_84ec_fa363532c43drow1_col13 {\n",
       "            color:  black;\n",
       "        }    #T_c15cb3ea_6b3c_11ea_84ec_fa363532c43drow1_col14 {\n",
       "            color:  black;\n",
       "        }    #T_c15cb3ea_6b3c_11ea_84ec_fa363532c43drow2_col0 {\n",
       "            color:  black;\n",
       "        }    #T_c15cb3ea_6b3c_11ea_84ec_fa363532c43drow2_col1 {\n",
       "            color:  black;\n",
       "        }    #T_c15cb3ea_6b3c_11ea_84ec_fa363532c43drow2_col2 {\n",
       "            color:  black;\n",
       "        }    #T_c15cb3ea_6b3c_11ea_84ec_fa363532c43drow2_col3 {\n",
       "            color:  black;\n",
       "        }    #T_c15cb3ea_6b3c_11ea_84ec_fa363532c43drow2_col4 {\n",
       "            color:  black;\n",
       "        }    #T_c15cb3ea_6b3c_11ea_84ec_fa363532c43drow2_col5 {\n",
       "            color:  black;\n",
       "        }    #T_c15cb3ea_6b3c_11ea_84ec_fa363532c43drow2_col6 {\n",
       "            color:  red;\n",
       "        }    #T_c15cb3ea_6b3c_11ea_84ec_fa363532c43drow2_col7 {\n",
       "            color:  red;\n",
       "        }    #T_c15cb3ea_6b3c_11ea_84ec_fa363532c43drow2_col8 {\n",
       "            color:  black;\n",
       "        }    #T_c15cb3ea_6b3c_11ea_84ec_fa363532c43drow2_col9 {\n",
       "            color:  black;\n",
       "        }    #T_c15cb3ea_6b3c_11ea_84ec_fa363532c43drow2_col10 {\n",
       "            color:  black;\n",
       "        }    #T_c15cb3ea_6b3c_11ea_84ec_fa363532c43drow2_col11 {\n",
       "            color:  black;\n",
       "        }    #T_c15cb3ea_6b3c_11ea_84ec_fa363532c43drow2_col12 {\n",
       "            color:  black;\n",
       "        }    #T_c15cb3ea_6b3c_11ea_84ec_fa363532c43drow2_col13 {\n",
       "            color:  black;\n",
       "        }    #T_c15cb3ea_6b3c_11ea_84ec_fa363532c43drow2_col14 {\n",
       "            color:  black;\n",
       "        }    #T_c15cb3ea_6b3c_11ea_84ec_fa363532c43drow3_col0 {\n",
       "            color:  black;\n",
       "        }    #T_c15cb3ea_6b3c_11ea_84ec_fa363532c43drow3_col1 {\n",
       "            color:  black;\n",
       "        }    #T_c15cb3ea_6b3c_11ea_84ec_fa363532c43drow3_col2 {\n",
       "            color:  black;\n",
       "        }    #T_c15cb3ea_6b3c_11ea_84ec_fa363532c43drow3_col3 {\n",
       "            color:  black;\n",
       "        }    #T_c15cb3ea_6b3c_11ea_84ec_fa363532c43drow3_col4 {\n",
       "            color:  red;\n",
       "        }    #T_c15cb3ea_6b3c_11ea_84ec_fa363532c43drow3_col5 {\n",
       "            color:  red;\n",
       "        }    #T_c15cb3ea_6b3c_11ea_84ec_fa363532c43drow3_col6 {\n",
       "            color:  black;\n",
       "        }    #T_c15cb3ea_6b3c_11ea_84ec_fa363532c43drow3_col7 {\n",
       "            color:  black;\n",
       "        }    #T_c15cb3ea_6b3c_11ea_84ec_fa363532c43drow3_col8 {\n",
       "            color:  black;\n",
       "        }    #T_c15cb3ea_6b3c_11ea_84ec_fa363532c43drow3_col9 {\n",
       "            color:  black;\n",
       "        }    #T_c15cb3ea_6b3c_11ea_84ec_fa363532c43drow3_col10 {\n",
       "            color:  black;\n",
       "        }    #T_c15cb3ea_6b3c_11ea_84ec_fa363532c43drow3_col11 {\n",
       "            color:  black;\n",
       "        }    #T_c15cb3ea_6b3c_11ea_84ec_fa363532c43drow3_col12 {\n",
       "            color:  black;\n",
       "        }    #T_c15cb3ea_6b3c_11ea_84ec_fa363532c43drow3_col13 {\n",
       "            color:  black;\n",
       "        }    #T_c15cb3ea_6b3c_11ea_84ec_fa363532c43drow3_col14 {\n",
       "            color:  black;\n",
       "        }    #T_c15cb3ea_6b3c_11ea_84ec_fa363532c43drow4_col0 {\n",
       "            color:  black;\n",
       "        }    #T_c15cb3ea_6b3c_11ea_84ec_fa363532c43drow4_col1 {\n",
       "            color:  black;\n",
       "        }    #T_c15cb3ea_6b3c_11ea_84ec_fa363532c43drow4_col2 {\n",
       "            color:  black;\n",
       "        }    #T_c15cb3ea_6b3c_11ea_84ec_fa363532c43drow4_col3 {\n",
       "            color:  black;\n",
       "        }    #T_c15cb3ea_6b3c_11ea_84ec_fa363532c43drow4_col4 {\n",
       "            color:  black;\n",
       "        }    #T_c15cb3ea_6b3c_11ea_84ec_fa363532c43drow4_col5 {\n",
       "            color:  black;\n",
       "        }    #T_c15cb3ea_6b3c_11ea_84ec_fa363532c43drow4_col6 {\n",
       "            color:  black;\n",
       "        }    #T_c15cb3ea_6b3c_11ea_84ec_fa363532c43drow4_col7 {\n",
       "            color:  black;\n",
       "        }    #T_c15cb3ea_6b3c_11ea_84ec_fa363532c43drow4_col8 {\n",
       "            color:  red;\n",
       "        }    #T_c15cb3ea_6b3c_11ea_84ec_fa363532c43drow4_col9 {\n",
       "            color:  black;\n",
       "        }    #T_c15cb3ea_6b3c_11ea_84ec_fa363532c43drow4_col10 {\n",
       "            color:  black;\n",
       "        }    #T_c15cb3ea_6b3c_11ea_84ec_fa363532c43drow4_col11 {\n",
       "            color:  black;\n",
       "        }    #T_c15cb3ea_6b3c_11ea_84ec_fa363532c43drow4_col12 {\n",
       "            color:  black;\n",
       "        }    #T_c15cb3ea_6b3c_11ea_84ec_fa363532c43drow4_col13 {\n",
       "            color:  black;\n",
       "        }    #T_c15cb3ea_6b3c_11ea_84ec_fa363532c43drow4_col14 {\n",
       "            color:  black;\n",
       "        }    #T_c15cb3ea_6b3c_11ea_84ec_fa363532c43drow5_col0 {\n",
       "            color:  red;\n",
       "        }    #T_c15cb3ea_6b3c_11ea_84ec_fa363532c43drow5_col1 {\n",
       "            color:  black;\n",
       "        }    #T_c15cb3ea_6b3c_11ea_84ec_fa363532c43drow5_col2 {\n",
       "            color:  black;\n",
       "        }    #T_c15cb3ea_6b3c_11ea_84ec_fa363532c43drow5_col3 {\n",
       "            color:  black;\n",
       "        }    #T_c15cb3ea_6b3c_11ea_84ec_fa363532c43drow5_col4 {\n",
       "            color:  black;\n",
       "        }    #T_c15cb3ea_6b3c_11ea_84ec_fa363532c43drow5_col5 {\n",
       "            color:  black;\n",
       "        }    #T_c15cb3ea_6b3c_11ea_84ec_fa363532c43drow5_col6 {\n",
       "            color:  black;\n",
       "        }    #T_c15cb3ea_6b3c_11ea_84ec_fa363532c43drow5_col7 {\n",
       "            color:  black;\n",
       "        }    #T_c15cb3ea_6b3c_11ea_84ec_fa363532c43drow5_col8 {\n",
       "            color:  black;\n",
       "        }    #T_c15cb3ea_6b3c_11ea_84ec_fa363532c43drow5_col9 {\n",
       "            color:  black;\n",
       "        }    #T_c15cb3ea_6b3c_11ea_84ec_fa363532c43drow5_col10 {\n",
       "            color:  black;\n",
       "        }    #T_c15cb3ea_6b3c_11ea_84ec_fa363532c43drow5_col11 {\n",
       "            color:  black;\n",
       "        }    #T_c15cb3ea_6b3c_11ea_84ec_fa363532c43drow5_col12 {\n",
       "            color:  black;\n",
       "        }    #T_c15cb3ea_6b3c_11ea_84ec_fa363532c43drow5_col13 {\n",
       "            color:  black;\n",
       "        }    #T_c15cb3ea_6b3c_11ea_84ec_fa363532c43drow5_col14 {\n",
       "            color:  black;\n",
       "        }    #T_c15cb3ea_6b3c_11ea_84ec_fa363532c43drow6_col0 {\n",
       "            color:  black;\n",
       "        }    #T_c15cb3ea_6b3c_11ea_84ec_fa363532c43drow6_col1 {\n",
       "            color:  black;\n",
       "        }    #T_c15cb3ea_6b3c_11ea_84ec_fa363532c43drow6_col2 {\n",
       "            color:  black;\n",
       "        }    #T_c15cb3ea_6b3c_11ea_84ec_fa363532c43drow6_col3 {\n",
       "            color:  black;\n",
       "        }    #T_c15cb3ea_6b3c_11ea_84ec_fa363532c43drow6_col4 {\n",
       "            color:  black;\n",
       "        }    #T_c15cb3ea_6b3c_11ea_84ec_fa363532c43drow6_col5 {\n",
       "            color:  black;\n",
       "        }    #T_c15cb3ea_6b3c_11ea_84ec_fa363532c43drow6_col6 {\n",
       "            color:  black;\n",
       "        }    #T_c15cb3ea_6b3c_11ea_84ec_fa363532c43drow6_col7 {\n",
       "            color:  black;\n",
       "        }    #T_c15cb3ea_6b3c_11ea_84ec_fa363532c43drow6_col8 {\n",
       "            color:  black;\n",
       "        }    #T_c15cb3ea_6b3c_11ea_84ec_fa363532c43drow6_col9 {\n",
       "            color:  red;\n",
       "        }    #T_c15cb3ea_6b3c_11ea_84ec_fa363532c43drow6_col10 {\n",
       "            color:  black;\n",
       "        }    #T_c15cb3ea_6b3c_11ea_84ec_fa363532c43drow6_col11 {\n",
       "            color:  black;\n",
       "        }    #T_c15cb3ea_6b3c_11ea_84ec_fa363532c43drow6_col12 {\n",
       "            color:  black;\n",
       "        }    #T_c15cb3ea_6b3c_11ea_84ec_fa363532c43drow6_col13 {\n",
       "            color:  black;\n",
       "        }    #T_c15cb3ea_6b3c_11ea_84ec_fa363532c43drow6_col14 {\n",
       "            color:  black;\n",
       "        }    #T_c15cb3ea_6b3c_11ea_84ec_fa363532c43drow7_col0 {\n",
       "            color:  black;\n",
       "        }    #T_c15cb3ea_6b3c_11ea_84ec_fa363532c43drow7_col1 {\n",
       "            color:  black;\n",
       "        }    #T_c15cb3ea_6b3c_11ea_84ec_fa363532c43drow7_col2 {\n",
       "            color:  black;\n",
       "        }    #T_c15cb3ea_6b3c_11ea_84ec_fa363532c43drow7_col3 {\n",
       "            color:  black;\n",
       "        }    #T_c15cb3ea_6b3c_11ea_84ec_fa363532c43drow7_col4 {\n",
       "            color:  black;\n",
       "        }    #T_c15cb3ea_6b3c_11ea_84ec_fa363532c43drow7_col5 {\n",
       "            color:  black;\n",
       "        }    #T_c15cb3ea_6b3c_11ea_84ec_fa363532c43drow7_col6 {\n",
       "            color:  black;\n",
       "        }    #T_c15cb3ea_6b3c_11ea_84ec_fa363532c43drow7_col7 {\n",
       "            color:  black;\n",
       "        }    #T_c15cb3ea_6b3c_11ea_84ec_fa363532c43drow7_col8 {\n",
       "            color:  black;\n",
       "        }    #T_c15cb3ea_6b3c_11ea_84ec_fa363532c43drow7_col9 {\n",
       "            color:  black;\n",
       "        }    #T_c15cb3ea_6b3c_11ea_84ec_fa363532c43drow7_col10 {\n",
       "            color:  black;\n",
       "        }    #T_c15cb3ea_6b3c_11ea_84ec_fa363532c43drow7_col11 {\n",
       "            color:  black;\n",
       "        }    #T_c15cb3ea_6b3c_11ea_84ec_fa363532c43drow7_col12 {\n",
       "            color:  black;\n",
       "        }    #T_c15cb3ea_6b3c_11ea_84ec_fa363532c43drow7_col13 {\n",
       "            color:  black;\n",
       "        }    #T_c15cb3ea_6b3c_11ea_84ec_fa363532c43drow7_col14 {\n",
       "            color:  red;\n",
       "        }    #T_c15cb3ea_6b3c_11ea_84ec_fa363532c43drow8_col0 {\n",
       "            color:  black;\n",
       "        }    #T_c15cb3ea_6b3c_11ea_84ec_fa363532c43drow8_col1 {\n",
       "            color:  black;\n",
       "        }    #T_c15cb3ea_6b3c_11ea_84ec_fa363532c43drow8_col2 {\n",
       "            color:  black;\n",
       "        }    #T_c15cb3ea_6b3c_11ea_84ec_fa363532c43drow8_col3 {\n",
       "            color:  red;\n",
       "        }    #T_c15cb3ea_6b3c_11ea_84ec_fa363532c43drow8_col4 {\n",
       "            color:  black;\n",
       "        }    #T_c15cb3ea_6b3c_11ea_84ec_fa363532c43drow8_col5 {\n",
       "            color:  black;\n",
       "        }    #T_c15cb3ea_6b3c_11ea_84ec_fa363532c43drow8_col6 {\n",
       "            color:  black;\n",
       "        }    #T_c15cb3ea_6b3c_11ea_84ec_fa363532c43drow8_col7 {\n",
       "            color:  black;\n",
       "        }    #T_c15cb3ea_6b3c_11ea_84ec_fa363532c43drow8_col8 {\n",
       "            color:  black;\n",
       "        }    #T_c15cb3ea_6b3c_11ea_84ec_fa363532c43drow8_col9 {\n",
       "            color:  black;\n",
       "        }    #T_c15cb3ea_6b3c_11ea_84ec_fa363532c43drow8_col10 {\n",
       "            color:  black;\n",
       "        }    #T_c15cb3ea_6b3c_11ea_84ec_fa363532c43drow8_col11 {\n",
       "            color:  black;\n",
       "        }    #T_c15cb3ea_6b3c_11ea_84ec_fa363532c43drow8_col12 {\n",
       "            color:  black;\n",
       "        }    #T_c15cb3ea_6b3c_11ea_84ec_fa363532c43drow8_col13 {\n",
       "            color:  black;\n",
       "        }    #T_c15cb3ea_6b3c_11ea_84ec_fa363532c43drow8_col14 {\n",
       "            color:  black;\n",
       "        }</style><table id=\"T_c15cb3ea_6b3c_11ea_84ec_fa363532c43d\" ><thead>    <tr>        <th class=\"blank level0\" ></th>        <th class=\"col_heading level0 col0\" >Artwork and exhibitions</th>        <th class=\"col_heading level0 col1\" >Restaurants</th>        <th class=\"col_heading level0 col2\" >Retail shops and concessions</th>        <th class=\"col_heading level0 col3\" >Signs and directions inside SFO</th>        <th class=\"col_heading level0 col4\" >Escalators/Elevators/Moving walkways</th>        <th class=\"col_heading level0 col5\" >Information on screens/monitors</th>        <th class=\"col_heading level0 col6\" >Information booths (lower level - near baggage claim)</th>        <th class=\"col_heading level0 col7\" >Information booths (upper level - departure area)</th>        <th class=\"col_heading level0 col8\" >Accessing and using free WiFi at SFO</th>        <th class=\"col_heading level0 col9\" >Signs and directions on SFO airport roadways</th>        <th class=\"col_heading level0 col10\" >Airport parking facilities</th>        <th class=\"col_heading level0 col11\" >AirTrain</th>        <th class=\"col_heading level0 col12\" >Long term parking lot shuttle (bus ride)</th>        <th class=\"col_heading level0 col13\" >Airport Rental Car Center</th>        <th class=\"col_heading level0 col14\" >SFO Airport as a whole</th>    </tr></thead><tbody>\n",
       "                <tr>\n",
       "                        <th id=\"T_c15cb3ea_6b3c_11ea_84ec_fa363532c43dlevel0_row0\" class=\"row_heading level0 row0\" >0</th>\n",
       "                        <td id=\"T_c15cb3ea_6b3c_11ea_84ec_fa363532c43drow0_col0\" class=\"data row0 col0\" >-0.0012</td>\n",
       "                        <td id=\"T_c15cb3ea_6b3c_11ea_84ec_fa363532c43drow0_col1\" class=\"data row0 col1\" >0.013</td>\n",
       "                        <td id=\"T_c15cb3ea_6b3c_11ea_84ec_fa363532c43drow0_col2\" class=\"data row0 col2\" >-0.011</td>\n",
       "                        <td id=\"T_c15cb3ea_6b3c_11ea_84ec_fa363532c43drow0_col3\" class=\"data row0 col3\" >-0.016</td>\n",
       "                        <td id=\"T_c15cb3ea_6b3c_11ea_84ec_fa363532c43drow0_col4\" class=\"data row0 col4\" >0.011</td>\n",
       "                        <td id=\"T_c15cb3ea_6b3c_11ea_84ec_fa363532c43drow0_col5\" class=\"data row0 col5\" >0.012</td>\n",
       "                        <td id=\"T_c15cb3ea_6b3c_11ea_84ec_fa363532c43drow0_col6\" class=\"data row0 col6\" >-0.022</td>\n",
       "                        <td id=\"T_c15cb3ea_6b3c_11ea_84ec_fa363532c43drow0_col7\" class=\"data row0 col7\" >0.012</td>\n",
       "                        <td id=\"T_c15cb3ea_6b3c_11ea_84ec_fa363532c43drow0_col8\" class=\"data row0 col8\" >0.00058</td>\n",
       "                        <td id=\"T_c15cb3ea_6b3c_11ea_84ec_fa363532c43drow0_col9\" class=\"data row0 col9\" >0.028</td>\n",
       "                        <td id=\"T_c15cb3ea_6b3c_11ea_84ec_fa363532c43drow0_col10\" class=\"data row0 col10\" >-0.28</td>\n",
       "                        <td id=\"T_c15cb3ea_6b3c_11ea_84ec_fa363532c43drow0_col11\" class=\"data row0 col11\" >-0.51</td>\n",
       "                        <td id=\"T_c15cb3ea_6b3c_11ea_84ec_fa363532c43drow0_col12\" class=\"data row0 col12\" >-0.54</td>\n",
       "                        <td id=\"T_c15cb3ea_6b3c_11ea_84ec_fa363532c43drow0_col13\" class=\"data row0 col13\" >-0.6</td>\n",
       "                        <td id=\"T_c15cb3ea_6b3c_11ea_84ec_fa363532c43drow0_col14\" class=\"data row0 col14\" >0.016</td>\n",
       "            </tr>\n",
       "            <tr>\n",
       "                        <th id=\"T_c15cb3ea_6b3c_11ea_84ec_fa363532c43dlevel0_row1\" class=\"row_heading level0 row1\" >1</th>\n",
       "                        <td id=\"T_c15cb3ea_6b3c_11ea_84ec_fa363532c43drow1_col0\" class=\"data row1 col0\" >-1.9e-05</td>\n",
       "                        <td id=\"T_c15cb3ea_6b3c_11ea_84ec_fa363532c43drow1_col1\" class=\"data row1 col1\" >-0.72</td>\n",
       "                        <td id=\"T_c15cb3ea_6b3c_11ea_84ec_fa363532c43drow1_col2\" class=\"data row1 col2\" >-0.69</td>\n",
       "                        <td id=\"T_c15cb3ea_6b3c_11ea_84ec_fa363532c43drow1_col3\" class=\"data row1 col3\" >0.00022</td>\n",
       "                        <td id=\"T_c15cb3ea_6b3c_11ea_84ec_fa363532c43drow1_col4\" class=\"data row1 col4\" >-0.023</td>\n",
       "                        <td id=\"T_c15cb3ea_6b3c_11ea_84ec_fa363532c43drow1_col5\" class=\"data row1 col5\" >0.028</td>\n",
       "                        <td id=\"T_c15cb3ea_6b3c_11ea_84ec_fa363532c43drow1_col6\" class=\"data row1 col6\" >-0.0042</td>\n",
       "                        <td id=\"T_c15cb3ea_6b3c_11ea_84ec_fa363532c43drow1_col7\" class=\"data row1 col7\" >0.0018</td>\n",
       "                        <td id=\"T_c15cb3ea_6b3c_11ea_84ec_fa363532c43drow1_col8\" class=\"data row1 col8\" >0.0013</td>\n",
       "                        <td id=\"T_c15cb3ea_6b3c_11ea_84ec_fa363532c43drow1_col9\" class=\"data row1 col9\" >0.0016</td>\n",
       "                        <td id=\"T_c15cb3ea_6b3c_11ea_84ec_fa363532c43drow1_col10\" class=\"data row1 col10\" >0.0049</td>\n",
       "                        <td id=\"T_c15cb3ea_6b3c_11ea_84ec_fa363532c43drow1_col11\" class=\"data row1 col11\" >-0.019</td>\n",
       "                        <td id=\"T_c15cb3ea_6b3c_11ea_84ec_fa363532c43drow1_col12\" class=\"data row1 col12\" >-0.03</td>\n",
       "                        <td id=\"T_c15cb3ea_6b3c_11ea_84ec_fa363532c43drow1_col13\" class=\"data row1 col13\" >0.038</td>\n",
       "                        <td id=\"T_c15cb3ea_6b3c_11ea_84ec_fa363532c43drow1_col14\" class=\"data row1 col14\" >-0.0031</td>\n",
       "            </tr>\n",
       "            <tr>\n",
       "                        <th id=\"T_c15cb3ea_6b3c_11ea_84ec_fa363532c43dlevel0_row2\" class=\"row_heading level0 row2\" >2</th>\n",
       "                        <td id=\"T_c15cb3ea_6b3c_11ea_84ec_fa363532c43drow2_col0\" class=\"data row2 col0\" >0.00071</td>\n",
       "                        <td id=\"T_c15cb3ea_6b3c_11ea_84ec_fa363532c43drow2_col1\" class=\"data row2 col1\" >0.015</td>\n",
       "                        <td id=\"T_c15cb3ea_6b3c_11ea_84ec_fa363532c43drow2_col2\" class=\"data row2 col2\" >-0.02</td>\n",
       "                        <td id=\"T_c15cb3ea_6b3c_11ea_84ec_fa363532c43drow2_col3\" class=\"data row2 col3\" >0.0076</td>\n",
       "                        <td id=\"T_c15cb3ea_6b3c_11ea_84ec_fa363532c43drow2_col4\" class=\"data row2 col4\" >0.032</td>\n",
       "                        <td id=\"T_c15cb3ea_6b3c_11ea_84ec_fa363532c43drow2_col5\" class=\"data row2 col5\" >-0.04</td>\n",
       "                        <td id=\"T_c15cb3ea_6b3c_11ea_84ec_fa363532c43drow2_col6\" class=\"data row2 col6\" >-0.71</td>\n",
       "                        <td id=\"T_c15cb3ea_6b3c_11ea_84ec_fa363532c43drow2_col7\" class=\"data row2 col7\" >-0.7</td>\n",
       "                        <td id=\"T_c15cb3ea_6b3c_11ea_84ec_fa363532c43drow2_col8\" class=\"data row2 col8\" >-0.0011</td>\n",
       "                        <td id=\"T_c15cb3ea_6b3c_11ea_84ec_fa363532c43drow2_col9\" class=\"data row2 col9\" >-0.01</td>\n",
       "                        <td id=\"T_c15cb3ea_6b3c_11ea_84ec_fa363532c43drow2_col10\" class=\"data row2 col10\" >0.069</td>\n",
       "                        <td id=\"T_c15cb3ea_6b3c_11ea_84ec_fa363532c43drow2_col11\" class=\"data row2 col11\" >-0.013</td>\n",
       "                        <td id=\"T_c15cb3ea_6b3c_11ea_84ec_fa363532c43drow2_col12\" class=\"data row2 col12\" >0.043</td>\n",
       "                        <td id=\"T_c15cb3ea_6b3c_11ea_84ec_fa363532c43drow2_col13\" class=\"data row2 col13\" >-0.048</td>\n",
       "                        <td id=\"T_c15cb3ea_6b3c_11ea_84ec_fa363532c43drow2_col14\" class=\"data row2 col14\" >-0.011</td>\n",
       "            </tr>\n",
       "            <tr>\n",
       "                        <th id=\"T_c15cb3ea_6b3c_11ea_84ec_fa363532c43dlevel0_row3\" class=\"row_heading level0 row3\" >3</th>\n",
       "                        <td id=\"T_c15cb3ea_6b3c_11ea_84ec_fa363532c43drow3_col0\" class=\"data row3 col0\" >-0.0016</td>\n",
       "                        <td id=\"T_c15cb3ea_6b3c_11ea_84ec_fa363532c43drow3_col1\" class=\"data row3 col1\" >-0.0082</td>\n",
       "                        <td id=\"T_c15cb3ea_6b3c_11ea_84ec_fa363532c43drow3_col2\" class=\"data row3 col2\" >0.0087</td>\n",
       "                        <td id=\"T_c15cb3ea_6b3c_11ea_84ec_fa363532c43drow3_col3\" class=\"data row3 col3\" >0.015</td>\n",
       "                        <td id=\"T_c15cb3ea_6b3c_11ea_84ec_fa363532c43drow3_col4\" class=\"data row3 col4\" >0.71</td>\n",
       "                        <td id=\"T_c15cb3ea_6b3c_11ea_84ec_fa363532c43drow3_col5\" class=\"data row3 col5\" >0.68</td>\n",
       "                        <td id=\"T_c15cb3ea_6b3c_11ea_84ec_fa363532c43drow3_col6\" class=\"data row3 col6\" >-0.004</td>\n",
       "                        <td id=\"T_c15cb3ea_6b3c_11ea_84ec_fa363532c43drow3_col7\" class=\"data row3 col7\" >0.0058</td>\n",
       "                        <td id=\"T_c15cb3ea_6b3c_11ea_84ec_fa363532c43drow3_col8\" class=\"data row3 col8\" >-0.00033</td>\n",
       "                        <td id=\"T_c15cb3ea_6b3c_11ea_84ec_fa363532c43drow3_col9\" class=\"data row3 col9\" >-0.017</td>\n",
       "                        <td id=\"T_c15cb3ea_6b3c_11ea_84ec_fa363532c43drow3_col10\" class=\"data row3 col10\" >0.1</td>\n",
       "                        <td id=\"T_c15cb3ea_6b3c_11ea_84ec_fa363532c43drow3_col11\" class=\"data row3 col11\" >0.13</td>\n",
       "                        <td id=\"T_c15cb3ea_6b3c_11ea_84ec_fa363532c43drow3_col12\" class=\"data row3 col12\" >-0.074</td>\n",
       "                        <td id=\"T_c15cb3ea_6b3c_11ea_84ec_fa363532c43drow3_col13\" class=\"data row3 col13\" >-0.063</td>\n",
       "                        <td id=\"T_c15cb3ea_6b3c_11ea_84ec_fa363532c43drow3_col14\" class=\"data row3 col14\" >-0.0029</td>\n",
       "            </tr>\n",
       "            <tr>\n",
       "                        <th id=\"T_c15cb3ea_6b3c_11ea_84ec_fa363532c43dlevel0_row4\" class=\"row_heading level0 row4\" >4</th>\n",
       "                        <td id=\"T_c15cb3ea_6b3c_11ea_84ec_fa363532c43drow4_col0\" class=\"data row4 col0\" >-0.005</td>\n",
       "                        <td id=\"T_c15cb3ea_6b3c_11ea_84ec_fa363532c43drow4_col1\" class=\"data row4 col1\" >0.025</td>\n",
       "                        <td id=\"T_c15cb3ea_6b3c_11ea_84ec_fa363532c43drow4_col2\" class=\"data row4 col2\" >-0.032</td>\n",
       "                        <td id=\"T_c15cb3ea_6b3c_11ea_84ec_fa363532c43drow4_col3\" class=\"data row4 col3\" >0.006</td>\n",
       "                        <td id=\"T_c15cb3ea_6b3c_11ea_84ec_fa363532c43drow4_col4\" class=\"data row4 col4\" >0.015</td>\n",
       "                        <td id=\"T_c15cb3ea_6b3c_11ea_84ec_fa363532c43drow4_col5\" class=\"data row4 col5\" >-0.018</td>\n",
       "                        <td id=\"T_c15cb3ea_6b3c_11ea_84ec_fa363532c43drow4_col6\" class=\"data row4 col6\" >-0.016</td>\n",
       "                        <td id=\"T_c15cb3ea_6b3c_11ea_84ec_fa363532c43drow4_col7\" class=\"data row4 col7\" >0.02</td>\n",
       "                        <td id=\"T_c15cb3ea_6b3c_11ea_84ec_fa363532c43drow4_col8\" class=\"data row4 col8\" >0.99</td>\n",
       "                        <td id=\"T_c15cb3ea_6b3c_11ea_84ec_fa363532c43drow4_col9\" class=\"data row4 col9\" >0.0054</td>\n",
       "                        <td id=\"T_c15cb3ea_6b3c_11ea_84ec_fa363532c43drow4_col10\" class=\"data row4 col10\" >-0.034</td>\n",
       "                        <td id=\"T_c15cb3ea_6b3c_11ea_84ec_fa363532c43drow4_col11\" class=\"data row4 col11\" >0.044</td>\n",
       "                        <td id=\"T_c15cb3ea_6b3c_11ea_84ec_fa363532c43drow4_col12\" class=\"data row4 col12\" >0.044</td>\n",
       "                        <td id=\"T_c15cb3ea_6b3c_11ea_84ec_fa363532c43drow4_col13\" class=\"data row4 col13\" >-0.058</td>\n",
       "                        <td id=\"T_c15cb3ea_6b3c_11ea_84ec_fa363532c43drow4_col14\" class=\"data row4 col14\" >0.0059</td>\n",
       "            </tr>\n",
       "            <tr>\n",
       "                        <th id=\"T_c15cb3ea_6b3c_11ea_84ec_fa363532c43dlevel0_row5\" class=\"row_heading level0 row5\" >5</th>\n",
       "                        <td id=\"T_c15cb3ea_6b3c_11ea_84ec_fa363532c43drow5_col0\" class=\"data row5 col0\" >0.99</td>\n",
       "                        <td id=\"T_c15cb3ea_6b3c_11ea_84ec_fa363532c43drow5_col1\" class=\"data row5 col1\" >0.054</td>\n",
       "                        <td id=\"T_c15cb3ea_6b3c_11ea_84ec_fa363532c43drow5_col2\" class=\"data row5 col2\" >-0.06</td>\n",
       "                        <td id=\"T_c15cb3ea_6b3c_11ea_84ec_fa363532c43drow5_col3\" class=\"data row5 col3\" >0.0072</td>\n",
       "                        <td id=\"T_c15cb3ea_6b3c_11ea_84ec_fa363532c43drow5_col4\" class=\"data row5 col4\" >0.012</td>\n",
       "                        <td id=\"T_c15cb3ea_6b3c_11ea_84ec_fa363532c43drow5_col5\" class=\"data row5 col5\" >-0.02</td>\n",
       "                        <td id=\"T_c15cb3ea_6b3c_11ea_84ec_fa363532c43drow5_col6\" class=\"data row5 col6\" >-0.0098</td>\n",
       "                        <td id=\"T_c15cb3ea_6b3c_11ea_84ec_fa363532c43drow5_col7\" class=\"data row5 col7\" >0.0083</td>\n",
       "                        <td id=\"T_c15cb3ea_6b3c_11ea_84ec_fa363532c43drow5_col8\" class=\"data row5 col8\" >-0.0049</td>\n",
       "                        <td id=\"T_c15cb3ea_6b3c_11ea_84ec_fa363532c43drow5_col9\" class=\"data row5 col9\" >0.013</td>\n",
       "                        <td id=\"T_c15cb3ea_6b3c_11ea_84ec_fa363532c43drow5_col10\" class=\"data row5 col10\" >-0.055</td>\n",
       "                        <td id=\"T_c15cb3ea_6b3c_11ea_84ec_fa363532c43drow5_col11\" class=\"data row5 col11\" >0.077</td>\n",
       "                        <td id=\"T_c15cb3ea_6b3c_11ea_84ec_fa363532c43drow5_col12\" class=\"data row5 col12\" >-0.021</td>\n",
       "                        <td id=\"T_c15cb3ea_6b3c_11ea_84ec_fa363532c43drow5_col13\" class=\"data row5 col13\" >-0.019</td>\n",
       "                        <td id=\"T_c15cb3ea_6b3c_11ea_84ec_fa363532c43drow5_col14\" class=\"data row5 col14\" >0.013</td>\n",
       "            </tr>\n",
       "            <tr>\n",
       "                        <th id=\"T_c15cb3ea_6b3c_11ea_84ec_fa363532c43dlevel0_row6\" class=\"row_heading level0 row6\" >6</th>\n",
       "                        <td id=\"T_c15cb3ea_6b3c_11ea_84ec_fa363532c43drow6_col0\" class=\"data row6 col0\" >-0.0094</td>\n",
       "                        <td id=\"T_c15cb3ea_6b3c_11ea_84ec_fa363532c43drow6_col1\" class=\"data row6 col1\" >0.059</td>\n",
       "                        <td id=\"T_c15cb3ea_6b3c_11ea_84ec_fa363532c43drow6_col2\" class=\"data row6 col2\" >-0.061</td>\n",
       "                        <td id=\"T_c15cb3ea_6b3c_11ea_84ec_fa363532c43drow6_col3\" class=\"data row6 col3\" >-0.027</td>\n",
       "                        <td id=\"T_c15cb3ea_6b3c_11ea_84ec_fa363532c43drow6_col4\" class=\"data row6 col4\" >0.024</td>\n",
       "                        <td id=\"T_c15cb3ea_6b3c_11ea_84ec_fa363532c43drow6_col5\" class=\"data row6 col5\" >0.01</td>\n",
       "                        <td id=\"T_c15cb3ea_6b3c_11ea_84ec_fa363532c43drow6_col6\" class=\"data row6 col6\" >-0.013</td>\n",
       "                        <td id=\"T_c15cb3ea_6b3c_11ea_84ec_fa363532c43drow6_col7\" class=\"data row6 col7\" >-0.0061</td>\n",
       "                        <td id=\"T_c15cb3ea_6b3c_11ea_84ec_fa363532c43drow6_col8\" class=\"data row6 col8\" >-0.0036</td>\n",
       "                        <td id=\"T_c15cb3ea_6b3c_11ea_84ec_fa363532c43drow6_col9\" class=\"data row6 col9\" >-0.94</td>\n",
       "                        <td id=\"T_c15cb3ea_6b3c_11ea_84ec_fa363532c43drow6_col10\" class=\"data row6 col10\" >-0.31</td>\n",
       "                        <td id=\"T_c15cb3ea_6b3c_11ea_84ec_fa363532c43drow6_col11\" class=\"data row6 col11\" >-0.0084</td>\n",
       "                        <td id=\"T_c15cb3ea_6b3c_11ea_84ec_fa363532c43drow6_col12\" class=\"data row6 col12\" >0.012</td>\n",
       "                        <td id=\"T_c15cb3ea_6b3c_11ea_84ec_fa363532c43drow6_col13\" class=\"data row6 col13\" >0.099</td>\n",
       "                        <td id=\"T_c15cb3ea_6b3c_11ea_84ec_fa363532c43drow6_col14\" class=\"data row6 col14\" >0.04</td>\n",
       "            </tr>\n",
       "            <tr>\n",
       "                        <th id=\"T_c15cb3ea_6b3c_11ea_84ec_fa363532c43dlevel0_row7\" class=\"row_heading level0 row7\" >7</th>\n",
       "                        <td id=\"T_c15cb3ea_6b3c_11ea_84ec_fa363532c43drow7_col0\" class=\"data row7 col0\" >-0.0094</td>\n",
       "                        <td id=\"T_c15cb3ea_6b3c_11ea_84ec_fa363532c43drow7_col1\" class=\"data row7 col1\" >-0.081</td>\n",
       "                        <td id=\"T_c15cb3ea_6b3c_11ea_84ec_fa363532c43drow7_col2\" class=\"data row7 col2\" >0.082</td>\n",
       "                        <td id=\"T_c15cb3ea_6b3c_11ea_84ec_fa363532c43drow7_col3\" class=\"data row7 col3\" >-0.025</td>\n",
       "                        <td id=\"T_c15cb3ea_6b3c_11ea_84ec_fa363532c43drow7_col4\" class=\"data row7 col4\" >0.026</td>\n",
       "                        <td id=\"T_c15cb3ea_6b3c_11ea_84ec_fa363532c43drow7_col5\" class=\"data row7 col5\" >-0.028</td>\n",
       "                        <td id=\"T_c15cb3ea_6b3c_11ea_84ec_fa363532c43drow7_col6\" class=\"data row7 col6\" >0.012</td>\n",
       "                        <td id=\"T_c15cb3ea_6b3c_11ea_84ec_fa363532c43drow7_col7\" class=\"data row7 col7\" >-0.036</td>\n",
       "                        <td id=\"T_c15cb3ea_6b3c_11ea_84ec_fa363532c43drow7_col8\" class=\"data row7 col8\" >-0.0039</td>\n",
       "                        <td id=\"T_c15cb3ea_6b3c_11ea_84ec_fa363532c43drow7_col9\" class=\"data row7 col9\" >0.041</td>\n",
       "                        <td id=\"T_c15cb3ea_6b3c_11ea_84ec_fa363532c43drow7_col10\" class=\"data row7 col10\" >-0.28</td>\n",
       "                        <td id=\"T_c15cb3ea_6b3c_11ea_84ec_fa363532c43drow7_col11\" class=\"data row7 col11\" >0.17</td>\n",
       "                        <td id=\"T_c15cb3ea_6b3c_11ea_84ec_fa363532c43drow7_col12\" class=\"data row7 col12\" >-0.061</td>\n",
       "                        <td id=\"T_c15cb3ea_6b3c_11ea_84ec_fa363532c43drow7_col13\" class=\"data row7 col13\" >0.012</td>\n",
       "                        <td id=\"T_c15cb3ea_6b3c_11ea_84ec_fa363532c43drow7_col14\" class=\"data row7 col14\" >-0.93</td>\n",
       "            </tr>\n",
       "            <tr>\n",
       "                        <th id=\"T_c15cb3ea_6b3c_11ea_84ec_fa363532c43dlevel0_row8\" class=\"row_heading level0 row8\" >8</th>\n",
       "                        <td id=\"T_c15cb3ea_6b3c_11ea_84ec_fa363532c43drow8_col0\" class=\"data row8 col0\" >-0.0066</td>\n",
       "                        <td id=\"T_c15cb3ea_6b3c_11ea_84ec_fa363532c43drow8_col1\" class=\"data row8 col1\" >0.11</td>\n",
       "                        <td id=\"T_c15cb3ea_6b3c_11ea_84ec_fa363532c43drow8_col2\" class=\"data row8 col2\" >-0.12</td>\n",
       "                        <td id=\"T_c15cb3ea_6b3c_11ea_84ec_fa363532c43drow8_col3\" class=\"data row8 col3\" >-0.96</td>\n",
       "                        <td id=\"T_c15cb3ea_6b3c_11ea_84ec_fa363532c43drow8_col4\" class=\"data row8 col4\" >-0.02</td>\n",
       "                        <td id=\"T_c15cb3ea_6b3c_11ea_84ec_fa363532c43drow8_col5\" class=\"data row8 col5\" >-0.016</td>\n",
       "                        <td id=\"T_c15cb3ea_6b3c_11ea_84ec_fa363532c43drow8_col6\" class=\"data row8 col6\" >0.00054</td>\n",
       "                        <td id=\"T_c15cb3ea_6b3c_11ea_84ec_fa363532c43drow8_col7\" class=\"data row8 col7\" >0.018</td>\n",
       "                        <td id=\"T_c15cb3ea_6b3c_11ea_84ec_fa363532c43drow8_col8\" class=\"data row8 col8\" >-0.0053</td>\n",
       "                        <td id=\"T_c15cb3ea_6b3c_11ea_84ec_fa363532c43drow8_col9\" class=\"data row8 col9\" >-0.032</td>\n",
       "                        <td id=\"T_c15cb3ea_6b3c_11ea_84ec_fa363532c43drow8_col10\" class=\"data row8 col10\" >0.18</td>\n",
       "                        <td id=\"T_c15cb3ea_6b3c_11ea_84ec_fa363532c43drow8_col11\" class=\"data row8 col11\" >0.11</td>\n",
       "                        <td id=\"T_c15cb3ea_6b3c_11ea_84ec_fa363532c43drow8_col12\" class=\"data row8 col12\" >-0.024</td>\n",
       "                        <td id=\"T_c15cb3ea_6b3c_11ea_84ec_fa363532c43drow8_col13\" class=\"data row8 col13\" >-0.12</td>\n",
       "                        <td id=\"T_c15cb3ea_6b3c_11ea_84ec_fa363532c43drow8_col14\" class=\"data row8 col14\" >-0.029</td>\n",
       "            </tr>\n",
       "    </tbody></table>"
      ],
      "text/plain": [
       "<pandas.io.formats.style.Styler at 0x7f1776ec0f60>"
      ]
     },
     "execution_count": 17,
     "metadata": {},
     "output_type": "execute_result"
    }
   ],
   "source": [
    "def color_sig_red(val):\n",
    "    if abs(val) > 0.5:\n",
    "        color = 'red'\n",
    "    else:\n",
    "        color = 'black'\n",
    "    return 'color: {}'.format(color)\n",
    "df = pd.DataFrame(rotated_components, columns=survey_df.columns)\n",
    "df.style.applymap(color_sig_red)"
   ]
  },
  {
   "cell_type": "markdown",
   "metadata": {
    "deletable": false,
    "editable": false,
    "run_control": {
     "frozen": true
    }
   },
   "source": [
    "Our analysis is now complete. Let's walk through the final results. Focus on the values highlighted in red. In this example, the negative signs can be ignored. We can see that our improved, shorter survey should be contain a single question for each of these four areas:\n",
    "\n",
    "1. Transportation to/from the Airport (\"AirTrain\", \"Long term parking lot shuttle (bus ride)\",\t\"Airport Rental Car Center\")\n",
    "2. Airport Amenities (\"Restaurants\", \"Retail shops and concessions\")\n",
    "3. Information Booths (\"Information booths (lower level - near baggage claim)\", \"Information booths (upper level - departure area)\")\n",
    "4. Travel Inside the Airport (\"Escalators/Elevators/Moving walkways\", \"Information on screens/monitors\")\n",
    "\n",
    "The remaining questions (concerning artwork, wifi, etc) do not need to be changed, because we can see that the components corresponding to them contain only one red value. \n",
    "\n",
    "Notice that some of these results are non-intuitive. We might have expected that the question `\"Signs and directions inside SFO\"` would be a part of the `Travel Inside the Airport` component, but the math is telling us that this is not true. This is a useful lesson; the patterns that exist in our data are not always the ones that we expect - our customers may interpret our questions in non-intuitive ways."
   ]
  },
  {
   "cell_type": "markdown",
   "metadata": {
    "deletable": false,
    "editable": false,
    "run_control": {
     "frozen": true
    }
   },
   "source": [
    "### Beyond Surveys: Generalizing PCA\n",
    "\n",
    "The mathematical underpinnings of PCA are rooted in fundamental linear algebra, and the interested reader can [investigate further](https://en.wikipedia.org/wiki/Principal_component_analysis) if desired. PCA is therefore a highly general technique - it can be used in any situation in which we have data consisting of  a large number of *samples* of a set of *features*. In the example above, our *samples* are each customer and our *features* are each question. The PCA method will then allow us to reduce the set of features in our dataset and retain only those that provide unique information. This is an example of a *data reduction* technique, and is very useful for converting our datasets into a more effective and economical form for machine learning. "
   ]
  },
  {
   "cell_type": "markdown",
   "metadata": {
    "deletable": false,
    "editable": false,
    "run_control": {
     "frozen": true
    }
   },
   "source": [
    "<span style=\"color:blue;font-weight:bold\">Exercise</span>: Let's use PCA to analyze some stock market data. In this case, our *features* will be the percent change in the stock price of nine different companies, and the *samples* will be each day on which the stock price changes are recorded. First, let's look at the data we will be working with:"
   ]
  },
  {
   "cell_type": "code",
   "execution_count": 18,
   "metadata": {
    "scrolled": true
   },
   "outputs": [
    {
     "data": {
      "text/html": [
       "<div>\n",
       "<style scoped>\n",
       "    .dataframe tbody tr th:only-of-type {\n",
       "        vertical-align: middle;\n",
       "    }\n",
       "\n",
       "    .dataframe tbody tr th {\n",
       "        vertical-align: top;\n",
       "    }\n",
       "\n",
       "    .dataframe thead th {\n",
       "        text-align: right;\n",
       "    }\n",
       "</style>\n",
       "<table border=\"1\" class=\"dataframe\">\n",
       "  <thead>\n",
       "    <tr style=\"text-align: right;\">\n",
       "      <th></th>\n",
       "      <th>Bank of America</th>\n",
       "      <th>Google</th>\n",
       "      <th>Amazon</th>\n",
       "      <th>United</th>\n",
       "      <th>American</th>\n",
       "      <th>Delta</th>\n",
       "      <th>Wells Fargo</th>\n",
       "      <th>Facebook</th>\n",
       "      <th>Citigroup</th>\n",
       "    </tr>\n",
       "  </thead>\n",
       "  <tbody>\n",
       "    <tr>\n",
       "      <td>0</td>\n",
       "      <td>4.48</td>\n",
       "      <td>8.27</td>\n",
       "      <td>3.64</td>\n",
       "      <td>-6.83</td>\n",
       "      <td>-3.92</td>\n",
       "      <td>-0.16</td>\n",
       "      <td>-7.96</td>\n",
       "      <td>15.26</td>\n",
       "      <td>1.06</td>\n",
       "    </tr>\n",
       "    <tr>\n",
       "      <td>1</td>\n",
       "      <td>5.87</td>\n",
       "      <td>3.71</td>\n",
       "      <td>4.50</td>\n",
       "      <td>5.49</td>\n",
       "      <td>1.96</td>\n",
       "      <td>7.84</td>\n",
       "      <td>16.02</td>\n",
       "      <td>8.45</td>\n",
       "      <td>-2.35</td>\n",
       "    </tr>\n",
       "    <tr>\n",
       "      <td>2</td>\n",
       "      <td>16.87</td>\n",
       "      <td>-7.94</td>\n",
       "      <td>7.02</td>\n",
       "      <td>3.93</td>\n",
       "      <td>5.21</td>\n",
       "      <td>-0.42</td>\n",
       "      <td>19.32</td>\n",
       "      <td>-2.13</td>\n",
       "      <td>14.07</td>\n",
       "    </tr>\n",
       "    <tr>\n",
       "      <td>3</td>\n",
       "      <td>-12.31</td>\n",
       "      <td>8.90</td>\n",
       "      <td>-0.82</td>\n",
       "      <td>-20.41</td>\n",
       "      <td>-16.56</td>\n",
       "      <td>-22.40</td>\n",
       "      <td>-18.53</td>\n",
       "      <td>17.28</td>\n",
       "      <td>-19.85</td>\n",
       "    </tr>\n",
       "    <tr>\n",
       "      <td>4</td>\n",
       "      <td>-9.26</td>\n",
       "      <td>10.05</td>\n",
       "      <td>12.85</td>\n",
       "      <td>8.79</td>\n",
       "      <td>10.51</td>\n",
       "      <td>9.62</td>\n",
       "      <td>-16.25</td>\n",
       "      <td>4.62</td>\n",
       "      <td>-10.42</td>\n",
       "    </tr>\n",
       "  </tbody>\n",
       "</table>\n",
       "</div>"
      ],
      "text/plain": [
       "   Bank of America  Google  Amazon  United  American  Delta  Wells Fargo  \\\n",
       "0             4.48    8.27    3.64   -6.83     -3.92  -0.16        -7.96   \n",
       "1             5.87    3.71    4.50    5.49      1.96   7.84        16.02   \n",
       "2            16.87   -7.94    7.02    3.93      5.21  -0.42        19.32   \n",
       "3           -12.31    8.90   -0.82  -20.41    -16.56 -22.40       -18.53   \n",
       "4            -9.26   10.05   12.85    8.79     10.51   9.62       -16.25   \n",
       "\n",
       "   Facebook  Citigroup  \n",
       "0     15.26       1.06  \n",
       "1      8.45      -2.35  \n",
       "2     -2.13      14.07  \n",
       "3     17.28     -19.85  \n",
       "4      4.62     -10.42  "
      ]
     },
     "execution_count": 18,
     "metadata": {},
     "output_type": "execute_result"
    }
   ],
   "source": [
    "stock_df = pd.read_csv(\"data/stock_data.csv\")\n",
    "stock_df.head()"
   ]
  },
  {
   "cell_type": "markdown",
   "metadata": {
    "deletable": false,
    "editable": false,
    "run_control": {
     "frozen": true
    }
   },
   "source": [
    "Perform the following tasks:\n",
    "\n",
    "1. Run PCA on this dataset. Store your `PCA` object in a variable named `stock_pca`\n",
    "2. Determine the number of relevant components - note that in this case, you should keep the subset of components that clearly explain much more variance than the others, rather than keeping enough components to explain an arbitrary X% of the variance. Store this number in the variable `n_important_components` \n",
    "3. Run varimax rotation on the relevant components to produce a final set of components. \n",
    "   Store your final set of components in a variable called `final_components`. \n",
    "   \n",
    "Then as a final step, visualize your results in a pandas dataframe. You should see a pattern in the structure of the rotated components. What is your interpretation of the patterns that PCA has identified in this dataset?"
   ]
  },
  {
   "cell_type": "code",
   "execution_count": 33,
   "metadata": {
    "scrolled": true,
    "tags": [
     "exercise"
    ]
   },
   "outputs": [
    {
     "name": "stdout",
     "output_type": "stream",
     "text": [
      "0.9191772769479325\n"
     ]
    },
    {
     "data": {
      "image/png": "[encoded data removed]",
      "text/plain": [
       "<Figure size 432x288 with 1 Axes>"
      ]
     },
     "metadata": {
      "needs_background": "light"
     },
     "output_type": "display_data"
    }
   ],
   "source": [
    "# delete this entire line and replace it with your code\n",
    "model = PCA()\n",
    "scaler = StandardScaler()\n",
    "stock_preprocessed = scaler.fit_transform(stock_df)\n",
    "stock_pca = model.fit(stock_preprocessed)\n",
    "\n",
    "print(sum(stock_pca.explained_variance_ratio_[:5]))\n",
    "plt.plot(stock_pca.explained_variance_ratio_)\n",
    "plt.show()\n",
    "\n",
    "n_important_components = 3\n",
    "\n",
    "final_components = stock_pca.components_[:3]\n",
    "final_components = varimax_rotation(final_components)"
   ]
  },
  {
   "cell_type": "code",
   "execution_count": 33,
   "metadata": {
    "deletable": false,
    "editable": false,
    "strategicml": {
     "execution_time": 1584772748839,
     "exercise_id": "219e4f87-d468-4d2b-b992-02ef584bace0",
     "points": 3
    },
    "tags": [
     "test"
    ]
   },
   "outputs": [
    {
     "data": {
      "text/html": [
       "<div style=\"background-color:#e8fcef\n",
       ";color:#333333;padding:10px;border-style:solid;border-width:2px;border-color:#038c33\">\n",
       "<div style=\"font-weight:bold\">Correct!</div>\n",
       "</div>"
      ],
      "text/plain": [
       "<IPython.core.display.HTML object>"
      ]
     },
     "metadata": {},
     "output_type": "display_data"
    }
   ],
   "source": [
    "import numpy as np\n",
    "check_variable_definition(\"n_important_components\")\n",
    "assert n_important_components == 3, \"You have set <code>n_important_components</code> to the wrong value - take another look at <code>stock_pca.explained_variance_ratio_</code> and count the number of values before the magnitude decreases significantly. \"\n",
    "check_variable_definition(\"final_components\")\n",
    "assert isinstance(final_components, np.ndarray), \"Did you compute <code>final_components</code> using <code>varimax_rotation</code>?\"\n",
    "assert final_components.shape == (3,9), \"Your <code>final_components</code> array has the wrong shape - should be <code>(3,9)</code> - double check your code.\"                  \n",
    "assert (np.abs(final_components) > 0.5).sum() == 9, \"There should be nine values in your <code>final_components</code> array with magnitude greater than <code>0.5</code> - double check your code.\"\n",
    "success()"
   ]
  },
  {
   "cell_type": "code",
   "execution_count": 34,
   "metadata": {},
   "outputs": [
    {
     "data": {
      "text/plain": [
       "array([[-0.00983654, -0.57680698, -0.57535211,  0.00754786, -0.01092336,\n",
       "         0.00338572,  0.00503325, -0.57959373,  0.00499211],\n",
       "       [ 0.00835458,  0.01090676, -0.00661725, -0.57814939, -0.57653415,\n",
       "        -0.57691112,  0.00665631, -0.00453288, -0.01509359],\n",
       "       [-0.57713074, -0.00784314, -0.00141155,  0.00505903,  0.00062468,\n",
       "        -0.0057596 , -0.57600638,  0.00903505, -0.5787335 ]])"
      ]
     },
     "execution_count": 34,
     "metadata": {},
     "output_type": "execute_result"
    }
   ],
   "source": [
    "final_components"
   ]
  },
  {
   "cell_type": "code",
   "execution_count": 36,
   "metadata": {},
   "outputs": [
    {
     "data": {
      "text/html": [
       "<div>\n",
       "<style scoped>\n",
       "    .dataframe tbody tr th:only-of-type {\n",
       "        vertical-align: middle;\n",
       "    }\n",
       "\n",
       "    .dataframe tbody tr th {\n",
       "        vertical-align: top;\n",
       "    }\n",
       "\n",
       "    .dataframe thead th {\n",
       "        text-align: right;\n",
       "    }\n",
       "</style>\n",
       "<table border=\"1\" class=\"dataframe\">\n",
       "  <thead>\n",
       "    <tr style=\"text-align: right;\">\n",
       "      <th></th>\n",
       "      <th>Bank of America</th>\n",
       "      <th>Google</th>\n",
       "      <th>Amazon</th>\n",
       "      <th>United</th>\n",
       "      <th>American</th>\n",
       "      <th>Delta</th>\n",
       "      <th>Wells Fargo</th>\n",
       "      <th>Facebook</th>\n",
       "      <th>Citigroup</th>\n",
       "    </tr>\n",
       "  </thead>\n",
       "  <tbody>\n",
       "    <tr>\n",
       "      <td>0</td>\n",
       "      <td>-0.01</td>\n",
       "      <td>-0.58</td>\n",
       "      <td>-0.58</td>\n",
       "      <td>0.01</td>\n",
       "      <td>-0.01</td>\n",
       "      <td>0.00</td>\n",
       "      <td>0.01</td>\n",
       "      <td>-0.58</td>\n",
       "      <td>0.00</td>\n",
       "    </tr>\n",
       "    <tr>\n",
       "      <td>1</td>\n",
       "      <td>0.01</td>\n",
       "      <td>0.01</td>\n",
       "      <td>-0.01</td>\n",
       "      <td>-0.58</td>\n",
       "      <td>-0.58</td>\n",
       "      <td>-0.58</td>\n",
       "      <td>0.01</td>\n",
       "      <td>-0.00</td>\n",
       "      <td>-0.02</td>\n",
       "    </tr>\n",
       "    <tr>\n",
       "      <td>2</td>\n",
       "      <td>-0.58</td>\n",
       "      <td>-0.01</td>\n",
       "      <td>-0.00</td>\n",
       "      <td>0.01</td>\n",
       "      <td>0.00</td>\n",
       "      <td>-0.01</td>\n",
       "      <td>-0.58</td>\n",
       "      <td>0.01</td>\n",
       "      <td>-0.58</td>\n",
       "    </tr>\n",
       "  </tbody>\n",
       "</table>\n",
       "</div>"
      ],
      "text/plain": [
       "   Bank of America  Google  Amazon  United  American  Delta  Wells Fargo  \\\n",
       "0            -0.01   -0.58   -0.58    0.01     -0.01   0.00         0.01   \n",
       "1             0.01    0.01   -0.01   -0.58     -0.58  -0.58         0.01   \n",
       "2            -0.58   -0.01   -0.00    0.01      0.00  -0.01        -0.58   \n",
       "\n",
       "   Facebook  Citigroup  \n",
       "0     -0.58       0.00  \n",
       "1     -0.00      -0.02  \n",
       "2      0.01      -0.58  "
      ]
     },
     "execution_count": 36,
     "metadata": {},
     "output_type": "execute_result"
    }
   ],
   "source": [
    "pd.DataFrame(final_components, columns=stock_df.columns)"
   ]
  },
  {
   "cell_type": "code",
   "execution_count": null,
   "metadata": {},
   "outputs": [],
   "source": []
  },
  {
   "cell_type": "code",
   "execution_count": 38,
   "metadata": {},
   "outputs": [],
   "source": [
    "# similar sectors are correlated in price movements"
   ]
  },
  {
   "cell_type": "code",
   "execution_count": null,
   "metadata": {},
   "outputs": [],
   "source": []
  }
 ],
 "metadata": {
  "celltoolbar": null,
  "kernelspec": {
   "display_name": "Python 3",
   "language": "python",
   "name": "python3"
  },
  "language_info": {
   "codemirror_mode": {
    "name": "ipython",
    "version": 3
   },
   "file_extension": ".py",
   "mimetype": "text/x-python",
   "name": "python",
   "nbconvert_exporter": "python",
   "pygments_lexer": "ipython3",
   "version": "3.7.3"
  },
  "strategicml": {
   "lesson_id": "0536df36-0342-46c4-bd81-c9b08dd5b477",
   "release": true
  }
 },
 "nbformat": 4,
 "nbformat_minor": 2
}
