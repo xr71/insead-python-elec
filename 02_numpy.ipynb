{
 "cells": [
  {
   "cell_type": "markdown",
   "metadata": {
    "deletable": false,
    "editable": false,
    "run_control": {
     "frozen": true
    }
   },
   "source": [
    "## The `numpy` Module\n",
    "\n",
    "In a previous lesson, you learned to load and manipulate data using the `pandas` module. Usage of `pandas` centers on the `DataFrame`, a container data type that holds our data in a tabular format reminiscent of a CSV file or an Excel worksheet. Pandas DataFrames are powerful tools that we will use extensively. However, when working with some of the machine learning modules about which we will learn in future lessons, it will be more convenient for us to package in our data in a different form that is specialized for working with arrays of numbers. Therefore, we will now learn about the `numpy` module and its core data type, the numpy array. "
   ]
  },
  {
   "cell_type": "markdown",
   "metadata": {
    "deletable": false,
    "editable": false,
    "run_control": {
     "frozen": true
    }
   },
   "source": [
    "## `numpy`: Multidimensional Arrays in Python\n",
    "\n",
    "To understand the role that numpy plays in the Python ecosystem, it is useful to consider the problem of working with two-dimensional arrays of numbers. The list objects that we learned about in previous lessons are very useful for managing one-dimensional arrays of numbers like `[1,2,3,4,5]`. But what if we need to manipulate two-dimensional arrays of numbers, such as a table of numbers in an Excel spreadsheet? We can start out by writing our two-dimensional array as a \"list of lists,\" as shown below:"
   ]
  },
  {
   "cell_type": "code",
   "execution_count": 1,
   "metadata": {},
   "outputs": [],
   "source": [
    "example_list_of_lists = [\n",
    "    [1,2,3,4],\n",
    "    [5,6,7,8],\n",
    "    [9,10,11,12]\n",
    "]"
   ]
  },
  {
   "cell_type": "markdown",
   "metadata": {
    "deletable": false,
    "editable": false,
    "run_control": {
     "frozen": true
    }
   },
   "source": [
    "Notice that the list above, `example_list_of_lists`, has three elements. Each of those elements is itself a list containing four numbers.\n",
    "This method of storing two-dimensional arrays of numbers allows us to do certain basic tasks. For example, we can print each row of the table above using the code below:"
   ]
  },
  {
   "cell_type": "code",
   "execution_count": 2,
   "metadata": {},
   "outputs": [
    {
     "name": "stdout",
     "output_type": "stream",
     "text": [
      "first row: [1, 2, 3, 4]\n",
      "second row: [5, 6, 7, 8]\n",
      "third row: [9, 10, 11, 12]\n"
     ]
    }
   ],
   "source": [
    "print(\"first row:\", example_list_of_lists[0])\n",
    "print(\"second row:\", example_list_of_lists[1])\n",
    "print(\"third row:\", example_list_of_lists[2])"
   ]
  },
  {
   "cell_type": "markdown",
   "metadata": {
    "deletable": false,
    "editable": false,
    "run_control": {
     "frozen": true
    }
   },
   "source": [
    "But what if we want to print the second *column*, rather than the second *row*? For operations such as this, the \"list of lists\" structure above becomes very awkward. We therefore wish to teach Python better techniques for manipulating large arrays of numbers. We can teach Python these skills by importing the `numpy` module:"
   ]
  },
  {
   "cell_type": "code",
   "execution_count": 3,
   "metadata": {},
   "outputs": [],
   "source": [
    "import numpy as np"
   ]
  },
  {
   "cell_type": "markdown",
   "metadata": {
    "deletable": false,
    "editable": false,
    "run_control": {
     "frozen": true
    }
   },
   "source": [
    "Note that we have used the `import as` statement to alias `numpy` to easier-to-type string `np`, as is convention. Now that Python knows the skills contained within the `numpy` module, we can use the `array` function provided by this module to turn our \"list of lists\" into a **numpy array**:"
   ]
  },
  {
   "cell_type": "code",
   "execution_count": 4,
   "metadata": {},
   "outputs": [],
   "source": [
    "numpy_array = np.array(example_list_of_lists)"
   ]
  },
  {
   "cell_type": "markdown",
   "metadata": {
    "deletable": false,
    "editable": false,
    "run_control": {
     "frozen": true
    }
   },
   "source": [
    "The variable `numpy_array`, which stores the return value of `np.array`, now contains a numpy array **object**. This object is just like the ones that we learned about in our previous lesson. Just as we did before, we can type a `.` after the name of the object and hit the `Tab` key to see the attributes and methods contained within this object. Click on the right edge of the cell below and hit `Tab` to view this information:"
   ]
  },
  {
   "cell_type": "code",
   "execution_count": 10,
   "metadata": {},
   "outputs": [
    {
     "data": {
      "text/plain": [
       "11"
      ]
     },
     "execution_count": 10,
     "metadata": {},
     "output_type": "execute_result"
    }
   ],
   "source": [
    "numpy_array.argmax()"
   ]
  },
  {
   "cell_type": "markdown",
   "metadata": {
    "deletable": false,
    "editable": false,
    "run_control": {
     "frozen": true
    }
   },
   "source": [
    "As you can see, the list shown above is quite long. This is because numpy arrays can perform a wide variety of mathematical operations on the multidimensional data that they contain. Let's take a look at what the `numpy` array object looks like:"
   ]
  },
  {
   "cell_type": "code",
   "execution_count": 11,
   "metadata": {},
   "outputs": [
    {
     "name": "stdout",
     "output_type": "stream",
     "text": [
      "[[ 1  2  3  4]\n",
      " [ 5  6  7  8]\n",
      " [ 9 10 11 12]]\n"
     ]
    }
   ],
   "source": [
    "print(numpy_array)"
   ]
  },
  {
   "cell_type": "markdown",
   "metadata": {
    "deletable": false,
    "editable": false,
    "run_control": {
     "frozen": true
    }
   },
   "source": [
    "This looks a lot like our \"list of lists\" from above - although note that `print` does not show you everything inside an object, just an \"easy-to-read\" view of some parts of it. What exactly is better about a numpy array? Let's determine the answer to this question by learning the basics of manipulating data inside `numpy` arrays."
   ]
  },
  {
   "cell_type": "markdown",
   "metadata": {
    "deletable": false,
    "editable": false,
    "run_control": {
     "frozen": true
    }
   },
   "source": [
    "Recall that we access the elements of a one-dimensional list using the indexing operator `[...]`:"
   ]
  },
  {
   "cell_type": "code",
   "execution_count": 12,
   "metadata": {},
   "outputs": [
    {
     "name": "stdout",
     "output_type": "stream",
     "text": [
      "first element: 1\n",
      "second element: 2\n",
      "third element: 3\n"
     ]
    }
   ],
   "source": [
    "my_list = [1,2,3]\n",
    "print(\"first element:\", my_list[0])\n",
    "print(\"second element:\", my_list[1])\n",
    "print(\"third element:\", my_list[2])"
   ]
  },
  {
   "cell_type": "markdown",
   "metadata": {
    "deletable": false,
    "editable": false,
    "run_control": {
     "frozen": true
    }
   },
   "source": [
    "We can access the elements of the numpy array above in a similar manner, but we will need to pass two numbers to the indexing operator `[...]` because the data we are working with is two-dimesional (meaning that it has rows and columns, not just rows or just columns.) Let's see how this works by printing the the first row element by element:"
   ]
  },
  {
   "cell_type": "code",
   "execution_count": 13,
   "metadata": {
    "scrolled": true
   },
   "outputs": [
    {
     "name": "stdout",
     "output_type": "stream",
     "text": [
      "first row, first column: 1\n",
      "first row, second column: 2\n",
      "first row, third column: 3\n",
      "first row, fourth column: 4\n"
     ]
    }
   ],
   "source": [
    "print(\"first row, first column:\", numpy_array[0,0])\n",
    "print(\"first row, second column:\", numpy_array[0,1])\n",
    "print(\"first row, third column:\", numpy_array[0,2])\n",
    "print(\"first row, fourth column:\", numpy_array[0,3])"
   ]
  },
  {
   "cell_type": "markdown",
   "metadata": {
    "deletable": false,
    "editable": false,
    "run_control": {
     "frozen": true
    }
   },
   "source": [
    "As you can see, the first number that we pass to the indexing operator of the numpy array specifies the *row* that we want, while the second number specifies the *column*. "
   ]
  },
  {
   "cell_type": "markdown",
   "metadata": {
    "deletable": false,
    "editable": false,
    "run_control": {
     "frozen": true
    }
   },
   "source": [
    "<span style=\"color:red;font-weight:bold\">Try It</span>\n",
    ": Using the indexing operator as above, print the value located in the *third row* and the *second column* of `numpy_array`. Remember, row and column indices start at `0` - you can look at the above example for reference."
   ]
  },
  {
   "cell_type": "code",
   "execution_count": 15,
   "metadata": {},
   "outputs": [
    {
     "data": {
      "text/plain": [
       "10"
      ]
     },
     "execution_count": 15,
     "metadata": {},
     "output_type": "execute_result"
    }
   ],
   "source": [
    "numpy_array[2][1]"
   ]
  },
  {
   "cell_type": "markdown",
   "metadata": {
    "deletable": false,
    "editable": false,
    "run_control": {
     "frozen": true
    }
   },
   "source": [
    "What if we want an entire row, or an entire column, rather than an individual array element? We can accomplish this by replacing either the column or row index with a colon (`:`) - using a colon for the column index means that we want \"all the columns\" for the specified row, and using it for the row index implies that we want \"all the rows\"  for the specified column. You can see this below: "
   ]
  },
  {
   "cell_type": "code",
   "execution_count": 16,
   "metadata": {},
   "outputs": [
    {
     "name": "stdout",
     "output_type": "stream",
     "text": [
      "the first row:\n",
      "[1 2 3 4]\n",
      "the first column:\n",
      "[1 5 9]\n"
     ]
    }
   ],
   "source": [
    "print(\"the first row:\")\n",
    "print(numpy_array[0,:])\n",
    "print(\"the first column:\")\n",
    "print(numpy_array[:,0])"
   ]
  },
  {
   "cell_type": "markdown",
   "metadata": {
    "deletable": false,
    "editable": false,
    "run_control": {
     "frozen": true
    }
   },
   "source": [
    "<span style=\"color:red;font-weight:bold\">Try It</span>\n",
    ": Using the special `:` syntax above, print the second column of `numpy_array`:"
   ]
  },
  {
   "cell_type": "code",
   "execution_count": 20,
   "metadata": {},
   "outputs": [
    {
     "data": {
      "text/plain": [
       "array([5, 6, 7, 8])"
      ]
     },
     "execution_count": 20,
     "metadata": {},
     "output_type": "execute_result"
    }
   ],
   "source": [
    "numpy_array[1,:]"
   ]
  },
  {
   "cell_type": "markdown",
   "metadata": {
    "deletable": false,
    "editable": false,
    "run_control": {
     "frozen": true
    }
   },
   "source": [
    "### Looping over Multidimensional Arrays\n",
    "\n",
    "We saw in the previous lesson on loops how we can use a `for` loop to loop over the elements of the following things:\n",
    "\n",
    "1. lists\n",
    "2. The output of the `range(...)` function\n",
    "\n",
    "Is there a similar way to loop over the elements of a numpy array? Yes. It turns out that `for` loops can be used to iterate over any *iterable* object. You can think of *iterable* as meaning: \"has elements that can be accessed one by one.\" Numpy arrays are *iterable*, though in a slightly different way than traditional lists. Since the numpy arrays that we are most interested in are two-dimensional, the solution will require two `for` loops nested inside each other. This is demonstrated with the following code:"
   ]
  },
  {
   "cell_type": "code",
   "execution_count": 21,
   "metadata": {},
   "outputs": [
    {
     "name": "stdout",
     "output_type": "stream",
     "text": [
      "starting new row:\n",
      "1\n",
      "2\n",
      "3\n",
      "4\n",
      "starting new row:\n",
      "5\n",
      "6\n",
      "7\n",
      "8\n",
      "starting new row:\n",
      "9\n",
      "10\n",
      "11\n",
      "12\n"
     ]
    }
   ],
   "source": [
    "my_two_d_array = np.array([\n",
    "    [1,2,3,4],\n",
    "    [5,6,7,8],\n",
    "    [9,10,11,12]\n",
    "])\n",
    "for row in my_two_d_array:\n",
    "    print(\"starting new row:\")\n",
    "    for element in row:\n",
    "        print(element)"
   ]
  },
  {
   "cell_type": "markdown",
   "metadata": {
    "deletable": false,
    "editable": false,
    "run_control": {
     "frozen": true
    }
   },
   "source": [
    "Let's break down how the `for` loops above work. Our first `for` loop traverses the *rows* of the numpy array, while the second `for` loop nested inside the first one traverses the individual *elements* of each row. Remember, everything in the body of a `for` loop (the indented portion) is run once per iteration of the loop, so the entire inner `for` loop is run during every iteration of the outer `for` loop."
   ]
  },
  {
   "cell_type": "markdown",
   "metadata": {
    "deletable": false,
    "editable": false,
    "run_control": {
     "frozen": true
    }
   },
   "source": [
    "<span style=\"color:blue;font-weight:bold\">Exercise</span>: Write a function called `count_zeros` that accepts a single variable called `my_array` as an argument, and returns a single number that is the total number of zeros in the array. For example, given a numpy array constructed from the following values (as above): \n",
    "\n",
    "```\n",
    "[[1,0,1,0],\n",
    " [0,0,0,1],\n",
    " [1,0,1,1]]\n",
    "```\n",
    "\n",
    "your function should return a value of `6`. Hint: this challenging exercise will require you to use the following elements of previous lessons:\n",
    "\n",
    "1. `for` loops (not just one `for` loop, but a second `for` loop inside the body of the first)\n",
    "2. `if` statements\n",
    "3. Comparison operators (At least one of `<`,`>`, `==`, etc.)"
   ]
  },
  {
   "cell_type": "code",
   "execution_count": 31,
   "metadata": {
    "tags": [
     "exercise"
    ]
   },
   "outputs": [],
   "source": [
    "def count_zeros(my_array):\n",
    "    return sum(my_array.flatten() == 0)"
   ]
  },
  {
   "cell_type": "code",
   "execution_count": 31,
   "metadata": {
    "deletable": false,
    "editable": false,
    "strategicml": {
     "execution_time": 1584769514298,
     "exercise_id": "e54268d8-dada-4e16-9ec0-760a6ad30245",
     "points": 3
    },
    "tags": [
     "test"
    ]
   },
   "outputs": [
    {
     "data": {
      "text/html": [
       "<div style=\"background-color:#e8fcef\n",
       ";color:#333333;padding:10px;border-style:solid;border-width:2px;border-color:#038c33\">\n",
       "<div style=\"font-weight:bold\">Correct!</div>\n",
       "</div>"
      ],
      "text/plain": [
       "<IPython.core.display.HTML object>"
      ]
     },
     "metadata": {},
     "output_type": "display_data"
    }
   ],
   "source": [
    "import numpy as np\n",
    "check_function_definition(\"count_zeros\")\n",
    "test_array_zero = np.array([\n",
    "    [1,0,1,0],\n",
    "    [0,0,0,1],\n",
    "    [1,0,1,1]\n",
    "])\n",
    "assert count_zeros(test_array_zero) == 6, \"Your function does count zeros correctly - try calling it on this array: <code>np.array([[1,0,1,0],[0,0,0,1],[1,0,1,1]])</code>\"\n",
    "test_array_one = np.array([\n",
    "    [1,0,1,0,0],\n",
    "    [0,0,0,1,1],\n",
    "    [1,0,1,0,1],\n",
    "    [1,1,1,0,1]\n",
    "])\n",
    "assert count_zeros(test_array_one) == 9, \"Your function does count zeros correctly - double-check your code.\"\n",
    "success()"
   ]
  },
  {
   "cell_type": "markdown",
   "metadata": {
    "deletable": false,
    "editable": false,
    "run_control": {
     "frozen": true
    }
   },
   "source": [
    "### Tuples\n",
    "\n",
    "We must now cover a data type that we intentionally skipped in previous lessons, but that appears quite often when using the numpy module: *tuples*. You can think of tuples as being exactly like lists, but defined using `()` instead of `[]`: "
   ]
  },
  {
   "cell_type": "code",
   "execution_count": 32,
   "metadata": {},
   "outputs": [],
   "source": [
    "my_tuple = (1,2,3)"
   ]
  },
  {
   "cell_type": "markdown",
   "metadata": {
    "deletable": false,
    "editable": false,
    "run_control": {
     "frozen": true
    }
   },
   "source": [
    "In many ways, tuples are just like lists - we can find their length with `len(...)` and access their elements with `[...]`:"
   ]
  },
  {
   "cell_type": "code",
   "execution_count": 33,
   "metadata": {},
   "outputs": [
    {
     "name": "stdout",
     "output_type": "stream",
     "text": [
      "3\n",
      "1\n"
     ]
    }
   ],
   "source": [
    "print(len(my_tuple))\n",
    "print(my_tuple[0])"
   ]
  },
  {
   "cell_type": "markdown",
   "metadata": {
    "deletable": false,
    "editable": false,
    "run_control": {
     "frozen": true
    }
   },
   "source": [
    "However, tuples are *immutable*, meaning their contents cannot be changed. The following cell will therefore fail with an error:"
   ]
  },
  {
   "cell_type": "code",
   "execution_count": 34,
   "metadata": {
    "tags": [
     "raises-exception"
    ]
   },
   "outputs": [
    {
     "data": {
      "text/html": [
       "<div style=\"background-color:#FEFAF3\n",
       ";color:#333333;padding:10px;border-style:solid;border-width:2px;border-color:#FFC47D\">\n",
       "  <div style=\"margin-bottom:10px;font-weight:bold\">Exception</div>\n",
       "  <div>Running your code produced the exception shown below.\n",
       "Python provides the full error message below to help you diagnose what is wrong with your code.\n",
       "Typing the below error message into a search engine may be helpful.</div>\n",
       "</div>"
      ],
      "text/plain": [
       "<IPython.core.display.HTML object>"
      ]
     },
     "metadata": {},
     "output_type": "display_data"
    },
    {
     "ename": "TypeError",
     "evalue": "'tuple' object does not support item assignment",
     "output_type": "error",
     "traceback": [
      "\u001b[0;31m---------------------------------------------------------------------------\u001b[0m",
      "\u001b[0;31mTypeError\u001b[0m                                 Traceback (most recent call last)",
      "\u001b[0;32m<ipython-input-34-586d8cd8f485>\u001b[0m in \u001b[0;36m<module>\u001b[0;34m\u001b[0m\n\u001b[0;32m----> 1\u001b[0;31m \u001b[0mmy_tuple\u001b[0m\u001b[0;34m[\u001b[0m\u001b[0;36m0\u001b[0m\u001b[0;34m]\u001b[0m \u001b[0;34m=\u001b[0m \u001b[0;34m\"foo\"\u001b[0m\u001b[0;34m\u001b[0m\u001b[0;34m\u001b[0m\u001b[0m\n\u001b[0m",
      "\u001b[0;31mTypeError\u001b[0m: 'tuple' object does not support item assignment"
     ]
    }
   ],
   "source": [
    "my_tuple[0] = \"foo\""
   ]
  },
  {
   "cell_type": "markdown",
   "metadata": {
    "deletable": false,
    "editable": false,
    "run_control": {
     "frozen": true
    }
   },
   "source": [
    "So you can think of tuples as \"lists that you can't change.\" The reason that we are introducing tuples in this lesson is because the numpy module uses them extensively. In particular, the *shape* of our numpy arrays (the number of rows and columns) is stored as a tuple:"
   ]
  },
  {
   "cell_type": "code",
   "execution_count": 35,
   "metadata": {},
   "outputs": [
    {
     "data": {
      "text/plain": [
       "(3, 2)"
      ]
     },
     "execution_count": 35,
     "metadata": {},
     "output_type": "execute_result"
    }
   ],
   "source": [
    "three_by_two = np.array([\n",
    "    [1,2],\n",
    "    [3,4],\n",
    "    [5,6]\n",
    "])\n",
    "three_by_two.shape"
   ]
  },
  {
   "cell_type": "markdown",
   "metadata": {
    "deletable": false,
    "editable": false,
    "run_control": {
     "frozen": true
    }
   },
   "source": [
    "We can see that the attribute `shape` of a numpy array object contains the number of rows (first tuple entry) and the number of columns (second tuple entry.) In the next section, we will see how to use tuples to quickly construct numpy arrays with particular shapes. "
   ]
  },
  {
   "cell_type": "markdown",
   "metadata": {
    "deletable": false,
    "editable": false,
    "run_control": {
     "frozen": true
    }
   },
   "source": [
    "### Constructing Numpy Arrays Efficiently\n",
    "\n",
    "The numpy module provides several convenient functions that we can use to quickly generate large arrays with particular shapes. For example, we can use `np.zeros` to create an array filled with zeros, which is often a useful initial condition for our programs:"
   ]
  },
  {
   "cell_type": "code",
   "execution_count": 36,
   "metadata": {},
   "outputs": [
    {
     "name": "stdout",
     "output_type": "stream",
     "text": [
      "[0. 0. 0.]\n"
     ]
    }
   ],
   "source": [
    "three_zeros = np.zeros(3)\n",
    "print(three_zeros)"
   ]
  },
  {
   "cell_type": "markdown",
   "metadata": {
    "deletable": false,
    "editable": false,
    "run_control": {
     "frozen": true
    }
   },
   "source": [
    "Passing a single argument to `np.zeros` creates a row of zeros with the given number of columns. We can create a two-dimensional array of zeros by passing a tuple containing the appropriate shape (note the doubled parentheses - one set for the function, one set for the tuple):"
   ]
  },
  {
   "cell_type": "code",
   "execution_count": 37,
   "metadata": {},
   "outputs": [
    {
     "name": "stdout",
     "output_type": "stream",
     "text": [
      "[[0. 0. 0. 0. 0. 0.]\n",
      " [0. 0. 0. 0. 0. 0.]\n",
      " [0. 0. 0. 0. 0. 0.]\n",
      " [0. 0. 0. 0. 0. 0.]\n",
      " [0. 0. 0. 0. 0. 0.]]\n"
     ]
    }
   ],
   "source": [
    "five_by_six = np.zeros((5,6))\n",
    "print(five_by_six)"
   ]
  },
  {
   "cell_type": "markdown",
   "metadata": {
    "deletable": false,
    "editable": false,
    "run_control": {
     "frozen": true
    }
   },
   "source": [
    "We can also quickly construct numpy arrays with more interesting patterns. For example, we can use the `np.arange` function to construct arrays that span a particular numerical range:"
   ]
  },
  {
   "cell_type": "code",
   "execution_count": 38,
   "metadata": {},
   "outputs": [
    {
     "name": "stdout",
     "output_type": "stream",
     "text": [
      "[ 0  2  4  6  8 10 12 14 16 18]\n"
     ]
    }
   ],
   "source": [
    "range_arr = np.arange(0,20,2)\n",
    "print(range_arr)"
   ]
  },
  {
   "cell_type": "markdown",
   "metadata": {
    "deletable": false,
    "editable": false,
    "run_control": {
     "frozen": true
    }
   },
   "source": [
    "Let's break down the result above above. The `arange` function takes three arguments:\n",
    "\n",
    "1. The *start* number: `0`\n",
    "2. The *end* number (will not be included in the output): `20`\n",
    "3. The *step* by which to increment at each position: `2`\n",
    "\n",
    "Thus the function call above gives all the numbers from zero up to (but not including) twenty, counting by two. "
   ]
  },
  {
   "cell_type": "markdown",
   "metadata": {
    "deletable": false,
    "editable": false,
    "run_control": {
     "frozen": true
    }
   },
   "source": [
    "### Mathematical Operations on Numpy Arrays\n",
    "\n",
    "Numpy provides many useful mathematical functions that can operate on numpy array objects. A principal difference between these mathematical functions and those found in other Python modules is that they can apply a mathematical operation to an entire array at once. For example, we can apply the exponential function $e^x$ to every element of an array at once using the `np.exp` function call:"
   ]
  },
  {
   "cell_type": "code",
   "execution_count": 39,
   "metadata": {},
   "outputs": [
    {
     "data": {
      "text/plain": [
       "array([1.        , 2.71828183, 7.3890561 ])"
      ]
     },
     "execution_count": 39,
     "metadata": {},
     "output_type": "execute_result"
    }
   ],
   "source": [
    "powers = np.array([0,1,2])\n",
    "np.exp(powers)"
   ]
  },
  {
   "cell_type": "markdown",
   "metadata": {
    "deletable": false,
    "editable": false,
    "run_control": {
     "frozen": true
    }
   },
   "source": [
    "If you are unfamiliar with the function $e^x$ from math class, do not worry - the point of the above is simply to show that the operation is applied to every single array element, resulting in an array of three new elements. "
   ]
  },
  {
   "cell_type": "markdown",
   "metadata": {
    "deletable": false,
    "editable": false,
    "run_control": {
     "frozen": true
    }
   },
   "source": [
    "Let's take a look at another example: we can also find the `mean` and the `min` of a given array. These functions work even on two-dimensional arrays - they will use all of the elements across all rows and columns to compute the answer:"
   ]
  },
  {
   "cell_type": "code",
   "execution_count": 40,
   "metadata": {},
   "outputs": [
    {
     "name": "stdout",
     "output_type": "stream",
     "text": [
      "5.5\n",
      "1\n"
     ]
    }
   ],
   "source": [
    "two_by_five = [\n",
    "    [1,2,3,4,5],\n",
    "    [6,7,8,9,10],\n",
    "]\n",
    "print(np.mean(two_by_five))\n",
    "print(np.min(two_by_five))"
   ]
  },
  {
   "cell_type": "markdown",
   "metadata": {
    "deletable": false,
    "editable": false,
    "run_control": {
     "frozen": true
    }
   },
   "source": [
    "### Reshaping Numpy Arrays\n",
    "\n",
    "The two-dimensional numpy arrays that we have been using so far in this lesson have a fixed number of rows and columns. What if we want to change their shape by changing the number of rows/columns? We can do so using the `reshape` method, as shown below:"
   ]
  },
  {
   "cell_type": "code",
   "execution_count": 41,
   "metadata": {},
   "outputs": [
    {
     "name": "stdout",
     "output_type": "stream",
     "text": [
      "[[1 2]\n",
      " [3 4]\n",
      " [5 6]]\n"
     ]
    }
   ],
   "source": [
    "arr = np.array([\n",
    "    [1,2,3],\n",
    "    [4,5,6]\n",
    "])\n",
    "reshaped_arr = arr.reshape(3,2)\n",
    "print(reshaped_arr)"
   ]
  },
  {
   "cell_type": "markdown",
   "metadata": {
    "deletable": false,
    "editable": false,
    "run_control": {
     "frozen": true
    }
   },
   "source": [
    "You can see from the output above that the `reshape` method returns a *new* numpy array with a different shape. The first argument to `reshape` specifies the number of rows that we want in the new array, while the second argument specifies the number of columns."
   ]
  },
  {
   "cell_type": "markdown",
   "metadata": {
    "deletable": false,
    "editable": false,
    "run_control": {
     "frozen": true
    }
   },
   "source": [
    "You have now seen how `reshape` can be used to change the shape of two-dimensional arrays. Can we also reshape one-dimensional arrays? Standard one-dimensional numpy arrays take the form of individual *rows*, as shown below: "
   ]
  },
  {
   "cell_type": "code",
   "execution_count": 42,
   "metadata": {},
   "outputs": [
    {
     "name": "stdout",
     "output_type": "stream",
     "text": [
      "[1 2 3]\n"
     ]
    }
   ],
   "source": [
    "row_array = np.array([1,2,3])\n",
    "print(row_array)"
   ]
  },
  {
   "cell_type": "markdown",
   "metadata": {
    "deletable": false,
    "editable": false,
    "run_control": {
     "frozen": true
    }
   },
   "source": [
    "In the subsequent  lessons, we will often use the `reshape` method to perform a simple \"trick\" that transforms our data into a particular shape that is compatible with several machine learning modules. To work with these modules, we often need our one-dimensional arrays to be *column*-shaped, rather than *row*-shaped. To \"flip\" a numpy array from a row to a column, we can use the following special `reshape` call:"
   ]
  },
  {
   "cell_type": "code",
   "execution_count": 43,
   "metadata": {
    "scrolled": true
   },
   "outputs": [
    {
     "name": "stdout",
     "output_type": "stream",
     "text": [
      "[[1]\n",
      " [2]\n",
      " [3]]\n"
     ]
    }
   ],
   "source": [
    "col_array = row_array.reshape(-1,1)\n",
    "print(col_array)"
   ]
  },
  {
   "cell_type": "markdown",
   "metadata": {
    "deletable": false,
    "editable": false,
    "run_control": {
     "frozen": true
    }
   },
   "source": [
    "As you can see, the use of the magic value of `-1` as the \"number of rows\" argument causes numpy to perform the following tasks:\n",
    "\n",
    "1. Look at the number of *columns* that we want: `1`\n",
    "2. Calculate the number of *rows* that our new array must have so that the total number of elements is the same as before: `3`\n",
    "\n",
    "Therefore, using `reshape(-1,1)` on a row will \"flip it\" to produce a column of the same length. We will use this trick extensively in the following lessons."
   ]
  },
  {
   "cell_type": "markdown",
   "metadata": {
    "deletable": false,
    "editable": false,
    "run_control": {
     "frozen": true
    }
   },
   "source": [
    "<span style=\"color:blue;font-weight:bold\">Exercise</span>: Write a function called `shaped_range` that accepts four numerical arguments: `start`,`end`,`n_rows`, and `n_cols`. Your function should return a numpy array with `n_rows` rows and `n_cols` columns, containing the numbers ranging from `start` to `end` (but not including `end`.) For example, the function call `shaped_range(1,11,5,2)` should return this numpy array:\n",
    "\n",
    "```\n",
    "[[ 1  2]\n",
    " [ 3  4]\n",
    " [ 5  6]\n",
    " [ 7  8]\n",
    " [ 9 10]]\n",
    "```\n",
    "Note: we would usually need to write extra code to check that the number of elements in the range specified match the number of rows and columns requested in the function call, but we will skip this precaution in this exercise.\n"
   ]
  },
  {
   "cell_type": "code",
   "execution_count": 44,
   "metadata": {
    "tags": [
     "exercise"
    ]
   },
   "outputs": [],
   "source": [
    "def shaped_range(start, end, n_rows, n_cols):\n",
    "    return np.arange(start, end).reshape(n_rows, n_cols)"
   ]
  },
  {
   "cell_type": "code",
   "execution_count": 44,
   "metadata": {
    "deletable": false,
    "editable": false,
    "strategicml": {
     "execution_time": 1584769803850,
     "exercise_id": "d25e91c8-ed65-421c-8d86-0573d2b345fe",
     "points": 3
    },
    "tags": [
     "test"
    ]
   },
   "outputs": [
    {
     "data": {
      "text/html": [
       "<div style=\"background-color:#e8fcef\n",
       ";color:#333333;padding:10px;border-style:solid;border-width:2px;border-color:#038c33\">\n",
       "<div style=\"font-weight:bold\">Correct!</div>\n",
       "</div>"
      ],
      "text/plain": [
       "<IPython.core.display.HTML object>"
      ]
     },
     "metadata": {},
     "output_type": "display_data"
    }
   ],
   "source": [
    "check_function_definition(\"shaped_range\")\n",
    "try:\n",
    "    resone = shaped_range(1,11,5,2)\n",
    "except Exception as e:\n",
    "    raise ExerciseError(f\"Your function produced an error when called as follows: <code>shaped_range(1,11,5,2)</code> - the error was: <code>{e}</code>\")\n",
    "\n",
    "try:\n",
    "    restwo = shaped_range(3,15,3,4)\n",
    "except Exception as e:\n",
    "    raise ExerciseError(f\"Your function produced an error when called as follows: <code>shaped_range(3,15,3,4)</code> - the error was: <code>{e}</code>\")\n",
    "    \n",
    "assert isinstance(resone, np.ndarray), \"Your function should return a numpy array.\"\n",
    "assert isinstance(restwo, np.ndarray), \"Your function should return a numpy array.\"\n",
    "assert np.array_equal(resone, np.array([\n",
    "    [1,2],\n",
    "    [3,4],\n",
    "    [5,6],\n",
    "    [7,8],\n",
    "    [9,10]\n",
    "])), \"Your function did not return the correct value when called as follows: <code>shaped_range(1,11,5,2)</code>\"\n",
    "assert np.array_equal(restwo, np.array([\n",
    "    [3,4,5,6],\n",
    "    [7,8,9,10],\n",
    "    [11,12,13,14]\n",
    "])),\"Your function did not return the correct value when called as follows: <code>shaped_range(3,15,3,4)</code>\"\n",
    "success()"
   ]
  },
  {
   "cell_type": "markdown",
   "metadata": {
    "deletable": false,
    "editable": false,
    "run_control": {
     "frozen": true
    }
   },
   "source": [
    "## Converting Pandas DataFrame Contents to Numpy Arrays\n",
    "\n",
    "A tedious but necessary task that you will undertake in subsequent lessons is extracting data from pandas data frames and converting it to an appropriate numpy array. Consider the dataframe below:"
   ]
  },
  {
   "cell_type": "code",
   "execution_count": 45,
   "metadata": {},
   "outputs": [
    {
     "data": {
      "text/html": [
       "<div>\n",
       "<style scoped>\n",
       "    .dataframe tbody tr th:only-of-type {\n",
       "        vertical-align: middle;\n",
       "    }\n",
       "\n",
       "    .dataframe tbody tr th {\n",
       "        vertical-align: top;\n",
       "    }\n",
       "\n",
       "    .dataframe thead th {\n",
       "        text-align: right;\n",
       "    }\n",
       "</style>\n",
       "<table border=\"1\" class=\"dataframe\">\n",
       "  <thead>\n",
       "    <tr style=\"text-align: right;\">\n",
       "      <th></th>\n",
       "      <th>Product Name</th>\n",
       "      <th>Sales Q1 2019 (USD)</th>\n",
       "      <th>Sales Q2 2019 (USD)</th>\n",
       "    </tr>\n",
       "  </thead>\n",
       "  <tbody>\n",
       "    <tr>\n",
       "      <td>0</td>\n",
       "      <td>Apples</td>\n",
       "      <td>1000000</td>\n",
       "      <td>1500000</td>\n",
       "    </tr>\n",
       "    <tr>\n",
       "      <td>1</td>\n",
       "      <td>Oranges</td>\n",
       "      <td>2000000</td>\n",
       "      <td>3000000</td>\n",
       "    </tr>\n",
       "    <tr>\n",
       "      <td>2</td>\n",
       "      <td>Bananas</td>\n",
       "      <td>3000000</td>\n",
       "      <td>4500000</td>\n",
       "    </tr>\n",
       "    <tr>\n",
       "      <td>3</td>\n",
       "      <td>Pineapples</td>\n",
       "      <td>1500000</td>\n",
       "      <td>2250000</td>\n",
       "    </tr>\n",
       "    <tr>\n",
       "      <td>4</td>\n",
       "      <td>Peaches</td>\n",
       "      <td>2000000</td>\n",
       "      <td>1000000</td>\n",
       "    </tr>\n",
       "  </tbody>\n",
       "</table>\n",
       "</div>"
      ],
      "text/plain": [
       "  Product Name  Sales Q1 2019 (USD)  Sales Q2 2019 (USD)\n",
       "0       Apples              1000000              1500000\n",
       "1      Oranges              2000000              3000000\n",
       "2      Bananas              3000000              4500000\n",
       "3   Pineapples              1500000              2250000\n",
       "4      Peaches              2000000              1000000"
      ]
     },
     "execution_count": 45,
     "metadata": {},
     "output_type": "execute_result"
    }
   ],
   "source": [
    "import pandas as pd\n",
    "df = pd.read_excel(\"data/demo.xlsx\")\n",
    "df.head()"
   ]
  },
  {
   "cell_type": "markdown",
   "metadata": {
    "deletable": false,
    "editable": false,
    "run_control": {
     "frozen": true
    }
   },
   "source": [
    "Suppose we wanted a numpy array containing the columns `Sales Q1 2019 (USD)` and `Sales Q2 2019 (USD)` - we could create this using the `to_numpy()` method as follows:"
   ]
  },
  {
   "cell_type": "code",
   "execution_count": 46,
   "metadata": {},
   "outputs": [
    {
     "data": {
      "text/plain": [
       "array([[1000000, 1500000],\n",
       "       [2000000, 3000000],\n",
       "       [3000000, 4500000],\n",
       "       [1500000, 2250000],\n",
       "       [2000000, 1000000],\n",
       "       [2000000, 4000000],\n",
       "       [3000000, 4500000],\n",
       "       [2000000, 3000000],\n",
       "       [3000000, 4500000],\n",
       "       [1500000, 2250000]])"
      ]
     },
     "execution_count": 46,
     "metadata": {},
     "output_type": "execute_result"
    }
   ],
   "source": [
    "# extract the columns we want\n",
    "numeric_columns = [\"Sales Q1 2019 (USD)\", \"Sales Q2 2019 (USD)\"]\n",
    "my_np_array = df[numeric_columns].to_numpy()\n",
    "my_np_array"
   ]
  },
  {
   "cell_type": "markdown",
   "metadata": {
    "deletable": false,
    "editable": false,
    "run_control": {
     "frozen": true
    }
   },
   "source": [
    "Alternatively, if we need to extract only a single column as a numpy array, we might simply use `np.array` to build our array from the appropriate set of values:"
   ]
  },
  {
   "cell_type": "code",
   "execution_count": 48,
   "metadata": {},
   "outputs": [
    {
     "data": {
      "text/plain": [
       "array([1000000, 2000000, 3000000, 1500000, 2000000, 2000000, 3000000,\n",
       "       2000000, 3000000, 1500000])"
      ]
     },
     "execution_count": 48,
     "metadata": {},
     "output_type": "execute_result"
    }
   ],
   "source": [
    "one_column_np_array = np.array(df[\"Sales Q1 2019 (USD)\"])\n",
    "one_column_np_array"
   ]
  },
  {
   "cell_type": "markdown",
   "metadata": {
    "deletable": false,
    "editable": false,
    "run_control": {
     "frozen": true
    }
   },
   "source": [
    "You will see us use both of these conversion methods in subsequent lessons."
   ]
  },
  {
   "cell_type": "code",
   "execution_count": null,
   "metadata": {},
   "outputs": [],
   "source": []
  }
 ],
 "metadata": {
  "celltoolbar": null,
  "kernelspec": {
   "display_name": "Python 3",
   "language": "python",
   "name": "python3"
  },
  "language_info": {
   "codemirror_mode": {
    "name": "ipython",
    "version": 3
   },
   "file_extension": ".py",
   "mimetype": "text/x-python",
   "name": "python",
   "nbconvert_exporter": "python",
   "pygments_lexer": "ipython3",
   "version": "3.7.3"
  },
  "strategicml": {
   "lesson_id": "16b2104c-699a-466b-9c78-022f97945bc4",
   "release": true
  }
 },
 "nbformat": 4,
 "nbformat_minor": 2
}
