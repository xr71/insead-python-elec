{
 "cells": [
  {
   "cell_type": "markdown",
   "metadata": {
    "deletable": false,
    "editable": false,
    "run_control": {
     "frozen": true
    }
   },
   "source": [
    "## Neural Networks\n",
    "\n",
    "These lessons are concerned with one of the most widely-used technology buzzwords of our time: \"neural networks.\" You have likely heard about these mathematical objects many times in the media, often in references to their seemingly miraculous capabilities. Before discussing precisely what neural networks are and how they are constructed, we will begin with the question: what problem are we trying to solve? Simply put, **neural networks allow us to build models of functions so complicated that we do not understand their form.**"
   ]
  },
  {
   "cell_type": "markdown",
   "metadata": {
    "deletable": false,
    "editable": false,
    "run_control": {
     "frozen": true
    }
   },
   "source": [
    "You have seen in the previous lessons that in order to use machine learning to build models from data, we had to have some idea of the type of function that maps our input data to our output data. If our data was (roughly) linear, we modeled it using linear regression. If our data was \"S-shaped\", we modeled it using logistic regression. Unfortunately, the real world is full of examples where the function that maps input to output data cannot be understood or written down using any of our traditional mathematical machinery. For example, what is the mathematical form of the following function?"
   ]
  },
  {
   "cell_type": "markdown",
   "metadata": {
    "deletable": false,
    "editable": false,
    "run_control": {
     "frozen": true
    }
   },
   "source": [
    "![bird](img/bird.jpeg)"
   ]
  },
  {
   "cell_type": "markdown",
   "metadata": {
    "deletable": false,
    "editable": false,
    "run_control": {
     "frozen": true
    }
   },
   "source": [
    "This function cannot be easily written using simple mathematical notation like $x^2$ or $\\sin(x)$, **but it is nonetheless a mathematical function.** Just as we found functions that mapped height to weight or credit card balances to default rates, this function within our minds maps the pixels in an image (their positions and their colors) to the concept of \"bird.\" But without knowing the form of the \"bird\" function, what method should we use to build a model of it? As we shall see shortly, neural networks are the answer."
   ]
  },
  {
   "cell_type": "markdown",
   "metadata": {
    "deletable": false,
    "editable": false,
    "run_control": {
     "frozen": true
    }
   },
   "source": [
    "### Visualizing a Simple Neural Network"
   ]
  },
  {
   "cell_type": "markdown",
   "metadata": {
    "deletable": false,
    "editable": false,
    "run_control": {
     "frozen": true
    }
   },
   "source": [
    "Before working with more complex neural network applications such as the image recognition example described above, we're going to start with an extremely simple problem in order to be very clear about how the basic building blocks of neural networks are defined. Suppose that we are considering the following relationship between advertising spending (our independent *x* variable) and sales (our dependent *y* variable):"
   ]
  },
  {
   "cell_type": "code",
   "execution_count": 12,
   "metadata": {},
   "outputs": [
    {
     "name": "stdout",
     "output_type": "stream",
     "text": [
      "00_neural_networks.ipynb       consistency.py\r\n",
      "01_building_neural_nets.ipynb  data\r\n",
      "02_training_neural_nets.ipynb  img\r\n",
      "03_overfitting.ipynb\t       models\r\n",
      "04_biz_applications.ipynb      __pycache__\r\n",
      "05_transfer_learning.ipynb     training_visualization.py\r\n",
      "06_further_reading.ipynb       visualization.py\r\n"
     ]
    }
   ],
   "source": [
    "!ls"
   ]
  },
  {
   "cell_type": "code",
   "execution_count": 13,
   "metadata": {},
   "outputs": [
    {
     "data": {
      "image/png": "[encoded data removed]",
      "text/plain": [
       "<Figure size 432x288 with 1 Axes>"
      ]
     },
     "metadata": {
      "needs_background": "light"
     },
     "output_type": "display_data"
    }
   ],
   "source": [
    "%matplotlib inline\n",
    "import numpy as np\n",
    "import matplotlib.pyplot as plt\n",
    "ad_spend = np.arange(10,100,10)\n",
    "sales = 3 * ad_spend + 5\n",
    "plt.scatter(sales, ad_spend)\n",
    "plt.xlabel(\"Advertising Spend (Thousand USD)\")\n",
    "plt.ylabel(\"Sales (Thousand USD)\")\n",
    "plt.show()"
   ]
  },
  {
   "cell_type": "markdown",
   "metadata": {
    "deletable": false,
    "editable": false,
    "run_control": {
     "frozen": true
    }
   },
   "source": [
    "Consider the method of linear regression that we learned about in a previous lesson. This goal of this method is to find a relationship between our dependent variable *y* and an independent variable *x* - specifically, a relationship that has the following mathematical form:\n",
    "\n",
    "$$ \n",
    "y = mx + b\n",
    "$$ \n",
    "\n",
    "where $m$ is the slope and $b$ is the *y*-intercept. We can apply linear regression to our data above and find the values of the slope and *y*-intercept using the following code:"
   ]
  },
  {
   "cell_type": "code",
   "execution_count": 14,
   "metadata": {
    "scrolled": false
   },
   "outputs": [
    {
     "name": "stdout",
     "output_type": "stream",
     "text": [
      "Slope (m): 3.0\n",
      "Intercept (b): 5.0\n"
     ]
    }
   ],
   "source": [
    "from sklearn.linear_model import LinearRegression\n",
    "linear_model = LinearRegression()\n",
    "linear_model.fit(ad_spend.reshape(-1,1), sales)\n",
    "print(\"Slope (m):\", round(linear_model.coef_[0], 0))\n",
    "print(\"Intercept (b):\", round(linear_model.intercept_, 0))"
   ]
  },
  {
   "cell_type": "markdown",
   "metadata": {
    "deletable": false,
    "editable": false,
    "run_control": {
     "frozen": true
    }
   },
   "source": [
    "What would a neural network that represents this simple relationship look like? Let's take a look - first, we'll need to import the `tensorflow` package:"
   ]
  },
  {
   "cell_type": "code",
   "execution_count": 15,
   "metadata": {},
   "outputs": [],
   "source": [
    "import tensorflow as tf"
   ]
  },
  {
   "cell_type": "markdown",
   "metadata": {
    "deletable": false,
    "editable": false,
    "run_control": {
     "frozen": true
    }
   },
   "source": [
    "Tensorflow is a library developed by Google that is widely used for working with neural networks. We'll also need to import the custom function `draw_nn_graph` which is included with this lesson for convenience:"
   ]
  },
  {
   "cell_type": "code",
   "execution_count": 16,
   "metadata": {},
   "outputs": [],
   "source": [
    "from visualization import draw_nn_graph"
   ]
  },
  {
   "cell_type": "markdown",
   "metadata": {
    "deletable": false,
    "editable": false,
    "run_control": {
     "frozen": true
    }
   },
   "source": [
    "Instead of building a neural network to represent the above linear relationship, we're going to load a pre-built network from a file. This will keep the code simple and give you time to master the key concepts before building networks from scratch. We'll load our neural network model using the `load_model` function as shown below - you can ignore the `WARNING` that may appear:"
   ]
  },
  {
   "cell_type": "code",
   "execution_count": 17,
   "metadata": {
    "scrolled": true
   },
   "outputs": [
    {
     "name": "stdout",
     "output_type": "stream",
     "text": [
      "WARNING:tensorflow:No training configuration found in save file: the model was *not* compiled. Compile it manually.\n"
     ]
    }
   ],
   "source": [
    "nn_linear_regression = tf.keras.models.load_model('models/linear-regression.h5')"
   ]
  },
  {
   "cell_type": "markdown",
   "metadata": {
    "deletable": false,
    "editable": false,
    "run_control": {
     "frozen": true
    }
   },
   "source": [
    "What does this neural network look like? We can take a look using the `draw_nn_graph` function:"
   ]
  },
  {
   "cell_type": "code",
   "execution_count": 18,
   "metadata": {},
   "outputs": [
    {
     "data": {
      "image/svg+xml": [
       "<?xml version=\"1.0\" encoding=\"UTF-8\" standalone=\"no\"?>\n",
       "<!DOCTYPE svg PUBLIC \"-//W3C//DTD SVG 1.1//EN\"\n",
       " \"http://www.w3.org/Graphics/SVG/1.1/DTD/svg11.dtd\">\n",
       "<!-- Generated by graphviz version 2.40.1 (20161225.0304)\n",
       " -->\n",
       "<!-- Title: %3 Pages: 1 -->\n",
       "<svg width=\"247pt\" height=\"111pt\"\n",
       " viewBox=\"0.00 0.00 246.83 111.24\" xmlns=\"http://www.w3.org/2000/svg\" xmlns:xlink=\"http://www.w3.org/1999/xlink\">\n",
       "<g id=\"graph0\" class=\"graph\" transform=\"scale(1 1) rotate(0) translate(4 107.2376)\">\n",
       "<title>%3</title>\n",
       "<polygon fill=\"#ffffff\" stroke=\"transparent\" points=\"-4,4 -4,-107.2376 242.8304,-107.2376 242.8304,4 -4,4\"/>\n",
       "<!-- input_0 -->\n",
       "<g id=\"node1\" class=\"node\">\n",
       "<title>input_0</title>\n",
       "<ellipse fill=\"none\" stroke=\"#000000\" cx=\"40.2964\" cy=\"-51.6188\" rx=\"40.0939\" ry=\"40.0939\"/>\n",
       "<text text-anchor=\"middle\" x=\"40.2964\" y=\"-47.9188\" font-family=\"Times,serif\" font-size=\"14.00\" fill=\"#000000\">input_0</text>\n",
       "</g>\n",
       "<!-- output_0 -->\n",
       "<g id=\"node2\" class=\"node\">\n",
       "<title>output_0</title>\n",
       "<ellipse fill=\"none\" stroke=\"#000000\" cx=\"187.2116\" cy=\"-51.6188\" rx=\"51.7379\" ry=\"51.7379\"/>\n",
       "<text text-anchor=\"middle\" x=\"187.2116\" y=\"-55.4188\" font-family=\"Times,serif\" font-size=\"14.00\" fill=\"#000000\">output_0</text>\n",
       "<text text-anchor=\"middle\" x=\"187.2116\" y=\"-40.4188\" font-family=\"Times,serif\" font-size=\"14.00\" fill=\"#000000\">bias: 5.00</text>\n",
       "</g>\n",
       "<!-- input_0&#45;&gt;output_0 -->\n",
       "<g id=\"edge1\" class=\"edge\">\n",
       "<title>input_0&#45;&gt;output_0</title>\n",
       "<path fill=\"none\" stroke=\"#000000\" d=\"M80.8306,-51.6188C94.5633,-51.6188 110.2316,-51.6188 125.2435,-51.6188\"/>\n",
       "<polygon fill=\"#000000\" stroke=\"#000000\" points=\"125.4996,-55.1189 135.4996,-51.6188 125.4996,-48.1189 125.4996,-55.1189\"/>\n",
       "<text text-anchor=\"middle\" x=\"108.0928\" y=\"-55.4188\" font-family=\"Times,serif\" font-size=\"14.00\" fill=\"#000000\">3.0</text>\n",
       "</g>\n",
       "</g>\n",
       "</svg>\n"
      ],
      "text/plain": [
       "<graphviz.dot.Digraph at 0x7fcda08bceb8>"
      ]
     },
     "execution_count": 18,
     "metadata": {},
     "output_type": "execute_result"
    }
   ],
   "source": [
    "draw_nn_graph(nn_linear_regression)"
   ]
  },
  {
   "cell_type": "markdown",
   "metadata": {
    "deletable": false,
    "editable": false,
    "run_control": {
     "frozen": true
    }
   },
   "source": [
    "The network above is the simplest neural network with which you will work. We can understand how it operates by relating it to our linear regression model above. This network operates through the following process:\n",
    "\n",
    "* We begin with our *input neuron*, labeled as `input_0` in the graph above. This input neuron contains our *x* value - in this example, we'll use an *x* value of `10`.\n",
    "\n",
    "* We then move along the arrow from left to right. The value of `3.0` that labels this arrow is the *weight* of the edge connecting our input and output neurons. The *x* value from our input neuron is scaled by the value of this weight - resulting in a value of `3.0 *  10 = 30`\n",
    "\n",
    "* Our *output neuron*, labeled as `output_0`, processes the input value of `30` that it receives from incoming arrow. In this simple example, the only processing it performs is adding a *bias* value of `5.0`. After adding the bias value, it produces the final output result, which in this case is the value `35`. "
   ]
  },
  {
   "cell_type": "markdown",
   "metadata": {
    "deletable": false,
    "editable": false,
    "run_control": {
     "frozen": true
    }
   },
   "source": [
    "Notice that the output value `35` is exactly what is produced by our linear regression model:"
   ]
  },
  {
   "cell_type": "code",
   "execution_count": 19,
   "metadata": {},
   "outputs": [
    {
     "data": {
      "text/plain": [
       "array([35.])"
      ]
     },
     "execution_count": 19,
     "metadata": {},
     "output_type": "execute_result"
    }
   ],
   "source": [
    "input_x_value = np.array([10]).reshape(-1,1)\n",
    "linear_model.predict(input_x_value)"
   ]
  },
  {
   "cell_type": "markdown",
   "metadata": {
    "deletable": false,
    "editable": false,
    "run_control": {
     "frozen": true
    }
   },
   "source": [
    "### A More Complex Example: Multiple Regression\n",
    "\n",
    "The graphical notation that we used to draw our neural network above may seem overly cumbersome compared to a more compact mathematical notation such as the equation $y = mx + b$. However, we will see that this graphical representation of neural networks becomes more useful as we tackle more advanced applications using more complex neural networks. "
   ]
  },
  {
   "cell_type": "markdown",
   "metadata": {
    "deletable": false,
    "editable": false,
    "run_control": {
     "frozen": true
    }
   },
   "source": [
    "We will take the first step toward performing more complex analyses by considering a *multiple regression* problem in which multiple inputs are required to produce a result. Consider the following hypothetical relationship between the price of a house and its various attributes:\n",
    "\n",
    "```\n",
    "[house price] = [intercept] \n",
    "                + m1 * [# of bedrooms] \n",
    "                + m2 * [size (sq. meters)] \n",
    "                + m3 * [school district rating]\n",
    "```"
   ]
  },
  {
   "cell_type": "markdown",
   "metadata": {
    "deletable": false,
    "editable": false,
    "run_control": {
     "frozen": true
    }
   },
   "source": [
    "Let's load a more complex neural network that is capable of representing this type of relationship:"
   ]
  },
  {
   "cell_type": "code",
   "execution_count": 20,
   "metadata": {},
   "outputs": [
    {
     "name": "stdout",
     "output_type": "stream",
     "text": [
      "WARNING:tensorflow:No training configuration found in save file: the model was *not* compiled. Compile it manually.\n"
     ]
    }
   ],
   "source": [
    "nn_multiple_regression = tf.keras.models.load_model('models/multiple-linear-regression.h5')"
   ]
  },
  {
   "cell_type": "markdown",
   "metadata": {
    "deletable": false,
    "editable": false,
    "run_control": {
     "frozen": true
    }
   },
   "source": [
    "We can visualize this network using the `draw_nn_graph` function:"
   ]
  },
  {
   "cell_type": "code",
   "execution_count": 21,
   "metadata": {
    "scrolled": true
   },
   "outputs": [
    {
     "data": {
      "image/svg+xml": [
       "<?xml version=\"1.0\" encoding=\"UTF-8\" standalone=\"no\"?>\n",
       "<!DOCTYPE svg PUBLIC \"-//W3C//DTD SVG 1.1//EN\"\n",
       " \"http://www.w3.org/Graphics/SVG/1.1/DTD/svg11.dtd\">\n",
       "<!-- Generated by graphviz version 2.40.1 (20161225.0304)\n",
       " -->\n",
       "<!-- Title: %3 Pages: 1 -->\n",
       "<svg width=\"257pt\" height=\"287pt\"\n",
       " viewBox=\"0.00 0.00 256.73 286.59\" xmlns=\"http://www.w3.org/2000/svg\" xmlns:xlink=\"http://www.w3.org/1999/xlink\">\n",
       "<g id=\"graph0\" class=\"graph\" transform=\"scale(1 1) rotate(0) translate(4 282.5928)\">\n",
       "<title>%3</title>\n",
       "<polygon fill=\"#ffffff\" stroke=\"transparent\" points=\"-4,4 -4,-282.5928 252.7299,-282.5928 252.7299,4 -4,4\"/>\n",
       "<!-- input_0 -->\n",
       "<g id=\"node1\" class=\"node\">\n",
       "<title>input_0</title>\n",
       "<ellipse fill=\"none\" stroke=\"#000000\" cx=\"40.2964\" cy=\"-238.2964\" rx=\"40.0939\" ry=\"40.0939\"/>\n",
       "<text text-anchor=\"middle\" x=\"40.2964\" y=\"-234.5964\" font-family=\"Times,serif\" font-size=\"14.00\" fill=\"#000000\">input_0</text>\n",
       "</g>\n",
       "<!-- output_0 -->\n",
       "<g id=\"node4\" class=\"node\">\n",
       "<title>output_0</title>\n",
       "<ellipse fill=\"none\" stroke=\"#000000\" cx=\"192.1614\" cy=\"-139.2964\" rx=\"56.6372\" ry=\"56.6372\"/>\n",
       "<text text-anchor=\"middle\" x=\"192.1614\" y=\"-143.0964\" font-family=\"Times,serif\" font-size=\"14.00\" fill=\"#000000\">output_0</text>\n",
       "<text text-anchor=\"middle\" x=\"192.1614\" y=\"-128.0964\" font-family=\"Times,serif\" font-size=\"14.00\" fill=\"#000000\">bias: 10.00</text>\n",
       "</g>\n",
       "<!-- input_0&#45;&gt;output_0 -->\n",
       "<g id=\"edge1\" class=\"edge\">\n",
       "<title>input_0&#45;&gt;output_0</title>\n",
       "<path fill=\"none\" stroke=\"#000000\" d=\"M74.3779,-216.0789C92.594,-204.2039 115.4832,-189.2825 136.2281,-175.759\"/>\n",
       "<polygon fill=\"#000000\" stroke=\"#000000\" points=\"138.1969,-178.6536 144.6628,-170.2605 134.3742,-172.7896 138.1969,-178.6536\"/>\n",
       "<text text-anchor=\"middle\" x=\"108.0928\" y=\"-201.0964\" font-family=\"Times,serif\" font-size=\"14.00\" fill=\"#000000\">3.0</text>\n",
       "</g>\n",
       "<!-- input_1 -->\n",
       "<g id=\"node2\" class=\"node\">\n",
       "<title>input_1</title>\n",
       "<ellipse fill=\"none\" stroke=\"#000000\" cx=\"40.2964\" cy=\"-139.2964\" rx=\"40.0939\" ry=\"40.0939\"/>\n",
       "<text text-anchor=\"middle\" x=\"40.2964\" y=\"-135.5964\" font-family=\"Times,serif\" font-size=\"14.00\" fill=\"#000000\">input_1</text>\n",
       "</g>\n",
       "<!-- input_1&#45;&gt;output_0 -->\n",
       "<g id=\"edge2\" class=\"edge\">\n",
       "<title>input_1&#45;&gt;output_0</title>\n",
       "<path fill=\"none\" stroke=\"#000000\" d=\"M80.5947,-139.2964C94.2315,-139.2964 109.8512,-139.2964 124.9991,-139.2964\"/>\n",
       "<polygon fill=\"#000000\" stroke=\"#000000\" points=\"125.3805,-142.7965 135.3805,-139.2964 125.3805,-135.7965 125.3805,-142.7965\"/>\n",
       "<text text-anchor=\"middle\" x=\"108.0928\" y=\"-143.0964\" font-family=\"Times,serif\" font-size=\"14.00\" fill=\"#000000\">4.0</text>\n",
       "</g>\n",
       "<!-- input_2 -->\n",
       "<g id=\"node3\" class=\"node\">\n",
       "<title>input_2</title>\n",
       "<ellipse fill=\"none\" stroke=\"#000000\" cx=\"40.2964\" cy=\"-40.2964\" rx=\"40.0939\" ry=\"40.0939\"/>\n",
       "<text text-anchor=\"middle\" x=\"40.2964\" y=\"-36.5964\" font-family=\"Times,serif\" font-size=\"14.00\" fill=\"#000000\">input_2</text>\n",
       "</g>\n",
       "<!-- input_2&#45;&gt;output_0 -->\n",
       "<g id=\"edge3\" class=\"edge\">\n",
       "<title>input_2&#45;&gt;output_0</title>\n",
       "<path fill=\"none\" stroke=\"#000000\" d=\"M74.3779,-62.514C92.594,-74.3889 115.4832,-89.3103 136.2281,-102.8338\"/>\n",
       "<polygon fill=\"#000000\" stroke=\"#000000\" points=\"134.3742,-105.8032 144.6628,-108.3323 138.1969,-99.9392 134.3742,-105.8032\"/>\n",
       "<text text-anchor=\"middle\" x=\"108.0928\" y=\"-93.0964\" font-family=\"Times,serif\" font-size=\"14.00\" fill=\"#000000\">5.0</text>\n",
       "</g>\n",
       "</g>\n",
       "</svg>\n"
      ],
      "text/plain": [
       "<graphviz.dot.Digraph at 0x7fcda1296f60>"
      ]
     },
     "execution_count": 21,
     "metadata": {},
     "output_type": "execute_result"
    }
   ],
   "source": [
    "draw_nn_graph(nn_multiple_regression)"
   ]
  },
  {
   "cell_type": "markdown",
   "metadata": {
    "deletable": false,
    "editable": false,
    "run_control": {
     "frozen": true
    }
   },
   "source": [
    "Let's walk throught the process of computing an output value for this neural network: \n",
    "\n",
    "* We start with a *set* of multiple input values - one per independent variable - each corresponding to one of the three *input neurons*. In this example, we'll start with the input values `6`, `7`, and `8`.\n",
    "\n",
    "* The values of each of these inputs are scaled by a *different* weight value corresponding to the arrow connecting that input to the single output neuron. This results in the values `3 * 6 = 18`, `4 * 7 = 28`, and `5 * 8 = 40` being sent to the output neuron `output_0`\n",
    "\n",
    "* The output neuron *sums* all of the inputs that it receives from all of its inbound edges and adds an additional *bias* value on top. It produces a final output value of `18 + 28 + 40 + 10 = 96`"
   ]
  },
  {
   "cell_type": "markdown",
   "metadata": {
    "deletable": false,
    "editable": false,
    "run_control": {
     "frozen": true
    }
   },
   "source": [
    "### Modelling Non-Linear Relationships\n",
    "\n",
    "Recall that we have previously studied examples of non-linear relationships like the common *S*-shaped logistic curve:"
   ]
  },
  {
   "cell_type": "code",
   "execution_count": 22,
   "metadata": {
    "scrolled": true
   },
   "outputs": [
    {
     "data": {
      "image/png": "[encoded data removed]",
      "text/plain": [
       "<Figure size 432x288 with 1 Axes>"
      ]
     },
     "metadata": {
      "needs_background": "light"
     },
     "output_type": "display_data"
    }
   ],
   "source": [
    "balance_as_pct_of_income = np.arange(5, 55, 5)\n",
    "probability_of_default = np.array([0.05, 0.07, 0.10, 0.15, 0.25, 0.5, 0.75, 0.90, 0.95,0.99])\n",
    "plt.scatter(balance_as_pct_of_income, probability_of_default)\n",
    "plt.xlabel('Balance as % of Income')\n",
    "plt.ylabel('Probability of Default')\n",
    "plt.show()"
   ]
  },
  {
   "cell_type": "markdown",
   "metadata": {
    "deletable": false,
    "editable": false,
    "run_control": {
     "frozen": true
    }
   },
   "source": [
    "How can we adapt the neural networks that we studied above to represent this type of non-linear relationship? In order to accomplish this objective, we need to add an *activation function* to our output neuron. Recall that the simple output neurons we studied above worked like this:\n",
    "\n",
    "```\n",
    "[output_0] = bias + w_0 * [input_0] + w_1 * [input_1] ...\n",
    "```\n",
    "\n",
    "Our new output neuron will work almost exactly the same way, but with one additional step added:\n",
    "\n",
    "```\n",
    "[subtotal] = bias + w_0 * [input_0] + w_1 * [input_1] ...\n",
    "[output_0] = activation_function([subtotal])\n",
    "```"
   ]
  },
  {
   "cell_type": "markdown",
   "metadata": {
    "deletable": false,
    "editable": false,
    "run_control": {
     "frozen": true
    }
   },
   "source": [
    "What exactly is the `activation_function` we wrote above? There are several \"standard\" choices that we can pick from - for modelling an *S*-shaped curve like the one shown above, we'll use the *sigmoid* activation function, which has the following formula:\n",
    "\n",
    "$$\n",
    "\\mathrm{sigmoid}(x) = \\frac{1}{1 + e^{-x}}\n",
    "$$\n",
    "\n",
    "We can see that this function has the appropriate *S*-shape:"
   ]
  },
  {
   "cell_type": "code",
   "execution_count": 23,
   "metadata": {
    "scrolled": false
   },
   "outputs": [
    {
     "data": {
      "image/png": "[encoded data removed]",
      "text/plain": [
       "<Figure size 432x288 with 1 Axes>"
      ]
     },
     "metadata": {
      "needs_background": "light"
     },
     "output_type": "display_data"
    }
   ],
   "source": [
    "example_x_values = np.arange(-10,10)\n",
    "sigmoid_output = 1.0/(1.0 + np.exp(-example_x_values))\n",
    "plt.scatter(example_x_values, sigmoid_output)\n",
    "plt.show()"
   ]
  },
  {
   "cell_type": "code",
   "execution_count": 24,
   "metadata": {},
   "outputs": [
    {
     "data": {
      "text/plain": [
       "(array([4.53978687e-05, 1.23394576e-04, 3.35350130e-04, 9.11051194e-04,\n",
       "        2.47262316e-03, 6.69285092e-03, 1.79862100e-02, 4.74258732e-02,\n",
       "        1.19202922e-01, 2.68941421e-01, 5.00000000e-01, 7.31058579e-01,\n",
       "        8.80797078e-01, 9.52574127e-01, 9.82013790e-01, 9.93307149e-01,\n",
       "        9.97527377e-01, 9.99088949e-01, 9.99664650e-01, 9.99876605e-01]),\n",
       " numpy.ndarray)"
      ]
     },
     "execution_count": 24,
     "metadata": {},
     "output_type": "execute_result"
    }
   ],
   "source": [
    "sigmoid_output, type(sigmoid_output)"
   ]
  },
  {
   "cell_type": "markdown",
   "metadata": {
    "deletable": false,
    "editable": false,
    "run_control": {
     "frozen": true
    }
   },
   "source": [
    "Let's now load a neural network that makes use of this S-shaped sigmoid activation function:"
   ]
  },
  {
   "cell_type": "code",
   "execution_count": 25,
   "metadata": {
    "scrolled": true
   },
   "outputs": [
    {
     "name": "stdout",
     "output_type": "stream",
     "text": [
      "WARNING:tensorflow:No training configuration found in save file: the model was *not* compiled. Compile it manually.\n"
     ]
    }
   ],
   "source": [
    "nn_sigmoid = tf.keras.models.load_model('models/sigmoid.h5')"
   ]
  },
  {
   "cell_type": "markdown",
   "metadata": {
    "deletable": false,
    "editable": false,
    "run_control": {
     "frozen": true
    }
   },
   "source": [
    "We can see that this network looks much like the simple linear model that we looked at previously, but the sigmoid activation function has been attached to the output neuron: "
   ]
  },
  {
   "cell_type": "code",
   "execution_count": 26,
   "metadata": {
    "scrolled": false
   },
   "outputs": [
    {
     "data": {
      "image/svg+xml": [
       "<?xml version=\"1.0\" encoding=\"UTF-8\" standalone=\"no\"?>\n",
       "<!DOCTYPE svg PUBLIC \"-//W3C//DTD SVG 1.1//EN\"\n",
       " \"http://www.w3.org/Graphics/SVG/1.1/DTD/svg11.dtd\">\n",
       "<!-- Generated by graphviz version 2.40.1 (20161225.0304)\n",
       " -->\n",
       "<!-- Title: %3 Pages: 1 -->\n",
       "<svg width=\"273pt\" height=\"130pt\"\n",
       " viewBox=\"0.00 0.00 273.22 129.62\" xmlns=\"http://www.w3.org/2000/svg\" xmlns:xlink=\"http://www.w3.org/1999/xlink\">\n",
       "<g id=\"graph0\" class=\"graph\" transform=\"scale(1 1) rotate(0) translate(4 125.6224)\">\n",
       "<title>%3</title>\n",
       "<polygon fill=\"#ffffff\" stroke=\"transparent\" points=\"-4,4 -4,-125.6224 269.2152,-125.6224 269.2152,4 -4,4\"/>\n",
       "<!-- input_0 -->\n",
       "<g id=\"node1\" class=\"node\">\n",
       "<title>input_0</title>\n",
       "<ellipse fill=\"none\" stroke=\"#000000\" cx=\"40.2964\" cy=\"-60.8112\" rx=\"40.0939\" ry=\"40.0939\"/>\n",
       "<text text-anchor=\"middle\" x=\"40.2964\" y=\"-57.1112\" font-family=\"Times,serif\" font-size=\"14.00\" fill=\"#000000\">input_0</text>\n",
       "</g>\n",
       "<!-- output_0 -->\n",
       "<g id=\"node2\" class=\"node\">\n",
       "<title>output_0</title>\n",
       "<ellipse fill=\"none\" stroke=\"#000000\" cx=\"204.404\" cy=\"-60.8112\" rx=\"60.623\" ry=\"60.623\"/>\n",
       "<text text-anchor=\"middle\" x=\"204.404\" y=\"-72.1112\" font-family=\"Times,serif\" font-size=\"14.00\" fill=\"#000000\">output_0</text>\n",
       "<text text-anchor=\"middle\" x=\"204.404\" y=\"-57.1112\" font-family=\"Times,serif\" font-size=\"14.00\" fill=\"#000000\">bias: &#45;7.50</text>\n",
       "<text text-anchor=\"middle\" x=\"204.404\" y=\"-42.1112\" font-family=\"Times,serif\" font-size=\"14.00\" fill=\"#000000\">act: sigmoid</text>\n",
       "</g>\n",
       "<!-- input_0&#45;&gt;output_0 -->\n",
       "<g id=\"edge1\" class=\"edge\">\n",
       "<title>input_0&#45;&gt;output_0</title>\n",
       "<path fill=\"none\" stroke=\"#000000\" d=\"M80.8624,-60.8112C96.7256,-60.8112 115.3962,-60.8112 133.3511,-60.8112\"/>\n",
       "<polygon fill=\"#000000\" stroke=\"#000000\" points=\"133.5206,-64.3113 143.5205,-60.8112 133.5205,-57.3113 133.5206,-64.3113\"/>\n",
       "<text text-anchor=\"middle\" x=\"112.0928\" y=\"-64.6112\" font-family=\"Times,serif\" font-size=\"14.00\" fill=\"#000000\">0.25</text>\n",
       "</g>\n",
       "</g>\n",
       "</svg>\n"
      ],
      "text/plain": [
       "<graphviz.dot.Digraph at 0x7fcd7adacd30>"
      ]
     },
     "execution_count": 26,
     "metadata": {},
     "output_type": "execute_result"
    }
   ],
   "source": [
    "draw_nn_graph(nn_sigmoid)"
   ]
  },
  {
   "cell_type": "markdown",
   "metadata": {
    "deletable": false,
    "editable": false,
    "run_control": {
     "frozen": true
    }
   },
   "source": [
    "We can see from the graph above that this model performs the following process:\n",
    "\n",
    "```\n",
    "[subtotal] = -7.5 + 0.25 * [input_0]\n",
    "[output_0] = sigmoid([subtotal])\n",
    "```"
   ]
  },
  {
   "cell_type": "markdown",
   "metadata": {
    "deletable": false,
    "editable": false,
    "run_control": {
     "frozen": true
    }
   },
   "source": [
    "When we evaluate this model by passing it input data, we can see that it produces the appropriate S-shaped curve: "
   ]
  },
  {
   "cell_type": "code",
   "execution_count": 27,
   "metadata": {},
   "outputs": [
    {
     "data": {
      "image/png": "[encoded data removed]",
      "text/plain": [
       "<Figure size 432x288 with 1 Axes>"
      ]
     },
     "metadata": {
      "needs_background": "light"
     },
     "output_type": "display_data"
    }
   ],
   "source": [
    "predicted_y = nn_sigmoid.predict(balance_as_pct_of_income)\n",
    "plt.scatter(balance_as_pct_of_income, probability_of_default)\n",
    "plt.plot(balance_as_pct_of_income, predicted_y)\n",
    "plt.show()"
   ]
  },
  {
   "cell_type": "markdown",
   "metadata": {
    "deletable": false,
    "editable": false,
    "run_control": {
     "frozen": true
    }
   },
   "source": [
    "### Another Type of Activation Function: ReLU\n",
    "\n",
    "Recall that we introduced the notion of an activation function on our output neuron, we left open the possibility of using any arbitrary function for our activation function - all that matters is that we evaluate the `[subtotal]` of our inputs in the standard manner before plugging it into the activation function:\n",
    "\n",
    "\n",
    "```\n",
    "[subtotal] = bias + w_0 * [input_0] + w_1 * [input_1] ...\n",
    "[output_0] = activation_function([subtotal])\n",
    "```\n",
    "\n",
    "There are many more choices of `activation_function` besides the sigmoid function that we learned previously. One of the most commonly used is the **ReLU** activation function, which stands for \"Rectified Linear Unit.\" This function is defined as follows:\n",
    "\n",
    "```\n",
    "ReLU(x) = max(0, x)\n",
    "```\n",
    "\n",
    "You can interpret the above definition as meaning that a ReLU neuron \"turns on\" once its argument exceeds zero."
   ]
  },
  {
   "cell_type": "markdown",
   "metadata": {
    "deletable": false,
    "editable": false,
    "run_control": {
     "frozen": true
    }
   },
   "source": [
    "Let's load a model using this activation function to see how it works:"
   ]
  },
  {
   "cell_type": "code",
   "execution_count": 28,
   "metadata": {
    "scrolled": true
   },
   "outputs": [
    {
     "name": "stdout",
     "output_type": "stream",
     "text": [
      "WARNING:tensorflow:No training configuration found in save file: the model was *not* compiled. Compile it manually.\n"
     ]
    }
   ],
   "source": [
    "nn_relu = tf.keras.models.load_model('models/relu.h5')"
   ]
  },
  {
   "cell_type": "markdown",
   "metadata": {
    "deletable": false,
    "editable": false,
    "run_control": {
     "frozen": true
    }
   },
   "source": [
    "Let's take a look at this model:"
   ]
  },
  {
   "cell_type": "code",
   "execution_count": 29,
   "metadata": {
    "scrolled": true
   },
   "outputs": [
    {
     "data": {
      "image/svg+xml": [
       "<?xml version=\"1.0\" encoding=\"UTF-8\" standalone=\"no\"?>\n",
       "<!DOCTYPE svg PUBLIC \"-//W3C//DTD SVG 1.1//EN\"\n",
       " \"http://www.w3.org/Graphics/SVG/1.1/DTD/svg11.dtd\">\n",
       "<!-- Generated by graphviz version 2.40.1 (20161225.0304)\n",
       " -->\n",
       "<!-- Title: %3 Pages: 1 -->\n",
       "<svg width=\"264pt\" height=\"128pt\"\n",
       " viewBox=\"0.00 0.00 263.80 128.21\" xmlns=\"http://www.w3.org/2000/svg\" xmlns:xlink=\"http://www.w3.org/1999/xlink\">\n",
       "<g id=\"graph0\" class=\"graph\" transform=\"scale(1 1) rotate(0) translate(4 124.2082)\">\n",
       "<title>%3</title>\n",
       "<polygon fill=\"#ffffff\" stroke=\"transparent\" points=\"-4,4 -4,-124.2082 259.801,-124.2082 259.801,4 -4,4\"/>\n",
       "<!-- input_0 -->\n",
       "<g id=\"node1\" class=\"node\">\n",
       "<title>input_0</title>\n",
       "<ellipse fill=\"none\" stroke=\"#000000\" cx=\"40.2964\" cy=\"-60.1041\" rx=\"40.0939\" ry=\"40.0939\"/>\n",
       "<text text-anchor=\"middle\" x=\"40.2964\" y=\"-56.4041\" font-family=\"Times,serif\" font-size=\"14.00\" fill=\"#000000\">input_0</text>\n",
       "</g>\n",
       "<!-- output_0 -->\n",
       "<g id=\"node2\" class=\"node\">\n",
       "<title>output_0</title>\n",
       "<ellipse fill=\"none\" stroke=\"#000000\" cx=\"195.6969\" cy=\"-60.1041\" rx=\"60.2083\" ry=\"60.2083\"/>\n",
       "<text text-anchor=\"middle\" x=\"195.6969\" y=\"-71.4041\" font-family=\"Times,serif\" font-size=\"14.00\" fill=\"#000000\">output_0</text>\n",
       "<text text-anchor=\"middle\" x=\"195.6969\" y=\"-56.4041\" font-family=\"Times,serif\" font-size=\"14.00\" fill=\"#000000\">bias: &#45;25.00</text>\n",
       "<text text-anchor=\"middle\" x=\"195.6969\" y=\"-41.4041\" font-family=\"Times,serif\" font-size=\"14.00\" fill=\"#000000\">act: relu</text>\n",
       "</g>\n",
       "<!-- input_0&#45;&gt;output_0 -->\n",
       "<g id=\"edge1\" class=\"edge\">\n",
       "<title>input_0&#45;&gt;output_0</title>\n",
       "<path fill=\"none\" stroke=\"#000000\" d=\"M80.7204,-60.1041C94.4418,-60.1041 110.1959,-60.1041 125.5524,-60.1041\"/>\n",
       "<polygon fill=\"#000000\" stroke=\"#000000\" points=\"125.5612,-63.6042 135.5612,-60.1041 125.5611,-56.6042 125.5612,-63.6042\"/>\n",
       "<text text-anchor=\"middle\" x=\"108.0928\" y=\"-63.9041\" font-family=\"Times,serif\" font-size=\"14.00\" fill=\"#000000\">3.0</text>\n",
       "</g>\n",
       "</g>\n",
       "</svg>\n"
      ],
      "text/plain": [
       "<graphviz.dot.Digraph at 0x7fcd7a5fbf60>"
      ]
     },
     "execution_count": 29,
     "metadata": {},
     "output_type": "execute_result"
    }
   ],
   "source": [
    "draw_nn_graph(nn_relu)"
   ]
  },
  {
   "cell_type": "markdown",
   "metadata": {
    "deletable": false,
    "editable": false,
    "run_control": {
     "frozen": true
    }
   },
   "source": [
    "Using the ReLU activation function gives our output a distinctive shape:"
   ]
  },
  {
   "cell_type": "code",
   "execution_count": 30,
   "metadata": {},
   "outputs": [
    {
     "data": {
      "image/png": "[encoded data removed]",
      "text/plain": [
       "<Figure size 432x288 with 1 Axes>"
      ]
     },
     "metadata": {
      "needs_background": "light"
     },
     "output_type": "display_data"
    }
   ],
   "source": [
    "nn_relu_x = np.arange(1,20)\n",
    "nn_relu_predicted_y = nn_relu.predict(nn_relu_x)\n",
    "plt.plot(nn_relu_x, nn_relu_predicted_y)\n",
    "plt.show()"
   ]
  },
  {
   "cell_type": "markdown",
   "metadata": {
    "deletable": false,
    "editable": false,
    "run_control": {
     "frozen": true
    }
   },
   "source": [
    "## Deep Learning: Adding More Layers\n",
    "\n",
    "Serious applications of neural networks are often referred to as part of a field named \"deep learning\" because they use many, many layers of neurons that are linked together. Let's load a deeper neural network in order to explore this concept:"
   ]
  },
  {
   "cell_type": "code",
   "execution_count": 31,
   "metadata": {},
   "outputs": [
    {
     "name": "stdout",
     "output_type": "stream",
     "text": [
      "WARNING:tensorflow:No training configuration found in save file: the model was *not* compiled. Compile it manually.\n"
     ]
    }
   ],
   "source": [
    "nn_3_layer = tf.keras.models.load_model('models/3_layer.h5')"
   ]
  },
  {
   "cell_type": "markdown",
   "metadata": {
    "deletable": false,
    "editable": false,
    "run_control": {
     "frozen": true
    }
   },
   "source": [
    "When we visualize the new network as shown below, we can see that this network contains a **hidden layer** - a layer in betweeen the input and the output layer:"
   ]
  },
  {
   "cell_type": "code",
   "execution_count": 32,
   "metadata": {
    "scrolled": true
   },
   "outputs": [
    {
     "data": {
      "image/svg+xml": [
       "<?xml version=\"1.0\" encoding=\"UTF-8\" standalone=\"no\"?>\n",
       "<!DOCTYPE svg PUBLIC \"-//W3C//DTD SVG 1.1//EN\"\n",
       " \"http://www.w3.org/Graphics/SVG/1.1/DTD/svg11.dtd\">\n",
       "<!-- Generated by graphviz version 2.40.1 (20161225.0304)\n",
       " -->\n",
       "<!-- Title: %3 Pages: 1 -->\n",
       "<svg width=\"496pt\" height=\"566pt\"\n",
       " viewBox=\"0.00 0.00 496.26 565.87\" xmlns=\"http://www.w3.org/2000/svg\" xmlns:xlink=\"http://www.w3.org/1999/xlink\">\n",
       "<g id=\"graph0\" class=\"graph\" transform=\"scale(1 1) rotate(0) translate(4 561.865)\">\n",
       "<title>%3</title>\n",
       "<polygon fill=\"#ffffff\" stroke=\"transparent\" points=\"-4,4 -4,-561.865 492.264,-561.865 492.264,4 -4,4\"/>\n",
       "<!-- input_0 -->\n",
       "<g id=\"node1\" class=\"node\">\n",
       "<title>input_0</title>\n",
       "<ellipse fill=\"none\" stroke=\"#000000\" cx=\"40.2964\" cy=\"-251.9325\" rx=\"40.0939\" ry=\"40.0939\"/>\n",
       "<text text-anchor=\"middle\" x=\"40.2964\" y=\"-248.2325\" font-family=\"Times,serif\" font-size=\"14.00\" fill=\"#000000\">input_0</text>\n",
       "</g>\n",
       "<!-- relu_layer_0 -->\n",
       "<g id=\"node2\" class=\"node\">\n",
       "<title>relu_layer_0</title>\n",
       "<ellipse fill=\"none\" stroke=\"#000000\" cx=\"198.5254\" cy=\"-494.9325\" rx=\"62.8651\" ry=\"62.8651\"/>\n",
       "<text text-anchor=\"middle\" x=\"198.5254\" y=\"-506.2325\" font-family=\"Times,serif\" font-size=\"14.00\" fill=\"#000000\">relu_layer_0</text>\n",
       "<text text-anchor=\"middle\" x=\"198.5254\" y=\"-491.2325\" font-family=\"Times,serif\" font-size=\"14.00\" fill=\"#000000\">bias: &#45;10.00</text>\n",
       "<text text-anchor=\"middle\" x=\"198.5254\" y=\"-476.2325\" font-family=\"Times,serif\" font-size=\"14.00\" fill=\"#000000\">act: relu</text>\n",
       "</g>\n",
       "<!-- input_0&#45;&gt;relu_layer_0 -->\n",
       "<g id=\"edge1\" class=\"edge\">\n",
       "<title>input_0&#45;&gt;relu_layer_0</title>\n",
       "<path fill=\"none\" stroke=\"#000000\" d=\"M57.7431,-288.2828C75.4433,-323.8292 104.5853,-378.8834 135.5928,-422.9325 139.7319,-428.8125 144.2719,-434.7638 148.9586,-440.594\"/>\n",
       "<polygon fill=\"#000000\" stroke=\"#000000\" points=\"146.363,-442.9482 155.4166,-448.4511 151.7708,-438.5033 146.363,-442.9482\"/>\n",
       "<text text-anchor=\"middle\" x=\"108.0928\" y=\"-394.7325\" font-family=\"Times,serif\" font-size=\"14.00\" fill=\"#000000\">2.0</text>\n",
       "</g>\n",
       "<!-- relu_layer_1 -->\n",
       "<g id=\"node3\" class=\"node\">\n",
       "<title>relu_layer_1</title>\n",
       "<ellipse fill=\"none\" stroke=\"#000000\" cx=\"198.5254\" cy=\"-350.9325\" rx=\"62.8651\" ry=\"62.8651\"/>\n",
       "<text text-anchor=\"middle\" x=\"198.5254\" y=\"-362.2325\" font-family=\"Times,serif\" font-size=\"14.00\" fill=\"#000000\">relu_layer_1</text>\n",
       "<text text-anchor=\"middle\" x=\"198.5254\" y=\"-347.2325\" font-family=\"Times,serif\" font-size=\"14.00\" fill=\"#000000\">bias: &#45;20.00</text>\n",
       "<text text-anchor=\"middle\" x=\"198.5254\" y=\"-332.2325\" font-family=\"Times,serif\" font-size=\"14.00\" fill=\"#000000\">act: relu</text>\n",
       "</g>\n",
       "<!-- input_0&#45;&gt;relu_layer_1 -->\n",
       "<g id=\"edge2\" class=\"edge\">\n",
       "<title>input_0&#45;&gt;relu_layer_1</title>\n",
       "<path fill=\"none\" stroke=\"#000000\" d=\"M74.6297,-273.414C92.6838,-284.71 115.3769,-298.9085 136.3923,-312.0574\"/>\n",
       "<polygon fill=\"#000000\" stroke=\"#000000\" points=\"134.6327,-315.085 144.9666,-317.4221 138.3456,-309.1508 134.6327,-315.085\"/>\n",
       "<text text-anchor=\"middle\" x=\"108.0928\" y=\"-301.7325\" font-family=\"Times,serif\" font-size=\"14.00\" fill=\"#000000\">2.0</text>\n",
       "</g>\n",
       "<!-- relu_layer_2 -->\n",
       "<g id=\"node4\" class=\"node\">\n",
       "<title>relu_layer_2</title>\n",
       "<ellipse fill=\"none\" stroke=\"#000000\" cx=\"198.5254\" cy=\"-206.9325\" rx=\"62.8651\" ry=\"62.8651\"/>\n",
       "<text text-anchor=\"middle\" x=\"198.5254\" y=\"-218.2325\" font-family=\"Times,serif\" font-size=\"14.00\" fill=\"#000000\">relu_layer_2</text>\n",
       "<text text-anchor=\"middle\" x=\"198.5254\" y=\"-203.2325\" font-family=\"Times,serif\" font-size=\"14.00\" fill=\"#000000\">bias: &#45;30.00</text>\n",
       "<text text-anchor=\"middle\" x=\"198.5254\" y=\"-188.2325\" font-family=\"Times,serif\" font-size=\"14.00\" fill=\"#000000\">act: relu</text>\n",
       "</g>\n",
       "<!-- input_0&#45;&gt;relu_layer_2 -->\n",
       "<g id=\"edge3\" class=\"edge\">\n",
       "<title>input_0&#45;&gt;relu_layer_2</title>\n",
       "<path fill=\"none\" stroke=\"#000000\" d=\"M79.4092,-240.8089C94.0975,-236.6316 111.2822,-231.7443 127.9547,-227.0027\"/>\n",
       "<polygon fill=\"#000000\" stroke=\"#000000\" points=\"129.0282,-230.3362 137.6894,-224.2341 127.1133,-223.6032 129.0282,-230.3362\"/>\n",
       "<text text-anchor=\"middle\" x=\"108.0928\" y=\"-237.7325\" font-family=\"Times,serif\" font-size=\"14.00\" fill=\"#000000\">2.0</text>\n",
       "</g>\n",
       "<!-- relu_layer_3 -->\n",
       "<g id=\"node5\" class=\"node\">\n",
       "<title>relu_layer_3</title>\n",
       "<ellipse fill=\"none\" stroke=\"#000000\" cx=\"198.5254\" cy=\"-62.9325\" rx=\"62.8651\" ry=\"62.8651\"/>\n",
       "<text text-anchor=\"middle\" x=\"198.5254\" y=\"-74.2325\" font-family=\"Times,serif\" font-size=\"14.00\" fill=\"#000000\">relu_layer_3</text>\n",
       "<text text-anchor=\"middle\" x=\"198.5254\" y=\"-59.2325\" font-family=\"Times,serif\" font-size=\"14.00\" fill=\"#000000\">bias: &#45;40.00</text>\n",
       "<text text-anchor=\"middle\" x=\"198.5254\" y=\"-44.2325\" font-family=\"Times,serif\" font-size=\"14.00\" fill=\"#000000\">act: relu</text>\n",
       "</g>\n",
       "<!-- input_0&#45;&gt;relu_layer_3 -->\n",
       "<g id=\"edge4\" class=\"edge\">\n",
       "<title>input_0&#45;&gt;relu_layer_3</title>\n",
       "<path fill=\"none\" stroke=\"#000000\" d=\"M65.4853,-220.404C84.5289,-196.7155 111.4327,-163.5636 135.5928,-134.9325 140.2302,-129.437 145.0998,-123.74 149.9904,-118.0671\"/>\n",
       "<polygon fill=\"#000000\" stroke=\"#000000\" points=\"152.7561,-120.2197 156.6525,-110.3673 147.4625,-115.6395 152.7561,-120.2197\"/>\n",
       "<text text-anchor=\"middle\" x=\"108.0928\" y=\"-179.7325\" font-family=\"Times,serif\" font-size=\"14.00\" fill=\"#000000\">2.0</text>\n",
       "</g>\n",
       "<!-- sigmoid_layer_0 -->\n",
       "<g id=\"node6\" class=\"node\">\n",
       "<title>sigmoid_layer_0</title>\n",
       "<ellipse fill=\"none\" stroke=\"#000000\" cx=\"408.3609\" cy=\"-251.9325\" rx=\"79.8062\" ry=\"79.8063\"/>\n",
       "<text text-anchor=\"middle\" x=\"408.3609\" y=\"-263.2325\" font-family=\"Times,serif\" font-size=\"14.00\" fill=\"#000000\">sigmoid_layer_0</text>\n",
       "<text text-anchor=\"middle\" x=\"408.3609\" y=\"-248.2325\" font-family=\"Times,serif\" font-size=\"14.00\" fill=\"#000000\">bias: 0.00</text>\n",
       "<text text-anchor=\"middle\" x=\"408.3609\" y=\"-233.2325\" font-family=\"Times,serif\" font-size=\"14.00\" fill=\"#000000\">act: sigmoid</text>\n",
       "</g>\n",
       "<!-- relu_layer_0&#45;&gt;sigmoid_layer_0 -->\n",
       "<g id=\"edge5\" class=\"edge\">\n",
       "<title>relu_layer_0&#45;&gt;sigmoid_layer_0</title>\n",
       "<path fill=\"none\" stroke=\"#000000\" d=\"M240.2205,-447.3457C247.3188,-439.2113 254.6084,-430.8369 261.4579,-422.9325 290.5207,-389.3937 322.6586,-352.0174 349.4456,-320.7831\"/>\n",
       "<polygon fill=\"#000000\" stroke=\"#000000\" points=\"352.2835,-322.8504 356.1355,-312.9806 346.9693,-318.294 352.2835,-322.8504\"/>\n",
       "<text text-anchor=\"middle\" x=\"294.9579\" y=\"-402.7325\" font-family=\"Times,serif\" font-size=\"14.00\" fill=\"#000000\">0.25</text>\n",
       "</g>\n",
       "<!-- relu_layer_1&#45;&gt;sigmoid_layer_0 -->\n",
       "<g id=\"edge6\" class=\"edge\">\n",
       "<title>relu_layer_1&#45;&gt;sigmoid_layer_0</title>\n",
       "<path fill=\"none\" stroke=\"#000000\" d=\"M255.5867,-324.0111C277.4429,-313.6994 302.8255,-301.7239 326.5494,-290.531\"/>\n",
       "<polygon fill=\"#000000\" stroke=\"#000000\" points=\"328.3467,-293.5531 335.8972,-286.1207 325.3598,-287.2223 328.3467,-293.5531\"/>\n",
       "<text text-anchor=\"middle\" x=\"294.9579\" y=\"-313.7325\" font-family=\"Times,serif\" font-size=\"14.00\" fill=\"#000000\">&#45;0.25</text>\n",
       "</g>\n",
       "<!-- relu_layer_2&#45;&gt;sigmoid_layer_0 -->\n",
       "<g id=\"edge7\" class=\"edge\">\n",
       "<title>relu_layer_2&#45;&gt;sigmoid_layer_0</title>\n",
       "<path fill=\"none\" stroke=\"#000000\" d=\"M260.0651,-220.1299C278.8755,-224.1639 299.9437,-228.682 320.1617,-233.0179\"/>\n",
       "<polygon fill=\"#000000\" stroke=\"#000000\" points=\"319.4934,-236.4541 330.005,-235.1288 320.9613,-229.6097 319.4934,-236.4541\"/>\n",
       "<text text-anchor=\"middle\" x=\"294.9579\" y=\"-233.7325\" font-family=\"Times,serif\" font-size=\"14.00\" fill=\"#000000\">&#45;0.25</text>\n",
       "</g>\n",
       "<!-- relu_layer_3&#45;&gt;sigmoid_layer_0 -->\n",
       "<g id=\"edge8\" class=\"edge\">\n",
       "<title>relu_layer_3&#45;&gt;sigmoid_layer_0</title>\n",
       "<path fill=\"none\" stroke=\"#000000\" d=\"M245.3554,-105.1126C273.5272,-130.4871 309.8583,-163.2106 341.0689,-191.3222\"/>\n",
       "<polygon fill=\"#000000\" stroke=\"#000000\" points=\"339.1126,-194.2706 348.8853,-198.3625 343.7974,-189.0693 339.1126,-194.2706\"/>\n",
       "<text text-anchor=\"middle\" x=\"294.9579\" y=\"-166.7325\" font-family=\"Times,serif\" font-size=\"14.00\" fill=\"#000000\">0.25</text>\n",
       "</g>\n",
       "</g>\n",
       "</svg>\n"
      ],
      "text/plain": [
       "<graphviz.dot.Digraph at 0x7fcd7ab4d978>"
      ]
     },
     "execution_count": 32,
     "metadata": {},
     "output_type": "execute_result"
    }
   ],
   "source": [
    "draw_nn_graph(nn_3_layer)"
   ]
  },
  {
   "cell_type": "markdown",
   "metadata": {
    "deletable": false,
    "editable": false,
    "run_control": {
     "frozen": true
    }
   },
   "source": [
    "Let's pass some input data through this network to see what sort of output it produces:"
   ]
  },
  {
   "cell_type": "code",
   "execution_count": 33,
   "metadata": {
    "scrolled": false
   },
   "outputs": [
    {
     "data": {
      "image/png": "[encoded data removed]",
      "text/plain": [
       "<Figure size 432x288 with 1 Axes>"
      ]
     },
     "metadata": {
      "needs_background": "light"
     },
     "output_type": "display_data"
    }
   ],
   "source": [
    "nn_3_layer_x = np.arange(0,25)\n",
    "nn_3_layer_predicted_y = nn_3_layer.predict(nn_3_layer_x)\n",
    "plt.plot(nn_3_layer_x, nn_3_layer_predicted_y)\n",
    "plt.show()"
   ]
  },
  {
   "cell_type": "markdown",
   "metadata": {
    "deletable": false,
    "editable": false,
    "run_control": {
     "frozen": true
    }
   },
   "source": [
    "As you can see above, this more complex network is capable of representing a function with an interesting shape that we have not previously seen before."
   ]
  },
  {
   "cell_type": "markdown",
   "metadata": {
    "deletable": false,
    "editable": false,
    "run_control": {
     "frozen": true
    }
   },
   "source": [
    " This is what makes neural networks so powerful - with the appropriate number of hidden neurons and the appropriate parameter values, neural networks can represent *any function* - the mathematical result behind this statement is known as the [universal approximation theorem](https://en.wikipedia.org/wiki/Universal_approximation_theorem). "
   ]
  },
  {
   "cell_type": "markdown",
   "metadata": {
    "deletable": false,
    "editable": false,
    "run_control": {
     "frozen": true
    }
   },
   "source": [
    "Now that you've learned what neural networks are and the nature of their building blocks, we'll teach you how to build them yourself in the next lesson. We haven't included an exercise in this lesson as its subject matter is mostly graphical and conceptual, but don't worry - you'll get a chance to write your own TensorFlow code soon. "
   ]
  }
 ],
 "metadata": {
  "celltoolbar": null,
  "kernelspec": {
   "display_name": "Python 3",
   "language": "python",
   "name": "python3"
  },
  "language_info": {
   "codemirror_mode": {
    "name": "ipython",
    "version": 3
   },
   "file_extension": ".py",
   "mimetype": "text/x-python",
   "name": "python",
   "nbconvert_exporter": "python",
   "pygments_lexer": "ipython3",
   "version": "3.7.3"
  },
  "strategicml": {
   "lesson_id": "7a97959d-a3f3-49dd-9c90-976a97394d80",
   "release": true
  }
 },
 "nbformat": 4,
 "nbformat_minor": 2
}
