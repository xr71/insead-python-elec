{
 "cells": [
  {
   "cell_type": "markdown",
   "metadata": {
    "deletable": false,
    "editable": false,
    "run_control": {
     "frozen": true
    }
   },
   "source": [
    "## Course Overview\n",
    "\n",
    "In this course, you are going to learn how to use industry-standard tools for artificial intelligence and machine learning. In order to accomplish this, you must first learn the prerequisite skill of writing computer programs using the Python programming language. For many of you, this may be your first time doing any sort of computer programming. We will therefore start out by going over a few basic definitions so that we all understand the goals of this course. "
   ]
  },
  {
   "cell_type": "markdown",
   "metadata": {
    "deletable": false,
    "editable": false,
    "run_control": {
     "frozen": true
    }
   },
   "source": [
    "<h2>Definitions</h2>\n",
    "<div class=\"definition-paragraph\" style=\"float:left;margin-bottom:30px\">\n",
    "<div style=\"width:500px;float:left\">\n",
    "    <h3>Computer Programs</h3>\n",
    "<p>Computer programs (like Outlook, Word, Chrome, etc.) are just lists of instructions that we give to our computers. The computer executes these instructions to accomplish a specific task. This task may be simple (\"draw a picture on the screen\") or it may be complicated (\"compute the credit score of this loan applicant\"), but ultimately all tasks performed by computers are broken down into lists of simple instructions.</p>\n",
    "</div>\n",
    "<div style=\"width:400px;float:right\" align=\"left\">\n",
    "<img src=\"./img/intro_notes.png\" style=\"height:150px\"/>\n",
    "  \n",
    "*If you can understand TODO lists, you can understand computer programs.*\n",
    "\n",
    "</div>\n",
    "</div>\n",
    "\n",
    "<div class=\"definition-paragraph\" style=\"float:left;margin-bottom:30px\">\n",
    "<div style=\"width:500px;float:left\">\n",
    "<h3>Programming</h3>\n",
    "<p>Programming is the act of creating computer programs by typing out the list of instructions that we want the computer to execute in order to accomplish our objective. Finding the right list of instructions and putting them into a form that a computer can understand will be very challenging at first, but you will find that it becomes easier with practice.</p>\n",
    "</div>\n",
    "<div style=\"width:400px;padding:5px;float:right\">\n",
    "<img src=\"./img/intro_programming.png\" style=\"height:200px;\"/>\n",
    "    \n",
    "*You can tell how skilled somebody is at programming by the number of stickers on their laptop.*\n",
    "\n",
    "</div>\n",
    "</div>\n",
    "\n",
    "<div class=\"definition-paragraph\" style=\"float:left;margin-bottom:30px\">\n",
    "<div style=\"width:500px;float:left\">\n",
    "<h3>Programming Language</h3>\n",
    "<p>A programming language is a set of words, symbols, and rules (just like any human language) that is designed especially for writing out instructions for computers. There are many different programming languages, just as there are many different human languages, and we shall focus on one in particular: Python.</p>\n",
    "</div>\n",
    "<div style=\"width:400px;padding:5px;float:right\">\n",
    "<img src=\"./img/intro_programming_language.jpg\" style=\"height:200px;\"/>\n",
    "\n",
    "*Just rememember, it could always be worse - you could be learning Javascript.*\n",
    "\n",
    "</div>\n",
    "</div>"
   ]
  },
  {
   "cell_type": "markdown",
   "metadata": {
    "deletable": false,
    "editable": false,
    "run_control": {
     "frozen": true
    }
   },
   "source": [
    "<h2>Course Goals</h2>"
   ]
  },
  {
   "cell_type": "markdown",
   "metadata": {
    "deletable": false,
    "editable": false,
    "run_control": {
     "frozen": true
    }
   },
   "source": [
    "This course is fast-paced - it is designed for busy people. The goal of this course is to teach you just the right amount of Python in order to give you direct experience with state-of-the-art AI/ML tools as quickly as possible. We therefore cover material very quickly, and strive to give you just the right number of exercises to facilitate your learning without bogging you down with unnecessary busywork. "
   ]
  },
  {
   "cell_type": "code",
   "execution_count": null,
   "metadata": {},
   "outputs": [],
   "source": []
  }
 ],
 "metadata": {
  "celltoolbar": null,
  "kernelspec": {
   "display_name": "Python 3",
   "language": "python",
   "name": "python3"
  },
  "language_info": {
   "codemirror_mode": {
    "name": "ipython",
    "version": 3
   },
   "file_extension": ".py",
   "mimetype": "text/x-python",
   "name": "python",
   "nbconvert_exporter": "python",
   "pygments_lexer": "ipython3",
   "version": "3.7.3"
  },
  "strategicml": {
   "lesson_id": "6e67c747-b73e-4b37-aff1-aec4ac88bdb0",
   "release": true
  }
 },
 "nbformat": 4,
 "nbformat_minor": 2
}
