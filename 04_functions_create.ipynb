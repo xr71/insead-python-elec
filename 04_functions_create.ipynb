{
 "cells": [
  {
   "cell_type": "markdown",
   "metadata": {
    "deletable": false,
    "editable": false,
    "run_control": {
     "frozen": true
    }
   },
   "source": [
    "## Creating Your Own Functions\n",
    "\n",
    "We have seen how we can call different functions provided by the Python interpreter to accomplish certain tasks. These functions let us do some useful things, but sometimes they are not enough. Fortunately, just like your dog, Python can learn new tricks. We can teach Python new tricks by *defining our own functions*. Let's look at an example of how to do this. We are going to teach Python a simple trick called `give_me_seven` - when we tell it to perform this trick, Python will hand us back a value of `7`. This is an extremely simple trick, but do not worry: things will get much more complex relatively quickly. Run the cell below to teach Python this trick:"
   ]
  },
  {
   "cell_type": "code",
   "execution_count": 1,
   "metadata": {},
   "outputs": [],
   "source": [
    "def give_me_seven():\n",
    "    return 7"
   ]
  },
  {
   "cell_type": "markdown",
   "metadata": {
    "deletable": false,
    "editable": false,
    "run_control": {
     "frozen": true
    }
   },
   "source": [
    "Before we explain the code above, let's just check that Python has successfully learned this trick by *calling* the function that we *defined* above:"
   ]
  },
  {
   "cell_type": "code",
   "execution_count": 2,
   "metadata": {},
   "outputs": [
    {
     "data": {
      "text/plain": [
       "7"
      ]
     },
     "execution_count": 2,
     "metadata": {},
     "output_type": "execute_result"
    }
   ],
   "source": [
    "give_me_seven()"
   ]
  },
  {
   "cell_type": "markdown",
   "metadata": {
    "deletable": false,
    "editable": false,
    "run_control": {
     "frozen": true
    }
   },
   "source": [
    "We can see that Python has learned this simple trick. Let's now dissect the code we saw before in detail:"
   ]
  },
  {
   "cell_type": "code",
   "execution_count": 3,
   "metadata": {},
   "outputs": [],
   "source": [
    "def give_me_seven():\n",
    "    return 7"
   ]
  },
  {
   "cell_type": "markdown",
   "metadata": {
    "deletable": false,
    "editable": false,
    "run_control": {
     "frozen": true
    }
   },
   "source": [
    "We can see that this code has the following elements:\n",
    "\n",
    "1. The `def` keyword, indicating that we wish to *define* a function. \n",
    "2. The *function name*: `give_me_seven`\n",
    "3. An open parenthesis `(`\n",
    "4. A closing parenthesis `)`\n",
    "5. A colon `:`\n",
    "6. A *return statement* indicating what result is produced when Python completes the trick. Since the return statement is *inside* the function, it is indented by 4 (exactly 4!) spaces. You can quickly type four spaces by hitting the `Tab` key."
   ]
  },
  {
   "cell_type": "markdown",
   "metadata": {
    "deletable": false,
    "editable": false,
    "run_control": {
     "frozen": true
    }
   },
   "source": [
    "Whatever value is placed next to the `return` statement in the function definition is *returned* as the result of the function - it is the value that Python gives back to us once it has finished with the trick that we told it to perform. Suppose we wanted to teach python a new trick, called `give_me_ten` - you could do so using very similar code:"
   ]
  },
  {
   "cell_type": "code",
   "execution_count": 4,
   "metadata": {},
   "outputs": [],
   "source": [
    "def give_me_ten():\n",
    "    return 10"
   ]
  },
  {
   "cell_type": "markdown",
   "metadata": {
    "deletable": false,
    "editable": false,
    "run_control": {
     "frozen": true
    }
   },
   "source": [
    "You can see that we have changed the function name and the value in the `return` statement - all other elements of our function definition are the same. Again, we can call our function to see that Python has learned the new trick:"
   ]
  },
  {
   "cell_type": "code",
   "execution_count": 5,
   "metadata": {},
   "outputs": [
    {
     "data": {
      "text/plain": [
       "10"
      ]
     },
     "execution_count": 5,
     "metadata": {},
     "output_type": "execute_result"
    }
   ],
   "source": [
    "give_me_ten()"
   ]
  },
  {
   "cell_type": "markdown",
   "metadata": {
    "deletable": false,
    "editable": false,
    "run_control": {
     "frozen": true
    }
   },
   "source": [
    "We will now challenge you with several exercises - they may seem simple and tedious, and this may lead you to question their relevance. Please remember this: the purpose of these exercises  is to make performing the fundamental task of defining functions so familiar to you that it becomes automatic, so that you can build upon this skill for the more advanced lessons that you will undertake in the near future. "
   ]
  },
  {
   "cell_type": "markdown",
   "metadata": {
    "deletable": false,
    "editable": false,
    "run_control": {
     "frozen": true
    }
   },
   "source": [
    "<span style=\"color:blue;font-weight:bold\">Exercise</span>: Define a function named `get_the_answer` that returns `42`:"
   ]
  },
  {
   "cell_type": "code",
   "execution_count": 6,
   "metadata": {
    "tags": [
     "exercise"
    ]
   },
   "outputs": [],
   "source": [
    "def get_the_answer(): return 42"
   ]
  },
  {
   "cell_type": "code",
   "execution_count": 6,
   "metadata": {
    "deletable": false,
    "editable": false,
    "scrolled": true,
    "strategicml": {
     "execution_time": 1584757604652,
     "exercise_id": "fe3a4195-69a3-41b4-af1e-dd885aaca070",
     "points": 1
    },
    "tags": [
     "test"
    ]
   },
   "outputs": [
    {
     "data": {
      "text/html": [
       "<div style=\"background-color:#e8fcef\n",
       ";color:#333333;padding:10px;border-style:solid;border-width:2px;border-color:#038c33\">\n",
       "<div style=\"font-weight:bold\">Correct!</div>\n",
       "</div>"
      ],
      "text/plain": [
       "<IPython.core.display.HTML object>"
      ]
     },
     "metadata": {},
     "output_type": "display_data"
    }
   ],
   "source": [
    "check_function_definition(\"get_the_answer\")\n",
    "assert get_the_answer() == 42, \"Your function <code>get_the_answer</code> did not return the correct value. Double-check your <code>return</code> statement.\"\n",
    "success()"
   ]
  },
  {
   "cell_type": "markdown",
   "metadata": {
    "deletable": false,
    "editable": false,
    "run_control": {
     "frozen": true
    }
   },
   "source": [
    "<span style=\"color:blue;font-weight:bold\">Exercise</span>: Define a function named `what_is_three_plus_five` that returns the value `3 + 5`:"
   ]
  },
  {
   "cell_type": "code",
   "execution_count": 7,
   "metadata": {
    "tags": [
     "exercise"
    ]
   },
   "outputs": [],
   "source": [
    "def what_is_three_plus_five(): return 3+5"
   ]
  },
  {
   "cell_type": "code",
   "execution_count": 7,
   "metadata": {
    "deletable": false,
    "editable": false,
    "strategicml": {
     "execution_time": 1584757617663,
     "exercise_id": "dfe1c184-8ad8-464a-9fe2-6a20627e145b",
     "points": 1
    },
    "tags": [
     "test"
    ]
   },
   "outputs": [
    {
     "data": {
      "text/html": [
       "<div style=\"background-color:#e8fcef\n",
       ";color:#333333;padding:10px;border-style:solid;border-width:2px;border-color:#038c33\">\n",
       "<div style=\"font-weight:bold\">Correct!</div>\n",
       "</div>"
      ],
      "text/plain": [
       "<IPython.core.display.HTML object>"
      ]
     },
     "metadata": {},
     "output_type": "display_data"
    }
   ],
   "source": [
    "check_function_definition(\"what_is_three_plus_five\")\n",
    "assert what_is_three_plus_five() == 3 + 5, \"Your function <code>what_is_three_plus_five</code> did not return the correct value. Double-check your <code>return</code> statement.\"\n",
    "success()"
   ]
  },
  {
   "cell_type": "markdown",
   "metadata": {
    "deletable": false,
    "editable": false,
    "run_control": {
     "frozen": true
    }
   },
   "source": [
    "We can use the `return` statement inside of our function definitions to make our function return other values besides single numbers. For example, we can `return` a string:"
   ]
  },
  {
   "cell_type": "code",
   "execution_count": 8,
   "metadata": {},
   "outputs": [
    {
     "name": "stdout",
     "output_type": "stream",
     "text": [
      "this is a string\n"
     ]
    }
   ],
   "source": [
    "def this_function_returns_a_string():\n",
    "    return \"this is a string\"\n",
    "\n",
    "my_str = this_function_returns_a_string()\n",
    "print(my_str)"
   ]
  },
  {
   "cell_type": "markdown",
   "metadata": {
    "deletable": false,
    "editable": false,
    "run_control": {
     "frozen": true
    }
   },
   "source": [
    "<span style=\"color:blue;font-weight:bold\">Exercise</span>: Define a function named `get_welcome_message` that returns the value `\"welcome to this python course\"`:"
   ]
  },
  {
   "cell_type": "code",
   "execution_count": 9,
   "metadata": {
    "tags": [
     "exercise"
    ]
   },
   "outputs": [],
   "source": [
    "def get_welcome_message(): return \"welcome to this python course\""
   ]
  },
  {
   "cell_type": "code",
   "execution_count": 9,
   "metadata": {
    "deletable": false,
    "editable": false,
    "strategicml": {
     "execution_time": 1584757637857,
     "exercise_id": "c4709967-c94b-4124-a274-994b5af62d60",
     "points": 1
    },
    "tags": [
     "test"
    ]
   },
   "outputs": [
    {
     "data": {
      "text/html": [
       "<div style=\"background-color:#e8fcef\n",
       ";color:#333333;padding:10px;border-style:solid;border-width:2px;border-color:#038c33\">\n",
       "<div style=\"font-weight:bold\">Correct!</div>\n",
       "</div>"
      ],
      "text/plain": [
       "<IPython.core.display.HTML object>"
      ]
     },
     "metadata": {},
     "output_type": "display_data"
    }
   ],
   "source": [
    "check_function_definition(\"get_welcome_message\")\n",
    "assert get_welcome_message() == \"welcome to this python course\", \"Your function <code>get_welcome_message</code> did not return the correct value. Double-check your <code>return</code> statement.\"\n",
    "success()"
   ]
  },
  {
   "cell_type": "markdown",
   "metadata": {
    "deletable": false,
    "editable": false,
    "run_control": {
     "frozen": true
    }
   },
   "source": [
    "Before moving on, check that Python has learned all of the new tricks that you showed it, by calling each of your functions in the cells below:"
   ]
  },
  {
   "cell_type": "code",
   "execution_count": 11,
   "metadata": {},
   "outputs": [
    {
     "data": {
      "text/plain": [
       "42"
      ]
     },
     "execution_count": 11,
     "metadata": {},
     "output_type": "execute_result"
    }
   ],
   "source": [
    "get_the_answer()"
   ]
  },
  {
   "cell_type": "code",
   "execution_count": 12,
   "metadata": {},
   "outputs": [
    {
     "data": {
      "text/plain": [
       "8"
      ]
     },
     "execution_count": 12,
     "metadata": {},
     "output_type": "execute_result"
    }
   ],
   "source": [
    "what_is_three_plus_five()"
   ]
  },
  {
   "cell_type": "code",
   "execution_count": 13,
   "metadata": {},
   "outputs": [
    {
     "data": {
      "text/plain": [
       "'welcome to this python course'"
      ]
     },
     "execution_count": 13,
     "metadata": {},
     "output_type": "execute_result"
    }
   ],
   "source": [
    "get_welcome_message()"
   ]
  },
  {
   "cell_type": "markdown",
   "metadata": {
    "deletable": false,
    "editable": false,
    "run_control": {
     "frozen": true
    }
   },
   "source": [
    "When we call one of the functions that we created, we can store its *return value* in a variable if we wish, as shown in the following example:"
   ]
  },
  {
   "cell_type": "code",
   "execution_count": 14,
   "metadata": {},
   "outputs": [
    {
     "data": {
      "text/plain": [
       "7"
      ]
     },
     "execution_count": 14,
     "metadata": {},
     "output_type": "execute_result"
    }
   ],
   "source": [
    "this_variable_now_contains_seven = give_me_seven()\n",
    "this_variable_now_contains_seven"
   ]
  },
  {
   "cell_type": "markdown",
   "metadata": {
    "deletable": false,
    "editable": false,
    "run_control": {
     "frozen": true
    }
   },
   "source": [
    "If we want to call multiple functions, we can collect their return values into multiple variables and use these variables however we wish:"
   ]
  },
  {
   "cell_type": "code",
   "execution_count": 15,
   "metadata": {},
   "outputs": [
    {
     "data": {
      "text/plain": [
       "10"
      ]
     },
     "execution_count": 15,
     "metadata": {},
     "output_type": "execute_result"
    }
   ],
   "source": [
    "smaller_number = give_me_seven()\n",
    "larger_number = give_me_ten()\n",
    "result = max(smaller_number, larger_number)\n",
    "result"
   ]
  },
  {
   "cell_type": "markdown",
   "metadata": {
    "deletable": false,
    "editable": false,
    "run_control": {
     "frozen": true
    }
   },
   "source": [
    "<span style=\"color:blue;font-weight:bold\">Exercise</span>: Store the return value of `give_me_ten()` in a variable named `the_return_value`:"
   ]
  },
  {
   "cell_type": "code",
   "execution_count": 16,
   "metadata": {
    "tags": [
     "exercise"
    ]
   },
   "outputs": [],
   "source": [
    "the_return_value = give_me_ten()"
   ]
  },
  {
   "cell_type": "code",
   "execution_count": 16,
   "metadata": {
    "deletable": false,
    "editable": false,
    "strategicml": {
     "execution_time": 1584757684246,
     "exercise_id": "4af051e0-5e5b-4cc0-8184-2bf52460ec2d",
     "points": 1
    },
    "tags": [
     "test"
    ]
   },
   "outputs": [
    {
     "data": {
      "text/html": [
       "<div style=\"background-color:#e8fcef\n",
       ";color:#333333;padding:10px;border-style:solid;border-width:2px;border-color:#038c33\">\n",
       "<div style=\"font-weight:bold\">Correct!</div>\n",
       "</div>"
      ],
      "text/plain": [
       "<IPython.core.display.HTML object>"
      ]
     },
     "metadata": {},
     "output_type": "display_data"
    }
   ],
   "source": [
    "check_variable_definition(\"the_return_value\")\n",
    "assert the_return_value == give_me_ten(), \"Did you use the return value of the function call <code>give_me_ten()</code> to set the value of the variable <code>the_return_value</code>\"\n",
    "success()"
   ]
  },
  {
   "cell_type": "markdown",
   "metadata": {
    "deletable": false,
    "editable": false,
    "run_control": {
     "frozen": true
    }
   },
   "source": [
    "### Creating Functions that Accept Arguments\n",
    "\n",
    "Before we dive into writing more complicated functions, let's take the time to understand the purpose of such functions by considering an example application. Suppose that we wish to calculate the area of a circle with a radius of 10 meters - we might start by using the following code (note that we use an approximate value for pi):"
   ]
  },
  {
   "cell_type": "code",
   "execution_count": 17,
   "metadata": {},
   "outputs": [
    {
     "data": {
      "text/plain": [
       "314.0"
      ]
     },
     "execution_count": 17,
     "metadata": {},
     "output_type": "execute_result"
    }
   ],
   "source": [
    "radius_meters = 10\n",
    "area_meters_sq = 3.14 * radius_meters * radius_meters\n",
    "area_meters_sq"
   ]
  },
  {
   "cell_type": "markdown",
   "metadata": {
    "deletable": false,
    "editable": false,
    "run_control": {
     "frozen": true
    }
   },
   "source": [
    "This works well enough for a single circle, but what if we wish to calculate the areas of many different circles and compare them? In that case, it is useful for us to *teach Python the trick* of computing the area of a circle, so that instead of manually retyping the code above many times, we can simply say \"Python, calculate the areas of all of these circles.\" We can teach Python this trick by defining the following function: "
   ]
  },
  {
   "cell_type": "code",
   "execution_count": 18,
   "metadata": {},
   "outputs": [],
   "source": [
    "def calculate_area_of_circle(radius_meters):\n",
    "    return  3.14 * radius_meters * radius_meters"
   ]
  },
  {
   "cell_type": "markdown",
   "metadata": {
    "deletable": false,
    "editable": false,
    "run_control": {
     "frozen": true
    }
   },
   "source": [
    "Let's quickly review the components of this *function definition* - notice that most of them are the same as the functions we looked at earlier, but we have added one component: the function *argument*:\n",
    "\n",
    "1. The `def` keyword, indicating that we wish to *define* a function. \n",
    "2. The *function name*: `calculate_area_of_circle`\n",
    "3. An open parenthesis `(`\n",
    "4. The definition of the function *argument*, in this case the variable `radius_meters`\n",
    "5. A closing parenthesis `)`\n",
    "6. A colon `:`\n",
    "7. A return statement"
   ]
  },
  {
   "cell_type": "markdown",
   "metadata": {
    "deletable": false,
    "editable": false,
    "run_control": {
     "frozen": true
    }
   },
   "source": [
    "The explanation above is quite verbose, so let's look at an example to make things clearer. Now that we taught Python how to calculate the areas of circles, let's have it calculate the area of an example circle with a radius of five meters:\n"
   ]
  },
  {
   "cell_type": "code",
   "execution_count": 19,
   "metadata": {},
   "outputs": [
    {
     "data": {
      "text/plain": [
       "78.5"
      ]
     },
     "execution_count": 19,
     "metadata": {},
     "output_type": "execute_result"
    }
   ],
   "source": [
    "calculate_area_of_circle(5)"
   ]
  },
  {
   "cell_type": "markdown",
   "metadata": {
    "deletable": false,
    "editable": false,
    "run_control": {
     "frozen": true
    }
   },
   "source": [
    "Let's walk through exactly what this function call did. When we called the function `calculate_area_of_cicle`, Python examined the argument that we provided - the value between the parentheses - and placed that inside the box `radius_meters`. This is how function arguments work \"behind the scenes\" - whatever value we place between the parentheses in the function *call* (`5`) is placed inside the variable appearing between the parentheses in the function *definition* (`radius_meters`) Python then performed the calculation `3.14 * radius_meters * radius_meters`, and returned that result to us. "
   ]
  },
  {
   "cell_type": "markdown",
   "metadata": {
    "deletable": false,
    "editable": false,
    "run_control": {
     "frozen": true
    }
   },
   "source": [
    "Now that we have taught Python the trick of calculating circle areas, we can have it perform the trick as many times as we wish, as the following cells illustrate:"
   ]
  },
  {
   "cell_type": "code",
   "execution_count": 20,
   "metadata": {},
   "outputs": [],
   "source": [
    "area_radius_nine = calculate_area_of_circle(9)\n",
    "area_radius_eleven = calculate_area_of_circle(11)"
   ]
  },
  {
   "cell_type": "code",
   "execution_count": 21,
   "metadata": {},
   "outputs": [
    {
     "data": {
      "text/plain": [
       "254.34"
      ]
     },
     "execution_count": 21,
     "metadata": {},
     "output_type": "execute_result"
    }
   ],
   "source": [
    "area_radius_nine"
   ]
  },
  {
   "cell_type": "code",
   "execution_count": 22,
   "metadata": {},
   "outputs": [
    {
     "data": {
      "text/plain": [
       "379.94"
      ]
     },
     "execution_count": 22,
     "metadata": {},
     "output_type": "execute_result"
    }
   ],
   "source": [
    "area_radius_eleven"
   ]
  },
  {
   "cell_type": "markdown",
   "metadata": {
    "deletable": false,
    "editable": false,
    "run_control": {
     "frozen": true
    }
   },
   "source": [
    "Let's try another example in which we define a function that accepts an argument. We can define the following function, which converts kilograms to grams:"
   ]
  },
  {
   "cell_type": "code",
   "execution_count": 23,
   "metadata": {},
   "outputs": [],
   "source": [
    "def convert_kg_to_g(mass_in_kg):\n",
    "    return mass_in_kg * 1000"
   ]
  },
  {
   "cell_type": "markdown",
   "metadata": {
    "deletable": false,
    "editable": false,
    "run_control": {
     "frozen": true
    }
   },
   "source": [
    "Now we can call this function to perform a conversion. Since we defined the function with a single argument variable between the parentheses (`mass_in_kg`), we pass one argument value when we call it:"
   ]
  },
  {
   "cell_type": "code",
   "execution_count": 24,
   "metadata": {},
   "outputs": [
    {
     "data": {
      "text/plain": [
       "3000"
      ]
     },
     "execution_count": 24,
     "metadata": {},
     "output_type": "execute_result"
    }
   ],
   "source": [
    "convert_kg_to_g(3)"
   ]
  },
  {
   "cell_type": "markdown",
   "metadata": {
    "deletable": false,
    "editable": false,
    "run_control": {
     "frozen": true
    }
   },
   "source": [
    "Again, Python performs the following process behind the scenes:\n",
    "\n",
    "1. Take argument value from function call (`3`) and assign it to argument variable in function definition (`mass_in_kg`)\n",
    "2. Evaluate the expression in the return statement, using the appropriate `mass_in_kg` value"
   ]
  },
  {
   "cell_type": "markdown",
   "metadata": {
    "deletable": false,
    "editable": false,
    "run_control": {
     "frozen": true
    }
   },
   "source": [
    "### Creating More Complicated Functions that Accept Multiple Arguments\n",
    "\n",
    "Let's now consider how to teach Python more complex tricks.  Suppose that we manage savings accounts for thousands of different customers, and we wish to calculate the amount of interest that we need to pay each of our customers. We could start with the following code:"
   ]
  },
  {
   "cell_type": "code",
   "execution_count": 25,
   "metadata": {},
   "outputs": [
    {
     "data": {
      "text/plain": [
       "20.0"
      ]
     },
     "execution_count": 25,
     "metadata": {},
     "output_type": "execute_result"
    }
   ],
   "source": [
    "account_balance = 1000\n",
    "interest_rate = 0.02\n",
    "interest_payment = account_balance * interest_rate\n",
    "interest_payment"
   ]
  },
  {
   "cell_type": "markdown",
   "metadata": {
    "deletable": false,
    "editable": false,
    "run_control": {
     "frozen": true
    }
   },
   "source": [
    "This code works just fine for a single case - but what if we want to calculate the interest payments that we must make for many different customers? To accomplish this efficiently, we are going to teach python a new command by defining a function that calculates interest payments. Run the code in the cell below to teach Python this new skill - don't worry, we are about to explain how it works: "
   ]
  },
  {
   "cell_type": "code",
   "execution_count": 26,
   "metadata": {},
   "outputs": [],
   "source": [
    "def calculate_interest_payment(account_balance, interest_rate):\n",
    "    return account_balance * interest_rate"
   ]
  },
  {
   "cell_type": "markdown",
   "metadata": {
    "deletable": false,
    "editable": false,
    "run_control": {
     "frozen": true
    }
   },
   "source": [
    "The *function definition* above contains many of the same elements as our previous examples, but with a slight amount of additional complexity. In this case, the definition of the function *arguments* contains *two* variables called `account_balance` and `interest_rate`, separated by commas."
   ]
  },
  {
   "cell_type": "markdown",
   "metadata": {
    "deletable": false,
    "editable": false,
    "run_control": {
     "frozen": true
    }
   },
   "source": [
    "Let's look at an example to help us understand the function above. Now that we taught Python how to calculate interest payments, let's have it calculate the interest payment for an example customer by running the code below:"
   ]
  },
  {
   "cell_type": "code",
   "execution_count": 27,
   "metadata": {},
   "outputs": [
    {
     "data": {
      "text/plain": [
       "60.0"
      ]
     },
     "execution_count": 27,
     "metadata": {},
     "output_type": "execute_result"
    }
   ],
   "source": [
    "calculate_interest_payment(2000, 0.03)"
   ]
  },
  {
   "cell_type": "markdown",
   "metadata": {
    "deletable": false,
    "editable": false,
    "run_control": {
     "frozen": true
    }
   },
   "source": [
    "Let's walk through exactly what this function call did. When we called the function `calculate_interest_payment`, Python examined each of our argument values (`2000` and `0.03`) in order, and found the variable name at the corresponding position in our function arguments definition above. So, the value `2000`, being the first value, matches up with the variable name `account_balance`, and the value `0.03` matches up with the variable name `interest_rate`. Python then assigns each value to the corresponding variable - in essence, it executes the following statements (don't forget to run this cell):"
   ]
  },
  {
   "cell_type": "code",
   "execution_count": 28,
   "metadata": {},
   "outputs": [],
   "source": [
    "account_balance = 2000\n",
    "interest_rate = 0.03"
   ]
  },
  {
   "cell_type": "markdown",
   "metadata": {
    "deletable": false,
    "editable": false,
    "run_control": {
     "frozen": true
    }
   },
   "source": [
    "After processing the argument variables, Python then evaluates the expression appearing in our return statement:"
   ]
  },
  {
   "cell_type": "code",
   "execution_count": 29,
   "metadata": {},
   "outputs": [
    {
     "data": {
      "text/plain": [
       "60.0"
      ]
     },
     "execution_count": 29,
     "metadata": {},
     "output_type": "execute_result"
    }
   ],
   "source": [
    "account_balance * interest_rate"
   ]
  },
  {
   "cell_type": "markdown",
   "metadata": {
    "deletable": false,
    "editable": false,
    "run_control": {
     "frozen": true
    }
   },
   "source": [
    "Now that we have defined this function, we could calculate the interest payment for each customer with the following code:"
   ]
  },
  {
   "cell_type": "code",
   "execution_count": 30,
   "metadata": {},
   "outputs": [],
   "source": [
    "customer_one_payment = calculate_interest_payment(5000, 0.01)\n",
    "customer_two_payment = calculate_interest_payment(2500, 0.02)\n",
    "customer_three_payment = calculate_interest_payment(2000, 0.03)"
   ]
  },
  {
   "cell_type": "markdown",
   "metadata": {
    "deletable": false,
    "editable": false,
    "run_control": {
     "frozen": true
    }
   },
   "source": [
    "We can then do all sorts of things with this data - for example, we could then find out the most expensive payment using the `max` function:"
   ]
  },
  {
   "cell_type": "code",
   "execution_count": 31,
   "metadata": {},
   "outputs": [
    {
     "data": {
      "text/plain": [
       "60.0"
      ]
     },
     "execution_count": 31,
     "metadata": {},
     "output_type": "execute_result"
    }
   ],
   "source": [
    "max(customer_one_payment, customer_two_payment, customer_three_payment)"
   ]
  },
  {
   "cell_type": "markdown",
   "metadata": {
    "deletable": false,
    "editable": false,
    "run_control": {
     "frozen": true
    }
   },
   "source": [
    "Note that nothing says that we must stop at two arguments - we are allowed to make our functions accept as many arguments as we wish, as long as we separate the arguments with the appropriate number of `,` characters. For example, the following function accepts three arguments of type `string` and returns a new string that results from combining all of them together:"
   ]
  },
  {
   "cell_type": "code",
   "execution_count": 32,
   "metadata": {},
   "outputs": [],
   "source": [
    "def get_combined_string(first_string, second_string, third_string):\n",
    "    return first_string + \" \" + second_string + \" \" + third_string"
   ]
  },
  {
   "cell_type": "markdown",
   "metadata": {
    "deletable": false,
    "editable": false,
    "run_control": {
     "frozen": true
    }
   },
   "source": [
    "We can see how this function works by calling it:"
   ]
  },
  {
   "cell_type": "code",
   "execution_count": 33,
   "metadata": {},
   "outputs": [
    {
     "data": {
      "text/plain": [
       "'one two three'"
      ]
     },
     "execution_count": 33,
     "metadata": {},
     "output_type": "execute_result"
    }
   ],
   "source": [
    "get_combined_string(\"one\", \"two\", \"three\")"
   ]
  },
  {
   "cell_type": "markdown",
   "metadata": {
    "deletable": false,
    "editable": false,
    "run_control": {
     "frozen": true
    }
   },
   "source": [
    "<span style=\"color:blue;font-weight:bold\">Exercise</span>:\n",
    "Write a function called `calculate_stock_sale_revenue` to calculate the revenue received from selling a certain number of shares of stock (`n_shares`) at a certain price (`price_usd`), minus a certain flat transaction fee (`transaction_fee_usd`). Use your function to calculate the revenue received for selling `6` shares of stock at a price of `$70` with a transaction fee of `$5`. If you get confused when trying to define a function that accepts three arguments, refer to the `get_combined_string` function above as an example."
   ]
  },
  {
   "cell_type": "code",
   "execution_count": 34,
   "metadata": {
    "tags": [
     "exercise"
    ]
   },
   "outputs": [
    {
     "data": {
      "text/plain": [
       "415"
      ]
     },
     "execution_count": 34,
     "metadata": {},
     "output_type": "execute_result"
    }
   ],
   "source": [
    "def calculate_stock_sale_revenue(n_shares, price_usd, transaction_fee_usd):\n",
    "    return n_shares * price_usd - transaction_fee_usd\n",
    "\n",
    "calculate_stock_sale_revenue(6, 70, 5)"
   ]
  },
  {
   "cell_type": "code",
   "execution_count": 34,
   "metadata": {
    "deletable": false,
    "editable": false,
    "strategicml": {
     "execution_time": 1584757762125,
     "exercise_id": "3b21cdb6-7311-47e3-9bd7-33983e5a9cfb",
     "points": 1
    },
    "tags": [
     "test"
    ]
   },
   "outputs": [
    {
     "data": {
      "text/html": [
       "<div style=\"background-color:#e8fcef\n",
       ";color:#333333;padding:10px;border-style:solid;border-width:2px;border-color:#038c33\">\n",
       "<div style=\"font-weight:bold\">Correct!</div>\n",
       "</div>"
      ],
      "text/plain": [
       "<IPython.core.display.HTML object>"
      ]
     },
     "metadata": {},
     "output_type": "display_data"
    }
   ],
   "source": [
    "check_function_definition(\"calculate_stock_sale_revenue\")\n",
    "assert calculate_stock_sale_revenue(6, 70, 5) == 415\n",
    "assert calculate_stock_sale_revenue(8, 30, 2) == 238\n",
    "success()"
   ]
  },
  {
   "cell_type": "markdown",
   "metadata": {
    "deletable": false,
    "editable": false,
    "run_control": {
     "frozen": true
    }
   },
   "source": [
    "## Calling Functions from Inside Our Own Functions\n",
    "\n",
    "We can chain functions together by including function calls inside of the custom functions that we define. For example, we can call the builtin function `len` in the definition of a custom function called `get_length_of_combined_string`:"
   ]
  },
  {
   "cell_type": "code",
   "execution_count": 35,
   "metadata": {},
   "outputs": [],
   "source": [
    "def get_length_of_combined_string(first_string, second_string):\n",
    "    return len(first_string) + len(second_string)"
   ]
  },
  {
   "cell_type": "markdown",
   "metadata": {
    "deletable": false,
    "editable": false,
    "run_control": {
     "frozen": true
    }
   },
   "source": [
    "By calling it, we can see that this function returns the combined length of two strings, as expected:"
   ]
  },
  {
   "cell_type": "code",
   "execution_count": 36,
   "metadata": {},
   "outputs": [
    {
     "data": {
      "text/plain": [
       "6"
      ]
     },
     "execution_count": 36,
     "metadata": {},
     "output_type": "execute_result"
    }
   ],
   "source": [
    "get_length_of_combined_string(\"one\", \"two\")"
   ]
  },
  {
   "cell_type": "markdown",
   "metadata": {
    "deletable": false,
    "editable": false,
    "run_control": {
     "frozen": true
    }
   },
   "source": [
    "Similarly, we can call the `print` function from inside of our custom functions - this is an exceptionally useful capability that we will use often:"
   ]
  },
  {
   "cell_type": "code",
   "execution_count": 37,
   "metadata": {},
   "outputs": [],
   "source": [
    "def print_length_of_string(string_argument):\n",
    "    print(\"The length of this string is:\", len(string_argument))"
   ]
  },
  {
   "cell_type": "markdown",
   "metadata": {
    "deletable": false,
    "editable": false,
    "run_control": {
     "frozen": true
    }
   },
   "source": [
    "Let's test out the function `print_length_of_string` above:"
   ]
  },
  {
   "cell_type": "code",
   "execution_count": 38,
   "metadata": {},
   "outputs": [
    {
     "name": "stdout",
     "output_type": "stream",
     "text": [
      "The length of this string is: 13\n"
     ]
    }
   ],
   "source": [
    "print_length_of_string(\"a long string\")"
   ]
  },
  {
   "cell_type": "markdown",
   "metadata": {
    "deletable": false,
    "editable": false,
    "run_control": {
     "frozen": true
    }
   },
   "source": [
    "Notice something important about the definition of `print_length_of_string` - it has no `return` statement. This is perfectly fine - functions are not required to have a `return` statement. Note that if we do not include a `return` statement, our function will return placeholder value of `None`, as you can see by running the code below:"
   ]
  },
  {
   "cell_type": "code",
   "execution_count": 39,
   "metadata": {},
   "outputs": [
    {
     "name": "stdout",
     "output_type": "stream",
     "text": [
      "The length of this string is: 13\n",
      "None\n"
     ]
    }
   ],
   "source": [
    "return_value = print_length_of_string(\"a long string\")\n",
    "print(return_value)"
   ]
  },
  {
   "cell_type": "markdown",
   "metadata": {
    "deletable": false,
    "editable": false,
    "run_control": {
     "frozen": true
    }
   },
   "source": [
    "We will say more about this later, so if this behavior seems confusing to you right now, please continue with the lesson and it will be clarified in subsequent sections. "
   ]
  },
  {
   "cell_type": "markdown",
   "metadata": {
    "deletable": false,
    "editable": false,
    "run_control": {
     "frozen": true
    }
   },
   "source": [
    "### Writing Longer and More Complex Functions\n",
    "\n",
    "All of the functions that we have worked with until this point have contained only one line - either a `return` statement, or a call to `print`. However, remember that functions are arbitrary tricks that we teach Python to perform. There is no rule that these tricks must have only one step; we can write functions containing multiple lines of code in order to define procedures of arbitrary length and complexity. For example, we can define the following function:"
   ]
  },
  {
   "cell_type": "code",
   "execution_count": 40,
   "metadata": {},
   "outputs": [],
   "source": [
    "def print_each_argument_on_its_own_line(arg_one, arg_two):\n",
    "    # the function body starts here\n",
    "    # it contains all lines under `def` that are indented by four spaces\n",
    "    print(\"this is the first argument:\", arg_one)\n",
    "    print(\"this is the second argument:\", arg_two)"
   ]
  },
  {
   "cell_type": "markdown",
   "metadata": {
    "deletable": false,
    "editable": false,
    "run_control": {
     "frozen": true
    }
   },
   "source": [
    "Every time we call the `print_each_argument_on_its_own_line` function, Python executes all of the lines found in the *function body* of its function definition. In the example above, both of the indented lines underneath the first `def` line constitute the *function body* - while in previous examples, our function body consisted only of a single return statement, we now have multiple lines in our function body. **All lines in the function body must be indented with four spaces.** Let's call this function and walk through what Python does behind the scenes:"
   ]
  },
  {
   "cell_type": "code",
   "execution_count": 41,
   "metadata": {},
   "outputs": [
    {
     "name": "stdout",
     "output_type": "stream",
     "text": [
      "this is the first argument: first\n",
      "this is the second argument: second\n"
     ]
    }
   ],
   "source": [
    "print_each_argument_on_its_own_line(\"first\", \"second\")"
   ]
  },
  {
   "cell_type": "markdown",
   "metadata": {
    "deletable": false,
    "editable": false,
    "run_control": {
     "frozen": true
    }
   },
   "source": [
    "When we run the cell above, Python executes the following steps in order:\n",
    "\n",
    "1. Process the function arguments, just as in our previous examples, and sets the variable `arg_one` to the value `\"first\"` and the variable `arg_two` to the value `\"second\"`.\n",
    "2. Run the first line of the function body: `print(\"this is the first argument:\", arg_one)`\n",
    "3. Run the second line of the function body: `print(\"this is the second argument:\", arg_two)`\n",
    "\n",
    "Let's now look at a more complicated multi-line function:"
   ]
  },
  {
   "cell_type": "code",
   "execution_count": 42,
   "metadata": {},
   "outputs": [],
   "source": [
    "def calculate_profit_margin_pct(revenue, expenses):\n",
    "    # the body of this function contains four lines\n",
    "    # each of them will be run in order when the function is called\n",
    "    profit = revenue - expenses\n",
    "    profit_margin = profit/revenue\n",
    "    profit_margin_pct = profit_margin*100\n",
    "    return profit_margin_pct"
   ]
  },
  {
   "cell_type": "markdown",
   "metadata": {
    "deletable": false,
    "editable": false,
    "run_control": {
     "frozen": true
    }
   },
   "source": [
    "Let's call this function to observe how it calculates profit margins:"
   ]
  },
  {
   "cell_type": "code",
   "execution_count": 43,
   "metadata": {},
   "outputs": [
    {
     "data": {
      "text/plain": [
       "33.0"
      ]
     },
     "execution_count": 43,
     "metadata": {},
     "output_type": "execute_result"
    }
   ],
   "source": [
    "calculate_profit_margin_pct(100, 67)"
   ]
  },
  {
   "cell_type": "markdown",
   "metadata": {
    "deletable": false,
    "editable": false,
    "run_control": {
     "frozen": true
    }
   },
   "source": [
    "When we run the cell above, Python executes the following steps:\n",
    "\n",
    "1. Step through the argument values, just as in our previous examples, and set `revenue = 100` and `expenses = 67`\n",
    "2. Execute each line of the function body in sequence, using the variable values set above"
   ]
  },
  {
   "cell_type": "markdown",
   "metadata": {
    "deletable": false,
    "editable": false,
    "run_control": {
     "frozen": true
    }
   },
   "source": [
    "Functions can be as long as you want them to be, but **your `return` statement must always be written on the last line of the function body!** Notice that if you put your `return` statement on an earlier line, your function will end early and no further lines will be executed. You can see this by running the following cell:"
   ]
  },
  {
   "cell_type": "code",
   "execution_count": 44,
   "metadata": {},
   "outputs": [
    {
     "name": "stdout",
     "output_type": "stream",
     "text": [
      "this line will print\n"
     ]
    },
    {
     "data": {
      "text/plain": [
       "'this is the return value'"
      ]
     },
     "execution_count": 44,
     "metadata": {},
     "output_type": "execute_result"
    }
   ],
   "source": [
    "def bad_function():\n",
    "    print(\"this line will print\")\n",
    "    return \"this is the return value\"\n",
    "    print(\"this line will not print, because it is after the return statement\")\n",
    "\n",
    "# Notice that this cell contains both a *function definition* and a *function call*.\n",
    "# The function call statement `bad_function()` is not indented.\n",
    "# So it is not part of the function body\n",
    "bad_function()"
   ]
  },
  {
   "cell_type": "markdown",
   "metadata": {
    "deletable": false,
    "editable": false,
    "run_control": {
     "frozen": true
    }
   },
   "source": [
    "## Combining Function Definitions with Other Code\n",
    "\n",
    "As you may have noticed from our last piece of example code, we can define a function and call it within the same code cell. This is allowed because we may place as many lines within a given code cell as we wish. For example, we can define the function `add_two` and call it within a single cell"
   ]
  },
  {
   "cell_type": "code",
   "execution_count": 45,
   "metadata": {
    "scrolled": true
   },
   "outputs": [
    {
     "data": {
      "text/plain": [
       "5"
      ]
     },
     "execution_count": 45,
     "metadata": {},
     "output_type": "execute_result"
    }
   ],
   "source": [
    "def add_two(num):\n",
    "    # this line is indented, so it is part of our function\n",
    "    return num + 2\n",
    "# note that this line is not indented, so it is not part of the function body\n",
    "add_two(3)"
   ]
  },
  {
   "cell_type": "markdown",
   "metadata": {
    "deletable": false,
    "editable": false,
    "run_control": {
     "frozen": true
    }
   },
   "source": [
    "It is **very important** to note that the function call on the final line is not indented. Only lines that are part of the function definition, such as the `return` statement, are indented. The function call `add_two(3)` is not part of the function definition - it is a subsequent instruction that we have sent to python after teaching it the `add_two` trick."
   ]
  },
  {
   "cell_type": "markdown",
   "metadata": {
    "deletable": false,
    "editable": false,
    "run_control": {
     "frozen": true
    }
   },
   "source": [
    "<span style=\"color:blue;font-weight:bold\">Exercise</span>: Define a function called `scale_by_five` that takes a single argument, multiplies its value by `5`, and returns the result. On the next line (after your function definition), call your function with an argument value of `6`."
   ]
  },
  {
   "cell_type": "code",
   "execution_count": 46,
   "metadata": {
    "tags": [
     "exercise"
    ]
   },
   "outputs": [
    {
     "data": {
      "text/plain": [
       "30"
      ]
     },
     "execution_count": 46,
     "metadata": {},
     "output_type": "execute_result"
    }
   ],
   "source": [
    "def scale_by_five(n): return n*5\n",
    "\n",
    "scale_by_five(6)"
   ]
  },
  {
   "cell_type": "code",
   "execution_count": 46,
   "metadata": {
    "deletable": false,
    "editable": false,
    "strategicml": {
     "execution_time": 1584757818351,
     "exercise_id": "7bda304c-64a4-413f-83df-f7449b540401",
     "points": 1
    },
    "tags": [
     "test"
    ]
   },
   "outputs": [
    {
     "data": {
      "text/html": [
       "<div style=\"background-color:#e8fcef\n",
       ";color:#333333;padding:10px;border-style:solid;border-width:2px;border-color:#038c33\">\n",
       "<div style=\"font-weight:bold\">Correct!</div>\n",
       "</div>"
      ],
      "text/plain": [
       "<IPython.core.display.HTML object>"
      ]
     },
     "metadata": {},
     "output_type": "display_data"
    }
   ],
   "source": [
    "check_function_definition(\"scale_by_five\") \n",
    "assert scale_by_five(7) == 35, \"Did you implement the function <code>scale_by_five</code> as specified in the instructions?\"\n",
    "assert _ == 30, \"Did you write the function call <code>scale_by_five(6)</code> as the last line in the cell above?\"\n",
    "success()"
   ]
  },
  {
   "cell_type": "markdown",
   "metadata": {
    "deletable": false,
    "editable": false,
    "run_control": {
     "frozen": true
    }
   },
   "source": [
    "###  Common Mistakes when Creating Functions\n",
    "\n",
    "<span style=\"color:red;font-weight:bold\">WARNING</span>\n",
    ": When writing Python code, you should **never** reuse the same name to refer to two different things. For example, it is extremely common to make an error like the following, in which a function and a variable both have the same name:"
   ]
  },
  {
   "cell_type": "code",
   "execution_count": 47,
   "metadata": {},
   "outputs": [],
   "source": [
    "def area_of_square(side_length):\n",
    "    return side_length * side_length\n",
    "area_of_square = area_of_square(2)"
   ]
  },
  {
   "cell_type": "markdown",
   "metadata": {
    "deletable": false,
    "editable": false,
    "run_control": {
     "frozen": true
    }
   },
   "source": [
    "If you run the cell above, everything seems ok - there is no error printed, and we can see that we get the right value:"
   ]
  },
  {
   "cell_type": "code",
   "execution_count": 48,
   "metadata": {},
   "outputs": [
    {
     "data": {
      "text/plain": [
       "4"
      ]
     },
     "execution_count": 48,
     "metadata": {},
     "output_type": "execute_result"
    }
   ],
   "source": [
    "area_of_square"
   ]
  },
  {
   "cell_type": "markdown",
   "metadata": {
    "deletable": false,
    "editable": false,
    "run_control": {
     "frozen": true
    }
   },
   "source": [
    "But if we try to call the function a second time, we get an error:"
   ]
  },
  {
   "cell_type": "code",
   "execution_count": 49,
   "metadata": {
    "tags": [
     "raises-exception"
    ]
   },
   "outputs": [
    {
     "data": {
      "text/html": [
       "<div style=\"background-color:#FEFAF3\n",
       ";color:#333333;padding:10px;border-style:solid;border-width:2px;border-color:#FFC47D\">\n",
       "  <div style=\"margin-bottom:10px;font-weight:bold\">Exception</div>\n",
       "  <div>Running your code produced the exception shown below.\n",
       "Python provides the full error message below to help you diagnose what is wrong with your code.\n",
       "Typing the below error message into a search engine may be helpful.</div>\n",
       "</div>"
      ],
      "text/plain": [
       "<IPython.core.display.HTML object>"
      ]
     },
     "metadata": {},
     "output_type": "display_data"
    },
    {
     "ename": "TypeError",
     "evalue": "'int' object is not callable",
     "output_type": "error",
     "traceback": [
      "\u001b[0;31m---------------------------------------------------------------------------\u001b[0m",
      "\u001b[0;31mTypeError\u001b[0m                                 Traceback (most recent call last)",
      "\u001b[0;32m<ipython-input-49-0f1966e289e7>\u001b[0m in \u001b[0;36m<module>\u001b[0;34m\u001b[0m\n\u001b[0;32m----> 1\u001b[0;31m \u001b[0marea_of_square\u001b[0m\u001b[0;34m(\u001b[0m\u001b[0;36m3\u001b[0m\u001b[0;34m)\u001b[0m\u001b[0;34m\u001b[0m\u001b[0;34m\u001b[0m\u001b[0m\n\u001b[0m",
      "\u001b[0;31mTypeError\u001b[0m: 'int' object is not callable"
     ]
    }
   ],
   "source": [
    "area_of_square(3)"
   ]
  },
  {
   "cell_type": "markdown",
   "metadata": {
    "deletable": false,
    "editable": false,
    "run_control": {
     "frozen": true
    }
   },
   "source": [
    "What happened? When we executed the line `area_of_square = area_of_square(2)`, we created a variable named `area_of_square`. Now Python thinks that `area_of_square` is a variable, not a function. If you try to use a variable like a function by using function call syntax like `area_of_square(3)`, you will get an error that looks similar to the `TypeError: 'int' object is not callable` seen above. "
   ]
  },
  {
   "cell_type": "markdown",
   "metadata": {
    "deletable": false,
    "editable": false,
    "run_control": {
     "frozen": true
    }
   },
   "source": [
    "### Variable Scope\n",
    "\n",
    "When you define a function in Python, the variables used inside that function are not accessible outside of the function. For example, suppose we define and call the following function:"
   ]
  },
  {
   "cell_type": "code",
   "execution_count": 50,
   "metadata": {},
   "outputs": [
    {
     "data": {
      "text/plain": [
       "30"
      ]
     },
     "execution_count": 50,
     "metadata": {},
     "output_type": "execute_result"
    }
   ],
   "source": [
    "def example_function(argument_one):\n",
    "    return argument_one * 6\n",
    "example_function(5)"
   ]
  },
  {
   "cell_type": "markdown",
   "metadata": {
    "deletable": false,
    "editable": false,
    "run_control": {
     "frozen": true
    }
   },
   "source": [
    "If we try to now access the value of `5` that was stored in the variable `argument_one` when this function was called, we will be unsuccessful: "
   ]
  },
  {
   "cell_type": "code",
   "execution_count": 51,
   "metadata": {
    "scrolled": false,
    "tags": [
     "raises-exception"
    ]
   },
   "outputs": [
    {
     "data": {
      "text/html": [
       "<div style=\"background-color:#FEFAF3\n",
       ";color:#333333;padding:10px;border-style:solid;border-width:2px;border-color:#FFC47D\">\n",
       "  <div style=\"margin-bottom:10px;font-weight:bold\">Exception: <code>NameError</code></div>\n",
       "  <div>Running your code produced a <code>NameError</code> exception.\n",
       "This most likely indicates that you mistyped the name of a variable or function, so Python\n",
       "cannot recognize what you mean. Please carefully check the spelling in your code for typos.\n",
       "\n",
       "Python provides the full error message below to help you diagnose what is wrong with your code.\n",
       "Typing the below error message into a search engine may be helpful.</div>\n",
       "</div>"
      ],
      "text/plain": [
       "<IPython.core.display.HTML object>"
      ]
     },
     "metadata": {},
     "output_type": "display_data"
    },
    {
     "ename": "NameError",
     "evalue": "name 'argument_one' is not defined",
     "output_type": "error",
     "traceback": [
      "\u001b[0;31m---------------------------------------------------------------------------\u001b[0m",
      "\u001b[0;31mNameError\u001b[0m                                 Traceback (most recent call last)",
      "\u001b[0;32m<ipython-input-51-170ed985dcbf>\u001b[0m in \u001b[0;36m<module>\u001b[0;34m\u001b[0m\n\u001b[0;32m----> 1\u001b[0;31m \u001b[0margument_one\u001b[0m\u001b[0;34m\u001b[0m\u001b[0;34m\u001b[0m\u001b[0m\n\u001b[0m",
      "\u001b[0;31mNameError\u001b[0m: name 'argument_one' is not defined"
     ]
    }
   ],
   "source": [
    "argument_one"
   ]
  },
  {
   "cell_type": "markdown",
   "metadata": {
    "deletable": false,
    "editable": false,
    "run_control": {
     "frozen": true
    }
   },
   "source": [
    "We receive this `NameError` because the variable `argument_one` only exists inside the function `example_function` during the time that function is called - if we try to access it outside of that context, it is just another undefined variable."
   ]
  },
  {
   "cell_type": "markdown",
   "metadata": {
    "deletable": false,
    "editable": false,
    "run_control": {
     "frozen": true
    }
   },
   "source": [
    "### Final Thoughts\n",
    "\n",
    "Why did we spend so much time learning about functions? Functions are the fundamental building block of all logic in our Python programs - they are the means by which we build complicated functionality from simple building blocks. We will use functions in every single subsequent lesson in this course, so make sure you have a solid understanding of the material in this lesson before moving on. "
   ]
  },
  {
   "cell_type": "code",
   "execution_count": null,
   "metadata": {},
   "outputs": [],
   "source": []
  }
 ],
 "metadata": {
  "celltoolbar": null,
  "kernelspec": {
   "display_name": "Python 3",
   "language": "python",
   "name": "python3"
  },
  "language_info": {
   "codemirror_mode": {
    "name": "ipython",
    "version": 3
   },
   "file_extension": ".py",
   "mimetype": "text/x-python",
   "name": "python",
   "nbconvert_exporter": "python",
   "pygments_lexer": "ipython3",
   "version": "3.7.3"
  },
  "strategicml": {
   "lesson_id": "b8591290-cd6a-4631-8435-1958e3f6e33e",
   "release": true
  }
 },
 "nbformat": 4,
 "nbformat_minor": 2
}
