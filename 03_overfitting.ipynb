{
 "cells": [
  {
   "cell_type": "markdown",
   "metadata": {
    "deletable": false,
    "editable": false,
    "run_control": {
     "frozen": true
    }
   },
   "source": [
    "## Overfitting\n",
    "\n",
    "We've seen in previous lessons how we can construct neural networks with many neurons arranged into as many layers as we wish. This flexibility is what gives neural networks their power; however, it can also cause practical challenges. "
   ]
  },
  {
   "cell_type": "markdown",
   "metadata": {
    "deletable": false,
    "editable": false,
    "run_control": {
     "frozen": true
    }
   },
   "source": [
    "If we use too complicated of a network to fit a relatively small and simple dataset, the network may \"learn\" the noise present in our data rather than the actual useful patterns that the dataset contains. This phenomenon is called \"overfitting,\" and it can have unfortunate consequences. Overfit models may effectively memorize every detail of the dataset on which they were trained, but they will fail to generalize when presented with new data and cannot be relied upon to yield accurate predictions."
   ]
  },
  {
   "cell_type": "markdown",
   "metadata": {
    "deletable": false,
    "editable": false,
    "run_control": {
     "frozen": true
    }
   },
   "source": [
    "We will now demonstrate how overfitting occurs with a simple example. We'll need these libraries:"
   ]
  },
  {
   "cell_type": "code",
   "execution_count": 1,
   "metadata": {},
   "outputs": [],
   "source": [
    "import matplotlib.pyplot as plt\n",
    "import numpy as np\n",
    "import tensorflow as tf\n",
    "from tensorflow import keras\n",
    "from visualization import draw_nn_graph\n",
    "from consistency import remove_randomness\n",
    "remove_randomness()"
   ]
  },
  {
   "cell_type": "markdown",
   "metadata": {
    "deletable": false,
    "editable": false,
    "run_control": {
     "frozen": true
    }
   },
   "source": [
    "We'll work with the simple `x` and `y` training dataset that is loaded and visualized below:"
   ]
  },
  {
   "cell_type": "code",
   "execution_count": 2,
   "metadata": {
    "scrolled": true
   },
   "outputs": [
    {
     "data": {
      "image/png": "[encoded data removed]",
      "text/plain": [
       "<Figure size 432x288 with 1 Axes>"
      ]
     },
     "metadata": {
      "needs_background": "light"
     },
     "output_type": "display_data"
    }
   ],
   "source": [
    "# load data\n",
    "x_train = np.loadtxt(\"data/overfit_example_x_train.csv\", delimiter=\",\")\n",
    "y_train = np.loadtxt(\"data/overfit_example_y_train.csv\", delimiter=\",\")\n",
    "plt.scatter(x_train, y_train)\n",
    "plt.show()"
   ]
  },
  {
   "cell_type": "markdown",
   "metadata": {
    "deletable": false,
    "editable": false,
    "run_control": {
     "frozen": true
    }
   },
   "source": [
    "## Building a Simple Model (Not Overfit)"
   ]
  },
  {
   "cell_type": "markdown",
   "metadata": {
    "deletable": false,
    "editable": false,
    "run_control": {
     "frozen": true
    }
   },
   "source": [
    "As you can see, the  data above looks like a (noisy) line. We'd expect a simple linear model like the one below to give accurate predictions for the values in this dataset:"
   ]
  },
  {
   "cell_type": "code",
   "execution_count": 3,
   "metadata": {
    "scrolled": true
   },
   "outputs": [
    {
     "name": "stdout",
     "output_type": "stream",
     "text": [
      "Train on 15 samples\n",
      "Epoch 1/20\n",
      "15/15 [==============================] - 0s 27ms/sample - loss: 41601.9883\n",
      "Epoch 2/20\n",
      "15/15 [==============================] - 0s 218us/sample - loss: 5064.6592\n",
      "Epoch 3/20\n",
      "15/15 [==============================] - 0s 202us/sample - loss: 683.7819\n",
      "Epoch 4/20\n",
      "15/15 [==============================] - 0s 164us/sample - loss: 158.5091\n",
      "Epoch 5/20\n",
      "15/15 [==============================] - 0s 167us/sample - loss: 95.5280\n",
      "Epoch 6/20\n",
      "15/15 [==============================] - 0s 151us/sample - loss: 87.9766\n",
      "Epoch 7/20\n",
      "15/15 [==============================] - 0s 152us/sample - loss: 87.0711\n",
      "Epoch 8/20\n",
      "15/15 [==============================] - 0s 113us/sample - loss: 86.9625\n",
      "Epoch 9/20\n",
      "15/15 [==============================] - 0s 185us/sample - loss: 86.9495\n",
      "Epoch 10/20\n",
      "15/15 [==============================] - 0s 204us/sample - loss: 86.9480\n",
      "Epoch 11/20\n",
      "15/15 [==============================] - 0s 170us/sample - loss: 86.9478\n",
      "Epoch 12/20\n",
      "15/15 [==============================] - 0s 94us/sample - loss: 86.9477\n",
      "Epoch 13/20\n",
      "15/15 [==============================] - 0s 159us/sample - loss: 86.9478\n",
      "Epoch 14/20\n",
      "15/15 [==============================] - 0s 114us/sample - loss: 86.9477\n",
      "Epoch 15/20\n",
      "15/15 [==============================] - 0s 104us/sample - loss: 86.9478\n",
      "Epoch 16/20\n",
      "15/15 [==============================] - 0s 104us/sample - loss: 86.9478\n",
      "Epoch 17/20\n",
      "15/15 [==============================] - 0s 100us/sample - loss: 86.9478\n",
      "Epoch 18/20\n",
      "15/15 [==============================] - 0s 196us/sample - loss: 86.9478\n",
      "Epoch 19/20\n",
      "15/15 [==============================] - 0s 125us/sample - loss: 86.9478\n",
      "Epoch 20/20\n",
      "15/15 [==============================] - 0s 180us/sample - loss: 86.9478\n"
     ]
    },
    {
     "data": {
      "text/plain": [
       "<tensorflow.python.keras.callbacks.History at 0x7fc3783519b0>"
      ]
     },
     "execution_count": 3,
     "metadata": {},
     "output_type": "execute_result"
    }
   ],
   "source": [
    "# build model\n",
    "model = keras.Sequential(\n",
    "    [\n",
    "        keras.layers.Dense(\n",
    "            name=\"output\",\n",
    "            units=1,\n",
    "            input_shape=(1,),\n",
    "            kernel_initializer=tf.keras.initializers.ones,\n",
    "            bias_initializer=tf.keras.initializers.zeros\n",
    "        )\n",
    "    ]\n",
    ")\n",
    "\n",
    "# configure for training\n",
    "model.compile(\n",
    "    optimizer=tf.keras.optimizers.SGD(learning_rate=1e-4),\n",
    "    loss=\"mean_squared_error\"\n",
    ")\n",
    "\n",
    "# train\n",
    "model.fit(x_train,y_train,epochs=20)"
   ]
  },
  {
   "cell_type": "markdown",
   "metadata": {
    "deletable": false,
    "editable": false,
    "run_control": {
     "frozen": true
    }
   },
   "source": [
    "Generating predicted `y` values from our model reveals that the predictions it has produced are reasonable:"
   ]
  },
  {
   "cell_type": "code",
   "execution_count": 4,
   "metadata": {
    "scrolled": true
   },
   "outputs": [
    {
     "data": {
      "image/png": "[encoded data removed]",
      "text/plain": [
       "<Figure size 432x288 with 1 Axes>"
      ]
     },
     "metadata": {
      "needs_background": "light"
     },
     "output_type": "display_data"
    }
   ],
   "source": [
    "# visualize to demonstrate that our optimizer has found the best-fit line\n",
    "y_pred_train = model.predict(x_train)\n",
    "plt.scatter(x_train, y_train)\n",
    "plt.plot(x_train, y_pred_train, c=\"r\")\n",
    "plt.show()"
   ]
  },
  {
   "cell_type": "markdown",
   "metadata": {
    "deletable": false,
    "editable": false,
    "run_control": {
     "frozen": true
    }
   },
   "source": [
    "## Overfitting the Linear Trend\n",
    "\n",
    "Let's now load a much more complicated model that has been trained against this same dataset:"
   ]
  },
  {
   "cell_type": "code",
   "execution_count": 5,
   "metadata": {
    "scrolled": true
   },
   "outputs": [
    {
     "name": "stdout",
     "output_type": "stream",
     "text": [
      "WARNING:tensorflow:No training configuration found in save file: the model was *not* compiled. Compile it manually.\n"
     ]
    }
   ],
   "source": [
    "model_overfit = tf.keras.models.load_model(\"models/relu_overfit.h5\")"
   ]
  },
  {
   "cell_type": "markdown",
   "metadata": {
    "deletable": false,
    "editable": false,
    "run_control": {
     "frozen": true
    }
   },
   "source": [
    "This model has a very large hidden layer consisting of many neurons:"
   ]
  },
  {
   "cell_type": "code",
   "execution_count": 6,
   "metadata": {},
   "outputs": [
    {
     "data": {
      "image/svg+xml": [
       "<?xml version=\"1.0\" encoding=\"UTF-8\" standalone=\"no\"?>\n",
       "<!DOCTYPE svg PUBLIC \"-//W3C//DTD SVG 1.1//EN\"\n",
       " \"http://www.w3.org/Graphics/SVG/1.1/DTD/svg11.dtd\">\n",
       "<!-- Generated by graphviz version 2.40.1 (20161225.0304)\n",
       " -->\n",
       "<!-- Title: %3 Pages: 1 -->\n",
       "<svg width=\"484pt\" height=\"2154pt\"\n",
       " viewBox=\"0.00 0.00 484.46 2153.76\" xmlns=\"http://www.w3.org/2000/svg\" xmlns:xlink=\"http://www.w3.org/1999/xlink\">\n",
       "<g id=\"graph0\" class=\"graph\" transform=\"scale(1 1) rotate(0) translate(4 2149.7645)\">\n",
       "<title>%3</title>\n",
       "<polygon fill=\"#ffffff\" stroke=\"transparent\" points=\"-4,4 -4,-2149.7645 480.465,-2149.7645 480.465,4 -4,4\"/>\n",
       "<!-- input_0 -->\n",
       "<g id=\"node1\" class=\"node\">\n",
       "<title>input_0</title>\n",
       "<ellipse fill=\"none\" stroke=\"#000000\" cx=\"40.2964\" cy=\"-1035.7107\" rx=\"40.0939\" ry=\"40.0939\"/>\n",
       "<text text-anchor=\"middle\" x=\"40.2964\" y=\"-1032.0107\" font-family=\"Times,serif\" font-size=\"14.00\" fill=\"#000000\">input_0</text>\n",
       "</g>\n",
       "<!-- hidden_0 -->\n",
       "<g id=\"node2\" class=\"node\">\n",
       "<title>hidden_0</title>\n",
       "<ellipse fill=\"none\" stroke=\"#000000\" cx=\"221.3035\" cy=\"-2080.7107\" rx=\"65.1077\" ry=\"65.1077\"/>\n",
       "<text text-anchor=\"middle\" x=\"221.3035\" y=\"-2092.0107\" font-family=\"Times,serif\" font-size=\"14.00\" fill=\"#000000\">hidden_0</text>\n",
       "<text text-anchor=\"middle\" x=\"221.3035\" y=\"-2077.0107\" font-family=\"Times,serif\" font-size=\"14.00\" fill=\"#000000\">bias: &#45;408.70</text>\n",
       "<text text-anchor=\"middle\" x=\"221.3035\" y=\"-2062.0107\" font-family=\"Times,serif\" font-size=\"14.00\" fill=\"#000000\">act: relu</text>\n",
       "</g>\n",
       "<!-- input_0&#45;&gt;hidden_0 -->\n",
       "<g id=\"edge1\" class=\"edge\">\n",
       "<title>input_0&#45;&gt;hidden_0</title>\n",
       "<path fill=\"none\" stroke=\"#000000\" d=\"M42.1434,-1075.9677C48.7392,-1215.9334 72.1527,-1680.825 98.5928,-1827.7107 113.2694,-1909.2448 109.2354,-1934.9279 150.5928,-2006.7107 155.0879,-2014.5126 160.5738,-2022.1251 166.4823,-2029.3176\"/>\n",
       "<polygon fill=\"#000000\" stroke=\"#000000\" points=\"163.8627,-2031.6395 173.0325,-2036.9465 169.1736,-2027.0794 163.8627,-2031.6395\"/>\n",
       "<text text-anchor=\"middle\" x=\"115.5928\" y=\"-1975.5107\" font-family=\"Times,serif\" font-size=\"14.00\" fill=\"#000000\">8.17</text>\n",
       "</g>\n",
       "<!-- hidden_1 -->\n",
       "<g id=\"node3\" class=\"node\">\n",
       "<title>hidden_1</title>\n",
       "<ellipse fill=\"none\" stroke=\"#000000\" cx=\"221.3035\" cy=\"-1926.7107\" rx=\"70.922\" ry=\"70.922\"/>\n",
       "<text text-anchor=\"middle\" x=\"221.3035\" y=\"-1938.0107\" font-family=\"Times,serif\" font-size=\"14.00\" fill=\"#000000\">hidden_1</text>\n",
       "<text text-anchor=\"middle\" x=\"221.3035\" y=\"-1923.0107\" font-family=\"Times,serif\" font-size=\"14.00\" fill=\"#000000\">bias: &#45;1637.61</text>\n",
       "<text text-anchor=\"middle\" x=\"221.3035\" y=\"-1908.0107\" font-family=\"Times,serif\" font-size=\"14.00\" fill=\"#000000\">act: relu</text>\n",
       "</g>\n",
       "<!-- input_0&#45;&gt;hidden_1 -->\n",
       "<g id=\"edge2\" class=\"edge\">\n",
       "<title>input_0&#45;&gt;hidden_1</title>\n",
       "<path fill=\"none\" stroke=\"#000000\" d=\"M41.3467,-1076.0728C44.5452,-1176.8872 56.6756,-1447.5111 98.5928,-1668.7107 114.0173,-1750.1066 110.4104,-1775.2636 150.5928,-1847.7107 154.6356,-1854.9995 159.4604,-1862.1814 164.6642,-1869.0663\"/>\n",
       "<polygon fill=\"#000000\" stroke=\"#000000\" points=\"161.9817,-1871.3169 170.923,-1877.0006 167.4776,-1866.9816 161.9817,-1871.3169\"/>\n",
       "<text text-anchor=\"middle\" x=\"115.5928\" y=\"-1812.5107\" font-family=\"Times,serif\" font-size=\"14.00\" fill=\"#000000\">32.11</text>\n",
       "</g>\n",
       "<!-- hidden_2 -->\n",
       "<g id=\"node4\" class=\"node\">\n",
       "<title>hidden_2</title>\n",
       "<ellipse fill=\"none\" stroke=\"#000000\" cx=\"221.3035\" cy=\"-1767.7107\" rx=\"70.922\" ry=\"70.922\"/>\n",
       "<text text-anchor=\"middle\" x=\"221.3035\" y=\"-1779.0107\" font-family=\"Times,serif\" font-size=\"14.00\" fill=\"#000000\">hidden_2</text>\n",
       "<text text-anchor=\"middle\" x=\"221.3035\" y=\"-1764.0107\" font-family=\"Times,serif\" font-size=\"14.00\" fill=\"#000000\">bias: &#45;2407.35</text>\n",
       "<text text-anchor=\"middle\" x=\"221.3035\" y=\"-1749.0107\" font-family=\"Times,serif\" font-size=\"14.00\" fill=\"#000000\">act: relu</text>\n",
       "</g>\n",
       "<!-- input_0&#45;&gt;hidden_2 -->\n",
       "<g id=\"edge3\" class=\"edge\">\n",
       "<title>input_0&#45;&gt;hidden_2</title>\n",
       "<path fill=\"none\" stroke=\"#000000\" d=\"M43.0055,-1076.1928C49.0238,-1158.7698 65.6495,-1352.3132 98.5928,-1511.7107 115.1876,-1592.005 110.7158,-1617.07 150.5928,-1688.7107 154.6466,-1695.9933 159.4785,-1703.1713 164.6866,-1710.0538\"/>\n",
       "<polygon fill=\"#000000\" stroke=\"#000000\" points=\"162.0054,-1712.3061 170.9491,-1717.9861 167.4996,-1707.9685 162.0054,-1712.3061\"/>\n",
       "<text text-anchor=\"middle\" x=\"115.5928\" y=\"-1653.5107\" font-family=\"Times,serif\" font-size=\"14.00\" fill=\"#000000\">46.3</text>\n",
       "</g>\n",
       "<!-- hidden_3 -->\n",
       "<g id=\"node5\" class=\"node\">\n",
       "<title>hidden_3</title>\n",
       "<ellipse fill=\"none\" stroke=\"#000000\" cx=\"221.3035\" cy=\"-1608.7107\" rx=\"70.922\" ry=\"70.922\"/>\n",
       "<text text-anchor=\"middle\" x=\"221.3035\" y=\"-1620.0107\" font-family=\"Times,serif\" font-size=\"14.00\" fill=\"#000000\">hidden_3</text>\n",
       "<text text-anchor=\"middle\" x=\"221.3035\" y=\"-1605.0107\" font-family=\"Times,serif\" font-size=\"14.00\" fill=\"#000000\">bias: &#45;2138.56</text>\n",
       "<text text-anchor=\"middle\" x=\"221.3035\" y=\"-1590.0107\" font-family=\"Times,serif\" font-size=\"14.00\" fill=\"#000000\">act: relu</text>\n",
       "</g>\n",
       "<!-- input_0&#45;&gt;hidden_3 -->\n",
       "<g id=\"edge4\" class=\"edge\">\n",
       "<title>input_0&#45;&gt;hidden_3</title>\n",
       "<path fill=\"none\" stroke=\"#000000\" d=\"M45.6638,-1075.8201C54.393,-1138.141 73.2697,-1261.7704 98.5928,-1364.7107 116.8586,-1438.9621 112.9017,-1462.1803 150.5928,-1528.7107 154.7302,-1536.0137 159.6162,-1543.2362 164.8566,-1550.1781\"/>\n",
       "<polygon fill=\"#000000\" stroke=\"#000000\" points=\"162.2178,-1552.4846 171.1476,-1558.1863 167.7224,-1548.1604 162.2178,-1552.4846\"/>\n",
       "<text text-anchor=\"middle\" x=\"115.5928\" y=\"-1496.5107\" font-family=\"Times,serif\" font-size=\"14.00\" fill=\"#000000\">40.35</text>\n",
       "</g>\n",
       "<!-- hidden_4 -->\n",
       "<g id=\"node6\" class=\"node\">\n",
       "<title>hidden_4</title>\n",
       "<ellipse fill=\"none\" stroke=\"#000000\" cx=\"221.3035\" cy=\"-1454.7107\" rx=\"65.1077\" ry=\"65.1077\"/>\n",
       "<text text-anchor=\"middle\" x=\"221.3035\" y=\"-1466.0107\" font-family=\"Times,serif\" font-size=\"14.00\" fill=\"#000000\">hidden_4</text>\n",
       "<text text-anchor=\"middle\" x=\"221.3035\" y=\"-1451.0107\" font-family=\"Times,serif\" font-size=\"14.00\" fill=\"#000000\">bias: &#45;304.22</text>\n",
       "<text text-anchor=\"middle\" x=\"221.3035\" y=\"-1436.0107\" font-family=\"Times,serif\" font-size=\"14.00\" fill=\"#000000\">act: relu</text>\n",
       "</g>\n",
       "<!-- input_0&#45;&gt;hidden_4 -->\n",
       "<g id=\"edge5\" class=\"edge\">\n",
       "<title>input_0&#45;&gt;hidden_4</title>\n",
       "<path fill=\"none\" stroke=\"#000000\" d=\"M46.976,-1075.625C59.4485,-1142.4946 90.6147,-1279.75 150.5928,-1380.7107 155.1917,-1388.4518 160.7403,-1396.0277 166.6826,-1403.2005\"/>\n",
       "<polygon fill=\"#000000\" stroke=\"#000000\" points=\"164.0734,-1405.5341 173.2588,-1410.8142 169.3709,-1400.9584 164.0734,-1405.5341\"/>\n",
       "<text text-anchor=\"middle\" x=\"115.5928\" y=\"-1349.5107\" font-family=\"Times,serif\" font-size=\"14.00\" fill=\"#000000\">5.63</text>\n",
       "</g>\n",
       "<!-- hidden_5 -->\n",
       "<g id=\"node7\" class=\"node\">\n",
       "<title>hidden_5</title>\n",
       "<ellipse fill=\"none\" stroke=\"#000000\" cx=\"221.3035\" cy=\"-1300.7107\" rx=\"70.922\" ry=\"70.922\"/>\n",
       "<text text-anchor=\"middle\" x=\"221.3035\" y=\"-1312.0107\" font-family=\"Times,serif\" font-size=\"14.00\" fill=\"#000000\">hidden_5</text>\n",
       "<text text-anchor=\"middle\" x=\"221.3035\" y=\"-1297.0107\" font-family=\"Times,serif\" font-size=\"14.00\" fill=\"#000000\">bias: &#45;1495.14</text>\n",
       "<text text-anchor=\"middle\" x=\"221.3035\" y=\"-1282.0107\" font-family=\"Times,serif\" font-size=\"14.00\" fill=\"#000000\">act: relu</text>\n",
       "</g>\n",
       "<!-- input_0&#45;&gt;hidden_5 -->\n",
       "<g id=\"edge6\" class=\"edge\">\n",
       "<title>input_0&#45;&gt;hidden_5</title>\n",
       "<path fill=\"none\" stroke=\"#000000\" d=\"M58.8746,-1071.6248C79.374,-1110.0685 114.298,-1172.2093 150.5928,-1221.7107 155.3376,-1228.1819 160.5168,-1234.7399 165.845,-1241.1677\"/>\n",
       "<polygon fill=\"#000000\" stroke=\"#000000\" points=\"163.5245,-1243.8443 172.6523,-1249.2235 168.8712,-1239.3263 163.5245,-1243.8443\"/>\n",
       "<text text-anchor=\"middle\" x=\"115.5928\" y=\"-1195.5107\" font-family=\"Times,serif\" font-size=\"14.00\" fill=\"#000000\">27.18</text>\n",
       "</g>\n",
       "<!-- hidden_6 -->\n",
       "<g id=\"node8\" class=\"node\">\n",
       "<title>hidden_6</title>\n",
       "<ellipse fill=\"none\" stroke=\"#000000\" cx=\"221.3035\" cy=\"-1141.7107\" rx=\"70.922\" ry=\"70.922\"/>\n",
       "<text text-anchor=\"middle\" x=\"221.3035\" y=\"-1153.0107\" font-family=\"Times,serif\" font-size=\"14.00\" fill=\"#000000\">hidden_6</text>\n",
       "<text text-anchor=\"middle\" x=\"221.3035\" y=\"-1138.0107\" font-family=\"Times,serif\" font-size=\"14.00\" fill=\"#000000\">bias: &#45;1528.45</text>\n",
       "<text text-anchor=\"middle\" x=\"221.3035\" y=\"-1123.0107\" font-family=\"Times,serif\" font-size=\"14.00\" fill=\"#000000\">act: relu</text>\n",
       "</g>\n",
       "<!-- input_0&#45;&gt;hidden_6 -->\n",
       "<g id=\"edge7\" class=\"edge\">\n",
       "<title>input_0&#45;&gt;hidden_6</title>\n",
       "<path fill=\"none\" stroke=\"#000000\" d=\"M75.1964,-1056.1485C96.7941,-1068.7964 125.2894,-1085.4836 151.3763,-1100.7604\"/>\n",
       "<polygon fill=\"#000000\" stroke=\"#000000\" points=\"149.7195,-1103.8462 160.1174,-1105.8793 153.2569,-1097.8057 149.7195,-1103.8462\"/>\n",
       "<text text-anchor=\"middle\" x=\"115.5928\" y=\"-1092.5107\" font-family=\"Times,serif\" font-size=\"14.00\" fill=\"#000000\">27.29</text>\n",
       "</g>\n",
       "<!-- hidden_7 -->\n",
       "<g id=\"node9\" class=\"node\">\n",
       "<title>hidden_7</title>\n",
       "<ellipse fill=\"none\" stroke=\"#000000\" cx=\"221.3035\" cy=\"-987.7107\" rx=\"65.1077\" ry=\"65.1077\"/>\n",
       "<text text-anchor=\"middle\" x=\"221.3035\" y=\"-999.0107\" font-family=\"Times,serif\" font-size=\"14.00\" fill=\"#000000\">hidden_7</text>\n",
       "<text text-anchor=\"middle\" x=\"221.3035\" y=\"-984.0107\" font-family=\"Times,serif\" font-size=\"14.00\" fill=\"#000000\">bias: &#45;706.56</text>\n",
       "<text text-anchor=\"middle\" x=\"221.3035\" y=\"-969.0107\" font-family=\"Times,serif\" font-size=\"14.00\" fill=\"#000000\">act: relu</text>\n",
       "</g>\n",
       "<!-- input_0&#45;&gt;hidden_7 -->\n",
       "<g id=\"edge8\" class=\"edge\">\n",
       "<title>input_0&#45;&gt;hidden_7</title>\n",
       "<path fill=\"none\" stroke=\"#000000\" d=\"M79.5723,-1025.2954C99.6786,-1019.9635 124.8146,-1013.2979 148.313,-1007.0665\"/>\n",
       "<polygon fill=\"#000000\" stroke=\"#000000\" points=\"149.4953,-1010.3741 158.264,-1004.4277 147.7009,-1003.6079 149.4953,-1010.3741\"/>\n",
       "<text text-anchor=\"middle\" x=\"115.5928\" y=\"-1023.5107\" font-family=\"Times,serif\" font-size=\"14.00\" fill=\"#000000\">12.4</text>\n",
       "</g>\n",
       "<!-- hidden_8 -->\n",
       "<g id=\"node10\" class=\"node\">\n",
       "<title>hidden_8</title>\n",
       "<ellipse fill=\"none\" stroke=\"#000000\" cx=\"221.3035\" cy=\"-833.7107\" rx=\"70.922\" ry=\"70.922\"/>\n",
       "<text text-anchor=\"middle\" x=\"221.3035\" y=\"-845.0107\" font-family=\"Times,serif\" font-size=\"14.00\" fill=\"#000000\">hidden_8</text>\n",
       "<text text-anchor=\"middle\" x=\"221.3035\" y=\"-830.0107\" font-family=\"Times,serif\" font-size=\"14.00\" fill=\"#000000\">bias: &#45;1713.67</text>\n",
       "<text text-anchor=\"middle\" x=\"221.3035\" y=\"-815.0107\" font-family=\"Times,serif\" font-size=\"14.00\" fill=\"#000000\">act: relu</text>\n",
       "</g>\n",
       "<!-- input_0&#45;&gt;hidden_8 -->\n",
       "<g id=\"edge9\" class=\"edge\">\n",
       "<title>input_0&#45;&gt;hidden_8</title>\n",
       "<path fill=\"none\" stroke=\"#000000\" d=\"M67.395,-1005.4692C93.636,-976.1848 134.1684,-930.9516 167.0517,-894.2545\"/>\n",
       "<polygon fill=\"#000000\" stroke=\"#000000\" points=\"169.8777,-896.3454 173.9446,-886.5622 164.6645,-891.6739 169.8777,-896.3454\"/>\n",
       "<text text-anchor=\"middle\" x=\"115.5928\" y=\"-973.5107\" font-family=\"Times,serif\" font-size=\"14.00\" fill=\"#000000\">29.55</text>\n",
       "</g>\n",
       "<!-- hidden_9 -->\n",
       "<g id=\"node11\" class=\"node\">\n",
       "<title>hidden_9</title>\n",
       "<ellipse fill=\"none\" stroke=\"#000000\" cx=\"221.3035\" cy=\"-679.7107\" rx=\"65.1077\" ry=\"65.1077\"/>\n",
       "<text text-anchor=\"middle\" x=\"221.3035\" y=\"-691.0107\" font-family=\"Times,serif\" font-size=\"14.00\" fill=\"#000000\">hidden_9</text>\n",
       "<text text-anchor=\"middle\" x=\"221.3035\" y=\"-676.0107\" font-family=\"Times,serif\" font-size=\"14.00\" fill=\"#000000\">bias: &#45;693.48</text>\n",
       "<text text-anchor=\"middle\" x=\"221.3035\" y=\"-661.0107\" font-family=\"Times,serif\" font-size=\"14.00\" fill=\"#000000\">act: relu</text>\n",
       "</g>\n",
       "<!-- input_0&#45;&gt;hidden_9 -->\n",
       "<g id=\"edge10\" class=\"edge\">\n",
       "<title>input_0&#45;&gt;hidden_9</title>\n",
       "<path fill=\"none\" stroke=\"#000000\" d=\"M50.3641,-996.5279C66.04,-939.9024 99.8504,-833.2692 150.5928,-753.7107 155.263,-746.3884 160.7273,-739.1647 166.5123,-732.2689\"/>\n",
       "<polygon fill=\"#000000\" stroke=\"#000000\" points=\"169.4919,-734.1771 173.4223,-724.3382 164.2142,-729.5786 169.4919,-734.1771\"/>\n",
       "<text text-anchor=\"middle\" x=\"115.5928\" y=\"-852.5107\" font-family=\"Times,serif\" font-size=\"14.00\" fill=\"#000000\">11.75</text>\n",
       "</g>\n",
       "<!-- hidden_10 -->\n",
       "<g id=\"node12\" class=\"node\">\n",
       "<title>hidden_10</title>\n",
       "<ellipse fill=\"none\" stroke=\"#000000\" cx=\"221.3035\" cy=\"-531.7107\" rx=\"65.1077\" ry=\"65.1077\"/>\n",
       "<text text-anchor=\"middle\" x=\"221.3035\" y=\"-543.0107\" font-family=\"Times,serif\" font-size=\"14.00\" fill=\"#000000\">hidden_10</text>\n",
       "<text text-anchor=\"middle\" x=\"221.3035\" y=\"-528.0107\" font-family=\"Times,serif\" font-size=\"14.00\" fill=\"#000000\">bias: &#45;847.44</text>\n",
       "<text text-anchor=\"middle\" x=\"221.3035\" y=\"-513.0107\" font-family=\"Times,serif\" font-size=\"14.00\" fill=\"#000000\">act: relu</text>\n",
       "</g>\n",
       "<!-- input_0&#45;&gt;hidden_10 -->\n",
       "<g id=\"edge11\" class=\"edge\">\n",
       "<title>input_0&#45;&gt;hidden_10</title>\n",
       "<path fill=\"none\" stroke=\"#000000\" d=\"M43.133,-995.2062C50.2754,-915.4235 74.284,-734.5101 150.5928,-605.7107 155.1824,-597.9641 160.7255,-590.3849 166.6648,-583.2103\"/>\n",
       "<polygon fill=\"#000000\" stroke=\"#000000\" points=\"169.3534,-585.452 173.2387,-575.5953 164.0546,-580.8777 169.3534,-585.452\"/>\n",
       "<text text-anchor=\"middle\" x=\"115.5928\" y=\"-718.5107\" font-family=\"Times,serif\" font-size=\"14.00\" fill=\"#000000\">14.12</text>\n",
       "</g>\n",
       "<!-- hidden_11 -->\n",
       "<g id=\"node13\" class=\"node\">\n",
       "<title>hidden_11</title>\n",
       "<ellipse fill=\"none\" stroke=\"#000000\" cx=\"221.3035\" cy=\"-383.7107\" rx=\"65.1077\" ry=\"65.1077\"/>\n",
       "<text text-anchor=\"middle\" x=\"221.3035\" y=\"-395.0107\" font-family=\"Times,serif\" font-size=\"14.00\" fill=\"#000000\">hidden_11</text>\n",
       "<text text-anchor=\"middle\" x=\"221.3035\" y=\"-380.0107\" font-family=\"Times,serif\" font-size=\"14.00\" fill=\"#000000\">bias: &#45;149.96</text>\n",
       "<text text-anchor=\"middle\" x=\"221.3035\" y=\"-365.0107\" font-family=\"Times,serif\" font-size=\"14.00\" fill=\"#000000\">act: relu</text>\n",
       "</g>\n",
       "<!-- input_0&#45;&gt;hidden_11 -->\n",
       "<g id=\"edge12\" class=\"edge\">\n",
       "<title>input_0&#45;&gt;hidden_11</title>\n",
       "<path fill=\"none\" stroke=\"#000000\" d=\"M44.4572,-995.4009C56.9206,-879.9348 96.4646,-550.3178 150.5928,-457.7107 155.1365,-449.937 160.6518,-442.3415 166.5761,-435.1582\"/>\n",
       "<polygon fill=\"#000000\" stroke=\"#000000\" points=\"169.2661,-437.3981 173.1385,-427.5363 163.9614,-432.8308 169.2661,-437.3981\"/>\n",
       "<text text-anchor=\"middle\" x=\"115.5928\" y=\"-620.5107\" font-family=\"Times,serif\" font-size=\"14.00\" fill=\"#000000\">2.46</text>\n",
       "</g>\n",
       "<!-- hidden_12 -->\n",
       "<g id=\"node14\" class=\"node\">\n",
       "<title>hidden_12</title>\n",
       "<ellipse fill=\"none\" stroke=\"#000000\" cx=\"221.3035\" cy=\"-229.7107\" rx=\"70.922\" ry=\"70.922\"/>\n",
       "<text text-anchor=\"middle\" x=\"221.3035\" y=\"-241.0107\" font-family=\"Times,serif\" font-size=\"14.00\" fill=\"#000000\">hidden_12</text>\n",
       "<text text-anchor=\"middle\" x=\"221.3035\" y=\"-226.0107\" font-family=\"Times,serif\" font-size=\"14.00\" fill=\"#000000\">bias: &#45;1856.99</text>\n",
       "<text text-anchor=\"middle\" x=\"221.3035\" y=\"-211.0107\" font-family=\"Times,serif\" font-size=\"14.00\" fill=\"#000000\">act: relu</text>\n",
       "</g>\n",
       "<!-- input_0&#45;&gt;hidden_12 -->\n",
       "<g id=\"edge13\" class=\"edge\">\n",
       "<title>input_0&#45;&gt;hidden_12</title>\n",
       "<path fill=\"none\" stroke=\"#000000\" d=\"M41.9335,-995.3421C46.2296,-903.3732 60.2664,-671.5454 98.5928,-481.7107 114.3975,-403.4286 111.6959,-379.4595 150.5928,-309.7107 154.681,-302.3799 159.5352,-295.1396 164.7566,-288.1871\"/>\n",
       "<polygon fill=\"#000000\" stroke=\"#000000\" points=\"167.6243,-290.2017 171.0308,-280.1694 162.1116,-285.8877 167.6243,-290.2017\"/>\n",
       "<text text-anchor=\"middle\" x=\"115.5928\" y=\"-485.5107\" font-family=\"Times,serif\" font-size=\"14.00\" fill=\"#000000\">29.95</text>\n",
       "</g>\n",
       "<!-- hidden_13 -->\n",
       "<g id=\"node15\" class=\"node\">\n",
       "<title>hidden_13</title>\n",
       "<ellipse fill=\"none\" stroke=\"#000000\" cx=\"221.3035\" cy=\"-70.7107\" rx=\"70.922\" ry=\"70.922\"/>\n",
       "<text text-anchor=\"middle\" x=\"221.3035\" y=\"-82.0107\" font-family=\"Times,serif\" font-size=\"14.00\" fill=\"#000000\">hidden_13</text>\n",
       "<text text-anchor=\"middle\" x=\"221.3035\" y=\"-67.0107\" font-family=\"Times,serif\" font-size=\"14.00\" fill=\"#000000\">bias: &#45;2271.64</text>\n",
       "<text text-anchor=\"middle\" x=\"221.3035\" y=\"-52.0107\" font-family=\"Times,serif\" font-size=\"14.00\" fill=\"#000000\">act: relu</text>\n",
       "</g>\n",
       "<!-- input_0&#45;&gt;hidden_13 -->\n",
       "<g id=\"edge14\" class=\"edge\">\n",
       "<title>input_0&#45;&gt;hidden_13</title>\n",
       "<path fill=\"none\" stroke=\"#000000\" d=\"M40.7746,-995.4148C42.6738,-886.7142 52.0859,-578.7375 98.5928,-327.7107 113.6067,-246.6719 110.5631,-221.7545 150.5928,-149.7107 154.641,-142.4249 159.4694,-135.245 164.6754,-128.3613\"/>\n",
       "<polygon fill=\"#000000\" stroke=\"#000000\" points=\"167.4886,-130.4463 170.936,-120.428 161.9935,-126.1098 167.4886,-130.4463\"/>\n",
       "<text text-anchor=\"middle\" x=\"115.5928\" y=\"-331.5107\" font-family=\"Times,serif\" font-size=\"14.00\" fill=\"#000000\">36.06</text>\n",
       "</g>\n",
       "<!-- output_0 -->\n",
       "<g id=\"node16\" class=\"node\">\n",
       "<title>output_0</title>\n",
       "<ellipse fill=\"none\" stroke=\"#000000\" cx=\"414.2396\" cy=\"-1035.7107\" rx=\"62.4516\" ry=\"62.4516\"/>\n",
       "<text text-anchor=\"middle\" x=\"414.2396\" y=\"-1039.5107\" font-family=\"Times,serif\" font-size=\"14.00\" fill=\"#000000\">output_0</text>\n",
       "<text text-anchor=\"middle\" x=\"414.2396\" y=\"-1024.5107\" font-family=\"Times,serif\" font-size=\"14.00\" fill=\"#000000\">bias: 233.82</text>\n",
       "</g>\n",
       "<!-- hidden_0&#45;&gt;output_0 -->\n",
       "<g id=\"edge15\" class=\"edge\">\n",
       "<title>hidden_0&#45;&gt;output_0</title>\n",
       "<path fill=\"none\" stroke=\"#000000\" d=\"M270.0538,-2037.2138C278.3725,-2027.8512 286.1927,-2017.5015 292.0142,-2006.7107 331.4295,-1933.6498 320.4554,-1906.6107 334.0142,-1824.7107 377.3989,-1562.652 400.9553,-1247.4835 409.9298,-1108.0798\"/>\n",
       "<polygon fill=\"#000000\" stroke=\"#000000\" points=\"413.4323,-1108.1505 410.5763,-1097.9479 406.4465,-1107.7047 413.4323,-1108.1505\"/>\n",
       "<text text-anchor=\"middle\" x=\"322.0142\" y=\"-1970.5107\" font-family=\"Times,serif\" font-size=\"14.00\" fill=\"#000000\">&#45;1.0</text>\n",
       "</g>\n",
       "<!-- hidden_1&#45;&gt;output_0 -->\n",
       "<g id=\"edge16\" class=\"edge\">\n",
       "<title>hidden_1&#45;&gt;output_0</title>\n",
       "<path fill=\"none\" stroke=\"#000000\" d=\"M272.2622,-1877.3089C279.7622,-1868.0583 286.7286,-1858.0324 292.0142,-1847.7107 331.6308,-1770.3473 319.0984,-1742.3383 334.0142,-1656.7107 368.421,-1459.1901 394.8916,-1223.9511 407.0027,-1107.8626\"/>\n",
       "<polygon fill=\"#000000\" stroke=\"#000000\" points=\"410.5083,-1107.9896 408.0599,-1097.6815 403.5457,-1107.2665 410.5083,-1107.9896\"/>\n",
       "<text text-anchor=\"middle\" x=\"322.0142\" y=\"-1809.5107\" font-family=\"Times,serif\" font-size=\"14.00\" fill=\"#000000\">1.0</text>\n",
       "</g>\n",
       "<!-- hidden_2&#45;&gt;output_0 -->\n",
       "<g id=\"edge17\" class=\"edge\">\n",
       "<title>hidden_2&#45;&gt;output_0</title>\n",
       "<path fill=\"none\" stroke=\"#000000\" d=\"M272.1281,-1718.2395C279.6436,-1708.997 286.65,-1698.9917 292.0142,-1688.7107 344.5394,-1588.0408 388.5717,-1255.9314 406.1029,-1107.9541\"/>\n",
       "<polygon fill=\"#000000\" stroke=\"#000000\" points=\"409.6258,-1107.9643 407.3191,-1097.6237 402.6738,-1107.1458 409.6258,-1107.9643\"/>\n",
       "<text text-anchor=\"middle\" x=\"322.0142\" y=\"-1641.5107\" font-family=\"Times,serif\" font-size=\"14.00\" fill=\"#000000\">&#45;1.0</text>\n",
       "</g>\n",
       "<!-- hidden_3&#45;&gt;output_0 -->\n",
       "<g id=\"edge18\" class=\"edge\">\n",
       "<title>hidden_3&#45;&gt;output_0</title>\n",
       "<path fill=\"none\" stroke=\"#000000\" d=\"M271.5921,-1558.9002C279.2628,-1549.4347 286.4595,-1539.1933 292.0142,-1528.7107 365.1627,-1390.6664 395.6043,-1207.574 407.4162,-1107.8994\"/>\n",
       "<polygon fill=\"#000000\" stroke=\"#000000\" points=\"410.8971,-1108.2659 408.5683,-1097.9302 403.9434,-1107.4623 410.8971,-1108.2659\"/>\n",
       "<text text-anchor=\"middle\" x=\"322.0142\" y=\"-1495.5107\" font-family=\"Times,serif\" font-size=\"14.00\" fill=\"#000000\">1.0</text>\n",
       "</g>\n",
       "<!-- hidden_4&#45;&gt;output_0 -->\n",
       "<g id=\"edge19\" class=\"edge\">\n",
       "<title>hidden_4&#45;&gt;output_0</title>\n",
       "<path fill=\"none\" stroke=\"#000000\" d=\"M269.4527,-1410.251C277.725,-1401.0472 285.6822,-1391.002 292.0142,-1380.7107 345.6816,-1293.4857 380.2192,-1179.346 398.4426,-1106.7531\"/>\n",
       "<polygon fill=\"#000000\" stroke=\"#000000\" points=\"401.9027,-1107.3406 400.9061,-1096.7928 395.1075,-1105.6599 401.9027,-1107.3406\"/>\n",
       "<text text-anchor=\"middle\" x=\"322.0142\" y=\"-1349.5107\" font-family=\"Times,serif\" font-size=\"14.00\" fill=\"#000000\">&#45;1.0</text>\n",
       "</g>\n",
       "<!-- hidden_5&#45;&gt;output_0 -->\n",
       "<g id=\"edge20\" class=\"edge\">\n",
       "<title>hidden_5&#45;&gt;output_0</title>\n",
       "<path fill=\"none\" stroke=\"#000000\" d=\"M269.5923,-1248.9512C277.3203,-1240.0539 285.0557,-1230.7561 292.0142,-1221.7107 322.5502,-1182.0165 353.4958,-1134.8389 376.6091,-1097.9301\"/>\n",
       "<polygon fill=\"#000000\" stroke=\"#000000\" points=\"379.6935,-1099.5983 382.0128,-1089.2604 373.7529,-1095.8956 379.6935,-1099.5983\"/>\n",
       "<text text-anchor=\"middle\" x=\"322.0142\" y=\"-1200.5107\" font-family=\"Times,serif\" font-size=\"14.00\" fill=\"#000000\">&#45;1.0</text>\n",
       "</g>\n",
       "<!-- hidden_6&#45;&gt;output_0 -->\n",
       "<g id=\"edge21\" class=\"edge\">\n",
       "<title>hidden_6&#45;&gt;output_0</title>\n",
       "<path fill=\"none\" stroke=\"#000000\" d=\"M283.4117,-1107.5881C304.9056,-1095.7793 329.0173,-1082.5322 350.63,-1070.6581\"/>\n",
       "<polygon fill=\"#000000\" stroke=\"#000000\" points=\"352.3285,-1073.7184 359.4075,-1065.8357 348.9578,-1067.5834 352.3285,-1073.7184\"/>\n",
       "<text text-anchor=\"middle\" x=\"322.0142\" y=\"-1095.5107\" font-family=\"Times,serif\" font-size=\"14.00\" fill=\"#000000\">1.0</text>\n",
       "</g>\n",
       "<!-- hidden_7&#45;&gt;output_0 -->\n",
       "<g id=\"edge22\" class=\"edge\">\n",
       "<title>hidden_7&#45;&gt;output_0</title>\n",
       "<path fill=\"none\" stroke=\"#000000\" d=\"M284.478,-1003.4277C303.3824,-1008.1308 324.231,-1013.3177 343.5836,-1018.1324\"/>\n",
       "<polygon fill=\"#000000\" stroke=\"#000000\" points=\"343,-1021.5938 353.5492,-1020.6117 344.69,-1014.8009 343,-1021.5938\"/>\n",
       "<text text-anchor=\"middle\" x=\"322.0142\" y=\"-1017.5107\" font-family=\"Times,serif\" font-size=\"14.00\" fill=\"#000000\">1.0</text>\n",
       "</g>\n",
       "<!-- hidden_8&#45;&gt;output_0 -->\n",
       "<g id=\"edge23\" class=\"edge\">\n",
       "<title>hidden_8&#45;&gt;output_0</title>\n",
       "<path fill=\"none\" stroke=\"#000000\" d=\"M270.2389,-884.9449C298.8499,-914.9001 334.8978,-952.6415 363.769,-982.8691\"/>\n",
       "<polygon fill=\"#000000\" stroke=\"#000000\" points=\"361.5077,-985.5688 370.9457,-990.3829 366.5697,-980.7339 361.5077,-985.5688\"/>\n",
       "<text text-anchor=\"middle\" x=\"322.0142\" y=\"-950.5107\" font-family=\"Times,serif\" font-size=\"14.00\" fill=\"#000000\">&#45;1.0</text>\n",
       "</g>\n",
       "<!-- hidden_9&#45;&gt;output_0 -->\n",
       "<g id=\"edge24\" class=\"edge\">\n",
       "<title>hidden_9&#45;&gt;output_0</title>\n",
       "<path fill=\"none\" stroke=\"#000000\" d=\"M268.8885,-724.5309C277.2128,-733.7015 285.3335,-743.6422 292.0142,-753.7107 336.6578,-820.9927 371.2301,-907.2677 392.0384,-966.5719\"/>\n",
       "<polygon fill=\"#000000\" stroke=\"#000000\" points=\"388.8005,-967.9174 395.385,-976.2177 395.4137,-965.6229 388.8005,-967.9174\"/>\n",
       "<text text-anchor=\"middle\" x=\"322.0142\" y=\"-830.5107\" font-family=\"Times,serif\" font-size=\"14.00\" fill=\"#000000\">1.0</text>\n",
       "</g>\n",
       "<!-- hidden_10&#45;&gt;output_0 -->\n",
       "<g id=\"edge25\" class=\"edge\">\n",
       "<title>hidden_10&#45;&gt;output_0</title>\n",
       "<path fill=\"none\" stroke=\"#000000\" d=\"M269.6237,-575.4466C277.9799,-584.7883 285.924,-595.0692 292.0142,-605.7107 358.0865,-721.1602 390.4734,-874.7652 404.6639,-963.6853\"/>\n",
       "<polygon fill=\"#000000\" stroke=\"#000000\" points=\"401.2224,-964.3322 406.2244,-973.672 408.1385,-963.2515 401.2224,-964.3322\"/>\n",
       "<text text-anchor=\"middle\" x=\"322.0142\" y=\"-696.5107\" font-family=\"Times,serif\" font-size=\"14.00\" fill=\"#000000\">&#45;1.0</text>\n",
       "</g>\n",
       "<!-- hidden_11&#45;&gt;output_0 -->\n",
       "<g id=\"edge26\" class=\"edge\">\n",
       "<title>hidden_11&#45;&gt;output_0</title>\n",
       "<path fill=\"none\" stroke=\"#000000\" d=\"M269.9327,-427.2734C278.2619,-436.6302 286.1171,-446.961 292.0142,-457.7107 339.612,-544.4748 384.9016,-828.8609 404.317,-963.6337\"/>\n",
       "<polygon fill=\"#000000\" stroke=\"#000000\" points=\"400.8987,-964.4537 405.7814,-973.8563 407.828,-963.461 400.8987,-964.4537\"/>\n",
       "<text text-anchor=\"middle\" x=\"322.0142\" y=\"-578.5107\" font-family=\"Times,serif\" font-size=\"14.00\" fill=\"#000000\">1.0</text>\n",
       "</g>\n",
       "<!-- hidden_12&#45;&gt;output_0 -->\n",
       "<g id=\"edge27\" class=\"edge\">\n",
       "<title>hidden_12&#45;&gt;output_0</title>\n",
       "<path fill=\"none\" stroke=\"#000000\" d=\"M271.7033,-279.4627C279.3615,-288.9347 286.5254,-299.1934 292.0142,-309.7107 351.1819,-423.0833 392.5307,-802.804 407.766,-963.2115\"/>\n",
       "<polygon fill=\"#000000\" stroke=\"#000000\" points=\"404.3085,-963.8276 408.7316,-973.455 411.2776,-963.1706 404.3085,-963.8276\"/>\n",
       "<text text-anchor=\"middle\" x=\"322.0142\" y=\"-444.5107\" font-family=\"Times,serif\" font-size=\"14.00\" fill=\"#000000\">1.0</text>\n",
       "</g>\n",
       "<!-- hidden_13&#45;&gt;output_0 -->\n",
       "<g id=\"edge28\" class=\"edge\">\n",
       "<title>hidden_13&#45;&gt;output_0</title>\n",
       "<path fill=\"none\" stroke=\"#000000\" d=\"M272.3094,-120.0884C279.8039,-129.3418 286.7563,-139.3749 292.0142,-149.7107 332.4081,-229.1155 319.5199,-257.809 334.0142,-345.7107 370.9422,-569.664 396.9343,-837.2696 408.1106,-963.2937\"/>\n",
       "<polygon fill=\"#000000\" stroke=\"#000000\" points=\"404.6529,-963.9286 409.0179,-973.5825 411.6258,-963.3136 404.6529,-963.9286\"/>\n",
       "<text text-anchor=\"middle\" x=\"322.0142\" y=\"-349.5107\" font-family=\"Times,serif\" font-size=\"14.00\" fill=\"#000000\">&#45;1.0</text>\n",
       "</g>\n",
       "</g>\n",
       "</svg>\n"
      ],
      "text/plain": [
       "<graphviz.dot.Digraph at 0x7fc3584d8160>"
      ]
     },
     "execution_count": 6,
     "metadata": {},
     "output_type": "execute_result"
    }
   ],
   "source": [
    "draw_nn_graph(model_overfit)"
   ]
  },
  {
   "cell_type": "markdown",
   "metadata": {
    "deletable": false,
    "editable": false,
    "run_control": {
     "frozen": true
    }
   },
   "source": [
    "When we use this overfit model to predict the `y` values on which it was trained, it appears to have more predictive power than our original linear model. The predicted values from the overfit model (the green points) perfectly overlap the blue points from the actual dataset:"
   ]
  },
  {
   "cell_type": "code",
   "execution_count": 26,
   "metadata": {
    "scrolled": true
   },
   "outputs": [
    {
     "data": {
      "image/png": "[encoded data removed]",
      "text/plain": [
       "<Figure size 1152x720 with 1 Axes>"
      ]
     },
     "metadata": {
      "needs_background": "light"
     },
     "output_type": "display_data"
    }
   ],
   "source": [
    "# model appears better\n",
    "plt.figure(figsize=(16,10))\n",
    "y_pred_train_overfit = model_overfit.predict(x_train)\n",
    "plt.scatter(x_train, y_train, marker=\"*\", alpha=1.0, s=150)\n",
    "plt.scatter(x_train, y_pred_train, c=\"r\", alpha=0.5)\n",
    "plt.scatter(x_train, y_pred_train_overfit, c=\"g\", alpha=0.67, s=100, marker=\"v\")\n",
    "plt.show()"
   ]
  },
  {
   "cell_type": "markdown",
   "metadata": {
    "deletable": false,
    "editable": false,
    "run_control": {
     "frozen": true
    }
   },
   "source": [
    "Does this mean that the overfit model is better? Absolutely not - as we can see below, the overfit model has learned the oscillatory pattern of the noise in our dataset rather than the underlying linear trend:"
   ]
  },
  {
   "cell_type": "code",
   "execution_count": 27,
   "metadata": {
    "scrolled": true
   },
   "outputs": [
    {
     "data": {
      "image/png": "[encoded data removed]",
      "text/plain": [
       "<Figure size 432x288 with 1 Axes>"
      ]
     },
     "metadata": {
      "needs_background": "light"
     },
     "output_type": "display_data"
    }
   ],
   "source": [
    "# but this is all a lie - as we can see, the model has fit itself to the noise\n",
    "x_spacing = x_train[1] - x_train[0]\n",
    "x_fine_grain = np.arange(x_train[0], x_train[-1], x_spacing/10)\n",
    "y_pred_overfit_fine_grain = model_overfit.predict(x_fine_grain)\n",
    "plt.plot(x_fine_grain, y_pred_overfit_fine_grain, c=\"g\")\n",
    "plt.scatter(x_train, y_train)\n",
    "plt.show()"
   ]
  },
  {
   "cell_type": "markdown",
   "metadata": {
    "deletable": false,
    "editable": false,
    "run_control": {
     "frozen": true
    }
   },
   "source": [
    "We can see the downfall of this approach when we extrapolate further in the future. Let's load some additional data points, which we'll call the \"test\" dataset, to demonstrate how our overfit model fails to generalize to new data:"
   ]
  },
  {
   "cell_type": "code",
   "execution_count": 28,
   "metadata": {
    "scrolled": true
   },
   "outputs": [
    {
     "data": {
      "image/png": "[encoded data removed]",
      "text/plain": [
       "<Figure size 432x288 with 1 Axes>"
      ]
     },
     "metadata": {
      "needs_background": "light"
     },
     "output_type": "display_data"
    }
   ],
   "source": [
    "x_test = np.loadtxt(\"data/overfit_example_x_test.csv\", delimiter=\",\")\n",
    "y_test = np.loadtxt(\"data/overfit_example_y_test.csv\", delimiter=\",\") \n",
    "plt.scatter(x_train, y_train)\n",
    "plt.scatter(x_test, y_test, c=\"orange\")\n",
    "plt.show()"
   ]
  },
  {
   "cell_type": "markdown",
   "metadata": {
    "deletable": false,
    "editable": false,
    "run_control": {
     "frozen": true
    }
   },
   "source": [
    "Our simple model performs well on the test set, as it has captured the underlying linear trend:"
   ]
  },
  {
   "cell_type": "code",
   "execution_count": 29,
   "metadata": {},
   "outputs": [
    {
     "data": {
      "image/png": "[encoded data removed]",
      "text/plain": [
       "<Figure size 432x288 with 1 Axes>"
      ]
     },
     "metadata": {
      "needs_background": "light"
     },
     "output_type": "display_data"
    }
   ],
   "source": [
    "# raw data\n",
    "plt.scatter(x_train, y_train)\n",
    "plt.scatter(x_test, y_test, c=\"orange\")\n",
    "\n",
    "# predictions - plot the full range, both train and test\n",
    "x = np.concatenate((x_train, x_test))\n",
    "y_pred = model.predict(x)\n",
    "plt.plot(x, y_pred, c=\"r\")\n",
    "plt.show()"
   ]
  },
  {
   "cell_type": "markdown",
   "metadata": {
    "deletable": false,
    "editable": false,
    "run_control": {
     "frozen": true
    }
   },
   "source": [
    "Our overfit model, by contrast, performs horribly on the test dataset:"
   ]
  },
  {
   "cell_type": "code",
   "execution_count": 30,
   "metadata": {
    "scrolled": false
   },
   "outputs": [
    {
     "data": {
      "image/png": "[encoded data removed]",
      "text/plain": [
       "<Figure size 432x288 with 1 Axes>"
      ]
     },
     "metadata": {
      "needs_background": "light"
     },
     "output_type": "display_data"
    }
   ],
   "source": [
    "y_pred_overfit_test = model.predict(x_test)\n",
    "# raw data\n",
    "plt.scatter(x_train, y_train)\n",
    "plt.scatter(x_test, y_test, c=\"orange\")\n",
    "\n",
    "# predictions\n",
    "y_pred_overfit = model_overfit.predict(x)\n",
    "plt.plot(x, y_pred_overfit, c=\"r\")\n",
    "plt.show()"
   ]
  },
  {
   "cell_type": "markdown",
   "metadata": {
    "deletable": false,
    "editable": false,
    "run_control": {
     "frozen": true
    }
   },
   "source": [
    "## Train/Test Splits\n",
    "\n",
    "Because overfitting has such dramatic negative consequences for neural network models, you will often see the evaluation process above repeated for many different types of problems. The dataset that you are using to train your model will be split into two pieces - a *training set* and a (usually smaller) *test set*. The model will be trained using only the data in the training set, and then its accuracy will be evaluated against the test set. This allows us to perform a \"fair\" comparison of different models that punishes overly complex models that overfit the training data. "
   ]
  },
  {
   "cell_type": "markdown",
   "metadata": {
    "deletable": false,
    "editable": false,
    "run_control": {
     "frozen": true
    }
   },
   "source": [
    "In the subsequent lessons, you should observe that we take this approach, and always work with two different data subsets: `(X_train, y_train)` and `(X_test, y_test)`, due to the concerns discussed in this lesson. "
   ]
  },
  {
   "cell_type": "markdown",
   "metadata": {
    "deletable": false,
    "editable": false,
    "run_control": {
     "frozen": true
    }
   },
   "source": [
    "A common way to split a dataset into train and test subsets is to use the `train_test_split` function from `sklearn`:"
   ]
  },
  {
   "cell_type": "code",
   "execution_count": 31,
   "metadata": {},
   "outputs": [],
   "source": [
    "from sklearn.model_selection import train_test_split"
   ]
  },
  {
   "cell_type": "markdown",
   "metadata": {
    "deletable": false,
    "editable": false,
    "run_control": {
     "frozen": true
    }
   },
   "source": [
    "We can pass this function a `test_size`  argument indicating how many values to extract into the test set - typically, this is set to around `0.2` or `0.25`; we can see how this works using the demonstration below:"
   ]
  },
  {
   "cell_type": "code",
   "execution_count": 32,
   "metadata": {},
   "outputs": [],
   "source": [
    "x_demo = np.arange(0,100)\n",
    "y_demo = 2* x_demo + 5\n",
    "x_demo_train, x_demo_test, y_demo_train, y_demo_test = train_test_split(\n",
    "    x_demo, \n",
    "    y_demo, \n",
    "    test_size=0.2,\n",
    "    random_state=1337\n",
    ")"
   ]
  },
  {
   "cell_type": "markdown",
   "metadata": {
    "deletable": false,
    "editable": false,
    "run_control": {
     "frozen": true
    }
   },
   "source": [
    "Note that the test set size is the specified fraction of the full set size:"
   ]
  },
  {
   "cell_type": "code",
   "execution_count": 33,
   "metadata": {},
   "outputs": [
    {
     "name": "stdout",
     "output_type": "stream",
     "text": [
      "full size: 100\n",
      "test size: 20\n"
     ]
    }
   ],
   "source": [
    "print(\"full size:\", len(x_demo))\n",
    "print(\"test size:\", len(x_demo_test))"
   ]
  },
  {
   "cell_type": "markdown",
   "metadata": {
    "deletable": false,
    "editable": false,
    "run_control": {
     "frozen": true
    }
   },
   "source": [
    "We also set the `random_state` argument to seed the random number generator so that we get the same (randomly chosen) result every tiem."
   ]
  },
  {
   "cell_type": "markdown",
   "metadata": {
    "deletable": false,
    "editable": false,
    "run_control": {
     "frozen": true
    }
   },
   "source": [
    "<span style=\"color:blue;font-weight:bold\">Exercise</span>: Let's practice training a model on the training set and then evaluating it on the test set. Perform the following tasks:\n",
    "\n",
    "* Create a model named `my_model` containing a single layer with one neuron. Use the following argument in the creation of this neuron to help the training process along:\n",
    "\n",
    "```\n",
    "kernel_initializer=keras.initializers.constant(2)\n",
    "```\n",
    "\n",
    "* Compile your model for training using a `loss` value of `mean_squared_error` and an optimizer created as follows: `keras.optimizers.Adam(lr=0.01)`\n",
    "* `fit` your model for `50` epochs on the datsets `x_demo_train` and `y_demo_train`\n",
    "* Create a variable `y_pred_my_model` and assign it the value produced by calling `my_model.predict` on the argument `x_demo_test`\n",
    "* Make a scatter plot of `x_demo_test` vs. `y_demo_test`\n",
    "* Overlay a line plot of your predictions `y_pred_my_model` \n",
    "\n",
    "Be careful not to delete the `remove_randomness` call at the top of the cell."
   ]
  },
  {
   "cell_type": "code",
   "execution_count": 40,
   "metadata": {
    "tags": [
     "exercise"
    ]
   },
   "outputs": [
    {
     "data": {
      "text/plain": [
       "[<matplotlib.lines.Line2D at 0x7fc343353c50>]"
      ]
     },
     "execution_count": 40,
     "metadata": {},
     "output_type": "execute_result"
    },
    {
     "data": {
      "image/png": "[encoded data removed]",
      "text/plain": [
       "<Figure size 432x288 with 1 Axes>"
      ]
     },
     "metadata": {
      "needs_background": "light"
     },
     "output_type": "display_data"
    }
   ],
   "source": [
    "remove_randomness()\n",
    "\n",
    "my_model = tf.keras.Sequential([\n",
    "    tf.keras.layers.Dense(units=1,\n",
    "                          kernel_initializer=keras.initializers.constant(2))\n",
    "])\n",
    "\n",
    "my_model.compile(optimizer=keras.optimizers.Adam(lr=0.01), loss=\"mean_squared_error\")\n",
    "history = my_model.fit(x_demo_train, y_demo_train, epochs=50, verbose=0)\n",
    "\n",
    "y_pred_my_model = my_model.predict(x_demo_test)\n",
    "\n",
    "plt.scatter(x_demo_test, y_demo_test)\n",
    "plt.plot(x_demo_test, y_pred_my_model)"
   ]
  },
  {
   "cell_type": "code",
   "execution_count": 40,
   "metadata": {
    "deletable": false,
    "editable": false,
    "scrolled": true,
    "strategicml": {
     "execution_time": 1584779897311,
     "exercise_id": "dc0514e4-4931-42c3-acfc-eb898820b8bc",
     "points": 4
    },
    "tags": [
     "test"
    ]
   },
   "outputs": [
    {
     "data": {
      "text/html": [
       "<div style=\"background-color:#e8fcef\n",
       ";color:#333333;padding:10px;border-style:solid;border-width:2px;border-color:#038c33\">\n",
       "<div style=\"font-weight:bold\">Correct!</div>\n",
       "</div>"
      ],
      "text/plain": [
       "<IPython.core.display.HTML object>"
      ]
     },
     "metadata": {},
     "output_type": "display_data"
    }
   ],
   "source": [
    "check_variable_definition(\"my_model\")\n",
    "assert str(type(my_model)) ==  \"<class 'tensorflow.python.keras.engine.sequential.Sequential'>\", \"Your variable <code>my_model</code> does not contain an object of the right type - did you create it using <code>keras.Seqential()</code>?\"\n",
    "assert len(my_model.layers) == 1, \"Your model does not contain the correct number of layers.\"\n",
    "assert abs(y_pred_my_model[5] - 116.31786) < 0.01, \"Your <code>y_pred_my_model</code> values are incorrect - check your training configuration\"\n",
    "success()"
   ]
  },
  {
   "cell_type": "code",
   "execution_count": 49,
   "metadata": {},
   "outputs": [
    {
     "data": {
      "text/plain": [
       "[<matplotlib.lines.Line2D at 0x7fc3504d12e8>]"
      ]
     },
     "execution_count": 49,
     "metadata": {},
     "output_type": "execute_result"
    },
    {
     "data": {
      "image/png": "[encoded data removed]",
      "text/plain": [
       "<Figure size 432x288 with 1 Axes>"
      ]
     },
     "metadata": {
      "needs_background": "light"
     },
     "output_type": "display_data"
    }
   ],
   "source": [
    "plt.plot(history.history[\"loss\"])"
   ]
  },
  {
   "cell_type": "code",
   "execution_count": null,
   "metadata": {},
   "outputs": [],
   "source": []
  }
 ],
 "metadata": {
  "celltoolbar": null,
  "kernelspec": {
   "display_name": "Python 3",
   "language": "python",
   "name": "python3"
  },
  "language_info": {
   "codemirror_mode": {
    "name": "ipython",
    "version": 3
   },
   "file_extension": ".py",
   "mimetype": "text/x-python",
   "name": "python",
   "nbconvert_exporter": "python",
   "pygments_lexer": "ipython3",
   "version": "3.7.3"
  },
  "strategicml": {
   "lesson_id": "2b05fe2e-cbf4-4aca-bf92-434ea3591340",
   "release": true
  }
 },
 "nbformat": 4,
 "nbformat_minor": 2
}
