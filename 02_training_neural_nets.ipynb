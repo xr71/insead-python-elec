{
 "cells": [
  {
   "cell_type": "markdown",
   "metadata": {
    "deletable": false,
    "editable": false,
    "run_control": {
     "frozen": true
    }
   },
   "source": [
    "## Training Neural Networks\n",
    "\n",
    "In the previous lesson, we learned to build neural networks and manually set their weights and bias values. However, what we really want is an automated way of *discovering* the right weight and bias values that we need in order for our neural network to make useful predictions for a particular  problem. This process of *discovering* the right parameter values is referred to as *training* a neural network."
   ]
  },
  {
   "cell_type": "markdown",
   "metadata": {
    "deletable": false,
    "editable": false,
    "run_control": {
     "frozen": true
    }
   },
   "source": [
    "The TensorFlow library that forms the basis for most of these lessons uses random numbers for certain operations, for reasons that we will later explain. In order to make the results that you observe match the descriptions given in this lesson, you must run the code below in order to make TensorFlow choose a specific set of values for the random numbers that it employs:"
   ]
  },
  {
   "cell_type": "code",
   "execution_count": 1,
   "metadata": {},
   "outputs": [],
   "source": [
    "from consistency import remove_randomness\n",
    "remove_randomness()"
   ]
  },
  {
   "cell_type": "markdown",
   "metadata": {
    "deletable": false,
    "editable": false,
    "run_control": {
     "frozen": true
    }
   },
   "source": [
    "Next, let's grab our necessary imports:"
   ]
  },
  {
   "cell_type": "code",
   "execution_count": 2,
   "metadata": {},
   "outputs": [],
   "source": [
    "import numpy as np\n",
    "import tensorflow as tf\n",
    "from tensorflow import keras\n",
    "import matplotlib.pyplot as plt"
   ]
  },
  {
   "cell_type": "markdown",
   "metadata": {
    "deletable": false,
    "editable": false,
    "run_control": {
     "frozen": true
    }
   },
   "source": [
    "## Training a Neural Network to Predict a Linear Trend\n",
    "\n",
    "Let's start with an extremely simple example - how do we train a neural network to predict the linear trend shown below?"
   ]
  },
  {
   "cell_type": "code",
   "execution_count": 3,
   "metadata": {
    "scrolled": true
   },
   "outputs": [
    {
     "data": {
      "image/png": "[encoded data removed]",
      "text/plain": [
       "<Figure size 432x288 with 1 Axes>"
      ]
     },
     "metadata": {
      "needs_background": "light"
     },
     "output_type": "display_data"
    }
   ],
   "source": [
    "# data for training example\n",
    "m = 1.5\n",
    "b = 0.5\n",
    "x = np.arange(0,1,0.1)\n",
    "y = m * x + b\n",
    "plt.scatter(x,y)\n",
    "plt.show()"
   ]
  },
  {
   "cell_type": "markdown",
   "metadata": {
    "deletable": false,
    "editable": false,
    "run_control": {
     "frozen": true
    }
   },
   "source": [
    "We'll start the process from a simple, blank Keras model - since we'll use a lot of these blank models as building blocks, we'll define a function to create them quickly:"
   ]
  },
  {
   "cell_type": "code",
   "execution_count": 4,
   "metadata": {},
   "outputs": [],
   "source": [
    "# we'll be creating and testing lots of copies of the same simple model,\n",
    "# so encapsulate its creation in a function.\n",
    "# note that we use non-random initializers for consistency\n",
    "def new_example_model():\n",
    "    return keras.Sequential(\n",
    "        [\n",
    "            keras.layers.Dense(\n",
    "                name=\"output\",\n",
    "                units=1,\n",
    "                input_shape=(1,),\n",
    "                kernel_initializer=tf.keras.initializers.ones,\n",
    "                bias_initializer=tf.keras.initializers.zeros\n",
    "            )\n",
    "        ]\n",
    "    )\n"
   ]
  },
  {
   "cell_type": "markdown",
   "metadata": {
    "deletable": false,
    "editable": false,
    "run_control": {
     "frozen": true
    }
   },
   "source": [
    "Let's instantiate one of these blank models:"
   ]
  },
  {
   "cell_type": "code",
   "execution_count": 5,
   "metadata": {},
   "outputs": [],
   "source": [
    "# starting point - untrained model\n",
    "model_training_example = new_example_model()"
   ]
  },
  {
   "cell_type": "markdown",
   "metadata": {
    "deletable": false,
    "editable": false,
    "run_control": {
     "frozen": true
    }
   },
   "source": [
    "How accurate is this untrained model? Let's check by using it to generate some predicted `y` values for the `x` values in our dataset:"
   ]
  },
  {
   "cell_type": "code",
   "execution_count": 6,
   "metadata": {},
   "outputs": [],
   "source": [
    "# untrained predictions\n",
    "y_pred_untrained = model_training_example.predict(x)"
   ]
  },
  {
   "cell_type": "markdown",
   "metadata": {
    "deletable": false,
    "editable": false,
    "run_control": {
     "frozen": true
    }
   },
   "source": [
    "We can use the graph below to compare our model's predictions to the true values:"
   ]
  },
  {
   "cell_type": "code",
   "execution_count": 7,
   "metadata": {},
   "outputs": [
    {
     "data": {
      "image/png": "[encoded data removed]",
      "text/plain": [
       "<Figure size 432x288 with 1 Axes>"
      ]
     },
     "metadata": {
      "needs_background": "light"
     },
     "output_type": "display_data"
    }
   ],
   "source": [
    "# compare\n",
    "plt.scatter(x, y)\n",
    "plt.plot(x, y_pred_untrained, color=\"orange\")\n",
    "plt.show()"
   ]
  },
  {
   "cell_type": "markdown",
   "metadata": {
    "deletable": false,
    "editable": false,
    "run_control": {
     "frozen": true
    }
   },
   "source": [
    "Clearly, these predictions are not accurate. We need to *train* our model in order to adjust the values of its weights and biases so that it gives accurate predictions for this dataset. As a first step, we'll call the `compile` method to configure our model for training:"
   ]
  },
  {
   "cell_type": "code",
   "execution_count": 8,
   "metadata": {},
   "outputs": [],
   "source": [
    "# prepare model for training\n",
    "model_training_example.compile(\n",
    "    optimizer=\"sgd\",\n",
    "    loss=\"mean_squared_error\"\n",
    ")"
   ]
  },
  {
   "cell_type": "markdown",
   "metadata": {
    "deletable": false,
    "editable": false,
    "run_control": {
     "frozen": true
    }
   },
   "source": [
    "In the code snippet above, we've passed `sgd` (stochastic gradient descent) as the optimizer argument, indicating the optimization procedure that should be used to train our model. For now, you don't need to worry about the meaning of \"stochastic gradient descent\" - just know that it is one of several methods that TensorFlow can use to find the right weight values. We've also passed the `loss` argument value of `mean_squared_error` - this tells TensorFlow to measure how \"bad\" a given set of weights is by computing the mean squared error of our predictions relative to the true values."
   ]
  },
  {
   "cell_type": "markdown",
   "metadata": {
    "deletable": false,
    "editable": false,
    "run_control": {
     "frozen": true
    }
   },
   "source": [
    "Having configured our model, we can start training it using the code below:"
   ]
  },
  {
   "cell_type": "code",
   "execution_count": 9,
   "metadata": {},
   "outputs": [
    {
     "name": "stdout",
     "output_type": "stream",
     "text": [
      "Train on 10 samples\n",
      "10/10 [==============================] - 0s 30ms/sample - loss: 0.5462\n"
     ]
    },
    {
     "data": {
      "text/plain": [
       "<tensorflow.python.keras.callbacks.History at 0x7fb4145a19b0>"
      ]
     },
     "execution_count": 9,
     "metadata": {},
     "output_type": "execute_result"
    }
   ],
   "source": [
    "# train\n",
    "model_training_example.fit(x,y)"
   ]
  },
  {
   "cell_type": "markdown",
   "metadata": {
    "deletable": false,
    "editable": false,
    "run_control": {
     "frozen": true
    }
   },
   "source": [
    "TensorFlow has now spent one *epoch* training our model to improve its predictive power. How good are its predictions now? We can check:"
   ]
  },
  {
   "cell_type": "code",
   "execution_count": 10,
   "metadata": {
    "scrolled": true
   },
   "outputs": [
    {
     "data": {
      "image/png": "[encoded data removed]",
      "text/plain": [
       "<Figure size 432x288 with 1 Axes>"
      ]
     },
     "metadata": {
      "needs_background": "light"
     },
     "output_type": "display_data"
    }
   ],
   "source": [
    "# check our progress\n",
    "y_pred_one_epoch = model_training_example.predict(x)\n",
    "plt.scatter(x, y)\n",
    "plt.plot(x, y_pred_untrained, color=\"orange\")\n",
    "plt.plot(x, y_pred_one_epoch, color=\"red\")\n",
    "plt.show()"
   ]
  },
  {
   "cell_type": "markdown",
   "metadata": {
    "deletable": false,
    "editable": false,
    "run_control": {
     "frozen": true
    }
   },
   "source": [
    "Unfortunately, this is barely any better. However, we can tell TensorFlow to keep searching for better model parameters in order to improve our predictions. Let's run for 10 more epochs:"
   ]
  },
  {
   "cell_type": "code",
   "execution_count": 11,
   "metadata": {
    "scrolled": true
   },
   "outputs": [
    {
     "name": "stdout",
     "output_type": "stream",
     "text": [
      "Train on 10 samples\n",
      "Epoch 1/10\n",
      "10/10 [==============================] - 0s 490us/sample - loss: 0.5201\n",
      "Epoch 2/10\n",
      "10/10 [==============================] - 0s 329us/sample - loss: 0.4953\n",
      "Epoch 3/10\n",
      "10/10 [==============================] - 0s 231us/sample - loss: 0.4716\n",
      "Epoch 4/10\n",
      "10/10 [==============================] - 0s 130us/sample - loss: 0.4491\n",
      "Epoch 5/10\n",
      "10/10 [==============================] - 0s 141us/sample - loss: 0.4277\n",
      "Epoch 6/10\n",
      "10/10 [==============================] - 0s 674us/sample - loss: 0.4073\n",
      "Epoch 7/10\n",
      "10/10 [==============================] - 0s 134us/sample - loss: 0.3879\n",
      "Epoch 8/10\n",
      "10/10 [==============================] - 0s 144us/sample - loss: 0.3694\n",
      "Epoch 9/10\n",
      "10/10 [==============================] - 0s 254us/sample - loss: 0.3518\n",
      "Epoch 10/10\n",
      "10/10 [==============================] - 0s 168us/sample - loss: 0.3350\n"
     ]
    },
    {
     "data": {
      "text/plain": [
       "<tensorflow.python.keras.callbacks.History at 0x7fb4144bd278>"
      ]
     },
     "execution_count": 11,
     "metadata": {},
     "output_type": "execute_result"
    }
   ],
   "source": [
    "# need to run for more epochs\n",
    "model_training_example.fit(x,y, epochs=10)"
   ]
  },
  {
   "cell_type": "markdown",
   "metadata": {
    "deletable": false,
    "editable": false,
    "run_control": {
     "frozen": true
    }
   },
   "source": [
    "Let's see if these extra epochs made any difference:"
   ]
  },
  {
   "cell_type": "code",
   "execution_count": 12,
   "metadata": {},
   "outputs": [
    {
     "data": {
      "image/png": "[encoded data removed]",
      "text/plain": [
       "<Figure size 432x288 with 1 Axes>"
      ]
     },
     "metadata": {
      "needs_background": "light"
     },
     "output_type": "display_data"
    }
   ],
   "source": [
    "# check our further progress\n",
    "y_pred_ten_epochs = model_training_example.predict(x)\n",
    "plt.scatter(x, y)\n",
    "plt.plot(x, y_pred_untrained, color=\"orange\")\n",
    "plt.plot(x, y_pred_ten_epochs, color=\"green\")\n",
    "plt.show()"
   ]
  },
  {
   "cell_type": "markdown",
   "metadata": {
    "deletable": false,
    "editable": false,
    "run_control": {
     "frozen": true
    }
   },
   "source": [
    "We're getting closer! Let's run for more epochs - we'll add the `verbose=0` argument to keep the printed output from overloading our screen:"
   ]
  },
  {
   "cell_type": "code",
   "execution_count": 13,
   "metadata": {
    "scrolled": false
   },
   "outputs": [
    {
     "data": {
      "text/plain": [
       "<tensorflow.python.keras.callbacks.History at 0x7fb41444d0f0>"
      ]
     },
     "execution_count": 13,
     "metadata": {},
     "output_type": "execute_result"
    }
   ],
   "source": [
    "# need to run for more epochs\n",
    "model_training_example.fit(x,y, epochs=100, verbose=0)"
   ]
  },
  {
   "cell_type": "markdown",
   "metadata": {
    "deletable": false,
    "editable": false,
    "run_control": {
     "frozen": true
    }
   },
   "source": [
    "As you can see, we now have a model that yields predictions which closely track the real line:"
   ]
  },
  {
   "cell_type": "code",
   "execution_count": 14,
   "metadata": {
    "scrolled": true
   },
   "outputs": [
    {
     "data": {
      "image/png": "[encoded data removed]",
      "text/plain": [
       "<Figure size 432x288 with 1 Axes>"
      ]
     },
     "metadata": {
      "needs_background": "light"
     },
     "output_type": "display_data"
    }
   ],
   "source": [
    "y_pred_fifty_epochs = model_training_example.predict(x)\n",
    "plt.scatter(x, y)\n",
    "plt.plot(x, y_pred_untrained, color=\"orange\")\n",
    "plt.plot(x, y_pred_fifty_epochs, color=\"green\")\n",
    "plt.show()"
   ]
  },
  {
   "cell_type": "markdown",
   "metadata": {
    "deletable": false,
    "editable": false,
    "run_control": {
     "frozen": true
    }
   },
   "source": [
    "## Understanding the Training Process\n",
    "\n",
    "What exactly is TensorFlow doing when we ask it to train our model? Let's start from a blank model and trace exactly what is happening as we train using the `sgd` optimizer: "
   ]
  },
  {
   "cell_type": "code",
   "execution_count": 15,
   "metadata": {},
   "outputs": [],
   "source": [
    "# create a model that we will train step-by-step\n",
    "model_sgd = new_example_model()\n",
    "model_sgd.compile(\n",
    "    optimizer=\"sgd\",\n",
    "    loss=\"mean_squared_error\"\n",
    ")"
   ]
  },
  {
   "cell_type": "markdown",
   "metadata": {
    "deletable": false,
    "editable": false,
    "run_control": {
     "frozen": true
    }
   },
   "source": [
    "We'll follow the progress of the training process using a custom add-on that we'll call a \"training tracker\" - we can obtain this add-on from our custom `training_visualization` module:"
   ]
  },
  {
   "cell_type": "code",
   "execution_count": 16,
   "metadata": {},
   "outputs": [],
   "source": [
    "from training_visualization import Tracker"
   ]
  },
  {
   "cell_type": "markdown",
   "metadata": {
    "deletable": false,
    "editable": false,
    "run_control": {
     "frozen": true
    }
   },
   "source": [
    "Let's create a tracker object:"
   ]
  },
  {
   "cell_type": "code",
   "execution_count": 17,
   "metadata": {},
   "outputs": [],
   "source": [
    "tracker_sgd = Tracker(\"sgd\")"
   ]
  },
  {
   "cell_type": "markdown",
   "metadata": {
    "deletable": false,
    "editable": false,
    "run_control": {
     "frozen": true
    }
   },
   "source": [
    "We can use this tracker to follow our training process by passing it to the `callbacks` argument of `fit`:"
   ]
  },
  {
   "cell_type": "code",
   "execution_count": 18,
   "metadata": {},
   "outputs": [
    {
     "name": "stdout",
     "output_type": "stream",
     "text": [
      "Train on 10 samples\n",
      "Epoch 1/10\n",
      "10/10 [==============================] - 0s 34ms/sample - loss: 0.5462\n",
      "Epoch 2/10\n",
      "10/10 [==============================] - 0s 5ms/sample - loss: 0.5201\n",
      "Epoch 3/10\n",
      "10/10 [==============================] - 0s 4ms/sample - loss: 0.4953\n",
      "Epoch 4/10\n",
      "10/10 [==============================] - 0s 4ms/sample - loss: 0.4716\n",
      "Epoch 5/10\n",
      "10/10 [==============================] - 0s 4ms/sample - loss: 0.4491\n",
      "Epoch 6/10\n",
      "10/10 [==============================] - 0s 4ms/sample - loss: 0.4277\n",
      "Epoch 7/10\n",
      "10/10 [==============================] - 0s 4ms/sample - loss: 0.4073\n",
      "Epoch 8/10\n",
      "10/10 [==============================] - 0s 4ms/sample - loss: 0.3879\n",
      "Epoch 9/10\n",
      "10/10 [==============================] - 0s 4ms/sample - loss: 0.3694\n",
      "Epoch 10/10\n",
      "10/10 [==============================] - 0s 4ms/sample - loss: 0.3518\n"
     ]
    },
    {
     "data": {
      "text/plain": [
       "<tensorflow.python.keras.callbacks.History at 0x7fb414454518>"
      ]
     },
     "execution_count": 18,
     "metadata": {},
     "output_type": "execute_result"
    }
   ],
   "source": [
    "model_sgd.fit(x,y, epochs=10, callbacks=[tracker_sgd.get_callback()])"
   ]
  },
  {
   "cell_type": "markdown",
   "metadata": {
    "deletable": false,
    "editable": false,
    "run_control": {
     "frozen": true
    }
   },
   "source": [
    "Having trained our model, we can visualize the results recorded by our tracker using the `visualize_progress` function:"
   ]
  },
  {
   "cell_type": "code",
   "execution_count": 19,
   "metadata": {
    "scrolled": true
   },
   "outputs": [
    {
     "data": {
      "image/png": "[encoded data removed]",
      "text/plain": [
       "<Figure size 576x576 with 1 Axes>"
      ]
     },
     "metadata": {
      "needs_background": "light"
     },
     "output_type": "display_data"
    }
   ],
   "source": [
    "tracker_sgd.visualize_progress(m_true = m, b_true = b)"
   ]
  },
  {
   "cell_type": "markdown",
   "metadata": {
    "deletable": false,
    "editable": false,
    "run_control": {
     "frozen": true
    }
   },
   "source": [
    "We can see that the weight and bias values of our model are slowly approaching the true slope and intercept values of our linear trend, but they aren't there yet."
   ]
  },
  {
   "cell_type": "markdown",
   "metadata": {
    "deletable": false,
    "editable": false,
    "run_control": {
     "frozen": true
    }
   },
   "source": [
    " Let's try training a different way and see if TensorFlow can approach the true value faster. This time, we'll customize the default `sgd` optimizer by changing the `learning_rate` - using a larger `learning_rate` can help us find the right set of weights faster, but the downside is that it can potentially make the training process unstable and prevent us from finding anything useful at all:"
   ]
  },
  {
   "cell_type": "code",
   "execution_count": 20,
   "metadata": {},
   "outputs": [
    {
     "data": {
      "image/png": "[encoded data removed]",
      "text/plain": [
       "<Figure size 576x576 with 1 Axes>"
      ]
     },
     "metadata": {
      "needs_background": "light"
     },
     "output_type": "display_data"
    }
   ],
   "source": [
    "# build new model\n",
    "model_sgd_faster = new_example_model()\n",
    "optimizer_sgd_faster = tf.keras.optimizers.SGD(learning_rate=0.6)\n",
    "model_sgd_faster.compile(\n",
    "    optimizer=optimizer_sgd_faster,\n",
    "    loss=\"mean_squared_error\"\n",
    ")\n",
    "\n",
    "# train - in addition to using a different optimizer, we run for longer\n",
    "tracker_sgd_faster = Tracker(\"sgd-faster\")\n",
    "model_sgd_faster.fit(x,y, epochs=25, callbacks=[tracker_sgd_faster.get_callback()], verbose=0)\n",
    "tracker_sgd_faster.visualize_progress(m_true = m, b_true = b)"
   ]
  },
  {
   "cell_type": "markdown",
   "metadata": {
    "deletable": false,
    "editable": false,
    "run_control": {
     "frozen": true
    }
   },
   "source": [
    "As you can see, appropriately choosing the configuration of our training process allows TensorFlow to effectively determine the weight values that should go into our network without us having to specify them manually."
   ]
  },
  {
   "cell_type": "markdown",
   "metadata": {
    "deletable": false,
    "editable": false,
    "run_control": {
     "frozen": true
    }
   },
   "source": [
    "<span style=\"color:blue;font-weight:bold\">Exercise</span>: Let's experiment with another optimizer and view its impact on the training process. Perform the following actions:\n",
    "\n",
    "* Create a variable named `my_model` and set its value using `new_example_model()` as above\n",
    "* Create a variable called `my_optimizer` and set its value to: `keras.optimizers.Adam(learning_rate=0.02)` \n",
    "* `compile` your model using the optimizer value `my_optimizer` and the loss function `mean_absolute_error` \n",
    "* Create a new tracker object as follows:\n",
    "\n",
    "```\n",
    "my_model_tracker = Tracker(\"my-model\")\n",
    "```\n",
    "\n",
    "* using the `fit` method, train your model for `25` epochs, passing your `my_model_tracker.get_callback()` appropriately as shown above\n",
    "\n",
    "* Call the `visualize_progress` method of your `my_model_tracker` object to view how the training process has proceeded. \n",
    "\n",
    "Be careful not to delete the `remove_randomness()` call at the top of the cell."
   ]
  },
  {
   "cell_type": "code",
   "execution_count": 24,
   "metadata": {
    "scrolled": false,
    "tags": [
     "exercise"
    ]
   },
   "outputs": [
    {
     "name": "stdout",
     "output_type": "stream",
     "text": [
      "Train on 10 samples\n",
      "Epoch 1/25\n",
      "10/10 [==============================] - 0s 43ms/sample - loss: 0.7250\n",
      "Epoch 2/25\n",
      "10/10 [==============================] - 0s 4ms/sample - loss: 0.6960\n",
      "Epoch 3/25\n",
      "10/10 [==============================] - 0s 4ms/sample - loss: 0.6670\n",
      "Epoch 4/25\n",
      "10/10 [==============================] - 0s 7ms/sample - loss: 0.6380\n",
      "Epoch 5/25\n",
      "10/10 [==============================] - 0s 4ms/sample - loss: 0.6090\n",
      "Epoch 6/25\n",
      "10/10 [==============================] - 0s 4ms/sample - loss: 0.5800\n",
      "Epoch 7/25\n",
      "10/10 [==============================] - 0s 4ms/sample - loss: 0.5510\n",
      "Epoch 8/25\n",
      "10/10 [==============================] - 0s 4ms/sample - loss: 0.5220\n",
      "Epoch 9/25\n",
      "10/10 [==============================] - 0s 4ms/sample - loss: 0.4930\n",
      "Epoch 10/25\n",
      "10/10 [==============================] - 0s 4ms/sample - loss: 0.4640\n",
      "Epoch 11/25\n",
      "10/10 [==============================] - 0s 4ms/sample - loss: 0.4350\n",
      "Epoch 12/25\n",
      "10/10 [==============================] - 0s 4ms/sample - loss: 0.4060\n",
      "Epoch 13/25\n",
      "10/10 [==============================] - 0s 4ms/sample - loss: 0.3770\n",
      "Epoch 14/25\n",
      "10/10 [==============================] - 0s 4ms/sample - loss: 0.3480\n",
      "Epoch 15/25\n",
      "10/10 [==============================] - 0s 5ms/sample - loss: 0.3190\n",
      "Epoch 16/25\n",
      "10/10 [==============================] - 0s 4ms/sample - loss: 0.2900\n",
      "Epoch 17/25\n",
      "10/10 [==============================] - 0s 4ms/sample - loss: 0.2610\n",
      "Epoch 18/25\n",
      "10/10 [==============================] - 0s 4ms/sample - loss: 0.2320\n",
      "Epoch 19/25\n",
      "10/10 [==============================] - 0s 4ms/sample - loss: 0.2030\n",
      "Epoch 20/25\n",
      "10/10 [==============================] - 0s 4ms/sample - loss: 0.1740\n",
      "Epoch 21/25\n",
      "10/10 [==============================] - 0s 4ms/sample - loss: 0.1450\n",
      "Epoch 22/25\n",
      "10/10 [==============================] - 0s 4ms/sample - loss: 0.1160\n",
      "Epoch 23/25\n",
      "10/10 [==============================] - 0s 4ms/sample - loss: 0.0870\n",
      "Epoch 24/25\n",
      "10/10 [==============================] - 0s 4ms/sample - loss: 0.0580\n",
      "Epoch 25/25\n",
      "10/10 [==============================] - 0s 4ms/sample - loss: 0.0290\n"
     ]
    },
    {
     "data": {
      "text/plain": [
       "<tensorflow.python.keras.callbacks.History at 0x7fb3fea26940>"
      ]
     },
     "execution_count": 24,
     "metadata": {},
     "output_type": "execute_result"
    }
   ],
   "source": [
    "remove_randomness()\n",
    "\n",
    "my_model = new_example_model()\n",
    "my_optimizer = keras.optimizers.Adam(learning_rate=0.02)\n",
    "my_model.compile(optimizer=my_optimizer, loss=\"mean_absolute_error\")\n",
    "\n",
    "my_model_tracker = Tracker(\"my-model\")\n",
    "\n",
    "my_model.fit(x,y, callbacks=[my_model_tracker.get_callback()], epochs=25)"
   ]
  },
  {
   "cell_type": "code",
   "execution_count": 24,
   "metadata": {
    "deletable": false,
    "editable": false,
    "strategicml": {
     "execution_time": 1584779177808,
     "exercise_id": "883ee4e2-d83b-4afe-8e56-d731102394e9",
     "points": 4
    },
    "tags": [
     "test"
    ]
   },
   "outputs": [
    {
     "data": {
      "text/html": [
       "<div style=\"background-color:#e8fcef\n",
       ";color:#333333;padding:10px;border-style:solid;border-width:2px;border-color:#038c33\">\n",
       "<div style=\"font-weight:bold\">Correct!</div>\n",
       "</div>"
      ],
      "text/plain": [
       "<IPython.core.display.HTML object>"
      ]
     },
     "metadata": {},
     "output_type": "display_data"
    }
   ],
   "source": [
    "check_variable_definition(\"my_model\")\n",
    "assert str(type(my_model)) ==  \"<class 'tensorflow.python.keras.engine.sequential.Sequential'>\", \"Your variable <code>my_model</code> does not contain an object of the right type - did you create it using <code>keras.Seqential()</code>?\"\n",
    "assert abs(my_model.get_weights()[0][0][0] - 1.5) < 0.001, \"Your model does not have the correct final weights - check your training code\"\n",
    "assert abs(my_model.get_weights()[1][0] - 0.5) < 0.001, \"Your model does not have the correct final weights - check your training code\"\n",
    "success()"
   ]
  },
  {
   "cell_type": "markdown",
   "metadata": {
    "deletable": false,
    "editable": false,
    "run_control": {
     "frozen": true
    }
   },
   "source": [
    "In later lessons, you will learn to train a more complicated neural network to make more useful, business-relevant predictions. However, before we can start that material, we must tackle the issue of *overfitting*, which is discussed in the next lesson. "
   ]
  },
  {
   "cell_type": "code",
   "execution_count": 25,
   "metadata": {},
   "outputs": [
    {
     "data": {
      "image/png": "[encoded data removed]",
      "text/plain": [
       "<Figure size 576x576 with 1 Axes>"
      ]
     },
     "metadata": {
      "needs_background": "light"
     },
     "output_type": "display_data"
    }
   ],
   "source": [
    "tracker_sgd_faster.visualize_progress(m_true = m, b_true = b)"
   ]
  },
  {
   "cell_type": "code",
   "execution_count": 27,
   "metadata": {},
   "outputs": [
    {
     "data": {
      "text/plain": [
       "[<matplotlib.lines.Line2D at 0x7fb3fc3f2908>]"
      ]
     },
     "execution_count": 27,
     "metadata": {},
     "output_type": "execute_result"
    },
    {
     "data": {
      "image/png": "[encoded data removed]",
      "text/plain": [
       "<Figure size 432x288 with 1 Axes>"
      ]
     },
     "metadata": {
      "needs_background": "light"
     },
     "output_type": "display_data"
    }
   ],
   "source": [
    "plt.scatter(x, y)\n",
    "plt.plot(x, my_model.predict(x))"
   ]
  },
  {
   "cell_type": "code",
   "execution_count": 28,
   "metadata": {},
   "outputs": [
    {
     "data": {
      "text/plain": [
       "[array([[1.4999988]], dtype=float32), array([0.49999923], dtype=float32)]"
      ]
     },
     "execution_count": 28,
     "metadata": {},
     "output_type": "execute_result"
    }
   ],
   "source": [
    "my_model.get_weights()"
   ]
  },
  {
   "cell_type": "code",
   "execution_count": null,
   "metadata": {},
   "outputs": [],
   "source": []
  }
 ],
 "metadata": {
  "celltoolbar": null,
  "kernelspec": {
   "display_name": "Python 3",
   "language": "python",
   "name": "python3"
  },
  "language_info": {
   "codemirror_mode": {
    "name": "ipython",
    "version": 3
   },
   "file_extension": ".py",
   "mimetype": "text/x-python",
   "name": "python",
   "nbconvert_exporter": "python",
   "pygments_lexer": "ipython3",
   "version": "3.7.3"
  },
  "strategicml": {
   "lesson_id": "d70d095f-32cb-4c22-a68f-8f031c2267f7",
   "release": true
  }
 },
 "nbformat": 4,
 "nbformat_minor": 2
}
