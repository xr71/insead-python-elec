{
 "cells": [
  {
   "cell_type": "markdown",
   "metadata": {
    "deletable": false,
    "editable": false,
    "run_control": {
     "frozen": true
    }
   },
   "source": [
    "## Linear Regression\n",
    "We are now leaving the world of unsupervised machine learning and commencing the study of supervised machine learning. \n",
    "Let us precisely define the difference between these two areas.\n",
    "\n",
    "When we used the unsupervised machine learning algorithms in the previous sections, we gave the algorithm the entirety of our data (survey questions, customer data points, etc.) and asked it to identify patterns (principal components, clusters, etc.) hidden within that data.\n",
    "\n",
    "In supervised machine learning, our data is no longer treated as a unified whole, but is broken into *output* data that we wish to predict and *input* data that we use to compute our predictions. For example, we might wish to predict\n",
    "the average amount that a customer will spend on our products based on their age and income. In this case, our *output* data would be the customer's spending amount, and the *input* data would be customer's age and income. \n",
    "**The task of our supervised machine learning methods is to approximate (*learn*) the mathematical function that maps input data to output data.**\n",
    "\n",
    "There are two major consequences of the above definition: \n",
    "\n",
    "1. We will use a different machine learning method depending on the form of the function that we wish for the computer to learn.\n",
    "2. We will assess the quality of our machine learning model of the true function based on comparisons between real output data and the predicted output data from our model."
   ]
  },
  {
   "cell_type": "markdown",
   "metadata": {
    "deletable": false,
    "editable": false,
    "run_control": {
     "frozen": true
    }
   },
   "source": [
    "### Building Models with Linear Regression\n",
    "\n",
    "Since we will learn machine learning methods for approximating different types of functions, we will start out \n",
    "by learning a very simple functional form: the line *y = mx + b*. If two variables in our data (input and output) have an approximately linear relationship, then the **Linear Regression** statistical method can be used to construct a model that can predict the output from the input. "
   ]
  },
  {
   "cell_type": "markdown",
   "metadata": {
    "deletable": false,
    "editable": false,
    "run_control": {
     "frozen": true
    }
   },
   "source": [
    "Let us consider the relationship between the *height* and *weight* of a given person. We expect that height and weight will be correlated - taller people generally (though not always) weigh more than shorter people. We begin with a list of heights and weights of ten (fictitious) people:"
   ]
  },
  {
   "cell_type": "code",
   "execution_count": 1,
   "metadata": {},
   "outputs": [],
   "source": [
    "import numpy as np\n",
    "\n",
    "heights_in_cm = np.array([182, 150, 197, 164, 171, 155, 187, 148, 162, 168]).reshape(-1, 1)\n",
    "weights_in_kg = np.array([81, 55, 90, 60, 65, 57, 86, 52, 61, 62])"
   ]
  },
  {
   "cell_type": "markdown",
   "metadata": {
    "deletable": false,
    "editable": false,
    "run_control": {
     "frozen": true
    }
   },
   "source": [
    "Before attempting to construct a model for this data, we should visualize it and form a qualitative understanding of its form. This will allow us to choose the right machine learning tool for our problem:"
   ]
  },
  {
   "cell_type": "code",
   "execution_count": 2,
   "metadata": {},
   "outputs": [
    {
     "data": {
      "image/png": "[encoded data removed]",
      "text/plain": [
       "<Figure size 432x288 with 1 Axes>"
      ]
     },
     "metadata": {
      "needs_background": "light"
     },
     "output_type": "display_data"
    }
   ],
   "source": [
    "%matplotlib inline\n",
    "import matplotlib.pyplot as plt\n",
    "plt.scatter(heights_in_cm, weights_in_kg)\n",
    "plt.title('Weight vs. Height')\n",
    "plt.show()"
   ]
  },
  {
   "cell_type": "markdown",
   "metadata": {
    "deletable": false,
    "editable": false,
    "run_control": {
     "frozen": true
    }
   },
   "source": [
    "The data looks roughly linear, so a linear regression should yield an accurate model. We will now perform linear regression using a function from the `sklearn` module. This will give us a linear model of our data:"
   ]
  },
  {
   "cell_type": "code",
   "execution_count": 3,
   "metadata": {},
   "outputs": [
    {
     "data": {
      "text/plain": [
       "LinearRegression(copy_X=True, fit_intercept=True, n_jobs=None, normalize=False)"
      ]
     },
     "execution_count": 3,
     "metadata": {},
     "output_type": "execute_result"
    }
   ],
   "source": [
    "from sklearn import linear_model;\n",
    "linear = linear_model.LinearRegression()\n",
    "linear.fit(heights_in_cm, weights_in_kg)"
   ]
  },
  {
   "cell_type": "markdown",
   "metadata": {
    "deletable": false,
    "editable": false,
    "run_control": {
     "frozen": true
    }
   },
   "source": [
    "Notice the similarity between this code and the other machine learning methods that we have used so far. The core code is usually two lines:\n",
    "\n",
    "1. Construct a model object\n",
    "2. Train the model on our data\n",
    "\n",
    "The model object `linear` now contains the linear model constructed from our data. We can see the equation for this line using the code below:"
   ]
  },
  {
   "cell_type": "code",
   "execution_count": 4,
   "metadata": {
    "scrolled": true
   },
   "outputs": [
    {
     "name": "stdout",
     "output_type": "stream",
     "text": [
      "Linear model: y = [0.82045609]x + -71.26480599046968\n"
     ]
    }
   ],
   "source": [
    "print(\"Linear model: y = {}x + {}\".format(linear.coef_, linear.intercept_))"
   ]
  },
  {
   "cell_type": "markdown",
   "metadata": {
    "deletable": false,
    "editable": false,
    "run_control": {
     "frozen": true
    }
   },
   "source": [
    "The core purpose of supervised machine learning models is to *predict* things. We have now trained our linear model to predict weight from height. Let's actually have it perform the prediction by giving it a set of heights and looking at the corresponding weights that it predicts:"
   ]
  },
  {
   "cell_type": "code",
   "execution_count": 5,
   "metadata": {},
   "outputs": [
    {
     "name": "stdout",
     "output_type": "stream",
     "text": [
      "predicted:\n",
      "[78.05820286 51.8036079  90.36504425 63.28999319 69.03318584 55.90588836\n",
      " 82.16048332 50.16269571 61.64908101 66.57181756]\n",
      "actual:\n",
      "[81 55 90 60 65 57 86 52 61 62]\n"
     ]
    }
   ],
   "source": [
    "predicted_weights_in_kg = linear.predict(heights_in_cm)\n",
    "print(\"predicted:\")\n",
    "print(predicted_weights_in_kg)\n",
    "print(\"actual:\")\n",
    "print(weights_in_kg)"
   ]
  },
  {
   "cell_type": "markdown",
   "metadata": {
    "deletable": false,
    "editable": false,
    "run_control": {
     "frozen": true
    }
   },
   "source": [
    "We can see that the predictions are fairly close to the actual values. We can now graph these predicted values as a line to see how well this linear model fits our data: "
   ]
  },
  {
   "cell_type": "code",
   "execution_count": 6,
   "metadata": {},
   "outputs": [
    {
     "data": {
      "image/png": "[encoded data removed]",
      "text/plain": [
       "<Figure size 432x288 with 1 Axes>"
      ]
     },
     "metadata": {
      "needs_background": "light"
     },
     "output_type": "display_data"
    }
   ],
   "source": [
    "plt.plot(heights_in_cm, predicted_weights_in_kg)\n",
    "plt.scatter(heights_in_cm, weights_in_kg, c=\"r\")\n",
    "plt.title('Weight vs. Height')\n",
    "plt.show()"
   ]
  },
  {
   "cell_type": "markdown",
   "metadata": {
    "deletable": false,
    "editable": false,
    "run_control": {
     "frozen": true
    }
   },
   "source": [
    "Qualitatively, we can see that our line is a \"good fit\" for our data. We can make a more quantitative assessment of the quality of our model by computing the [R squared](https://en.wikipedia.org/wiki/Coefficient_of_determination) value, a standard measure of the quality of a linear model:"
   ]
  },
  {
   "cell_type": "code",
   "execution_count": 7,
   "metadata": {},
   "outputs": [
    {
     "name": "stdout",
     "output_type": "stream",
     "text": [
      "R2:  0.9480301569484364\n"
     ]
    }
   ],
   "source": [
    "r2 = linear.score(heights_in_cm, weights_in_kg)\n",
    "print(\"R2: \", r2)"
   ]
  },
  {
   "cell_type": "markdown",
   "metadata": {
    "deletable": false,
    "editable": false,
    "run_control": {
     "frozen": true
    }
   },
   "source": [
    "<span style=\"color:blue;font-weight:bold\">Exercise</span>: Predicting Monthly Spending. \n",
    "Consider the below customer dataset containing average monthly spending on our product vs. customer annual incomes:"
   ]
  },
  {
   "cell_type": "code",
   "execution_count": 8,
   "metadata": {},
   "outputs": [],
   "source": [
    "customer_annual_income_usd = np.array([30000, 40000, 50000, 60000, 70000, 80000, 90000, 100000]).reshape(-1,1)\n",
    "avg_monthly_spending_usd = np.array([100, 130, 150, 190, 240, 270, 290, 330])"
   ]
  },
  {
   "cell_type": "markdown",
   "metadata": {
    "deletable": false,
    "editable": false,
    "run_control": {
     "frozen": true
    }
   },
   "source": [
    "Perform the following actions:\n",
    "\n",
    "1. Perform a linear regression on this dataset, using `customer_annual_income_usd` as your $x$ variable and `avg_monthly_spending_usd` as your $y$ variable - store your model object in the variable `my_linear_model` \n",
    "2. Plot the raw data using `plt.scatter` - color the points blue.\n",
    "3. Plot the predicted values as a line using `plt.plot` - color this line red. \n",
    "4. Compute the R-squared value for your linear model and store it in a variable called `r_squared`. "
   ]
  },
  {
   "cell_type": "code",
   "execution_count": 16,
   "metadata": {
    "scrolled": false,
    "tags": [
     "exercise"
    ]
   },
   "outputs": [
    {
     "data": {
      "image/png": "[encoded data removed]",
      "text/plain": [
       "<Figure size 432x288 with 1 Axes>"
      ]
     },
     "metadata": {
      "needs_background": "light"
     },
     "output_type": "display_data"
    }
   ],
   "source": [
    "my_linear_model = linear_model.LinearRegression()\n",
    "my_linear_model.fit(customer_annual_income_usd, avg_monthly_spending_usd)\n",
    "\n",
    "plt.scatter(customer_annual_income_usd, avg_monthly_spending_usd)\n",
    "plt.plot(customer_annual_income_usd, my_linear_model.predict(customer_annual_income_usd), c=\"r\")\n",
    "\n",
    "r_squared = my_linear_model.score(customer_annual_income_usd, avg_monthly_spending_usd)"
   ]
  },
  {
   "cell_type": "code",
   "execution_count": 16,
   "metadata": {
    "deletable": false,
    "editable": false,
    "scrolled": true,
    "strategicml": {
     "execution_time": 1584776295888,
     "exercise_id": "c8040f18-7ba1-48a9-a3f0-7dde27f0c780",
     "points": 3
    },
    "tags": [
     "test"
    ]
   },
   "outputs": [
    {
     "data": {
      "text/html": [
       "<div style=\"background-color:#e8fcef\n",
       ";color:#333333;padding:10px;border-style:solid;border-width:2px;border-color:#038c33\">\n",
       "<div style=\"font-weight:bold\">Correct!</div>\n",
       "</div>"
      ],
      "text/plain": [
       "<IPython.core.display.HTML object>"
      ]
     },
     "metadata": {},
     "output_type": "display_data"
    }
   ],
   "source": [
    "import math\n",
    "check_variable_definition(\"my_linear_model\")\n",
    "linear_model_hint = \"Your variable <code>my_linear_model</code> does not contain the appropriate value.\"\n",
    "assert isinstance(my_linear_model, linear_model.LinearRegression), linear_model_hint\n",
    "assert hasattr(my_linear_model, 'coef_'), linear_model_hint\n",
    "assert math.isclose(my_linear_model.coef_[0], 0.00335714, abs_tol=1e-3), linear_model_hint\n",
    "assert math.isclose(r_squared, 0.991, abs_tol=1e-3), \"Double-check your computation of <code>r_squared</code> - hint: you should use <code>linear.score</code>\"\n",
    "success()"
   ]
  },
  {
   "cell_type": "code",
   "execution_count": 17,
   "metadata": {},
   "outputs": [
    {
     "data": {
      "text/plain": [
       "0.9913238593866867"
      ]
     },
     "execution_count": 17,
     "metadata": {},
     "output_type": "execute_result"
    }
   ],
   "source": [
    "r_squared"
   ]
  },
  {
   "cell_type": "code",
   "execution_count": 19,
   "metadata": {},
   "outputs": [
    {
     "data": {
      "text/plain": [
       "(-5.714285714285694, [0.0033571428571428567])"
      ]
     },
     "execution_count": 19,
     "metadata": {},
     "output_type": "execute_result"
    }
   ],
   "source": [
    "my_linear_model.intercept_, my_linear_model.coef_.tolist()"
   ]
  },
  {
   "cell_type": "code",
   "execution_count": null,
   "metadata": {},
   "outputs": [],
   "source": []
  }
 ],
 "metadata": {
  "celltoolbar": null,
  "kernelspec": {
   "display_name": "Python 3",
   "language": "python",
   "name": "python3"
  },
  "language_info": {
   "codemirror_mode": {
    "name": "ipython",
    "version": 3
   },
   "file_extension": ".py",
   "mimetype": "text/x-python",
   "name": "python",
   "nbconvert_exporter": "python",
   "pygments_lexer": "ipython3",
   "version": "3.7.3"
  },
  "strategicml": {
   "lesson_id": "f3890801-61b4-4d26-8061-c0bd2dcc02c0",
   "release": true
  }
 },
 "nbformat": 4,
 "nbformat_minor": 2
}
